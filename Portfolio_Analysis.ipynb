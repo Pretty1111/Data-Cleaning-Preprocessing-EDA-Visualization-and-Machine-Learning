{
 "cells": [
  {
   "cell_type": "code",
   "execution_count": 2,
   "id": "d7724c73",
   "metadata": {
    "scrolled": true
   },
   "outputs": [
    {
     "data": {
      "text/html": [
       "<div>\n",
       "<style scoped>\n",
       "    .dataframe tbody tr th:only-of-type {\n",
       "        vertical-align: middle;\n",
       "    }\n",
       "\n",
       "    .dataframe tbody tr th {\n",
       "        vertical-align: top;\n",
       "    }\n",
       "\n",
       "    .dataframe thead th {\n",
       "        text-align: right;\n",
       "    }\n",
       "</style>\n",
       "<table border=\"1\" class=\"dataframe\">\n",
       "  <thead>\n",
       "    <tr style=\"text-align: right;\">\n",
       "      <th></th>\n",
       "      <th>Country Name</th>\n",
       "      <th>Country Code</th>\n",
       "      <th>Series Name</th>\n",
       "      <th>Series Code</th>\n",
       "      <th>1973 [YR1973]</th>\n",
       "      <th>1974 [YR1974]</th>\n",
       "      <th>1975 [YR1975]</th>\n",
       "      <th>1976 [YR1976]</th>\n",
       "      <th>1977 [YR1977]</th>\n",
       "      <th>1978 [YR1978]</th>\n",
       "      <th>...</th>\n",
       "      <th>2013 [YR2013]</th>\n",
       "      <th>2014 [YR2014]</th>\n",
       "      <th>2015 [YR2015]</th>\n",
       "      <th>2016 [YR2016]</th>\n",
       "      <th>2017 [YR2017]</th>\n",
       "      <th>2018 [YR2018]</th>\n",
       "      <th>2019 [YR2019]</th>\n",
       "      <th>2020 [YR2020]</th>\n",
       "      <th>2021 [YR2021]</th>\n",
       "      <th>2022 [YR2022]</th>\n",
       "    </tr>\n",
       "  </thead>\n",
       "  <tbody>\n",
       "    <tr>\n",
       "      <th>0</th>\n",
       "      <td>OECD members</td>\n",
       "      <td>OED</td>\n",
       "      <td>Deposit interest rate (%)</td>\n",
       "      <td>FR.INR.DPST</td>\n",
       "      <td>..</td>\n",
       "      <td>..</td>\n",
       "      <td>..</td>\n",
       "      <td>..</td>\n",
       "      <td>..</td>\n",
       "      <td>..</td>\n",
       "      <td>...</td>\n",
       "      <td>..</td>\n",
       "      <td>..</td>\n",
       "      <td>..</td>\n",
       "      <td>..</td>\n",
       "      <td>..</td>\n",
       "      <td>..</td>\n",
       "      <td>..</td>\n",
       "      <td>..</td>\n",
       "      <td>..</td>\n",
       "      <td>..</td>\n",
       "    </tr>\n",
       "    <tr>\n",
       "      <th>1</th>\n",
       "      <td>OECD members</td>\n",
       "      <td>OED</td>\n",
       "      <td>Lending interest rate (%)</td>\n",
       "      <td>FR.INR.LEND</td>\n",
       "      <td>..</td>\n",
       "      <td>..</td>\n",
       "      <td>..</td>\n",
       "      <td>..</td>\n",
       "      <td>..</td>\n",
       "      <td>..</td>\n",
       "      <td>...</td>\n",
       "      <td>..</td>\n",
       "      <td>..</td>\n",
       "      <td>..</td>\n",
       "      <td>..</td>\n",
       "      <td>..</td>\n",
       "      <td>..</td>\n",
       "      <td>..</td>\n",
       "      <td>..</td>\n",
       "      <td>..</td>\n",
       "      <td>..</td>\n",
       "    </tr>\n",
       "    <tr>\n",
       "      <th>2</th>\n",
       "      <td>OECD members</td>\n",
       "      <td>OED</td>\n",
       "      <td>Pump price for gasoline (US$ per liter)</td>\n",
       "      <td>EP.PMP.SGAS.CD</td>\n",
       "      <td>..</td>\n",
       "      <td>..</td>\n",
       "      <td>..</td>\n",
       "      <td>..</td>\n",
       "      <td>..</td>\n",
       "      <td>..</td>\n",
       "      <td>...</td>\n",
       "      <td>..</td>\n",
       "      <td>1.725</td>\n",
       "      <td>..</td>\n",
       "      <td>1.32</td>\n",
       "      <td>..</td>\n",
       "      <td>..</td>\n",
       "      <td>..</td>\n",
       "      <td>..</td>\n",
       "      <td>..</td>\n",
       "      <td>..</td>\n",
       "    </tr>\n",
       "    <tr>\n",
       "      <th>3</th>\n",
       "      <td>OECD members</td>\n",
       "      <td>OED</td>\n",
       "      <td>Pump price for diesel fuel (US$ per liter)</td>\n",
       "      <td>EP.PMP.DESL.CD</td>\n",
       "      <td>..</td>\n",
       "      <td>..</td>\n",
       "      <td>..</td>\n",
       "      <td>..</td>\n",
       "      <td>..</td>\n",
       "      <td>..</td>\n",
       "      <td>...</td>\n",
       "      <td>..</td>\n",
       "      <td>1.605</td>\n",
       "      <td>..</td>\n",
       "      <td>1.16</td>\n",
       "      <td>..</td>\n",
       "      <td>..</td>\n",
       "      <td>..</td>\n",
       "      <td>..</td>\n",
       "      <td>..</td>\n",
       "      <td>..</td>\n",
       "    </tr>\n",
       "    <tr>\n",
       "      <th>4</th>\n",
       "      <td>OECD members</td>\n",
       "      <td>OED</td>\n",
       "      <td>Multidimensional poverty index (scale 0-1)</td>\n",
       "      <td>SI.POV.MDIM.XQ</td>\n",
       "      <td>..</td>\n",
       "      <td>..</td>\n",
       "      <td>..</td>\n",
       "      <td>..</td>\n",
       "      <td>..</td>\n",
       "      <td>..</td>\n",
       "      <td>...</td>\n",
       "      <td>..</td>\n",
       "      <td>..</td>\n",
       "      <td>..</td>\n",
       "      <td>..</td>\n",
       "      <td>..</td>\n",
       "      <td>..</td>\n",
       "      <td>..</td>\n",
       "      <td>..</td>\n",
       "      <td>..</td>\n",
       "      <td>..</td>\n",
       "    </tr>\n",
       "    <tr>\n",
       "      <th>...</th>\n",
       "      <td>...</td>\n",
       "      <td>...</td>\n",
       "      <td>...</td>\n",
       "      <td>...</td>\n",
       "      <td>...</td>\n",
       "      <td>...</td>\n",
       "      <td>...</td>\n",
       "      <td>...</td>\n",
       "      <td>...</td>\n",
       "      <td>...</td>\n",
       "      <td>...</td>\n",
       "      <td>...</td>\n",
       "      <td>...</td>\n",
       "      <td>...</td>\n",
       "      <td>...</td>\n",
       "      <td>...</td>\n",
       "      <td>...</td>\n",
       "      <td>...</td>\n",
       "      <td>...</td>\n",
       "      <td>...</td>\n",
       "      <td>...</td>\n",
       "    </tr>\n",
       "    <tr>\n",
       "      <th>2075</th>\n",
       "      <td>Africa Western and Central</td>\n",
       "      <td>AFW</td>\n",
       "      <td>Access to electricity (% of population)</td>\n",
       "      <td>EG.ELC.ACCS.ZS</td>\n",
       "      <td>..</td>\n",
       "      <td>..</td>\n",
       "      <td>..</td>\n",
       "      <td>..</td>\n",
       "      <td>..</td>\n",
       "      <td>..</td>\n",
       "      <td>...</td>\n",
       "      <td>47.05199</td>\n",
       "      <td>47.647405</td>\n",
       "      <td>46.758948</td>\n",
       "      <td>50.903108</td>\n",
       "      <td>48.78764</td>\n",
       "      <td>51.212863</td>\n",
       "      <td>51.160817</td>\n",
       "      <td>51.734388</td>\n",
       "      <td>54.224187</td>\n",
       "      <td>..</td>\n",
       "    </tr>\n",
       "    <tr>\n",
       "      <th>2076</th>\n",
       "      <td>Africa Western and Central</td>\n",
       "      <td>AFW</td>\n",
       "      <td>Cause of death, by communicable diseases and m...</td>\n",
       "      <td>SH.DTH.COMM.ZS</td>\n",
       "      <td>..</td>\n",
       "      <td>..</td>\n",
       "      <td>..</td>\n",
       "      <td>..</td>\n",
       "      <td>..</td>\n",
       "      <td>..</td>\n",
       "      <td>...</td>\n",
       "      <td>..</td>\n",
       "      <td>..</td>\n",
       "      <td>61.883166</td>\n",
       "      <td>..</td>\n",
       "      <td>..</td>\n",
       "      <td>..</td>\n",
       "      <td>59.50382</td>\n",
       "      <td>..</td>\n",
       "      <td>..</td>\n",
       "      <td>..</td>\n",
       "    </tr>\n",
       "    <tr>\n",
       "      <th>2077</th>\n",
       "      <td>Africa Western and Central</td>\n",
       "      <td>AFW</td>\n",
       "      <td>Maternal mortality ratio (modeled estimate, pe...</td>\n",
       "      <td>SH.STA.MMRT</td>\n",
       "      <td>..</td>\n",
       "      <td>..</td>\n",
       "      <td>..</td>\n",
       "      <td>..</td>\n",
       "      <td>..</td>\n",
       "      <td>..</td>\n",
       "      <td>...</td>\n",
       "      <td>808</td>\n",
       "      <td>811</td>\n",
       "      <td>788</td>\n",
       "      <td>787</td>\n",
       "      <td>780</td>\n",
       "      <td>779</td>\n",
       "      <td>764</td>\n",
       "      <td>733</td>\n",
       "      <td>..</td>\n",
       "      <td>..</td>\n",
       "    </tr>\n",
       "    <tr>\n",
       "      <th>2078</th>\n",
       "      <td>Africa Western and Central</td>\n",
       "      <td>AFW</td>\n",
       "      <td>Number of maternal deaths</td>\n",
       "      <td>SH.MMR.DTHS</td>\n",
       "      <td>..</td>\n",
       "      <td>..</td>\n",
       "      <td>..</td>\n",
       "      <td>..</td>\n",
       "      <td>..</td>\n",
       "      <td>..</td>\n",
       "      <td>...</td>\n",
       "      <td>125000</td>\n",
       "      <td>127000</td>\n",
       "      <td>125000</td>\n",
       "      <td>127000</td>\n",
       "      <td>127000</td>\n",
       "      <td>129000</td>\n",
       "      <td>129000</td>\n",
       "      <td>125000</td>\n",
       "      <td>..</td>\n",
       "      <td>..</td>\n",
       "    </tr>\n",
       "    <tr>\n",
       "      <th>2079</th>\n",
       "      <td>Africa Western and Central</td>\n",
       "      <td>AFW</td>\n",
       "      <td>Number of neonatal deaths</td>\n",
       "      <td>SH.DTH.NMRT</td>\n",
       "      <td>..</td>\n",
       "      <td>..</td>\n",
       "      <td>..</td>\n",
       "      <td>..</td>\n",
       "      <td>..</td>\n",
       "      <td>..</td>\n",
       "      <td>...</td>\n",
       "      <td>534778</td>\n",
       "      <td>537757</td>\n",
       "      <td>540701</td>\n",
       "      <td>543246</td>\n",
       "      <td>544464</td>\n",
       "      <td>545693</td>\n",
       "      <td>546112</td>\n",
       "      <td>546107</td>\n",
       "      <td>545443</td>\n",
       "      <td>..</td>\n",
       "    </tr>\n",
       "  </tbody>\n",
       "</table>\n",
       "<p>2080 rows × 54 columns</p>\n",
       "</div>"
      ],
      "text/plain": [
       "                    Country Name Country Code  \\\n",
       "0                   OECD members          OED   \n",
       "1                   OECD members          OED   \n",
       "2                   OECD members          OED   \n",
       "3                   OECD members          OED   \n",
       "4                   OECD members          OED   \n",
       "...                          ...          ...   \n",
       "2075  Africa Western and Central          AFW   \n",
       "2076  Africa Western and Central          AFW   \n",
       "2077  Africa Western and Central          AFW   \n",
       "2078  Africa Western and Central          AFW   \n",
       "2079  Africa Western and Central          AFW   \n",
       "\n",
       "                                            Series Name     Series Code  \\\n",
       "0                             Deposit interest rate (%)     FR.INR.DPST   \n",
       "1                             Lending interest rate (%)     FR.INR.LEND   \n",
       "2               Pump price for gasoline (US$ per liter)  EP.PMP.SGAS.CD   \n",
       "3            Pump price for diesel fuel (US$ per liter)  EP.PMP.DESL.CD   \n",
       "4            Multidimensional poverty index (scale 0-1)  SI.POV.MDIM.XQ   \n",
       "...                                                 ...             ...   \n",
       "2075            Access to electricity (% of population)  EG.ELC.ACCS.ZS   \n",
       "2076  Cause of death, by communicable diseases and m...  SH.DTH.COMM.ZS   \n",
       "2077  Maternal mortality ratio (modeled estimate, pe...     SH.STA.MMRT   \n",
       "2078                          Number of maternal deaths     SH.MMR.DTHS   \n",
       "2079                          Number of neonatal deaths     SH.DTH.NMRT   \n",
       "\n",
       "     1973 [YR1973] 1974 [YR1974] 1975 [YR1975] 1976 [YR1976] 1977 [YR1977]  \\\n",
       "0               ..            ..            ..            ..            ..   \n",
       "1               ..            ..            ..            ..            ..   \n",
       "2               ..            ..            ..            ..            ..   \n",
       "3               ..            ..            ..            ..            ..   \n",
       "4               ..            ..            ..            ..            ..   \n",
       "...            ...           ...           ...           ...           ...   \n",
       "2075            ..            ..            ..            ..            ..   \n",
       "2076            ..            ..            ..            ..            ..   \n",
       "2077            ..            ..            ..            ..            ..   \n",
       "2078            ..            ..            ..            ..            ..   \n",
       "2079            ..            ..            ..            ..            ..   \n",
       "\n",
       "     1978 [YR1978]  ... 2013 [YR2013] 2014 [YR2014] 2015 [YR2015]  \\\n",
       "0               ..  ...            ..            ..            ..   \n",
       "1               ..  ...            ..            ..            ..   \n",
       "2               ..  ...            ..         1.725            ..   \n",
       "3               ..  ...            ..         1.605            ..   \n",
       "4               ..  ...            ..            ..            ..   \n",
       "...            ...  ...           ...           ...           ...   \n",
       "2075            ..  ...      47.05199     47.647405     46.758948   \n",
       "2076            ..  ...            ..            ..     61.883166   \n",
       "2077            ..  ...           808           811           788   \n",
       "2078            ..  ...        125000        127000        125000   \n",
       "2079            ..  ...        534778        537757        540701   \n",
       "\n",
       "     2016 [YR2016] 2017 [YR2017] 2018 [YR2018] 2019 [YR2019] 2020 [YR2020]  \\\n",
       "0               ..            ..            ..            ..            ..   \n",
       "1               ..            ..            ..            ..            ..   \n",
       "2             1.32            ..            ..            ..            ..   \n",
       "3             1.16            ..            ..            ..            ..   \n",
       "4               ..            ..            ..            ..            ..   \n",
       "...            ...           ...           ...           ...           ...   \n",
       "2075     50.903108      48.78764     51.212863     51.160817     51.734388   \n",
       "2076            ..            ..            ..      59.50382            ..   \n",
       "2077           787           780           779           764           733   \n",
       "2078        127000        127000        129000        129000        125000   \n",
       "2079        543246        544464        545693        546112        546107   \n",
       "\n",
       "     2021 [YR2021] 2022 [YR2022]  \n",
       "0               ..            ..  \n",
       "1               ..            ..  \n",
       "2               ..            ..  \n",
       "3               ..            ..  \n",
       "4               ..            ..  \n",
       "...            ...           ...  \n",
       "2075     54.224187            ..  \n",
       "2076            ..            ..  \n",
       "2077            ..            ..  \n",
       "2078            ..            ..  \n",
       "2079        545443            ..  \n",
       "\n",
       "[2080 rows x 54 columns]"
      ]
     },
     "execution_count": 2,
     "metadata": {},
     "output_type": "execute_result"
    }
   ],
   "source": [
    "import pandas as pd\n",
    "\n",
    "#load data\n",
    "path= r'C:\\Users\\prett\\OneDrive\\Desktop\\CODING\\PYTHON\\ANALYSIS\\Portfolio\\portfolio.xlsx'\n",
    "df = pd.read_excel(path)\n",
    "\n",
    "#display data\n",
    "df\n"
   ]
  },
  {
   "cell_type": "markdown",
   "id": "f7ec6aa8",
   "metadata": {},
   "source": [
    "# Data Preprocessing"
   ]
  },
  {
   "cell_type": "code",
   "execution_count": 3,
   "id": "793bee17",
   "metadata": {
    "scrolled": true
   },
   "outputs": [
    {
     "data": {
      "text/html": [
       "<div>\n",
       "<style scoped>\n",
       "    .dataframe tbody tr th:only-of-type {\n",
       "        vertical-align: middle;\n",
       "    }\n",
       "\n",
       "    .dataframe tbody tr th {\n",
       "        vertical-align: top;\n",
       "    }\n",
       "\n",
       "    .dataframe thead th {\n",
       "        text-align: right;\n",
       "    }\n",
       "</style>\n",
       "<table border=\"1\" class=\"dataframe\">\n",
       "  <thead>\n",
       "    <tr style=\"text-align: right;\">\n",
       "      <th></th>\n",
       "      <th>Country Name</th>\n",
       "      <th>Country Code</th>\n",
       "      <th>Series Name</th>\n",
       "      <th>Series Code</th>\n",
       "      <th>1973</th>\n",
       "      <th>1974</th>\n",
       "      <th>1975</th>\n",
       "      <th>1976</th>\n",
       "      <th>1977</th>\n",
       "      <th>1978</th>\n",
       "      <th>...</th>\n",
       "      <th>2013</th>\n",
       "      <th>2014</th>\n",
       "      <th>2015</th>\n",
       "      <th>2016</th>\n",
       "      <th>2017</th>\n",
       "      <th>2018</th>\n",
       "      <th>2019</th>\n",
       "      <th>2020</th>\n",
       "      <th>2021</th>\n",
       "      <th>2022</th>\n",
       "    </tr>\n",
       "  </thead>\n",
       "  <tbody>\n",
       "    <tr>\n",
       "      <th>0</th>\n",
       "      <td>OECD members</td>\n",
       "      <td>OED</td>\n",
       "      <td>Deposit interest rate (%)</td>\n",
       "      <td>FR.INR.DPST</td>\n",
       "      <td>..</td>\n",
       "      <td>..</td>\n",
       "      <td>..</td>\n",
       "      <td>..</td>\n",
       "      <td>..</td>\n",
       "      <td>..</td>\n",
       "      <td>...</td>\n",
       "      <td>..</td>\n",
       "      <td>..</td>\n",
       "      <td>..</td>\n",
       "      <td>..</td>\n",
       "      <td>..</td>\n",
       "      <td>..</td>\n",
       "      <td>..</td>\n",
       "      <td>..</td>\n",
       "      <td>..</td>\n",
       "      <td>..</td>\n",
       "    </tr>\n",
       "    <tr>\n",
       "      <th>1</th>\n",
       "      <td>OECD members</td>\n",
       "      <td>OED</td>\n",
       "      <td>Lending interest rate (%)</td>\n",
       "      <td>FR.INR.LEND</td>\n",
       "      <td>..</td>\n",
       "      <td>..</td>\n",
       "      <td>..</td>\n",
       "      <td>..</td>\n",
       "      <td>..</td>\n",
       "      <td>..</td>\n",
       "      <td>...</td>\n",
       "      <td>..</td>\n",
       "      <td>..</td>\n",
       "      <td>..</td>\n",
       "      <td>..</td>\n",
       "      <td>..</td>\n",
       "      <td>..</td>\n",
       "      <td>..</td>\n",
       "      <td>..</td>\n",
       "      <td>..</td>\n",
       "      <td>..</td>\n",
       "    </tr>\n",
       "    <tr>\n",
       "      <th>2</th>\n",
       "      <td>OECD members</td>\n",
       "      <td>OED</td>\n",
       "      <td>Pump price for gasoline (US$ per liter)</td>\n",
       "      <td>EP.PMP.SGAS.CD</td>\n",
       "      <td>..</td>\n",
       "      <td>..</td>\n",
       "      <td>..</td>\n",
       "      <td>..</td>\n",
       "      <td>..</td>\n",
       "      <td>..</td>\n",
       "      <td>...</td>\n",
       "      <td>..</td>\n",
       "      <td>1.725</td>\n",
       "      <td>..</td>\n",
       "      <td>1.32</td>\n",
       "      <td>..</td>\n",
       "      <td>..</td>\n",
       "      <td>..</td>\n",
       "      <td>..</td>\n",
       "      <td>..</td>\n",
       "      <td>..</td>\n",
       "    </tr>\n",
       "    <tr>\n",
       "      <th>3</th>\n",
       "      <td>OECD members</td>\n",
       "      <td>OED</td>\n",
       "      <td>Pump price for diesel fuel (US$ per liter)</td>\n",
       "      <td>EP.PMP.DESL.CD</td>\n",
       "      <td>..</td>\n",
       "      <td>..</td>\n",
       "      <td>..</td>\n",
       "      <td>..</td>\n",
       "      <td>..</td>\n",
       "      <td>..</td>\n",
       "      <td>...</td>\n",
       "      <td>..</td>\n",
       "      <td>1.605</td>\n",
       "      <td>..</td>\n",
       "      <td>1.16</td>\n",
       "      <td>..</td>\n",
       "      <td>..</td>\n",
       "      <td>..</td>\n",
       "      <td>..</td>\n",
       "      <td>..</td>\n",
       "      <td>..</td>\n",
       "    </tr>\n",
       "    <tr>\n",
       "      <th>4</th>\n",
       "      <td>OECD members</td>\n",
       "      <td>OED</td>\n",
       "      <td>Multidimensional poverty index (scale 0-1)</td>\n",
       "      <td>SI.POV.MDIM.XQ</td>\n",
       "      <td>..</td>\n",
       "      <td>..</td>\n",
       "      <td>..</td>\n",
       "      <td>..</td>\n",
       "      <td>..</td>\n",
       "      <td>..</td>\n",
       "      <td>...</td>\n",
       "      <td>..</td>\n",
       "      <td>..</td>\n",
       "      <td>..</td>\n",
       "      <td>..</td>\n",
       "      <td>..</td>\n",
       "      <td>..</td>\n",
       "      <td>..</td>\n",
       "      <td>..</td>\n",
       "      <td>..</td>\n",
       "      <td>..</td>\n",
       "    </tr>\n",
       "    <tr>\n",
       "      <th>...</th>\n",
       "      <td>...</td>\n",
       "      <td>...</td>\n",
       "      <td>...</td>\n",
       "      <td>...</td>\n",
       "      <td>...</td>\n",
       "      <td>...</td>\n",
       "      <td>...</td>\n",
       "      <td>...</td>\n",
       "      <td>...</td>\n",
       "      <td>...</td>\n",
       "      <td>...</td>\n",
       "      <td>...</td>\n",
       "      <td>...</td>\n",
       "      <td>...</td>\n",
       "      <td>...</td>\n",
       "      <td>...</td>\n",
       "      <td>...</td>\n",
       "      <td>...</td>\n",
       "      <td>...</td>\n",
       "      <td>...</td>\n",
       "      <td>...</td>\n",
       "    </tr>\n",
       "    <tr>\n",
       "      <th>2075</th>\n",
       "      <td>Africa Western and Central</td>\n",
       "      <td>AFW</td>\n",
       "      <td>Access to electricity (% of population)</td>\n",
       "      <td>EG.ELC.ACCS.ZS</td>\n",
       "      <td>..</td>\n",
       "      <td>..</td>\n",
       "      <td>..</td>\n",
       "      <td>..</td>\n",
       "      <td>..</td>\n",
       "      <td>..</td>\n",
       "      <td>...</td>\n",
       "      <td>47.05199</td>\n",
       "      <td>47.647405</td>\n",
       "      <td>46.758948</td>\n",
       "      <td>50.903108</td>\n",
       "      <td>48.78764</td>\n",
       "      <td>51.212863</td>\n",
       "      <td>51.160817</td>\n",
       "      <td>51.734388</td>\n",
       "      <td>54.224187</td>\n",
       "      <td>..</td>\n",
       "    </tr>\n",
       "    <tr>\n",
       "      <th>2076</th>\n",
       "      <td>Africa Western and Central</td>\n",
       "      <td>AFW</td>\n",
       "      <td>Cause of death, by communicable diseases and m...</td>\n",
       "      <td>SH.DTH.COMM.ZS</td>\n",
       "      <td>..</td>\n",
       "      <td>..</td>\n",
       "      <td>..</td>\n",
       "      <td>..</td>\n",
       "      <td>..</td>\n",
       "      <td>..</td>\n",
       "      <td>...</td>\n",
       "      <td>..</td>\n",
       "      <td>..</td>\n",
       "      <td>61.883166</td>\n",
       "      <td>..</td>\n",
       "      <td>..</td>\n",
       "      <td>..</td>\n",
       "      <td>59.50382</td>\n",
       "      <td>..</td>\n",
       "      <td>..</td>\n",
       "      <td>..</td>\n",
       "    </tr>\n",
       "    <tr>\n",
       "      <th>2077</th>\n",
       "      <td>Africa Western and Central</td>\n",
       "      <td>AFW</td>\n",
       "      <td>Maternal mortality ratio (modeled estimate, pe...</td>\n",
       "      <td>SH.STA.MMRT</td>\n",
       "      <td>..</td>\n",
       "      <td>..</td>\n",
       "      <td>..</td>\n",
       "      <td>..</td>\n",
       "      <td>..</td>\n",
       "      <td>..</td>\n",
       "      <td>...</td>\n",
       "      <td>808</td>\n",
       "      <td>811</td>\n",
       "      <td>788</td>\n",
       "      <td>787</td>\n",
       "      <td>780</td>\n",
       "      <td>779</td>\n",
       "      <td>764</td>\n",
       "      <td>733</td>\n",
       "      <td>..</td>\n",
       "      <td>..</td>\n",
       "    </tr>\n",
       "    <tr>\n",
       "      <th>2078</th>\n",
       "      <td>Africa Western and Central</td>\n",
       "      <td>AFW</td>\n",
       "      <td>Number of maternal deaths</td>\n",
       "      <td>SH.MMR.DTHS</td>\n",
       "      <td>..</td>\n",
       "      <td>..</td>\n",
       "      <td>..</td>\n",
       "      <td>..</td>\n",
       "      <td>..</td>\n",
       "      <td>..</td>\n",
       "      <td>...</td>\n",
       "      <td>125000</td>\n",
       "      <td>127000</td>\n",
       "      <td>125000</td>\n",
       "      <td>127000</td>\n",
       "      <td>127000</td>\n",
       "      <td>129000</td>\n",
       "      <td>129000</td>\n",
       "      <td>125000</td>\n",
       "      <td>..</td>\n",
       "      <td>..</td>\n",
       "    </tr>\n",
       "    <tr>\n",
       "      <th>2079</th>\n",
       "      <td>Africa Western and Central</td>\n",
       "      <td>AFW</td>\n",
       "      <td>Number of neonatal deaths</td>\n",
       "      <td>SH.DTH.NMRT</td>\n",
       "      <td>..</td>\n",
       "      <td>..</td>\n",
       "      <td>..</td>\n",
       "      <td>..</td>\n",
       "      <td>..</td>\n",
       "      <td>..</td>\n",
       "      <td>...</td>\n",
       "      <td>534778</td>\n",
       "      <td>537757</td>\n",
       "      <td>540701</td>\n",
       "      <td>543246</td>\n",
       "      <td>544464</td>\n",
       "      <td>545693</td>\n",
       "      <td>546112</td>\n",
       "      <td>546107</td>\n",
       "      <td>545443</td>\n",
       "      <td>..</td>\n",
       "    </tr>\n",
       "  </tbody>\n",
       "</table>\n",
       "<p>2080 rows × 54 columns</p>\n",
       "</div>"
      ],
      "text/plain": [
       "                    Country Name Country Code  \\\n",
       "0                   OECD members          OED   \n",
       "1                   OECD members          OED   \n",
       "2                   OECD members          OED   \n",
       "3                   OECD members          OED   \n",
       "4                   OECD members          OED   \n",
       "...                          ...          ...   \n",
       "2075  Africa Western and Central          AFW   \n",
       "2076  Africa Western and Central          AFW   \n",
       "2077  Africa Western and Central          AFW   \n",
       "2078  Africa Western and Central          AFW   \n",
       "2079  Africa Western and Central          AFW   \n",
       "\n",
       "                                            Series Name     Series Code 1973  \\\n",
       "0                             Deposit interest rate (%)     FR.INR.DPST   ..   \n",
       "1                             Lending interest rate (%)     FR.INR.LEND   ..   \n",
       "2               Pump price for gasoline (US$ per liter)  EP.PMP.SGAS.CD   ..   \n",
       "3            Pump price for diesel fuel (US$ per liter)  EP.PMP.DESL.CD   ..   \n",
       "4            Multidimensional poverty index (scale 0-1)  SI.POV.MDIM.XQ   ..   \n",
       "...                                                 ...             ...  ...   \n",
       "2075            Access to electricity (% of population)  EG.ELC.ACCS.ZS   ..   \n",
       "2076  Cause of death, by communicable diseases and m...  SH.DTH.COMM.ZS   ..   \n",
       "2077  Maternal mortality ratio (modeled estimate, pe...     SH.STA.MMRT   ..   \n",
       "2078                          Number of maternal deaths     SH.MMR.DTHS   ..   \n",
       "2079                          Number of neonatal deaths     SH.DTH.NMRT   ..   \n",
       "\n",
       "     1974 1975 1976 1977 1978  ...      2013       2014       2015       2016  \\\n",
       "0      ..   ..   ..   ..   ..  ...        ..         ..         ..         ..   \n",
       "1      ..   ..   ..   ..   ..  ...        ..         ..         ..         ..   \n",
       "2      ..   ..   ..   ..   ..  ...        ..      1.725         ..       1.32   \n",
       "3      ..   ..   ..   ..   ..  ...        ..      1.605         ..       1.16   \n",
       "4      ..   ..   ..   ..   ..  ...        ..         ..         ..         ..   \n",
       "...   ...  ...  ...  ...  ...  ...       ...        ...        ...        ...   \n",
       "2075   ..   ..   ..   ..   ..  ...  47.05199  47.647405  46.758948  50.903108   \n",
       "2076   ..   ..   ..   ..   ..  ...        ..         ..  61.883166         ..   \n",
       "2077   ..   ..   ..   ..   ..  ...       808        811        788        787   \n",
       "2078   ..   ..   ..   ..   ..  ...    125000     127000     125000     127000   \n",
       "2079   ..   ..   ..   ..   ..  ...    534778     537757     540701     543246   \n",
       "\n",
       "          2017       2018       2019       2020       2021 2022  \n",
       "0           ..         ..         ..         ..         ..   ..  \n",
       "1           ..         ..         ..         ..         ..   ..  \n",
       "2           ..         ..         ..         ..         ..   ..  \n",
       "3           ..         ..         ..         ..         ..   ..  \n",
       "4           ..         ..         ..         ..         ..   ..  \n",
       "...        ...        ...        ...        ...        ...  ...  \n",
       "2075  48.78764  51.212863  51.160817  51.734388  54.224187   ..  \n",
       "2076        ..         ..   59.50382         ..         ..   ..  \n",
       "2077       780        779        764        733         ..   ..  \n",
       "2078    127000     129000     129000     125000         ..   ..  \n",
       "2079    544464     545693     546112     546107     545443   ..  \n",
       "\n",
       "[2080 rows x 54 columns]"
      ]
     },
     "execution_count": 3,
     "metadata": {},
     "output_type": "execute_result"
    }
   ],
   "source": [
    "# Extract the year portion from column names and truncate to the first four characters\n",
    "new_columns = [str(year)[:4] for year in df.columns[4:]]\n",
    "\n",
    "# Update the column names in df by combining the first four columns and new_columns\n",
    "df.columns = df.columns[:4].tolist() + new_columns\n",
    "\n",
    "\n",
    "# Display the modified dataframe with updated column names\n",
    "df\n",
    "\n"
   ]
  },
  {
   "cell_type": "code",
   "execution_count": 4,
   "id": "a7fe1609",
   "metadata": {
    "scrolled": true
   },
   "outputs": [
    {
     "data": {
      "text/html": [
       "<div>\n",
       "<style scoped>\n",
       "    .dataframe tbody tr th:only-of-type {\n",
       "        vertical-align: middle;\n",
       "    }\n",
       "\n",
       "    .dataframe tbody tr th {\n",
       "        vertical-align: top;\n",
       "    }\n",
       "\n",
       "    .dataframe thead th {\n",
       "        text-align: right;\n",
       "    }\n",
       "</style>\n",
       "<table border=\"1\" class=\"dataframe\">\n",
       "  <thead>\n",
       "    <tr style=\"text-align: right;\">\n",
       "      <th></th>\n",
       "      <th>Country Name</th>\n",
       "      <th>Country Code</th>\n",
       "      <th>Series Name</th>\n",
       "      <th>Series Code</th>\n",
       "      <th>Year</th>\n",
       "      <th>Value</th>\n",
       "    </tr>\n",
       "  </thead>\n",
       "  <tbody>\n",
       "    <tr>\n",
       "      <th>0</th>\n",
       "      <td>OECD members</td>\n",
       "      <td>OED</td>\n",
       "      <td>Deposit interest rate (%)</td>\n",
       "      <td>FR.INR.DPST</td>\n",
       "      <td>1973</td>\n",
       "      <td>..</td>\n",
       "    </tr>\n",
       "    <tr>\n",
       "      <th>1</th>\n",
       "      <td>OECD members</td>\n",
       "      <td>OED</td>\n",
       "      <td>Lending interest rate (%)</td>\n",
       "      <td>FR.INR.LEND</td>\n",
       "      <td>1973</td>\n",
       "      <td>..</td>\n",
       "    </tr>\n",
       "    <tr>\n",
       "      <th>2</th>\n",
       "      <td>OECD members</td>\n",
       "      <td>OED</td>\n",
       "      <td>Pump price for gasoline (US$ per liter)</td>\n",
       "      <td>EP.PMP.SGAS.CD</td>\n",
       "      <td>1973</td>\n",
       "      <td>..</td>\n",
       "    </tr>\n",
       "    <tr>\n",
       "      <th>3</th>\n",
       "      <td>OECD members</td>\n",
       "      <td>OED</td>\n",
       "      <td>Pump price for diesel fuel (US$ per liter)</td>\n",
       "      <td>EP.PMP.DESL.CD</td>\n",
       "      <td>1973</td>\n",
       "      <td>..</td>\n",
       "    </tr>\n",
       "    <tr>\n",
       "      <th>4</th>\n",
       "      <td>OECD members</td>\n",
       "      <td>OED</td>\n",
       "      <td>Multidimensional poverty index (scale 0-1)</td>\n",
       "      <td>SI.POV.MDIM.XQ</td>\n",
       "      <td>1973</td>\n",
       "      <td>..</td>\n",
       "    </tr>\n",
       "    <tr>\n",
       "      <th>...</th>\n",
       "      <td>...</td>\n",
       "      <td>...</td>\n",
       "      <td>...</td>\n",
       "      <td>...</td>\n",
       "      <td>...</td>\n",
       "      <td>...</td>\n",
       "    </tr>\n",
       "    <tr>\n",
       "      <th>103995</th>\n",
       "      <td>Africa Western and Central</td>\n",
       "      <td>AFW</td>\n",
       "      <td>Access to electricity (% of population)</td>\n",
       "      <td>EG.ELC.ACCS.ZS</td>\n",
       "      <td>2022</td>\n",
       "      <td>..</td>\n",
       "    </tr>\n",
       "    <tr>\n",
       "      <th>103996</th>\n",
       "      <td>Africa Western and Central</td>\n",
       "      <td>AFW</td>\n",
       "      <td>Cause of death, by communicable diseases and m...</td>\n",
       "      <td>SH.DTH.COMM.ZS</td>\n",
       "      <td>2022</td>\n",
       "      <td>..</td>\n",
       "    </tr>\n",
       "    <tr>\n",
       "      <th>103997</th>\n",
       "      <td>Africa Western and Central</td>\n",
       "      <td>AFW</td>\n",
       "      <td>Maternal mortality ratio (modeled estimate, pe...</td>\n",
       "      <td>SH.STA.MMRT</td>\n",
       "      <td>2022</td>\n",
       "      <td>..</td>\n",
       "    </tr>\n",
       "    <tr>\n",
       "      <th>103998</th>\n",
       "      <td>Africa Western and Central</td>\n",
       "      <td>AFW</td>\n",
       "      <td>Number of maternal deaths</td>\n",
       "      <td>SH.MMR.DTHS</td>\n",
       "      <td>2022</td>\n",
       "      <td>..</td>\n",
       "    </tr>\n",
       "    <tr>\n",
       "      <th>103999</th>\n",
       "      <td>Africa Western and Central</td>\n",
       "      <td>AFW</td>\n",
       "      <td>Number of neonatal deaths</td>\n",
       "      <td>SH.DTH.NMRT</td>\n",
       "      <td>2022</td>\n",
       "      <td>..</td>\n",
       "    </tr>\n",
       "  </tbody>\n",
       "</table>\n",
       "<p>104000 rows × 6 columns</p>\n",
       "</div>"
      ],
      "text/plain": [
       "                      Country Name Country Code  \\\n",
       "0                     OECD members          OED   \n",
       "1                     OECD members          OED   \n",
       "2                     OECD members          OED   \n",
       "3                     OECD members          OED   \n",
       "4                     OECD members          OED   \n",
       "...                            ...          ...   \n",
       "103995  Africa Western and Central          AFW   \n",
       "103996  Africa Western and Central          AFW   \n",
       "103997  Africa Western and Central          AFW   \n",
       "103998  Africa Western and Central          AFW   \n",
       "103999  Africa Western and Central          AFW   \n",
       "\n",
       "                                              Series Name     Series Code  \\\n",
       "0                               Deposit interest rate (%)     FR.INR.DPST   \n",
       "1                               Lending interest rate (%)     FR.INR.LEND   \n",
       "2                 Pump price for gasoline (US$ per liter)  EP.PMP.SGAS.CD   \n",
       "3              Pump price for diesel fuel (US$ per liter)  EP.PMP.DESL.CD   \n",
       "4              Multidimensional poverty index (scale 0-1)  SI.POV.MDIM.XQ   \n",
       "...                                                   ...             ...   \n",
       "103995            Access to electricity (% of population)  EG.ELC.ACCS.ZS   \n",
       "103996  Cause of death, by communicable diseases and m...  SH.DTH.COMM.ZS   \n",
       "103997  Maternal mortality ratio (modeled estimate, pe...     SH.STA.MMRT   \n",
       "103998                          Number of maternal deaths     SH.MMR.DTHS   \n",
       "103999                          Number of neonatal deaths     SH.DTH.NMRT   \n",
       "\n",
       "        Year Value  \n",
       "0       1973    ..  \n",
       "1       1973    ..  \n",
       "2       1973    ..  \n",
       "3       1973    ..  \n",
       "4       1973    ..  \n",
       "...      ...   ...  \n",
       "103995  2022    ..  \n",
       "103996  2022    ..  \n",
       "103997  2022    ..  \n",
       "103998  2022    ..  \n",
       "103999  2022    ..  \n",
       "\n",
       "[104000 rows x 6 columns]"
      ]
     },
     "execution_count": 4,
     "metadata": {},
     "output_type": "execute_result"
    }
   ],
   "source": [
    "# Melt the DataFrame to make it easier for analysis\n",
    "df_melted = df.melt(\n",
    "    id_vars=['Country Name', 'Country Code', 'Series Name', 'Series Code'],  # Columns to keep as identifiers\n",
    "    var_name='Year',  # Name of the new column for the melted variable names\n",
    "    value_name='Value'  # Name of the new column for the melted values\n",
    ")\n",
    "\n",
    "# Display the dataframee\n",
    "df_melted\n"
   ]
  },
  {
   "cell_type": "code",
   "execution_count": 5,
   "id": "348a3c7c",
   "metadata": {},
   "outputs": [
    {
     "name": "stdout",
     "output_type": "stream",
     "text": [
      "int64\n"
     ]
    }
   ],
   "source": [
    "# Convert 'Year' column to datetime format\n",
    "df_melted['Year'] = pd.to_datetime(df_melted['Year']).dt.year\n",
    "\n",
    "# Verify the data type has been changed\n",
    "print(df_melted['Year'].dtype)\n"
   ]
  },
  {
   "cell_type": "code",
   "execution_count": 6,
   "id": "e03ce50f",
   "metadata": {
    "scrolled": true
   },
   "outputs": [
    {
     "data": {
      "text/html": [
       "<div>\n",
       "<style scoped>\n",
       "    .dataframe tbody tr th:only-of-type {\n",
       "        vertical-align: middle;\n",
       "    }\n",
       "\n",
       "    .dataframe tbody tr th {\n",
       "        vertical-align: top;\n",
       "    }\n",
       "\n",
       "    .dataframe thead th {\n",
       "        text-align: right;\n",
       "    }\n",
       "</style>\n",
       "<table border=\"1\" class=\"dataframe\">\n",
       "  <thead>\n",
       "    <tr style=\"text-align: right;\">\n",
       "      <th></th>\n",
       "      <th>Country Name</th>\n",
       "      <th>Series Name</th>\n",
       "      <th>Year</th>\n",
       "      <th>Value</th>\n",
       "    </tr>\n",
       "  </thead>\n",
       "  <tbody>\n",
       "    <tr>\n",
       "      <th>0</th>\n",
       "      <td>OECD members</td>\n",
       "      <td>Deposit interest rate (%)</td>\n",
       "      <td>1973</td>\n",
       "      <td>..</td>\n",
       "    </tr>\n",
       "    <tr>\n",
       "      <th>1</th>\n",
       "      <td>OECD members</td>\n",
       "      <td>Lending interest rate (%)</td>\n",
       "      <td>1973</td>\n",
       "      <td>..</td>\n",
       "    </tr>\n",
       "    <tr>\n",
       "      <th>2</th>\n",
       "      <td>OECD members</td>\n",
       "      <td>Pump price for gasoline (US$ per liter)</td>\n",
       "      <td>1973</td>\n",
       "      <td>..</td>\n",
       "    </tr>\n",
       "    <tr>\n",
       "      <th>3</th>\n",
       "      <td>OECD members</td>\n",
       "      <td>Pump price for diesel fuel (US$ per liter)</td>\n",
       "      <td>1973</td>\n",
       "      <td>..</td>\n",
       "    </tr>\n",
       "    <tr>\n",
       "      <th>4</th>\n",
       "      <td>OECD members</td>\n",
       "      <td>Multidimensional poverty index (scale 0-1)</td>\n",
       "      <td>1973</td>\n",
       "      <td>..</td>\n",
       "    </tr>\n",
       "  </tbody>\n",
       "</table>\n",
       "</div>"
      ],
      "text/plain": [
       "   Country Name                                 Series Name  Year Value\n",
       "0  OECD members                   Deposit interest rate (%)  1973    ..\n",
       "1  OECD members                   Lending interest rate (%)  1973    ..\n",
       "2  OECD members     Pump price for gasoline (US$ per liter)  1973    ..\n",
       "3  OECD members  Pump price for diesel fuel (US$ per liter)  1973    ..\n",
       "4  OECD members  Multidimensional poverty index (scale 0-1)  1973    .."
      ]
     },
     "execution_count": 6,
     "metadata": {},
     "output_type": "execute_result"
    }
   ],
   "source": [
    "# Drop the specified columns to concentrate on more relevant columns\n",
    "drop_columns = df_melted.drop(['Country Code', 'Series Code'], axis=1)\n",
    "# Display the resulting DataFrame\n",
    "drop_columns.head(5)"
   ]
  },
  {
   "cell_type": "code",
   "execution_count": 7,
   "id": "61948509",
   "metadata": {
    "scrolled": false
   },
   "outputs": [
    {
     "data": {
      "text/html": [
       "<div>\n",
       "<style scoped>\n",
       "    .dataframe tbody tr th:only-of-type {\n",
       "        vertical-align: middle;\n",
       "    }\n",
       "\n",
       "    .dataframe tbody tr th {\n",
       "        vertical-align: top;\n",
       "    }\n",
       "\n",
       "    .dataframe thead th {\n",
       "        text-align: right;\n",
       "    }\n",
       "</style>\n",
       "<table border=\"1\" class=\"dataframe\">\n",
       "  <thead>\n",
       "    <tr style=\"text-align: right;\">\n",
       "      <th>Series Name</th>\n",
       "      <th>Country Name</th>\n",
       "      <th>Year</th>\n",
       "      <th>Access to electricity (% of population)</th>\n",
       "      <th>Cause of death, by communicable diseases and maternal, prenatal and nutrition conditions (% of total)</th>\n",
       "      <th>Consumer price index (2010 = 100)</th>\n",
       "      <th>Deposit interest rate (%)</th>\n",
       "      <th>Educational attainment, Doctoral or equivalent, population 25+, total (%) (cumulative)</th>\n",
       "      <th>Educational attainment, at least Bachelor's or equivalent, population 25+, total (%) (cumulative)</th>\n",
       "      <th>Educational attainment, at least Master's or equivalent, population 25+, total (%) (cumulative)</th>\n",
       "      <th>Educational attainment, at least completed lower secondary, population 25+, total (%) (cumulative)</th>\n",
       "      <th>...</th>\n",
       "      <th>Pump price for diesel fuel (US$ per liter)</th>\n",
       "      <th>Pump price for gasoline (US$ per liter)</th>\n",
       "      <th>Subsidies and other transfers (% of expense)</th>\n",
       "      <th>Tariff rate, most favored nation, weighted mean, primary products (%)</th>\n",
       "      <th>Tax revenue (% of GDP)</th>\n",
       "      <th>Taxes less subsidies on products (constant LCU)</th>\n",
       "      <th>Taxes on goods and services (% of revenue)</th>\n",
       "      <th>Taxes on international trade (% of revenue)</th>\n",
       "      <th>Unemployment with advanced education (% of total labor force with advanced education)</th>\n",
       "      <th>Unemployment, total (% of total labor force) (modeled ILO estimate)</th>\n",
       "    </tr>\n",
       "  </thead>\n",
       "  <tbody>\n",
       "    <tr>\n",
       "      <th>0</th>\n",
       "      <td>Africa Western and Central</td>\n",
       "      <td>1973</td>\n",
       "      <td>..</td>\n",
       "      <td>..</td>\n",
       "      <td>..</td>\n",
       "      <td>..</td>\n",
       "      <td>..</td>\n",
       "      <td>..</td>\n",
       "      <td>..</td>\n",
       "      <td>..</td>\n",
       "      <td>...</td>\n",
       "      <td>..</td>\n",
       "      <td>..</td>\n",
       "      <td>..</td>\n",
       "      <td>..</td>\n",
       "      <td>..</td>\n",
       "      <td>..</td>\n",
       "      <td>..</td>\n",
       "      <td>..</td>\n",
       "      <td>..</td>\n",
       "      <td>..</td>\n",
       "    </tr>\n",
       "    <tr>\n",
       "      <th>1</th>\n",
       "      <td>Africa Western and Central</td>\n",
       "      <td>1974</td>\n",
       "      <td>..</td>\n",
       "      <td>..</td>\n",
       "      <td>..</td>\n",
       "      <td>..</td>\n",
       "      <td>..</td>\n",
       "      <td>..</td>\n",
       "      <td>..</td>\n",
       "      <td>..</td>\n",
       "      <td>...</td>\n",
       "      <td>..</td>\n",
       "      <td>..</td>\n",
       "      <td>..</td>\n",
       "      <td>..</td>\n",
       "      <td>..</td>\n",
       "      <td>..</td>\n",
       "      <td>..</td>\n",
       "      <td>..</td>\n",
       "      <td>..</td>\n",
       "      <td>..</td>\n",
       "    </tr>\n",
       "    <tr>\n",
       "      <th>2</th>\n",
       "      <td>Africa Western and Central</td>\n",
       "      <td>1975</td>\n",
       "      <td>..</td>\n",
       "      <td>..</td>\n",
       "      <td>..</td>\n",
       "      <td>..</td>\n",
       "      <td>..</td>\n",
       "      <td>..</td>\n",
       "      <td>..</td>\n",
       "      <td>..</td>\n",
       "      <td>...</td>\n",
       "      <td>..</td>\n",
       "      <td>..</td>\n",
       "      <td>..</td>\n",
       "      <td>..</td>\n",
       "      <td>..</td>\n",
       "      <td>..</td>\n",
       "      <td>..</td>\n",
       "      <td>..</td>\n",
       "      <td>..</td>\n",
       "      <td>..</td>\n",
       "    </tr>\n",
       "    <tr>\n",
       "      <th>3</th>\n",
       "      <td>Africa Western and Central</td>\n",
       "      <td>1976</td>\n",
       "      <td>..</td>\n",
       "      <td>..</td>\n",
       "      <td>..</td>\n",
       "      <td>..</td>\n",
       "      <td>..</td>\n",
       "      <td>..</td>\n",
       "      <td>..</td>\n",
       "      <td>..</td>\n",
       "      <td>...</td>\n",
       "      <td>..</td>\n",
       "      <td>..</td>\n",
       "      <td>..</td>\n",
       "      <td>..</td>\n",
       "      <td>..</td>\n",
       "      <td>..</td>\n",
       "      <td>..</td>\n",
       "      <td>..</td>\n",
       "      <td>..</td>\n",
       "      <td>..</td>\n",
       "    </tr>\n",
       "    <tr>\n",
       "      <th>4</th>\n",
       "      <td>Africa Western and Central</td>\n",
       "      <td>1977</td>\n",
       "      <td>..</td>\n",
       "      <td>..</td>\n",
       "      <td>..</td>\n",
       "      <td>..</td>\n",
       "      <td>..</td>\n",
       "      <td>..</td>\n",
       "      <td>..</td>\n",
       "      <td>..</td>\n",
       "      <td>...</td>\n",
       "      <td>..</td>\n",
       "      <td>..</td>\n",
       "      <td>..</td>\n",
       "      <td>..</td>\n",
       "      <td>..</td>\n",
       "      <td>..</td>\n",
       "      <td>..</td>\n",
       "      <td>..</td>\n",
       "      <td>..</td>\n",
       "      <td>..</td>\n",
       "    </tr>\n",
       "  </tbody>\n",
       "</table>\n",
       "<p>5 rows × 82 columns</p>\n",
       "</div>"
      ],
      "text/plain": [
       "Series Name                Country Name  Year  \\\n",
       "0            Africa Western and Central  1973   \n",
       "1            Africa Western and Central  1974   \n",
       "2            Africa Western and Central  1975   \n",
       "3            Africa Western and Central  1976   \n",
       "4            Africa Western and Central  1977   \n",
       "\n",
       "Series Name Access to electricity (% of population)  \\\n",
       "0                                                ..   \n",
       "1                                                ..   \n",
       "2                                                ..   \n",
       "3                                                ..   \n",
       "4                                                ..   \n",
       "\n",
       "Series Name Cause of death, by communicable diseases and maternal, prenatal and nutrition conditions (% of total)  \\\n",
       "0                                                           ..                                                      \n",
       "1                                                           ..                                                      \n",
       "2                                                           ..                                                      \n",
       "3                                                           ..                                                      \n",
       "4                                                           ..                                                      \n",
       "\n",
       "Series Name Consumer price index (2010 = 100) Deposit interest rate (%)  \\\n",
       "0                                          ..                        ..   \n",
       "1                                          ..                        ..   \n",
       "2                                          ..                        ..   \n",
       "3                                          ..                        ..   \n",
       "4                                          ..                        ..   \n",
       "\n",
       "Series Name Educational attainment, Doctoral or equivalent, population 25+, total (%) (cumulative)  \\\n",
       "0                                                           ..                                       \n",
       "1                                                           ..                                       \n",
       "2                                                           ..                                       \n",
       "3                                                           ..                                       \n",
       "4                                                           ..                                       \n",
       "\n",
       "Series Name Educational attainment, at least Bachelor's or equivalent, population 25+, total (%) (cumulative)  \\\n",
       "0                                                           ..                                                  \n",
       "1                                                           ..                                                  \n",
       "2                                                           ..                                                  \n",
       "3                                                           ..                                                  \n",
       "4                                                           ..                                                  \n",
       "\n",
       "Series Name Educational attainment, at least Master's or equivalent, population 25+, total (%) (cumulative)  \\\n",
       "0                                                           ..                                                \n",
       "1                                                           ..                                                \n",
       "2                                                           ..                                                \n",
       "3                                                           ..                                                \n",
       "4                                                           ..                                                \n",
       "\n",
       "Series Name Educational attainment, at least completed lower secondary, population 25+, total (%) (cumulative)  \\\n",
       "0                                                           ..                                                   \n",
       "1                                                           ..                                                   \n",
       "2                                                           ..                                                   \n",
       "3                                                           ..                                                   \n",
       "4                                                           ..                                                   \n",
       "\n",
       "Series Name  ... Pump price for diesel fuel (US$ per liter)  \\\n",
       "0            ...                                         ..   \n",
       "1            ...                                         ..   \n",
       "2            ...                                         ..   \n",
       "3            ...                                         ..   \n",
       "4            ...                                         ..   \n",
       "\n",
       "Series Name Pump price for gasoline (US$ per liter)  \\\n",
       "0                                                ..   \n",
       "1                                                ..   \n",
       "2                                                ..   \n",
       "3                                                ..   \n",
       "4                                                ..   \n",
       "\n",
       "Series Name Subsidies and other transfers (% of expense)  \\\n",
       "0                                                     ..   \n",
       "1                                                     ..   \n",
       "2                                                     ..   \n",
       "3                                                     ..   \n",
       "4                                                     ..   \n",
       "\n",
       "Series Name Tariff rate, most favored nation, weighted mean, primary products (%)  \\\n",
       "0                                                           ..                      \n",
       "1                                                           ..                      \n",
       "2                                                           ..                      \n",
       "3                                                           ..                      \n",
       "4                                                           ..                      \n",
       "\n",
       "Series Name Tax revenue (% of GDP)  \\\n",
       "0                               ..   \n",
       "1                               ..   \n",
       "2                               ..   \n",
       "3                               ..   \n",
       "4                               ..   \n",
       "\n",
       "Series Name Taxes less subsidies on products (constant LCU)  \\\n",
       "0                                                        ..   \n",
       "1                                                        ..   \n",
       "2                                                        ..   \n",
       "3                                                        ..   \n",
       "4                                                        ..   \n",
       "\n",
       "Series Name Taxes on goods and services (% of revenue)  \\\n",
       "0                                                   ..   \n",
       "1                                                   ..   \n",
       "2                                                   ..   \n",
       "3                                                   ..   \n",
       "4                                                   ..   \n",
       "\n",
       "Series Name Taxes on international trade (% of revenue)  \\\n",
       "0                                                    ..   \n",
       "1                                                    ..   \n",
       "2                                                    ..   \n",
       "3                                                    ..   \n",
       "4                                                    ..   \n",
       "\n",
       "Series Name Unemployment with advanced education (% of total labor force with advanced education)  \\\n",
       "0                                                           ..                                      \n",
       "1                                                           ..                                      \n",
       "2                                                           ..                                      \n",
       "3                                                           ..                                      \n",
       "4                                                           ..                                      \n",
       "\n",
       "Series Name Unemployment, total (% of total labor force) (modeled ILO estimate)  \n",
       "0                                                           ..                   \n",
       "1                                                           ..                   \n",
       "2                                                           ..                   \n",
       "3                                                           ..                   \n",
       "4                                                           ..                   \n",
       "\n",
       "[5 rows x 82 columns]"
      ]
     },
     "execution_count": 7,
     "metadata": {},
     "output_type": "execute_result"
    }
   ],
   "source": [
    "\n",
    "# Pivot the DataFrame to convert 'Series Name' values to columns\n",
    "df_pivoted = df_melted.pivot(\n",
    "    index=['Country Name', 'Year'],\n",
    "    columns='Series Name',\n",
    "    values='Value'\n",
    ")\n",
    "\n",
    "# Reset the index of the pivoted DataFrame\n",
    "df_pivoted = df_pivoted.reset_index()\n",
    "\n",
    "# Display the pivoted DataFrame\n",
    "df_pivoted.head(5)\n"
   ]
  },
  {
   "cell_type": "code",
   "execution_count": 8,
   "id": "eda79c8a",
   "metadata": {
    "scrolled": false
   },
   "outputs": [
    {
     "data": {
      "text/html": [
       "<div>\n",
       "<style scoped>\n",
       "    .dataframe tbody tr th:only-of-type {\n",
       "        vertical-align: middle;\n",
       "    }\n",
       "\n",
       "    .dataframe tbody tr th {\n",
       "        vertical-align: top;\n",
       "    }\n",
       "\n",
       "    .dataframe thead th {\n",
       "        text-align: right;\n",
       "    }\n",
       "</style>\n",
       "<table border=\"1\" class=\"dataframe\">\n",
       "  <thead>\n",
       "    <tr style=\"text-align: right;\">\n",
       "      <th></th>\n",
       "      <th>Country Name</th>\n",
       "      <th>Year</th>\n",
       "      <th>Access to electricity (% of population)</th>\n",
       "      <th>Cause of death, by communicable diseases and maternal, prenatal and nutrition conditions (% of total)</th>\n",
       "      <th>Consumer price index (2010 = 100)</th>\n",
       "      <th>Deposit interest rate (%)</th>\n",
       "      <th>Educational attainment, Doctoral or equivalent, population 25+, total (%) (cumulative)</th>\n",
       "      <th>Educational attainment, at least Bachelor's or equivalent, population 25+, total (%) (cumulative)</th>\n",
       "      <th>Educational attainment, at least Master's or equivalent, population 25+, total (%) (cumulative)</th>\n",
       "      <th>Educational attainment, at least completed lower secondary, population 25+, total (%) (cumulative)</th>\n",
       "      <th>...</th>\n",
       "      <th>Pump price for diesel fuel (US$ per liter)</th>\n",
       "      <th>Pump price for gasoline (US$ per liter)</th>\n",
       "      <th>Subsidies and other transfers (% of expense)</th>\n",
       "      <th>Tariff rate, most favored nation, weighted mean, primary products (%)</th>\n",
       "      <th>Tax revenue (% of GDP)</th>\n",
       "      <th>Taxes less subsidies on products (constant LCU)</th>\n",
       "      <th>Taxes on goods and services (% of revenue)</th>\n",
       "      <th>Taxes on international trade (% of revenue)</th>\n",
       "      <th>Unemployment with advanced education (% of total labor force with advanced education)</th>\n",
       "      <th>Unemployment, total (% of total labor force) (modeled ILO estimate)</th>\n",
       "    </tr>\n",
       "  </thead>\n",
       "  <tbody>\n",
       "    <tr>\n",
       "      <th>0</th>\n",
       "      <td>Africa Western and Central</td>\n",
       "      <td>1973</td>\n",
       "      <td>..</td>\n",
       "      <td>..</td>\n",
       "      <td>..</td>\n",
       "      <td>..</td>\n",
       "      <td>..</td>\n",
       "      <td>..</td>\n",
       "      <td>..</td>\n",
       "      <td>..</td>\n",
       "      <td>...</td>\n",
       "      <td>..</td>\n",
       "      <td>..</td>\n",
       "      <td>..</td>\n",
       "      <td>..</td>\n",
       "      <td>..</td>\n",
       "      <td>..</td>\n",
       "      <td>..</td>\n",
       "      <td>..</td>\n",
       "      <td>..</td>\n",
       "      <td>..</td>\n",
       "    </tr>\n",
       "    <tr>\n",
       "      <th>1</th>\n",
       "      <td>Africa Western and Central</td>\n",
       "      <td>1974</td>\n",
       "      <td>..</td>\n",
       "      <td>..</td>\n",
       "      <td>..</td>\n",
       "      <td>..</td>\n",
       "      <td>..</td>\n",
       "      <td>..</td>\n",
       "      <td>..</td>\n",
       "      <td>..</td>\n",
       "      <td>...</td>\n",
       "      <td>..</td>\n",
       "      <td>..</td>\n",
       "      <td>..</td>\n",
       "      <td>..</td>\n",
       "      <td>..</td>\n",
       "      <td>..</td>\n",
       "      <td>..</td>\n",
       "      <td>..</td>\n",
       "      <td>..</td>\n",
       "      <td>..</td>\n",
       "    </tr>\n",
       "    <tr>\n",
       "      <th>2</th>\n",
       "      <td>Africa Western and Central</td>\n",
       "      <td>1975</td>\n",
       "      <td>..</td>\n",
       "      <td>..</td>\n",
       "      <td>..</td>\n",
       "      <td>..</td>\n",
       "      <td>..</td>\n",
       "      <td>..</td>\n",
       "      <td>..</td>\n",
       "      <td>..</td>\n",
       "      <td>...</td>\n",
       "      <td>..</td>\n",
       "      <td>..</td>\n",
       "      <td>..</td>\n",
       "      <td>..</td>\n",
       "      <td>..</td>\n",
       "      <td>..</td>\n",
       "      <td>..</td>\n",
       "      <td>..</td>\n",
       "      <td>..</td>\n",
       "      <td>..</td>\n",
       "    </tr>\n",
       "    <tr>\n",
       "      <th>3</th>\n",
       "      <td>Africa Western and Central</td>\n",
       "      <td>1976</td>\n",
       "      <td>..</td>\n",
       "      <td>..</td>\n",
       "      <td>..</td>\n",
       "      <td>..</td>\n",
       "      <td>..</td>\n",
       "      <td>..</td>\n",
       "      <td>..</td>\n",
       "      <td>..</td>\n",
       "      <td>...</td>\n",
       "      <td>..</td>\n",
       "      <td>..</td>\n",
       "      <td>..</td>\n",
       "      <td>..</td>\n",
       "      <td>..</td>\n",
       "      <td>..</td>\n",
       "      <td>..</td>\n",
       "      <td>..</td>\n",
       "      <td>..</td>\n",
       "      <td>..</td>\n",
       "    </tr>\n",
       "    <tr>\n",
       "      <th>4</th>\n",
       "      <td>Africa Western and Central</td>\n",
       "      <td>1977</td>\n",
       "      <td>..</td>\n",
       "      <td>..</td>\n",
       "      <td>..</td>\n",
       "      <td>..</td>\n",
       "      <td>..</td>\n",
       "      <td>..</td>\n",
       "      <td>..</td>\n",
       "      <td>..</td>\n",
       "      <td>...</td>\n",
       "      <td>..</td>\n",
       "      <td>..</td>\n",
       "      <td>..</td>\n",
       "      <td>..</td>\n",
       "      <td>..</td>\n",
       "      <td>..</td>\n",
       "      <td>..</td>\n",
       "      <td>..</td>\n",
       "      <td>..</td>\n",
       "      <td>..</td>\n",
       "    </tr>\n",
       "  </tbody>\n",
       "</table>\n",
       "<p>5 rows × 82 columns</p>\n",
       "</div>"
      ],
      "text/plain": [
       "                 Country Name  Year Access to electricity (% of population)  \\\n",
       "0  Africa Western and Central  1973                                      ..   \n",
       "1  Africa Western and Central  1974                                      ..   \n",
       "2  Africa Western and Central  1975                                      ..   \n",
       "3  Africa Western and Central  1976                                      ..   \n",
       "4  Africa Western and Central  1977                                      ..   \n",
       "\n",
       "  Cause of death, by communicable diseases and maternal, prenatal and nutrition conditions (% of total)  \\\n",
       "0                                                 ..                                                      \n",
       "1                                                 ..                                                      \n",
       "2                                                 ..                                                      \n",
       "3                                                 ..                                                      \n",
       "4                                                 ..                                                      \n",
       "\n",
       "  Consumer price index (2010 = 100) Deposit interest rate (%)  \\\n",
       "0                                ..                        ..   \n",
       "1                                ..                        ..   \n",
       "2                                ..                        ..   \n",
       "3                                ..                        ..   \n",
       "4                                ..                        ..   \n",
       "\n",
       "  Educational attainment, Doctoral or equivalent, population 25+, total (%) (cumulative)  \\\n",
       "0                                                 ..                                       \n",
       "1                                                 ..                                       \n",
       "2                                                 ..                                       \n",
       "3                                                 ..                                       \n",
       "4                                                 ..                                       \n",
       "\n",
       "  Educational attainment, at least Bachelor's or equivalent, population 25+, total (%) (cumulative)  \\\n",
       "0                                                 ..                                                  \n",
       "1                                                 ..                                                  \n",
       "2                                                 ..                                                  \n",
       "3                                                 ..                                                  \n",
       "4                                                 ..                                                  \n",
       "\n",
       "  Educational attainment, at least Master's or equivalent, population 25+, total (%) (cumulative)  \\\n",
       "0                                                 ..                                                \n",
       "1                                                 ..                                                \n",
       "2                                                 ..                                                \n",
       "3                                                 ..                                                \n",
       "4                                                 ..                                                \n",
       "\n",
       "  Educational attainment, at least completed lower secondary, population 25+, total (%) (cumulative)  \\\n",
       "0                                                 ..                                                   \n",
       "1                                                 ..                                                   \n",
       "2                                                 ..                                                   \n",
       "3                                                 ..                                                   \n",
       "4                                                 ..                                                   \n",
       "\n",
       "   ... Pump price for diesel fuel (US$ per liter)  \\\n",
       "0  ...                                         ..   \n",
       "1  ...                                         ..   \n",
       "2  ...                                         ..   \n",
       "3  ...                                         ..   \n",
       "4  ...                                         ..   \n",
       "\n",
       "  Pump price for gasoline (US$ per liter)  \\\n",
       "0                                      ..   \n",
       "1                                      ..   \n",
       "2                                      ..   \n",
       "3                                      ..   \n",
       "4                                      ..   \n",
       "\n",
       "  Subsidies and other transfers (% of expense)  \\\n",
       "0                                           ..   \n",
       "1                                           ..   \n",
       "2                                           ..   \n",
       "3                                           ..   \n",
       "4                                           ..   \n",
       "\n",
       "  Tariff rate, most favored nation, weighted mean, primary products (%)  \\\n",
       "0                                                 ..                      \n",
       "1                                                 ..                      \n",
       "2                                                 ..                      \n",
       "3                                                 ..                      \n",
       "4                                                 ..                      \n",
       "\n",
       "  Tax revenue (% of GDP) Taxes less subsidies on products (constant LCU)  \\\n",
       "0                     ..                                              ..   \n",
       "1                     ..                                              ..   \n",
       "2                     ..                                              ..   \n",
       "3                     ..                                              ..   \n",
       "4                     ..                                              ..   \n",
       "\n",
       "  Taxes on goods and services (% of revenue)  \\\n",
       "0                                         ..   \n",
       "1                                         ..   \n",
       "2                                         ..   \n",
       "3                                         ..   \n",
       "4                                         ..   \n",
       "\n",
       "  Taxes on international trade (% of revenue)  \\\n",
       "0                                          ..   \n",
       "1                                          ..   \n",
       "2                                          ..   \n",
       "3                                          ..   \n",
       "4                                          ..   \n",
       "\n",
       "  Unemployment with advanced education (% of total labor force with advanced education)  \\\n",
       "0                                                 ..                                      \n",
       "1                                                 ..                                      \n",
       "2                                                 ..                                      \n",
       "3                                                 ..                                      \n",
       "4                                                 ..                                      \n",
       "\n",
       "  Unemployment, total (% of total labor force) (modeled ILO estimate)  \n",
       "0                                                 ..                   \n",
       "1                                                 ..                   \n",
       "2                                                 ..                   \n",
       "3                                                 ..                   \n",
       "4                                                 ..                   \n",
       "\n",
       "[5 rows x 82 columns]"
      ]
     },
     "execution_count": 8,
     "metadata": {},
     "output_type": "execute_result"
    }
   ],
   "source": [
    "# Remove the column title for the index labels ('Series Name')\n",
    "df_pivoted.columns.name = None\n",
    "\n",
    "# Display the DataFrame without the column title\n",
    "df_pivoted.head(5)\n",
    "\n"
   ]
  },
  {
   "cell_type": "code",
   "execution_count": 9,
   "id": "1e2de52e",
   "metadata": {},
   "outputs": [
    {
     "name": "stdout",
     "output_type": "stream",
     "text": [
      "Africa Western and Central\n",
      "Australia\n",
      "Canada\n",
      "China\n",
      "Euro area\n",
      "Europe & Central Asia\n",
      "European Union\n",
      "Germany\n",
      "Ghana\n",
      "India\n",
      "Japan\n",
      "Kuwait\n",
      "Latin America & Caribbean\n",
      "Middle East & North Africa\n",
      "Nigeria\n",
      "North America\n",
      "OECD members\n",
      "Russian Federation\n",
      "Saudi Arabia\n",
      "Seychelles\n",
      "South Africa\n",
      "South Asia\n",
      "Sub-Saharan Africa\n",
      "United Arab Emirates\n",
      "United Kingdom\n",
      "United States\n"
     ]
    }
   ],
   "source": [
    "# Group the dataframe by Country Name for country-specific analysis\n",
    "grouped_df = df_pivoted.groupby('Country Name')\n",
    "\n",
    "# Retrieve the group names (unique values from the 'Country Name' column)\n",
    "group_names = grouped_df.groups.keys()\n",
    "\n",
    "# Iterate over each group name and print it\n",
    "for name in group_names:\n",
    "    print(name)\n"
   ]
  },
  {
   "cell_type": "code",
   "execution_count": 10,
   "id": "4b79c063",
   "metadata": {
    "scrolled": false
   },
   "outputs": [
    {
     "data": {
      "text/html": [
       "<div>\n",
       "<style scoped>\n",
       "    .dataframe tbody tr th:only-of-type {\n",
       "        vertical-align: middle;\n",
       "    }\n",
       "\n",
       "    .dataframe tbody tr th {\n",
       "        vertical-align: top;\n",
       "    }\n",
       "\n",
       "    .dataframe thead th {\n",
       "        text-align: right;\n",
       "    }\n",
       "</style>\n",
       "<table border=\"1\" class=\"dataframe\">\n",
       "  <thead>\n",
       "    <tr style=\"text-align: right;\">\n",
       "      <th></th>\n",
       "      <th>Country Name</th>\n",
       "      <th>Year</th>\n",
       "      <th>Access to electricity (% of population)</th>\n",
       "      <th>Cause of death, by communicable diseases and maternal, prenatal and nutrition conditions (% of total)</th>\n",
       "      <th>Consumer price index (2010 = 100)</th>\n",
       "      <th>Deposit interest rate (%)</th>\n",
       "      <th>Educational attainment, Doctoral or equivalent, population 25+, total (%) (cumulative)</th>\n",
       "      <th>Educational attainment, at least Bachelor's or equivalent, population 25+, total (%) (cumulative)</th>\n",
       "      <th>Educational attainment, at least Master's or equivalent, population 25+, total (%) (cumulative)</th>\n",
       "      <th>Educational attainment, at least completed lower secondary, population 25+, total (%) (cumulative)</th>\n",
       "      <th>Educational attainment, at least completed post-secondary, population 25+, total (%) (cumulative)</th>\n",
       "      <th>Educational attainment, at least completed primary, population 25+ years, total (%) (cumulative)</th>\n",
       "      <th>Educational attainment, at least completed upper secondary, population 25+, total (%) (cumulative)</th>\n",
       "      <th>Employment in industry (% of total employment) (modeled ILO estimate)</th>\n",
       "      <th>Employment in services (% of total employment) (modeled ILO estimate)</th>\n",
       "      <th>Employment to population ratio, 15+, total (%) (modeled ILO estimate)</th>\n",
       "      <th>GDP (constant 2015 US$)</th>\n",
       "      <th>GDP growth (annual %)</th>\n",
       "      <th>GDP per capita (constant 2015 US$)</th>\n",
       "      <th>GDP per capita, PPP (constant 2017 international $)</th>\n",
       "      <th>GDP per unit of energy use (PPP $ per kg of oil equivalent)</th>\n",
       "      <th>GDP, PPP (constant 2017 international $)</th>\n",
       "      <th>GNI (constant 2015 US$)</th>\n",
       "      <th>GNI growth (annual %)</th>\n",
       "      <th>GNI per capita (constant 2015 US$)</th>\n",
       "      <th>GNI per capita growth (annual %)</th>\n",
       "      <th>GNI per capita, PPP (constant 2017 international $)</th>\n",
       "      <th>GNI per capita, PPP (current international $)</th>\n",
       "      <th>GNI, PPP (constant 2017 international $)</th>\n",
       "      <th>General government final consumption expenditure (% of GDP)</th>\n",
       "      <th>General government final consumption expenditure (constant 2015 US$)</th>\n",
       "      <th>Government expenditure on education, total (% of GDP)</th>\n",
       "      <th>Government expenditure on education, total (% of government expenditure)</th>\n",
       "      <th>Gross domestic income (constant LCU)</th>\n",
       "      <th>Human capital index (HCI), lower bound (scale 0-1)</th>\n",
       "      <th>Human capital index (HCI), upper bound (scale 0-1)</th>\n",
       "      <th>Imports of goods, services and primary income (BoP, current US$)</th>\n",
       "      <th>Income share held by fourth 20%</th>\n",
       "      <th>Income share held by highest 10%</th>\n",
       "      <th>Income share held by highest 20%</th>\n",
       "      <th>Income share held by lowest 10%</th>\n",
       "      <th>Income share held by lowest 20%</th>\n",
       "      <th>Income share held by second 20%</th>\n",
       "      <th>Income share held by third 20%</th>\n",
       "      <th>Increase in poverty gap at $1.90 ($ 2011 PPP) poverty line due to out-of-pocket health care expenditure (USD)</th>\n",
       "      <th>Increase in poverty gap at $3.20 ($ 2011 PPP) poverty line due to out-of-pocket health care expenditure (USD)</th>\n",
       "      <th>Individuals using the Internet (% of population)</th>\n",
       "      <th>Lending interest rate (%)</th>\n",
       "      <th>Life expectancy at birth, total (years)</th>\n",
       "      <th>Maternal mortality ratio (modeled estimate, per 100,000 live births)</th>\n",
       "      <th>Multidimensional poverty headcount ratio (% of total population)</th>\n",
       "      <th>Multidimensional poverty index (scale 0-1)</th>\n",
       "      <th>Multilateral debt service (% of public and publicly guaranteed debt service)</th>\n",
       "      <th>Multilateral debt service (TDS, current US$)</th>\n",
       "      <th>Number of maternal deaths</th>\n",
       "      <th>Number of neonatal deaths</th>\n",
       "      <th>Number of people pushed below the $2.15 ($ 2017 PPP) poverty line by out-of-pocket health care expenditure</th>\n",
       "      <th>Number of people pushed below the $3.65 ($ 2017 PPP) poverty line by out-of-pocket health care expenditure</th>\n",
       "      <th>Number of people spending more than 10% of household consumption or income on out-of-pocket health care expenditure</th>\n",
       "      <th>Number of people spending more than 25% of household consumption or income on out-of-pocket health care expenditure</th>\n",
       "      <th>Number of under-five deaths</th>\n",
       "      <th>Out-of-pocket expenditure (% of current health expenditure)</th>\n",
       "      <th>Out-of-pocket expenditure per capita, PPP (current international $)</th>\n",
       "      <th>Poverty headcount ratio at $2.15 a day (2017 PPP) (% of population)</th>\n",
       "      <th>Poverty headcount ratio at $3.65 a day (2017 PPP) (% of population)</th>\n",
       "      <th>Poverty headcount ratio at $6.85 a day (2017 PPP) (% of population)</th>\n",
       "      <th>Poverty headcount ratio at national poverty lines (% of population)</th>\n",
       "      <th>Proportion of people living below 50 percent of median income (%)</th>\n",
       "      <th>Proportion of population pushed below the $2.15 ($ 2017 PPP) poverty line by out-of-pocket health care expenditure (%)</th>\n",
       "      <th>Proportion of population pushed below the $3.65 ($ 2017 PPP) poverty line by out-of-pocket health care expenditure (%)</th>\n",
       "      <th>Proportion of population spending more than 10% of household consumption or income on out-of-pocket health care expenditure (%)</th>\n",
       "      <th>Proportion of population spending more than 25% of household consumption or income on out-of-pocket health care expenditure (%)</th>\n",
       "      <th>Pump price for diesel fuel (US$ per liter)</th>\n",
       "      <th>Pump price for gasoline (US$ per liter)</th>\n",
       "      <th>Subsidies and other transfers (% of expense)</th>\n",
       "      <th>Tariff rate, most favored nation, weighted mean, primary products (%)</th>\n",
       "      <th>Tax revenue (% of GDP)</th>\n",
       "      <th>Taxes less subsidies on products (constant LCU)</th>\n",
       "      <th>Taxes on goods and services (% of revenue)</th>\n",
       "      <th>Taxes on international trade (% of revenue)</th>\n",
       "      <th>Unemployment with advanced education (% of total labor force with advanced education)</th>\n",
       "      <th>Unemployment, total (% of total labor force) (modeled ILO estimate)</th>\n",
       "    </tr>\n",
       "  </thead>\n",
       "  <tbody>\n",
       "    <tr>\n",
       "      <th>1200</th>\n",
       "      <td>United Kingdom</td>\n",
       "      <td>1973</td>\n",
       "      <td>..</td>\n",
       "      <td>..</td>\n",
       "      <td>11.94469</td>\n",
       "      <td>8.020833</td>\n",
       "      <td>..</td>\n",
       "      <td>..</td>\n",
       "      <td>..</td>\n",
       "      <td>..</td>\n",
       "      <td>..</td>\n",
       "      <td>..</td>\n",
       "      <td>..</td>\n",
       "      <td>..</td>\n",
       "      <td>..</td>\n",
       "      <td>..</td>\n",
       "      <td>1262757606009.822754</td>\n",
       "      <td>6.523848</td>\n",
       "      <td>22471.18489</td>\n",
       "      <td>..</td>\n",
       "      <td>..</td>\n",
       "      <td>..</td>\n",
       "      <td>..</td>\n",
       "      <td>6.759535</td>\n",
       "      <td>..</td>\n",
       "      <td>..</td>\n",
       "      <td>..</td>\n",
       "      <td>..</td>\n",
       "      <td>..</td>\n",
       "      <td>18.271</td>\n",
       "      <td>289433772133.422119</td>\n",
       "      <td>5.44861</td>\n",
       "      <td>..</td>\n",
       "      <td>804286358893.234253</td>\n",
       "      <td>..</td>\n",
       "      <td>..</td>\n",
       "      <td>55209037596.967484</td>\n",
       "      <td>22.4</td>\n",
       "      <td>23.3</td>\n",
       "      <td>38.2</td>\n",
       "      <td>4</td>\n",
       "      <td>9.3</td>\n",
       "      <td>13.2</td>\n",
       "      <td>16.9</td>\n",
       "      <td>..</td>\n",
       "      <td>..</td>\n",
       "      <td>..</td>\n",
       "      <td>8</td>\n",
       "      <td>72.32439</td>\n",
       "      <td>..</td>\n",
       "      <td>..</td>\n",
       "      <td>..</td>\n",
       "      <td>..</td>\n",
       "      <td>..</td>\n",
       "      <td>..</td>\n",
       "      <td>8905</td>\n",
       "      <td>..</td>\n",
       "      <td>..</td>\n",
       "      <td>..</td>\n",
       "      <td>..</td>\n",
       "      <td>15828</td>\n",
       "      <td>..</td>\n",
       "      <td>..</td>\n",
       "      <td>0</td>\n",
       "      <td>0</td>\n",
       "      <td>0.7</td>\n",
       "      <td>..</td>\n",
       "      <td>5.5</td>\n",
       "      <td>..</td>\n",
       "      <td>..</td>\n",
       "      <td>..</td>\n",
       "      <td>..</td>\n",
       "      <td>..</td>\n",
       "      <td>..</td>\n",
       "      <td>27.915288</td>\n",
       "      <td>..</td>\n",
       "      <td>21.071583</td>\n",
       "      <td>70394891000</td>\n",
       "      <td>27.32538</td>\n",
       "      <td>1.227524</td>\n",
       "      <td>..</td>\n",
       "      <td>..</td>\n",
       "    </tr>\n",
       "    <tr>\n",
       "      <th>1201</th>\n",
       "      <td>United Kingdom</td>\n",
       "      <td>1974</td>\n",
       "      <td>..</td>\n",
       "      <td>..</td>\n",
       "      <td>13.861098</td>\n",
       "      <td>9.5</td>\n",
       "      <td>..</td>\n",
       "      <td>..</td>\n",
       "      <td>..</td>\n",
       "      <td>..</td>\n",
       "      <td>..</td>\n",
       "      <td>..</td>\n",
       "      <td>..</td>\n",
       "      <td>..</td>\n",
       "      <td>..</td>\n",
       "      <td>..</td>\n",
       "      <td>1231385605650.851074</td>\n",
       "      <td>-2.484404</td>\n",
       "      <td>21899.096124</td>\n",
       "      <td>..</td>\n",
       "      <td>..</td>\n",
       "      <td>..</td>\n",
       "      <td>..</td>\n",
       "      <td>-2.495104</td>\n",
       "      <td>..</td>\n",
       "      <td>..</td>\n",
       "      <td>..</td>\n",
       "      <td>..</td>\n",
       "      <td>..</td>\n",
       "      <td>20.162522</td>\n",
       "      <td>295221264556.690186</td>\n",
       "      <td>5.391</td>\n",
       "      <td>..</td>\n",
       "      <td>770732536828.266113</td>\n",
       "      <td>..</td>\n",
       "      <td>..</td>\n",
       "      <td>74529618928.407303</td>\n",
       "      <td>22.4</td>\n",
       "      <td>23.5</td>\n",
       "      <td>38.2</td>\n",
       "      <td>3.8</td>\n",
       "      <td>9.1</td>\n",
       "      <td>13.4</td>\n",
       "      <td>17</td>\n",
       "      <td>..</td>\n",
       "      <td>..</td>\n",
       "      <td>..</td>\n",
       "      <td>9</td>\n",
       "      <td>72.52439</td>\n",
       "      <td>..</td>\n",
       "      <td>..</td>\n",
       "      <td>..</td>\n",
       "      <td>..</td>\n",
       "      <td>..</td>\n",
       "      <td>..</td>\n",
       "      <td>8211</td>\n",
       "      <td>..</td>\n",
       "      <td>..</td>\n",
       "      <td>..</td>\n",
       "      <td>..</td>\n",
       "      <td>14424</td>\n",
       "      <td>..</td>\n",
       "      <td>..</td>\n",
       "      <td>0.2</td>\n",
       "      <td>0.2</td>\n",
       "      <td>1.2</td>\n",
       "      <td>..</td>\n",
       "      <td>6.5</td>\n",
       "      <td>..</td>\n",
       "      <td>..</td>\n",
       "      <td>..</td>\n",
       "      <td>..</td>\n",
       "      <td>..</td>\n",
       "      <td>..</td>\n",
       "      <td>26.415223</td>\n",
       "      <td>..</td>\n",
       "      <td>23.746074</td>\n",
       "      <td>65714690000</td>\n",
       "      <td>25.662724</td>\n",
       "      <td>1.145324</td>\n",
       "      <td>..</td>\n",
       "      <td>..</td>\n",
       "    </tr>\n",
       "    <tr>\n",
       "      <th>1202</th>\n",
       "      <td>United Kingdom</td>\n",
       "      <td>1975</td>\n",
       "      <td>..</td>\n",
       "      <td>..</td>\n",
       "      <td>17.216493</td>\n",
       "      <td>7.083333</td>\n",
       "      <td>..</td>\n",
       "      <td>..</td>\n",
       "      <td>..</td>\n",
       "      <td>..</td>\n",
       "      <td>..</td>\n",
       "      <td>..</td>\n",
       "      <td>..</td>\n",
       "      <td>..</td>\n",
       "      <td>..</td>\n",
       "      <td>..</td>\n",
       "      <td>1213239297438.027344</td>\n",
       "      <td>-1.47365</td>\n",
       "      <td>21577.981948</td>\n",
       "      <td>..</td>\n",
       "      <td>..</td>\n",
       "      <td>..</td>\n",
       "      <td>..</td>\n",
       "      <td>-1.775763</td>\n",
       "      <td>..</td>\n",
       "      <td>..</td>\n",
       "      <td>..</td>\n",
       "      <td>..</td>\n",
       "      <td>..</td>\n",
       "      <td>22.441843</td>\n",
       "      <td>312046373513.181458</td>\n",
       "      <td>6.26878</td>\n",
       "      <td>..</td>\n",
       "      <td>765159641792.865112</td>\n",
       "      <td>..</td>\n",
       "      <td>..</td>\n",
       "      <td>76413998999.817505</td>\n",
       "      <td>22.5</td>\n",
       "      <td>22.6</td>\n",
       "      <td>37.3</td>\n",
       "      <td>3.9</td>\n",
       "      <td>9.3</td>\n",
       "      <td>13.6</td>\n",
       "      <td>17.3</td>\n",
       "      <td>..</td>\n",
       "      <td>..</td>\n",
       "      <td>..</td>\n",
       "      <td>10.467692</td>\n",
       "      <td>72.72439</td>\n",
       "      <td>..</td>\n",
       "      <td>..</td>\n",
       "      <td>..</td>\n",
       "      <td>..</td>\n",
       "      <td>..</td>\n",
       "      <td>..</td>\n",
       "      <td>7514</td>\n",
       "      <td>..</td>\n",
       "      <td>..</td>\n",
       "      <td>..</td>\n",
       "      <td>..</td>\n",
       "      <td>13151</td>\n",
       "      <td>..</td>\n",
       "      <td>..</td>\n",
       "      <td>0.2</td>\n",
       "      <td>0.2</td>\n",
       "      <td>1.2</td>\n",
       "      <td>..</td>\n",
       "      <td>6.2</td>\n",
       "      <td>..</td>\n",
       "      <td>..</td>\n",
       "      <td>..</td>\n",
       "      <td>..</td>\n",
       "      <td>..</td>\n",
       "      <td>..</td>\n",
       "      <td>25.6063</td>\n",
       "      <td>..</td>\n",
       "      <td>24.265608</td>\n",
       "      <td>63212974000</td>\n",
       "      <td>24.537628</td>\n",
       "      <td>0.542092</td>\n",
       "      <td>..</td>\n",
       "      <td>..</td>\n",
       "    </tr>\n",
       "    <tr>\n",
       "      <th>1203</th>\n",
       "      <td>United Kingdom</td>\n",
       "      <td>1976</td>\n",
       "      <td>..</td>\n",
       "      <td>..</td>\n",
       "      <td>20.067463</td>\n",
       "      <td>7.541667</td>\n",
       "      <td>..</td>\n",
       "      <td>..</td>\n",
       "      <td>..</td>\n",
       "      <td>..</td>\n",
       "      <td>..</td>\n",
       "      <td>..</td>\n",
       "      <td>..</td>\n",
       "      <td>..</td>\n",
       "      <td>..</td>\n",
       "      <td>..</td>\n",
       "      <td>1248547789733.673096</td>\n",
       "      <td>2.910266</td>\n",
       "      <td>22211.422837</td>\n",
       "      <td>..</td>\n",
       "      <td>..</td>\n",
       "      <td>..</td>\n",
       "      <td>..</td>\n",
       "      <td>2.976298</td>\n",
       "      <td>..</td>\n",
       "      <td>..</td>\n",
       "      <td>..</td>\n",
       "      <td>..</td>\n",
       "      <td>..</td>\n",
       "      <td>22.183646</td>\n",
       "      <td>317664594276.089294</td>\n",
       "      <td>6.42422</td>\n",
       "      <td>..</td>\n",
       "      <td>784589501598.36145</td>\n",
       "      <td>..</td>\n",
       "      <td>..</td>\n",
       "      <td>78001440947.444</td>\n",
       "      <td>22.7</td>\n",
       "      <td>22.2</td>\n",
       "      <td>37.1</td>\n",
       "      <td>4</td>\n",
       "      <td>9.4</td>\n",
       "      <td>13.5</td>\n",
       "      <td>17.3</td>\n",
       "      <td>..</td>\n",
       "      <td>..</td>\n",
       "      <td>..</td>\n",
       "      <td>11.10095</td>\n",
       "      <td>72.77561</td>\n",
       "      <td>..</td>\n",
       "      <td>..</td>\n",
       "      <td>..</td>\n",
       "      <td>..</td>\n",
       "      <td>..</td>\n",
       "      <td>..</td>\n",
       "      <td>6928</td>\n",
       "      <td>..</td>\n",
       "      <td>..</td>\n",
       "      <td>..</td>\n",
       "      <td>..</td>\n",
       "      <td>12018</td>\n",
       "      <td>..</td>\n",
       "      <td>..</td>\n",
       "      <td>0</td>\n",
       "      <td>0.2</td>\n",
       "      <td>0.7</td>\n",
       "      <td>..</td>\n",
       "      <td>6</td>\n",
       "      <td>..</td>\n",
       "      <td>..</td>\n",
       "      <td>..</td>\n",
       "      <td>..</td>\n",
       "      <td>..</td>\n",
       "      <td>..</td>\n",
       "      <td>26.849379</td>\n",
       "      <td>..</td>\n",
       "      <td>23.800695</td>\n",
       "      <td>67781004000</td>\n",
       "      <td>24.84821</td>\n",
       "      <td>0.487087</td>\n",
       "      <td>..</td>\n",
       "      <td>..</td>\n",
       "    </tr>\n",
       "    <tr>\n",
       "      <th>1204</th>\n",
       "      <td>United Kingdom</td>\n",
       "      <td>1977</td>\n",
       "      <td>..</td>\n",
       "      <td>..</td>\n",
       "      <td>23.246202</td>\n",
       "      <td>4.895833</td>\n",
       "      <td>..</td>\n",
       "      <td>..</td>\n",
       "      <td>..</td>\n",
       "      <td>..</td>\n",
       "      <td>..</td>\n",
       "      <td>..</td>\n",
       "      <td>..</td>\n",
       "      <td>..</td>\n",
       "      <td>..</td>\n",
       "      <td>..</td>\n",
       "      <td>1279233979840.417725</td>\n",
       "      <td>2.457751</td>\n",
       "      <td>22764.806641</td>\n",
       "      <td>..</td>\n",
       "      <td>..</td>\n",
       "      <td>..</td>\n",
       "      <td>..</td>\n",
       "      <td>1.941189</td>\n",
       "      <td>..</td>\n",
       "      <td>..</td>\n",
       "      <td>..</td>\n",
       "      <td>..</td>\n",
       "      <td>..</td>\n",
       "      <td>20.790834</td>\n",
       "      <td>313217842913.981201</td>\n",
       "      <td>6.06335</td>\n",
       "      <td>..</td>\n",
       "      <td>804016979884.102173</td>\n",
       "      <td>..</td>\n",
       "      <td>..</td>\n",
       "      <td>88886296514.065796</td>\n",
       "      <td>22.6</td>\n",
       "      <td>22</td>\n",
       "      <td>36.7</td>\n",
       "      <td>4</td>\n",
       "      <td>9.5</td>\n",
       "      <td>13.7</td>\n",
       "      <td>17.4</td>\n",
       "      <td>..</td>\n",
       "      <td>..</td>\n",
       "      <td>..</td>\n",
       "      <td>8.911867</td>\n",
       "      <td>73.22439</td>\n",
       "      <td>..</td>\n",
       "      <td>..</td>\n",
       "      <td>..</td>\n",
       "      <td>..</td>\n",
       "      <td>..</td>\n",
       "      <td>..</td>\n",
       "      <td>6324</td>\n",
       "      <td>..</td>\n",
       "      <td>..</td>\n",
       "      <td>..</td>\n",
       "      <td>..</td>\n",
       "      <td>11113</td>\n",
       "      <td>..</td>\n",
       "      <td>..</td>\n",
       "      <td>0.2</td>\n",
       "      <td>0.2</td>\n",
       "      <td>1.2</td>\n",
       "      <td>..</td>\n",
       "      <td>6</td>\n",
       "      <td>..</td>\n",
       "      <td>..</td>\n",
       "      <td>..</td>\n",
       "      <td>..</td>\n",
       "      <td>..</td>\n",
       "      <td>..</td>\n",
       "      <td>28.736029</td>\n",
       "      <td>..</td>\n",
       "      <td>23.325774</td>\n",
       "      <td>71645011000</td>\n",
       "      <td>25.205895</td>\n",
       "      <td>0.329033</td>\n",
       "      <td>..</td>\n",
       "      <td>..</td>\n",
       "    </tr>\n",
       "  </tbody>\n",
       "</table>\n",
       "</div>"
      ],
      "text/plain": [
       "        Country Name  Year Access to electricity (% of population)  \\\n",
       "1200  United Kingdom  1973                                      ..   \n",
       "1201  United Kingdom  1974                                      ..   \n",
       "1202  United Kingdom  1975                                      ..   \n",
       "1203  United Kingdom  1976                                      ..   \n",
       "1204  United Kingdom  1977                                      ..   \n",
       "\n",
       "     Cause of death, by communicable diseases and maternal, prenatal and nutrition conditions (% of total)  \\\n",
       "1200                                                 ..                                                      \n",
       "1201                                                 ..                                                      \n",
       "1202                                                 ..                                                      \n",
       "1203                                                 ..                                                      \n",
       "1204                                                 ..                                                      \n",
       "\n",
       "     Consumer price index (2010 = 100) Deposit interest rate (%)  \\\n",
       "1200                          11.94469                  8.020833   \n",
       "1201                         13.861098                       9.5   \n",
       "1202                         17.216493                  7.083333   \n",
       "1203                         20.067463                  7.541667   \n",
       "1204                         23.246202                  4.895833   \n",
       "\n",
       "     Educational attainment, Doctoral or equivalent, population 25+, total (%) (cumulative)  \\\n",
       "1200                                                 ..                                       \n",
       "1201                                                 ..                                       \n",
       "1202                                                 ..                                       \n",
       "1203                                                 ..                                       \n",
       "1204                                                 ..                                       \n",
       "\n",
       "     Educational attainment, at least Bachelor's or equivalent, population 25+, total (%) (cumulative)  \\\n",
       "1200                                                 ..                                                  \n",
       "1201                                                 ..                                                  \n",
       "1202                                                 ..                                                  \n",
       "1203                                                 ..                                                  \n",
       "1204                                                 ..                                                  \n",
       "\n",
       "     Educational attainment, at least Master's or equivalent, population 25+, total (%) (cumulative)  \\\n",
       "1200                                                 ..                                                \n",
       "1201                                                 ..                                                \n",
       "1202                                                 ..                                                \n",
       "1203                                                 ..                                                \n",
       "1204                                                 ..                                                \n",
       "\n",
       "     Educational attainment, at least completed lower secondary, population 25+, total (%) (cumulative)  \\\n",
       "1200                                                 ..                                                   \n",
       "1201                                                 ..                                                   \n",
       "1202                                                 ..                                                   \n",
       "1203                                                 ..                                                   \n",
       "1204                                                 ..                                                   \n",
       "\n",
       "     Educational attainment, at least completed post-secondary, population 25+, total (%) (cumulative)  \\\n",
       "1200                                                 ..                                                  \n",
       "1201                                                 ..                                                  \n",
       "1202                                                 ..                                                  \n",
       "1203                                                 ..                                                  \n",
       "1204                                                 ..                                                  \n",
       "\n",
       "     Educational attainment, at least completed primary, population 25+ years, total (%) (cumulative)  \\\n",
       "1200                                                 ..                                                 \n",
       "1201                                                 ..                                                 \n",
       "1202                                                 ..                                                 \n",
       "1203                                                 ..                                                 \n",
       "1204                                                 ..                                                 \n",
       "\n",
       "     Educational attainment, at least completed upper secondary, population 25+, total (%) (cumulative)  \\\n",
       "1200                                                 ..                                                   \n",
       "1201                                                 ..                                                   \n",
       "1202                                                 ..                                                   \n",
       "1203                                                 ..                                                   \n",
       "1204                                                 ..                                                   \n",
       "\n",
       "     Employment in industry (% of total employment) (modeled ILO estimate)  \\\n",
       "1200                                                 ..                      \n",
       "1201                                                 ..                      \n",
       "1202                                                 ..                      \n",
       "1203                                                 ..                      \n",
       "1204                                                 ..                      \n",
       "\n",
       "     Employment in services (% of total employment) (modeled ILO estimate)  \\\n",
       "1200                                                 ..                      \n",
       "1201                                                 ..                      \n",
       "1202                                                 ..                      \n",
       "1203                                                 ..                      \n",
       "1204                                                 ..                      \n",
       "\n",
       "     Employment to population ratio, 15+, total (%) (modeled ILO estimate)  \\\n",
       "1200                                                 ..                      \n",
       "1201                                                 ..                      \n",
       "1202                                                 ..                      \n",
       "1203                                                 ..                      \n",
       "1204                                                 ..                      \n",
       "\n",
       "     GDP (constant 2015 US$) GDP growth (annual %)  \\\n",
       "1200    1262757606009.822754              6.523848   \n",
       "1201    1231385605650.851074             -2.484404   \n",
       "1202    1213239297438.027344              -1.47365   \n",
       "1203    1248547789733.673096              2.910266   \n",
       "1204    1279233979840.417725              2.457751   \n",
       "\n",
       "     GDP per capita (constant 2015 US$)  \\\n",
       "1200                        22471.18489   \n",
       "1201                       21899.096124   \n",
       "1202                       21577.981948   \n",
       "1203                       22211.422837   \n",
       "1204                       22764.806641   \n",
       "\n",
       "     GDP per capita, PPP (constant 2017 international $)  \\\n",
       "1200                                                 ..    \n",
       "1201                                                 ..    \n",
       "1202                                                 ..    \n",
       "1203                                                 ..    \n",
       "1204                                                 ..    \n",
       "\n",
       "     GDP per unit of energy use (PPP $ per kg of oil equivalent)  \\\n",
       "1200                                                 ..            \n",
       "1201                                                 ..            \n",
       "1202                                                 ..            \n",
       "1203                                                 ..            \n",
       "1204                                                 ..            \n",
       "\n",
       "     GDP, PPP (constant 2017 international $) GNI (constant 2015 US$)  \\\n",
       "1200                                       ..                      ..   \n",
       "1201                                       ..                      ..   \n",
       "1202                                       ..                      ..   \n",
       "1203                                       ..                      ..   \n",
       "1204                                       ..                      ..   \n",
       "\n",
       "     GNI growth (annual %) GNI per capita (constant 2015 US$)  \\\n",
       "1200              6.759535                                 ..   \n",
       "1201             -2.495104                                 ..   \n",
       "1202             -1.775763                                 ..   \n",
       "1203              2.976298                                 ..   \n",
       "1204              1.941189                                 ..   \n",
       "\n",
       "     GNI per capita growth (annual %)  \\\n",
       "1200                               ..   \n",
       "1201                               ..   \n",
       "1202                               ..   \n",
       "1203                               ..   \n",
       "1204                               ..   \n",
       "\n",
       "     GNI per capita, PPP (constant 2017 international $)  \\\n",
       "1200                                                 ..    \n",
       "1201                                                 ..    \n",
       "1202                                                 ..    \n",
       "1203                                                 ..    \n",
       "1204                                                 ..    \n",
       "\n",
       "     GNI per capita, PPP (current international $)  \\\n",
       "1200                                            ..   \n",
       "1201                                            ..   \n",
       "1202                                            ..   \n",
       "1203                                            ..   \n",
       "1204                                            ..   \n",
       "\n",
       "     GNI, PPP (constant 2017 international $)  \\\n",
       "1200                                       ..   \n",
       "1201                                       ..   \n",
       "1202                                       ..   \n",
       "1203                                       ..   \n",
       "1204                                       ..   \n",
       "\n",
       "     General government final consumption expenditure (% of GDP)  \\\n",
       "1200                                             18.271            \n",
       "1201                                          20.162522            \n",
       "1202                                          22.441843            \n",
       "1203                                          22.183646            \n",
       "1204                                          20.790834            \n",
       "\n",
       "     General government final consumption expenditure (constant 2015 US$)  \\\n",
       "1200                                289433772133.422119                     \n",
       "1201                                295221264556.690186                     \n",
       "1202                                312046373513.181458                     \n",
       "1203                                317664594276.089294                     \n",
       "1204                                313217842913.981201                     \n",
       "\n",
       "     Government expenditure on education, total (% of GDP)  \\\n",
       "1200                                            5.44861      \n",
       "1201                                              5.391      \n",
       "1202                                            6.26878      \n",
       "1203                                            6.42422      \n",
       "1204                                            6.06335      \n",
       "\n",
       "     Government expenditure on education, total (% of government expenditure)  \\\n",
       "1200                                                 ..                         \n",
       "1201                                                 ..                         \n",
       "1202                                                 ..                         \n",
       "1203                                                 ..                         \n",
       "1204                                                 ..                         \n",
       "\n",
       "     Gross domestic income (constant LCU)  \\\n",
       "1200                  804286358893.234253   \n",
       "1201                  770732536828.266113   \n",
       "1202                  765159641792.865112   \n",
       "1203                   784589501598.36145   \n",
       "1204                  804016979884.102173   \n",
       "\n",
       "     Human capital index (HCI), lower bound (scale 0-1)  \\\n",
       "1200                                                 ..   \n",
       "1201                                                 ..   \n",
       "1202                                                 ..   \n",
       "1203                                                 ..   \n",
       "1204                                                 ..   \n",
       "\n",
       "     Human capital index (HCI), upper bound (scale 0-1)  \\\n",
       "1200                                                 ..   \n",
       "1201                                                 ..   \n",
       "1202                                                 ..   \n",
       "1203                                                 ..   \n",
       "1204                                                 ..   \n",
       "\n",
       "     Imports of goods, services and primary income (BoP, current US$)  \\\n",
       "1200                                 55209037596.967484                 \n",
       "1201                                 74529618928.407303                 \n",
       "1202                                 76413998999.817505                 \n",
       "1203                                    78001440947.444                 \n",
       "1204                                 88886296514.065796                 \n",
       "\n",
       "     Income share held by fourth 20% Income share held by highest 10%  \\\n",
       "1200                            22.4                             23.3   \n",
       "1201                            22.4                             23.5   \n",
       "1202                            22.5                             22.6   \n",
       "1203                            22.7                             22.2   \n",
       "1204                            22.6                               22   \n",
       "\n",
       "     Income share held by highest 20% Income share held by lowest 10%  \\\n",
       "1200                             38.2                               4   \n",
       "1201                             38.2                             3.8   \n",
       "1202                             37.3                             3.9   \n",
       "1203                             37.1                               4   \n",
       "1204                             36.7                               4   \n",
       "\n",
       "     Income share held by lowest 20% Income share held by second 20%  \\\n",
       "1200                             9.3                            13.2   \n",
       "1201                             9.1                            13.4   \n",
       "1202                             9.3                            13.6   \n",
       "1203                             9.4                            13.5   \n",
       "1204                             9.5                            13.7   \n",
       "\n",
       "     Income share held by third 20%  \\\n",
       "1200                           16.9   \n",
       "1201                             17   \n",
       "1202                           17.3   \n",
       "1203                           17.3   \n",
       "1204                           17.4   \n",
       "\n",
       "     Increase in poverty gap at $1.90 ($ 2011 PPP) poverty line due to out-of-pocket health care expenditure (USD)  \\\n",
       "1200                                                 ..                                                              \n",
       "1201                                                 ..                                                              \n",
       "1202                                                 ..                                                              \n",
       "1203                                                 ..                                                              \n",
       "1204                                                 ..                                                              \n",
       "\n",
       "     Increase in poverty gap at $3.20 ($ 2011 PPP) poverty line due to out-of-pocket health care expenditure (USD)  \\\n",
       "1200                                                 ..                                                              \n",
       "1201                                                 ..                                                              \n",
       "1202                                                 ..                                                              \n",
       "1203                                                 ..                                                              \n",
       "1204                                                 ..                                                              \n",
       "\n",
       "     Individuals using the Internet (% of population)  \\\n",
       "1200                                               ..   \n",
       "1201                                               ..   \n",
       "1202                                               ..   \n",
       "1203                                               ..   \n",
       "1204                                               ..   \n",
       "\n",
       "     Lending interest rate (%) Life expectancy at birth, total (years)  \\\n",
       "1200                         8                                72.32439   \n",
       "1201                         9                                72.52439   \n",
       "1202                 10.467692                                72.72439   \n",
       "1203                  11.10095                                72.77561   \n",
       "1204                  8.911867                                73.22439   \n",
       "\n",
       "     Maternal mortality ratio (modeled estimate, per 100,000 live births)  \\\n",
       "1200                                                 ..                     \n",
       "1201                                                 ..                     \n",
       "1202                                                 ..                     \n",
       "1203                                                 ..                     \n",
       "1204                                                 ..                     \n",
       "\n",
       "     Multidimensional poverty headcount ratio (% of total population)  \\\n",
       "1200                                                 ..                 \n",
       "1201                                                 ..                 \n",
       "1202                                                 ..                 \n",
       "1203                                                 ..                 \n",
       "1204                                                 ..                 \n",
       "\n",
       "     Multidimensional poverty index (scale 0-1)  \\\n",
       "1200                                         ..   \n",
       "1201                                         ..   \n",
       "1202                                         ..   \n",
       "1203                                         ..   \n",
       "1204                                         ..   \n",
       "\n",
       "     Multilateral debt service (% of public and publicly guaranteed debt service)  \\\n",
       "1200                                                 ..                             \n",
       "1201                                                 ..                             \n",
       "1202                                                 ..                             \n",
       "1203                                                 ..                             \n",
       "1204                                                 ..                             \n",
       "\n",
       "     Multilateral debt service (TDS, current US$) Number of maternal deaths  \\\n",
       "1200                                           ..                        ..   \n",
       "1201                                           ..                        ..   \n",
       "1202                                           ..                        ..   \n",
       "1203                                           ..                        ..   \n",
       "1204                                           ..                        ..   \n",
       "\n",
       "     Number of neonatal deaths  \\\n",
       "1200                      8905   \n",
       "1201                      8211   \n",
       "1202                      7514   \n",
       "1203                      6928   \n",
       "1204                      6324   \n",
       "\n",
       "     Number of people pushed below the $2.15 ($ 2017 PPP) poverty line by out-of-pocket health care expenditure  \\\n",
       "1200                                                 ..                                                           \n",
       "1201                                                 ..                                                           \n",
       "1202                                                 ..                                                           \n",
       "1203                                                 ..                                                           \n",
       "1204                                                 ..                                                           \n",
       "\n",
       "     Number of people pushed below the $3.65 ($ 2017 PPP) poverty line by out-of-pocket health care expenditure  \\\n",
       "1200                                                 ..                                                           \n",
       "1201                                                 ..                                                           \n",
       "1202                                                 ..                                                           \n",
       "1203                                                 ..                                                           \n",
       "1204                                                 ..                                                           \n",
       "\n",
       "     Number of people spending more than 10% of household consumption or income on out-of-pocket health care expenditure  \\\n",
       "1200                                                 ..                                                                    \n",
       "1201                                                 ..                                                                    \n",
       "1202                                                 ..                                                                    \n",
       "1203                                                 ..                                                                    \n",
       "1204                                                 ..                                                                    \n",
       "\n",
       "     Number of people spending more than 25% of household consumption or income on out-of-pocket health care expenditure  \\\n",
       "1200                                                 ..                                                                    \n",
       "1201                                                 ..                                                                    \n",
       "1202                                                 ..                                                                    \n",
       "1203                                                 ..                                                                    \n",
       "1204                                                 ..                                                                    \n",
       "\n",
       "     Number of under-five deaths  \\\n",
       "1200                       15828   \n",
       "1201                       14424   \n",
       "1202                       13151   \n",
       "1203                       12018   \n",
       "1204                       11113   \n",
       "\n",
       "     Out-of-pocket expenditure (% of current health expenditure)  \\\n",
       "1200                                                 ..            \n",
       "1201                                                 ..            \n",
       "1202                                                 ..            \n",
       "1203                                                 ..            \n",
       "1204                                                 ..            \n",
       "\n",
       "     Out-of-pocket expenditure per capita, PPP (current international $)  \\\n",
       "1200                                                 ..                    \n",
       "1201                                                 ..                    \n",
       "1202                                                 ..                    \n",
       "1203                                                 ..                    \n",
       "1204                                                 ..                    \n",
       "\n",
       "     Poverty headcount ratio at $2.15 a day (2017 PPP) (% of population)  \\\n",
       "1200                                                  0                    \n",
       "1201                                                0.2                    \n",
       "1202                                                0.2                    \n",
       "1203                                                  0                    \n",
       "1204                                                0.2                    \n",
       "\n",
       "     Poverty headcount ratio at $3.65 a day (2017 PPP) (% of population)  \\\n",
       "1200                                                  0                    \n",
       "1201                                                0.2                    \n",
       "1202                                                0.2                    \n",
       "1203                                                0.2                    \n",
       "1204                                                0.2                    \n",
       "\n",
       "     Poverty headcount ratio at $6.85 a day (2017 PPP) (% of population)  \\\n",
       "1200                                                0.7                    \n",
       "1201                                                1.2                    \n",
       "1202                                                1.2                    \n",
       "1203                                                0.7                    \n",
       "1204                                                1.2                    \n",
       "\n",
       "     Poverty headcount ratio at national poverty lines (% of population)  \\\n",
       "1200                                                 ..                    \n",
       "1201                                                 ..                    \n",
       "1202                                                 ..                    \n",
       "1203                                                 ..                    \n",
       "1204                                                 ..                    \n",
       "\n",
       "     Proportion of people living below 50 percent of median income (%)  \\\n",
       "1200                                                5.5                  \n",
       "1201                                                6.5                  \n",
       "1202                                                6.2                  \n",
       "1203                                                  6                  \n",
       "1204                                                  6                  \n",
       "\n",
       "     Proportion of population pushed below the $2.15 ($ 2017 PPP) poverty line by out-of-pocket health care expenditure (%)  \\\n",
       "1200                                                 ..                                                                       \n",
       "1201                                                 ..                                                                       \n",
       "1202                                                 ..                                                                       \n",
       "1203                                                 ..                                                                       \n",
       "1204                                                 ..                                                                       \n",
       "\n",
       "     Proportion of population pushed below the $3.65 ($ 2017 PPP) poverty line by out-of-pocket health care expenditure (%)  \\\n",
       "1200                                                 ..                                                                       \n",
       "1201                                                 ..                                                                       \n",
       "1202                                                 ..                                                                       \n",
       "1203                                                 ..                                                                       \n",
       "1204                                                 ..                                                                       \n",
       "\n",
       "     Proportion of population spending more than 10% of household consumption or income on out-of-pocket health care expenditure (%)  \\\n",
       "1200                                                 ..                                                                                \n",
       "1201                                                 ..                                                                                \n",
       "1202                                                 ..                                                                                \n",
       "1203                                                 ..                                                                                \n",
       "1204                                                 ..                                                                                \n",
       "\n",
       "     Proportion of population spending more than 25% of household consumption or income on out-of-pocket health care expenditure (%)  \\\n",
       "1200                                                 ..                                                                                \n",
       "1201                                                 ..                                                                                \n",
       "1202                                                 ..                                                                                \n",
       "1203                                                 ..                                                                                \n",
       "1204                                                 ..                                                                                \n",
       "\n",
       "     Pump price for diesel fuel (US$ per liter)  \\\n",
       "1200                                         ..   \n",
       "1201                                         ..   \n",
       "1202                                         ..   \n",
       "1203                                         ..   \n",
       "1204                                         ..   \n",
       "\n",
       "     Pump price for gasoline (US$ per liter)  \\\n",
       "1200                                      ..   \n",
       "1201                                      ..   \n",
       "1202                                      ..   \n",
       "1203                                      ..   \n",
       "1204                                      ..   \n",
       "\n",
       "     Subsidies and other transfers (% of expense)  \\\n",
       "1200                                    27.915288   \n",
       "1201                                    26.415223   \n",
       "1202                                      25.6063   \n",
       "1203                                    26.849379   \n",
       "1204                                    28.736029   \n",
       "\n",
       "     Tariff rate, most favored nation, weighted mean, primary products (%)  \\\n",
       "1200                                                 ..                      \n",
       "1201                                                 ..                      \n",
       "1202                                                 ..                      \n",
       "1203                                                 ..                      \n",
       "1204                                                 ..                      \n",
       "\n",
       "     Tax revenue (% of GDP) Taxes less subsidies on products (constant LCU)  \\\n",
       "1200              21.071583                                     70394891000   \n",
       "1201              23.746074                                     65714690000   \n",
       "1202              24.265608                                     63212974000   \n",
       "1203              23.800695                                     67781004000   \n",
       "1204              23.325774                                     71645011000   \n",
       "\n",
       "     Taxes on goods and services (% of revenue)  \\\n",
       "1200                                   27.32538   \n",
       "1201                                  25.662724   \n",
       "1202                                  24.537628   \n",
       "1203                                   24.84821   \n",
       "1204                                  25.205895   \n",
       "\n",
       "     Taxes on international trade (% of revenue)  \\\n",
       "1200                                    1.227524   \n",
       "1201                                    1.145324   \n",
       "1202                                    0.542092   \n",
       "1203                                    0.487087   \n",
       "1204                                    0.329033   \n",
       "\n",
       "     Unemployment with advanced education (% of total labor force with advanced education)  \\\n",
       "1200                                                 ..                                      \n",
       "1201                                                 ..                                      \n",
       "1202                                                 ..                                      \n",
       "1203                                                 ..                                      \n",
       "1204                                                 ..                                      \n",
       "\n",
       "     Unemployment, total (% of total labor force) (modeled ILO estimate)  \n",
       "1200                                                 ..                   \n",
       "1201                                                 ..                   \n",
       "1202                                                 ..                   \n",
       "1203                                                 ..                   \n",
       "1204                                                 ..                   "
      ]
     },
     "execution_count": 10,
     "metadata": {},
     "output_type": "execute_result"
    }
   ],
   "source": [
    "#retrieve group for analysis\n",
    "\n",
    "group_name = 'United Kingdom'  \n",
    "group_uk = grouped_df.get_group(group_name)\n",
    "\n",
    "# show all columns for easy analysis\n",
    "pd.set_option('display.max_columns', None)\n",
    "\n",
    "group_uk.head(5)\n"
   ]
  },
  {
   "cell_type": "code",
   "execution_count": 11,
   "id": "34243d55",
   "metadata": {},
   "outputs": [
    {
     "data": {
      "text/html": [
       "<div>\n",
       "<style scoped>\n",
       "    .dataframe tbody tr th:only-of-type {\n",
       "        vertical-align: middle;\n",
       "    }\n",
       "\n",
       "    .dataframe tbody tr th {\n",
       "        vertical-align: top;\n",
       "    }\n",
       "\n",
       "    .dataframe thead th {\n",
       "        text-align: right;\n",
       "    }\n",
       "</style>\n",
       "<table border=\"1\" class=\"dataframe\">\n",
       "  <thead>\n",
       "    <tr style=\"text-align: right;\">\n",
       "      <th></th>\n",
       "      <th>Country Name</th>\n",
       "      <th>Year</th>\n",
       "      <th>Consumer price index (2010 = 100)</th>\n",
       "      <th>GDP (constant 2015 US$)</th>\n",
       "      <th>GDP growth (annual %)</th>\n",
       "      <th>GDP per capita (constant 2015 US$)</th>\n",
       "      <th>GNI growth (annual %)</th>\n",
       "      <th>General government final consumption expenditure (% of GDP)</th>\n",
       "      <th>General government final consumption expenditure (constant 2015 US$)</th>\n",
       "      <th>Government expenditure on education, total (% of GDP)</th>\n",
       "      <th>Imports of goods, services and primary income (BoP, current US$)</th>\n",
       "      <th>Income share held by fourth 20%</th>\n",
       "      <th>Income share held by highest 10%</th>\n",
       "      <th>Income share held by highest 20%</th>\n",
       "      <th>Income share held by lowest 10%</th>\n",
       "      <th>Income share held by lowest 20%</th>\n",
       "      <th>Income share held by second 20%</th>\n",
       "      <th>Income share held by third 20%</th>\n",
       "      <th>Lending interest rate (%)</th>\n",
       "      <th>Life expectancy at birth, total (years)</th>\n",
       "      <th>Number of neonatal deaths</th>\n",
       "      <th>Number of under-five deaths</th>\n",
       "      <th>Poverty headcount ratio at $6.85 a day (2017 PPP) (% of population)</th>\n",
       "      <th>Proportion of people living below 50 percent of median income (%)</th>\n",
       "      <th>Subsidies and other transfers (% of expense)</th>\n",
       "      <th>Tax revenue (% of GDP)</th>\n",
       "    </tr>\n",
       "  </thead>\n",
       "  <tbody>\n",
       "    <tr>\n",
       "      <th>1200</th>\n",
       "      <td>United Kingdom</td>\n",
       "      <td>1973</td>\n",
       "      <td>11.94469</td>\n",
       "      <td>1262757606009.822754</td>\n",
       "      <td>6.523848</td>\n",
       "      <td>22471.18489</td>\n",
       "      <td>6.759535</td>\n",
       "      <td>18.271</td>\n",
       "      <td>289433772133.422119</td>\n",
       "      <td>5.44861</td>\n",
       "      <td>55209037596.967484</td>\n",
       "      <td>22.4</td>\n",
       "      <td>23.3</td>\n",
       "      <td>38.2</td>\n",
       "      <td>4</td>\n",
       "      <td>9.3</td>\n",
       "      <td>13.2</td>\n",
       "      <td>16.9</td>\n",
       "      <td>8</td>\n",
       "      <td>72.32439</td>\n",
       "      <td>8905</td>\n",
       "      <td>15828</td>\n",
       "      <td>0.7</td>\n",
       "      <td>5.5</td>\n",
       "      <td>27.915288</td>\n",
       "      <td>21.071583</td>\n",
       "    </tr>\n",
       "    <tr>\n",
       "      <th>1201</th>\n",
       "      <td>United Kingdom</td>\n",
       "      <td>1974</td>\n",
       "      <td>13.861098</td>\n",
       "      <td>1231385605650.851074</td>\n",
       "      <td>-2.484404</td>\n",
       "      <td>21899.096124</td>\n",
       "      <td>-2.495104</td>\n",
       "      <td>20.162522</td>\n",
       "      <td>295221264556.690186</td>\n",
       "      <td>5.391</td>\n",
       "      <td>74529618928.407303</td>\n",
       "      <td>22.4</td>\n",
       "      <td>23.5</td>\n",
       "      <td>38.2</td>\n",
       "      <td>3.8</td>\n",
       "      <td>9.1</td>\n",
       "      <td>13.4</td>\n",
       "      <td>17</td>\n",
       "      <td>9</td>\n",
       "      <td>72.52439</td>\n",
       "      <td>8211</td>\n",
       "      <td>14424</td>\n",
       "      <td>1.2</td>\n",
       "      <td>6.5</td>\n",
       "      <td>26.415223</td>\n",
       "      <td>23.746074</td>\n",
       "    </tr>\n",
       "    <tr>\n",
       "      <th>1202</th>\n",
       "      <td>United Kingdom</td>\n",
       "      <td>1975</td>\n",
       "      <td>17.216493</td>\n",
       "      <td>1213239297438.027344</td>\n",
       "      <td>-1.47365</td>\n",
       "      <td>21577.981948</td>\n",
       "      <td>-1.775763</td>\n",
       "      <td>22.441843</td>\n",
       "      <td>312046373513.181458</td>\n",
       "      <td>6.26878</td>\n",
       "      <td>76413998999.817505</td>\n",
       "      <td>22.5</td>\n",
       "      <td>22.6</td>\n",
       "      <td>37.3</td>\n",
       "      <td>3.9</td>\n",
       "      <td>9.3</td>\n",
       "      <td>13.6</td>\n",
       "      <td>17.3</td>\n",
       "      <td>10.467692</td>\n",
       "      <td>72.72439</td>\n",
       "      <td>7514</td>\n",
       "      <td>13151</td>\n",
       "      <td>1.2</td>\n",
       "      <td>6.2</td>\n",
       "      <td>25.6063</td>\n",
       "      <td>24.265608</td>\n",
       "    </tr>\n",
       "    <tr>\n",
       "      <th>1203</th>\n",
       "      <td>United Kingdom</td>\n",
       "      <td>1976</td>\n",
       "      <td>20.067463</td>\n",
       "      <td>1248547789733.673096</td>\n",
       "      <td>2.910266</td>\n",
       "      <td>22211.422837</td>\n",
       "      <td>2.976298</td>\n",
       "      <td>22.183646</td>\n",
       "      <td>317664594276.089294</td>\n",
       "      <td>6.42422</td>\n",
       "      <td>78001440947.444</td>\n",
       "      <td>22.7</td>\n",
       "      <td>22.2</td>\n",
       "      <td>37.1</td>\n",
       "      <td>4</td>\n",
       "      <td>9.4</td>\n",
       "      <td>13.5</td>\n",
       "      <td>17.3</td>\n",
       "      <td>11.10095</td>\n",
       "      <td>72.77561</td>\n",
       "      <td>6928</td>\n",
       "      <td>12018</td>\n",
       "      <td>0.7</td>\n",
       "      <td>6</td>\n",
       "      <td>26.849379</td>\n",
       "      <td>23.800695</td>\n",
       "    </tr>\n",
       "    <tr>\n",
       "      <th>1204</th>\n",
       "      <td>United Kingdom</td>\n",
       "      <td>1977</td>\n",
       "      <td>23.246202</td>\n",
       "      <td>1279233979840.417725</td>\n",
       "      <td>2.457751</td>\n",
       "      <td>22764.806641</td>\n",
       "      <td>1.941189</td>\n",
       "      <td>20.790834</td>\n",
       "      <td>313217842913.981201</td>\n",
       "      <td>6.06335</td>\n",
       "      <td>88886296514.065796</td>\n",
       "      <td>22.6</td>\n",
       "      <td>22</td>\n",
       "      <td>36.7</td>\n",
       "      <td>4</td>\n",
       "      <td>9.5</td>\n",
       "      <td>13.7</td>\n",
       "      <td>17.4</td>\n",
       "      <td>8.911867</td>\n",
       "      <td>73.22439</td>\n",
       "      <td>6324</td>\n",
       "      <td>11113</td>\n",
       "      <td>1.2</td>\n",
       "      <td>6</td>\n",
       "      <td>28.736029</td>\n",
       "      <td>23.325774</td>\n",
       "    </tr>\n",
       "    <tr>\n",
       "      <th>1205</th>\n",
       "      <td>United Kingdom</td>\n",
       "      <td>1978</td>\n",
       "      <td>25.167069</td>\n",
       "      <td>1333016308392.240234</td>\n",
       "      <td>4.20426</td>\n",
       "      <td>23720.62697</td>\n",
       "      <td>4.330518</td>\n",
       "      <td>20.279237</td>\n",
       "      <td>318854872148.410522</td>\n",
       "      <td>..</td>\n",
       "      <td>106985589647.592697</td>\n",
       "      <td>22.8</td>\n",
       "      <td>21.9</td>\n",
       "      <td>36.6</td>\n",
       "      <td>3.9</td>\n",
       "      <td>9.3</td>\n",
       "      <td>13.7</td>\n",
       "      <td>17.5</td>\n",
       "      <td>9.09315</td>\n",
       "      <td>73.17561</td>\n",
       "      <td>6061</td>\n",
       "      <td>10621</td>\n",
       "      <td>0.7</td>\n",
       "      <td>7</td>\n",
       "      <td>29.466</td>\n",
       "      <td>22.154222</td>\n",
       "    </tr>\n",
       "    <tr>\n",
       "      <th>1206</th>\n",
       "      <td>United Kingdom</td>\n",
       "      <td>1979</td>\n",
       "      <td>28.544811</td>\n",
       "      <td>1382991310974.798828</td>\n",
       "      <td>3.749017</td>\n",
       "      <td>24587.844966</td>\n",
       "      <td>3.53675</td>\n",
       "      <td>19.873144</td>\n",
       "      <td>324010953900.75824</td>\n",
       "      <td>..</td>\n",
       "      <td>150111781262.529205</td>\n",
       "      <td>22.7</td>\n",
       "      <td>22</td>\n",
       "      <td>37</td>\n",
       "      <td>4</td>\n",
       "      <td>9.4</td>\n",
       "      <td>13.6</td>\n",
       "      <td>17.3</td>\n",
       "      <td>13.694808</td>\n",
       "      <td>73.27561</td>\n",
       "      <td>5922</td>\n",
       "      <td>10531</td>\n",
       "      <td>0.7</td>\n",
       "      <td>6</td>\n",
       "      <td>30.093132</td>\n",
       "      <td>21.903779</td>\n",
       "    </tr>\n",
       "    <tr>\n",
       "      <th>1207</th>\n",
       "      <td>United Kingdom</td>\n",
       "      <td>1980</td>\n",
       "      <td>33.673151</td>\n",
       "      <td>1354897671049.24292</td>\n",
       "      <td>-2.031368</td>\n",
       "      <td>24059.602837</td>\n",
       "      <td>-2.288942</td>\n",
       "      <td>21.31376</td>\n",
       "      <td>329062248434.787659</td>\n",
       "      <td>5.07012</td>\n",
       "      <td>189683207044.255005</td>\n",
       "      <td>22.5</td>\n",
       "      <td>22.9</td>\n",
       "      <td>37.8</td>\n",
       "      <td>3.8</td>\n",
       "      <td>9.1</td>\n",
       "      <td>13.5</td>\n",
       "      <td>17.1</td>\n",
       "      <td>16.312683</td>\n",
       "      <td>73.67561</td>\n",
       "      <td>5605</td>\n",
       "      <td>10356</td>\n",
       "      <td>1</td>\n",
       "      <td>7</td>\n",
       "      <td>34.780496</td>\n",
       "      <td>23.876066</td>\n",
       "    </tr>\n",
       "    <tr>\n",
       "      <th>1208</th>\n",
       "      <td>United Kingdom</td>\n",
       "      <td>1981</td>\n",
       "      <td>37.672385</td>\n",
       "      <td>1344224548669.106689</td>\n",
       "      <td>-0.787744</td>\n",
       "      <td>23861.764281</td>\n",
       "      <td>-0.733292</td>\n",
       "      <td>21.755479</td>\n",
       "      <td>329795737574.127197</td>\n",
       "      <td>5.28842</td>\n",
       "      <td>193847916210.429077</td>\n",
       "      <td>22.5</td>\n",
       "      <td>23.6</td>\n",
       "      <td>38.6</td>\n",
       "      <td>3.6</td>\n",
       "      <td>8.7</td>\n",
       "      <td>13.2</td>\n",
       "      <td>17.1</td>\n",
       "      <td>13.255</td>\n",
       "      <td>74.026829</td>\n",
       "      <td>5052</td>\n",
       "      <td>9807</td>\n",
       "      <td>1</td>\n",
       "      <td>8.2</td>\n",
       "      <td>36.432856</td>\n",
       "      <td>24.639426</td>\n",
       "    </tr>\n",
       "    <tr>\n",
       "      <th>1209</th>\n",
       "      <td>United Kingdom</td>\n",
       "      <td>1982</td>\n",
       "      <td>40.911782</td>\n",
       "      <td>1371040366003.380615</td>\n",
       "      <td>1.994891</td>\n",
       "      <td>24346.505423</td>\n",
       "      <td>1.892586</td>\n",
       "      <td>21.625081</td>\n",
       "      <td>332184378318.468506</td>\n",
       "      <td>5.1887</td>\n",
       "      <td>194105811517.141113</td>\n",
       "      <td>22.5</td>\n",
       "      <td>23.7</td>\n",
       "      <td>38.8</td>\n",
       "      <td>3.6</td>\n",
       "      <td>8.6</td>\n",
       "      <td>13.1</td>\n",
       "      <td>17</td>\n",
       "      <td>11.930967</td>\n",
       "      <td>74.178049</td>\n",
       "      <td>4659</td>\n",
       "      <td>9195</td>\n",
       "      <td>0.5</td>\n",
       "      <td>8.5</td>\n",
       "      <td>37.384861</td>\n",
       "      <td>25.866139</td>\n",
       "    </tr>\n",
       "    <tr>\n",
       "      <th>1210</th>\n",
       "      <td>United Kingdom</td>\n",
       "      <td>1983</td>\n",
       "      <td>42.79753</td>\n",
       "      <td>1428923720513.524902</td>\n",
       "      <td>4.221856</td>\n",
       "      <td>25365.728367</td>\n",
       "      <td>4.556437</td>\n",
       "      <td>21.399093</td>\n",
       "      <td>338021573934.329285</td>\n",
       "      <td>5.0615</td>\n",
       "      <td>177682884463.377808</td>\n",
       "      <td>22.5</td>\n",
       "      <td>23.6</td>\n",
       "      <td>38.7</td>\n",
       "      <td>3.6</td>\n",
       "      <td>8.7</td>\n",
       "      <td>13.1</td>\n",
       "      <td>17</td>\n",
       "      <td>9.825267</td>\n",
       "      <td>74.378049</td>\n",
       "      <td>4389</td>\n",
       "      <td>8794</td>\n",
       "      <td>0.5</td>\n",
       "      <td>8.5</td>\n",
       "      <td>35.488718</td>\n",
       "      <td>24.64853</td>\n",
       "    </tr>\n",
       "    <tr>\n",
       "      <th>1211</th>\n",
       "      <td>United Kingdom</td>\n",
       "      <td>1984</td>\n",
       "      <td>44.920592</td>\n",
       "      <td>1461347502638.866455</td>\n",
       "      <td>2.269105</td>\n",
       "      <td>25900.280703</td>\n",
       "      <td>2.388937</td>\n",
       "      <td>21.10088</td>\n",
       "      <td>342182494890.419678</td>\n",
       "      <td>4.89906</td>\n",
       "      <td>186221473452.525391</td>\n",
       "      <td>22.7</td>\n",
       "      <td>23.2</td>\n",
       "      <td>38</td>\n",
       "      <td>3.6</td>\n",
       "      <td>8.7</td>\n",
       "      <td>13.3</td>\n",
       "      <td>17.2</td>\n",
       "      <td>9.6801</td>\n",
       "      <td>74.778049</td>\n",
       "      <td>4204</td>\n",
       "      <td>8541</td>\n",
       "      <td>0.7</td>\n",
       "      <td>8.7</td>\n",
       "      <td>35.535133</td>\n",
       "      <td>24.777631</td>\n",
       "    </tr>\n",
       "    <tr>\n",
       "      <th>1212</th>\n",
       "      <td>United Kingdom</td>\n",
       "      <td>1985</td>\n",
       "      <td>47.647898</td>\n",
       "      <td>1521955648714.161865</td>\n",
       "      <td>4.147415</td>\n",
       "      <td>26913.323359</td>\n",
       "      <td>3.843562</td>\n",
       "      <td>20.313763</td>\n",
       "      <td>341059219237.824402</td>\n",
       "      <td>4.59409</td>\n",
       "      <td>191704512585.016113</td>\n",
       "      <td>22.7</td>\n",
       "      <td>23.8</td>\n",
       "      <td>39.1</td>\n",
       "      <td>3.5</td>\n",
       "      <td>8.5</td>\n",
       "      <td>12.9</td>\n",
       "      <td>16.9</td>\n",
       "      <td>12.252983</td>\n",
       "      <td>74.629268</td>\n",
       "      <td>4118</td>\n",
       "      <td>8424</td>\n",
       "      <td>0.7</td>\n",
       "      <td>9.2</td>\n",
       "      <td>36.684818</td>\n",
       "      <td>25.133573</td>\n",
       "    </tr>\n",
       "    <tr>\n",
       "      <th>1213</th>\n",
       "      <td>United Kingdom</td>\n",
       "      <td>1986</td>\n",
       "      <td>49.281082</td>\n",
       "      <td>1569902434705.617676</td>\n",
       "      <td>3.150341</td>\n",
       "      <td>27696.961358</td>\n",
       "      <td>3.446962</td>\n",
       "      <td>20.286232</td>\n",
       "      <td>345997792803.831177</td>\n",
       "      <td>4.38084</td>\n",
       "      <td>211054614234.333801</td>\n",
       "      <td>22.4</td>\n",
       "      <td>25.3</td>\n",
       "      <td>40.2</td>\n",
       "      <td>3.3</td>\n",
       "      <td>8.1</td>\n",
       "      <td>12.6</td>\n",
       "      <td>16.7</td>\n",
       "      <td>10.901358</td>\n",
       "      <td>74.929268</td>\n",
       "      <td>3974</td>\n",
       "      <td>8312</td>\n",
       "      <td>1</td>\n",
       "      <td>10.2</td>\n",
       "      <td>36.946585</td>\n",
       "      <td>24.500684</td>\n",
       "    </tr>\n",
       "    <tr>\n",
       "      <th>1214</th>\n",
       "      <td>United Kingdom</td>\n",
       "      <td>1987</td>\n",
       "      <td>51.325716</td>\n",
       "      <td>1654563164607.023682</td>\n",
       "      <td>5.392738</td>\n",
       "      <td>29128.581884</td>\n",
       "      <td>5.269484</td>\n",
       "      <td>19.578573</td>\n",
       "      <td>345704013370.331909</td>\n",
       "      <td>4.37181</td>\n",
       "      <td>259217621684.419189</td>\n",
       "      <td>22.1</td>\n",
       "      <td>26.7</td>\n",
       "      <td>41.9</td>\n",
       "      <td>3.2</td>\n",
       "      <td>7.7</td>\n",
       "      <td>12.1</td>\n",
       "      <td>16.1</td>\n",
       "      <td>9.7355</td>\n",
       "      <td>75.280488</td>\n",
       "      <td>3885</td>\n",
       "      <td>8188</td>\n",
       "      <td>0.5</td>\n",
       "      <td>10.7</td>\n",
       "      <td>36.700089</td>\n",
       "      <td>23.158795</td>\n",
       "    </tr>\n",
       "    <tr>\n",
       "      <th>1215</th>\n",
       "      <td>United Kingdom</td>\n",
       "      <td>1988</td>\n",
       "      <td>53.45848</td>\n",
       "      <td>1749409568712.282227</td>\n",
       "      <td>5.732414</td>\n",
       "      <td>30730.036537</td>\n",
       "      <td>5.805482</td>\n",
       "      <td>18.798473</td>\n",
       "      <td>346243569461.341125</td>\n",
       "      <td>4.26831</td>\n",
       "      <td>319834102568.505493</td>\n",
       "      <td>22.1</td>\n",
       "      <td>26.9</td>\n",
       "      <td>42.2</td>\n",
       "      <td>3.1</td>\n",
       "      <td>7.7</td>\n",
       "      <td>12</td>\n",
       "      <td>16</td>\n",
       "      <td>10.095708</td>\n",
       "      <td>75.380488</td>\n",
       "      <td>3758</td>\n",
       "      <td>8032</td>\n",
       "      <td>0.5</td>\n",
       "      <td>10.2</td>\n",
       "      <td>35.695401</td>\n",
       "      <td>22.99075</td>\n",
       "    </tr>\n",
       "    <tr>\n",
       "      <th>1216</th>\n",
       "      <td>United Kingdom</td>\n",
       "      <td>1989</td>\n",
       "      <td>56.537821</td>\n",
       "      <td>1794502398698.954834</td>\n",
       "      <td>2.577603</td>\n",
       "      <td>31440.1858</td>\n",
       "      <td>2.431251</td>\n",
       "      <td>18.375069</td>\n",
       "      <td>349561554337.725159</td>\n",
       "      <td>4.12511</td>\n",
       "      <td>354195194102.199951</td>\n",
       "      <td>22.8</td>\n",
       "      <td>25.7</td>\n",
       "      <td>41.1</td>\n",
       "      <td>3</td>\n",
       "      <td>7.6</td>\n",
       "      <td>12.2</td>\n",
       "      <td>16.4</td>\n",
       "      <td>13.841808</td>\n",
       "      <td>75.582927</td>\n",
       "      <td>3586</td>\n",
       "      <td>7680</td>\n",
       "      <td>0.7</td>\n",
       "      <td>11.2</td>\n",
       "      <td>34.733358</td>\n",
       "      <td>22.762272</td>\n",
       "    </tr>\n",
       "    <tr>\n",
       "      <th>1217</th>\n",
       "      <td>United Kingdom</td>\n",
       "      <td>1990</td>\n",
       "      <td>61.096726</td>\n",
       "      <td>1807669659458.390869</td>\n",
       "      <td>0.733756</td>\n",
       "      <td>31576.347332</td>\n",
       "      <td>0.534575</td>\n",
       "      <td>18.577507</td>\n",
       "      <td>357224792663.332031</td>\n",
       "      <td>4.05552</td>\n",
       "      <td>409080295492.665039</td>\n",
       "      <td>22.6</td>\n",
       "      <td>27.5</td>\n",
       "      <td>42.9</td>\n",
       "      <td>2.8</td>\n",
       "      <td>7.1</td>\n",
       "      <td>11.6</td>\n",
       "      <td>15.9</td>\n",
       "      <td>14.768117</td>\n",
       "      <td>75.880488</td>\n",
       "      <td>3563</td>\n",
       "      <td>7279</td>\n",
       "      <td>0.7</td>\n",
       "      <td>12</td>\n",
       "      <td>52.841654</td>\n",
       "      <td>24.151295</td>\n",
       "    </tr>\n",
       "    <tr>\n",
       "      <th>1218</th>\n",
       "      <td>United Kingdom</td>\n",
       "      <td>1991</td>\n",
       "      <td>65.655632</td>\n",
       "      <td>1787728863256.867676</td>\n",
       "      <td>-1.103122</td>\n",
       "      <td>31131.598952</td>\n",
       "      <td>-1.03758</td>\n",
       "      <td>19.434031</td>\n",
       "      <td>367980392123.728821</td>\n",
       "      <td>4.12248</td>\n",
       "      <td>390306883806.702026</td>\n",
       "      <td>22.6</td>\n",
       "      <td>26.7</td>\n",
       "      <td>42.3</td>\n",
       "      <td>2.8</td>\n",
       "      <td>7.2</td>\n",
       "      <td>11.8</td>\n",
       "      <td>16.1</td>\n",
       "      <td>11.694983</td>\n",
       "      <td>76.082927</td>\n",
       "      <td>3481</td>\n",
       "      <td>6865</td>\n",
       "      <td>0.7</td>\n",
       "      <td>12.2</td>\n",
       "      <td>58.390605</td>\n",
       "      <td>24.847137</td>\n",
       "    </tr>\n",
       "    <tr>\n",
       "      <th>1219</th>\n",
       "      <td>United Kingdom</td>\n",
       "      <td>1992</td>\n",
       "      <td>68.670242</td>\n",
       "      <td>1794899122850.841064</td>\n",
       "      <td>0.401082</td>\n",
       "      <td>31172.049178</td>\n",
       "      <td>0.673023</td>\n",
       "      <td>19.912831</td>\n",
       "      <td>370699856327.967041</td>\n",
       "      <td>4.33449</td>\n",
       "      <td>384215950732.250977</td>\n",
       "      <td>22.6</td>\n",
       "      <td>26.6</td>\n",
       "      <td>42.3</td>\n",
       "      <td>2.8</td>\n",
       "      <td>7.1</td>\n",
       "      <td>11.8</td>\n",
       "      <td>16.2</td>\n",
       "      <td>9.563483</td>\n",
       "      <td>76.434146</td>\n",
       "      <td>3392</td>\n",
       "      <td>6397</td>\n",
       "      <td>1</td>\n",
       "      <td>13.2</td>\n",
       "      <td>60.440933</td>\n",
       "      <td>24.280316</td>\n",
       "    </tr>\n",
       "    <tr>\n",
       "      <th>1220</th>\n",
       "      <td>United Kingdom</td>\n",
       "      <td>1993</td>\n",
       "      <td>70.427224</td>\n",
       "      <td>1839589077852.523193</td>\n",
       "      <td>2.489831</td>\n",
       "      <td>31871.677963</td>\n",
       "      <td>2.388764</td>\n",
       "      <td>19.220958</td>\n",
       "      <td>368165346422.393616</td>\n",
       "      <td>..</td>\n",
       "      <td>364933529770.413025</td>\n",
       "      <td>22.7</td>\n",
       "      <td>26.8</td>\n",
       "      <td>42.3</td>\n",
       "      <td>2.8</td>\n",
       "      <td>7</td>\n",
       "      <td>11.8</td>\n",
       "      <td>16.2</td>\n",
       "      <td>6.013633</td>\n",
       "      <td>76.385366</td>\n",
       "      <td>3276</td>\n",
       "      <td>5961</td>\n",
       "      <td>1</td>\n",
       "      <td>13.7</td>\n",
       "      <td>59.043078</td>\n",
       "      <td>22.981092</td>\n",
       "    </tr>\n",
       "    <tr>\n",
       "      <th>1221</th>\n",
       "      <td>United Kingdom</td>\n",
       "      <td>1994</td>\n",
       "      <td>71.990013</td>\n",
       "      <td>1910339842299.94165</td>\n",
       "      <td>3.846009</td>\n",
       "      <td>33013.31111</td>\n",
       "      <td>4.199303</td>\n",
       "      <td>18.86832</td>\n",
       "      <td>372043130444.588196</td>\n",
       "      <td>4.85083</td>\n",
       "      <td>392958128532.992004</td>\n",
       "      <td>22.3</td>\n",
       "      <td>27.8</td>\n",
       "      <td>43.2</td>\n",
       "      <td>2.8</td>\n",
       "      <td>7</td>\n",
       "      <td>11.6</td>\n",
       "      <td>16</td>\n",
       "      <td>5.462783</td>\n",
       "      <td>76.885366</td>\n",
       "      <td>3154</td>\n",
       "      <td>5611</td>\n",
       "      <td>1</td>\n",
       "      <td>12.7</td>\n",
       "      <td>58.124907</td>\n",
       "      <td>23.797095</td>\n",
       "    </tr>\n",
       "    <tr>\n",
       "      <th>1222</th>\n",
       "      <td>United Kingdom</td>\n",
       "      <td>1995</td>\n",
       "      <td>73.93194</td>\n",
       "      <td>1958703343414.76123</td>\n",
       "      <td>2.53167</td>\n",
       "      <td>33759.670636</td>\n",
       "      <td>2.296757</td>\n",
       "      <td>17.048871</td>\n",
       "      <td>376898982485.899109</td>\n",
       "      <td>4.83926</td>\n",
       "      <td>462585966608.459961</td>\n",
       "      <td>22.4</td>\n",
       "      <td>27.3</td>\n",
       "      <td>42.8</td>\n",
       "      <td>2.8</td>\n",
       "      <td>7.1</td>\n",
       "      <td>11.6</td>\n",
       "      <td>16.1</td>\n",
       "      <td>6.693675</td>\n",
       "      <td>76.836585</td>\n",
       "      <td>2992</td>\n",
       "      <td>5342</td>\n",
       "      <td>1</td>\n",
       "      <td>12.5</td>\n",
       "      <td>52.408878</td>\n",
       "      <td>23.198023</td>\n",
       "    </tr>\n",
       "    <tr>\n",
       "      <th>1223</th>\n",
       "      <td>United Kingdom</td>\n",
       "      <td>1996</td>\n",
       "      <td>76.040318</td>\n",
       "      <td>1996069836328.177734</td>\n",
       "      <td>1.907716</td>\n",
       "      <td>34316.219715</td>\n",
       "      <td>1.966384</td>\n",
       "      <td>16.606603</td>\n",
       "      <td>379457878779.45282</td>\n",
       "      <td>4.37116</td>\n",
       "      <td>498908791526.166992</td>\n",
       "      <td>22.4</td>\n",
       "      <td>27.2</td>\n",
       "      <td>42.6</td>\n",
       "      <td>2.8</td>\n",
       "      <td>7.1</td>\n",
       "      <td>11.7</td>\n",
       "      <td>16.2</td>\n",
       "      <td>5.958533</td>\n",
       "      <td>77.087805</td>\n",
       "      <td>2900</td>\n",
       "      <td>5158</td>\n",
       "      <td>0.7</td>\n",
       "      <td>12.7</td>\n",
       "      <td>52.067807</td>\n",
       "      <td>23.032994</td>\n",
       "    </tr>\n",
       "    <tr>\n",
       "      <th>1224</th>\n",
       "      <td>United Kingdom</td>\n",
       "      <td>1997</td>\n",
       "      <td>77.714074</td>\n",
       "      <td>2086373375047.131104</td>\n",
       "      <td>4.524067</td>\n",
       "      <td>35776.446332</td>\n",
       "      <td>4.668016</td>\n",
       "      <td>16.07062</td>\n",
       "      <td>378635732698.971863</td>\n",
       "      <td>..</td>\n",
       "      <td>532805772467.72998</td>\n",
       "      <td>22.4</td>\n",
       "      <td>27.6</td>\n",
       "      <td>42.9</td>\n",
       "      <td>2.8</td>\n",
       "      <td>7</td>\n",
       "      <td>11.7</td>\n",
       "      <td>16.1</td>\n",
       "      <td>6.5634</td>\n",
       "      <td>77.210976</td>\n",
       "      <td>2825</td>\n",
       "      <td>5024</td>\n",
       "      <td>0.7</td>\n",
       "      <td>13.2</td>\n",
       "      <td>51.549784</td>\n",
       "      <td>23.723521</td>\n",
       "    </tr>\n",
       "    <tr>\n",
       "      <th>1225</th>\n",
       "      <td>United Kingdom</td>\n",
       "      <td>1998</td>\n",
       "      <td>79.128907</td>\n",
       "      <td>2152246177454.062256</td>\n",
       "      <td>3.157287</td>\n",
       "      <td>36798.621725</td>\n",
       "      <td>3.708723</td>\n",
       "      <td>16.074334</td>\n",
       "      <td>393124296603.625305</td>\n",
       "      <td>4.2107</td>\n",
       "      <td>548359979520.195984</td>\n",
       "      <td>22.1</td>\n",
       "      <td>28.5</td>\n",
       "      <td>43.7</td>\n",
       "      <td>2.7</td>\n",
       "      <td>6.9</td>\n",
       "      <td>11.5</td>\n",
       "      <td>15.8</td>\n",
       "      <td>7.23205</td>\n",
       "      <td>77.190244</td>\n",
       "      <td>2763</td>\n",
       "      <td>4879</td>\n",
       "      <td>0.7</td>\n",
       "      <td>13</td>\n",
       "      <td>51.415876</td>\n",
       "      <td>25.004453</td>\n",
       "    </tr>\n",
       "    <tr>\n",
       "      <th>1226</th>\n",
       "      <td>United Kingdom</td>\n",
       "      <td>1999</td>\n",
       "      <td>80.515998</td>\n",
       "      <td>2217116394065.012695</td>\n",
       "      <td>3.01407</td>\n",
       "      <td>37781.581879</td>\n",
       "      <td>2.32403</td>\n",
       "      <td>16.493128</td>\n",
       "      <td>406914464423.187378</td>\n",
       "      <td>3.98918</td>\n",
       "      <td>609363902554.312012</td>\n",
       "      <td>22.1</td>\n",
       "      <td>28.7</td>\n",
       "      <td>43.8</td>\n",
       "      <td>2.7</td>\n",
       "      <td>6.8</td>\n",
       "      <td>11.5</td>\n",
       "      <td>15.8</td>\n",
       "      <td>5.344408</td>\n",
       "      <td>77.390244</td>\n",
       "      <td>2674</td>\n",
       "      <td>4714</td>\n",
       "      <td>0.7</td>\n",
       "      <td>13.2</td>\n",
       "      <td>51.631412</td>\n",
       "      <td>25.459656</td>\n",
       "    </tr>\n",
       "    <tr>\n",
       "      <th>1227</th>\n",
       "      <td>United Kingdom</td>\n",
       "      <td>2000</td>\n",
       "      <td>81.468467</td>\n",
       "      <td>2307855285267.746582</td>\n",
       "      <td>4.092653</td>\n",
       "      <td>39187.583082</td>\n",
       "      <td>4.711746</td>\n",
       "      <td>16.68321</td>\n",
       "      <td>420294980035.789429</td>\n",
       "      <td>4.02315</td>\n",
       "      <td>653850298557.562012</td>\n",
       "      <td>21.2</td>\n",
       "      <td>31.1</td>\n",
       "      <td>45.8</td>\n",
       "      <td>2.6</td>\n",
       "      <td>6.7</td>\n",
       "      <td>11.1</td>\n",
       "      <td>15.2</td>\n",
       "      <td>5.963892</td>\n",
       "      <td>77.741463</td>\n",
       "      <td>2555</td>\n",
       "      <td>4525</td>\n",
       "      <td>0.7</td>\n",
       "      <td>12.5</td>\n",
       "      <td>51.930604</td>\n",
       "      <td>26.079901</td>\n",
       "    </tr>\n",
       "    <tr>\n",
       "      <th>1228</th>\n",
       "      <td>United Kingdom</td>\n",
       "      <td>2001</td>\n",
       "      <td>82.716849</td>\n",
       "      <td>2357645605496.074707</td>\n",
       "      <td>2.157428</td>\n",
       "      <td>39879.205785</td>\n",
       "      <td>2.420321</td>\n",
       "      <td>17.322537</td>\n",
       "      <td>438360879779.386719</td>\n",
       "      <td>4.10855</td>\n",
       "      <td>649237179855.680908</td>\n",
       "      <td>21.7</td>\n",
       "      <td>29.3</td>\n",
       "      <td>44.3</td>\n",
       "      <td>2.7</td>\n",
       "      <td>6.9</td>\n",
       "      <td>11.4</td>\n",
       "      <td>15.6</td>\n",
       "      <td>5.122375</td>\n",
       "      <td>77.992683</td>\n",
       "      <td>2470</td>\n",
       "      <td>4360</td>\n",
       "      <td>0.7</td>\n",
       "      <td>12.2</td>\n",
       "      <td>51.417374</td>\n",
       "      <td>25.75972</td>\n",
       "    </tr>\n",
       "    <tr>\n",
       "      <th>1229</th>\n",
       "      <td>United Kingdom</td>\n",
       "      <td>2002</td>\n",
       "      <td>83.974478</td>\n",
       "      <td>2399393975746.238281</td>\n",
       "      <td>1.770765</td>\n",
       "      <td>40413.923151</td>\n",
       "      <td>2.382347</td>\n",
       "      <td>18.178957</td>\n",
       "      <td>456307299666.32428</td>\n",
       "      <td>4.62854</td>\n",
       "      <td>654411730429.329956</td>\n",
       "      <td>22</td>\n",
       "      <td>27.7</td>\n",
       "      <td>42.7</td>\n",
       "      <td>2.8</td>\n",
       "      <td>7.2</td>\n",
       "      <td>11.9</td>\n",
       "      <td>16.2</td>\n",
       "      <td>4</td>\n",
       "      <td>78.143902</td>\n",
       "      <td>2426</td>\n",
       "      <td>4259</td>\n",
       "      <td>0.7</td>\n",
       "      <td>12</td>\n",
       "      <td>52.083743</td>\n",
       "      <td>24.959988</td>\n",
       "    </tr>\n",
       "    <tr>\n",
       "      <th>1230</th>\n",
       "      <td>United Kingdom</td>\n",
       "      <td>2003</td>\n",
       "      <td>85.130387</td>\n",
       "      <td>2474328328787.791504</td>\n",
       "      <td>3.123053</td>\n",
       "      <td>41482.461706</td>\n",
       "      <td>3.11488</td>\n",
       "      <td>18.868121</td>\n",
       "      <td>476738650016.237915</td>\n",
       "      <td>4.80574</td>\n",
       "      <td>731378364817.219971</td>\n",
       "      <td>22.2</td>\n",
       "      <td>27.3</td>\n",
       "      <td>42.3</td>\n",
       "      <td>2.9</td>\n",
       "      <td>7.3</td>\n",
       "      <td>11.9</td>\n",
       "      <td>16.3</td>\n",
       "      <td>3.695792</td>\n",
       "      <td>78.446341</td>\n",
       "      <td>2472</td>\n",
       "      <td>4253</td>\n",
       "      <td>0.7</td>\n",
       "      <td>12.2</td>\n",
       "      <td>52.811621</td>\n",
       "      <td>24.529264</td>\n",
       "    </tr>\n",
       "    <tr>\n",
       "      <th>1231</th>\n",
       "      <td>United Kingdom</td>\n",
       "      <td>2004</td>\n",
       "      <td>86.314037</td>\n",
       "      <td>2532350622459.42627</td>\n",
       "      <td>2.344971</td>\n",
       "      <td>42214.353418</td>\n",
       "      <td>2.030897</td>\n",
       "      <td>19.453613</td>\n",
       "      <td>496858497183.312561</td>\n",
       "      <td>4.7294</td>\n",
       "      <td>890638892739.130981</td>\n",
       "      <td>22.2</td>\n",
       "      <td>27.3</td>\n",
       "      <td>42.4</td>\n",
       "      <td>2.9</td>\n",
       "      <td>7.3</td>\n",
       "      <td>11.9</td>\n",
       "      <td>16.2</td>\n",
       "      <td>4.379817</td>\n",
       "      <td>78.746341</td>\n",
       "      <td>2504</td>\n",
       "      <td>4296</td>\n",
       "      <td>0.5</td>\n",
       "      <td>11.7</td>\n",
       "      <td>52.688259</td>\n",
       "      <td>25.137447</td>\n",
       "    </tr>\n",
       "    <tr>\n",
       "      <th>1232</th>\n",
       "      <td>United Kingdom</td>\n",
       "      <td>2005</td>\n",
       "      <td>88.117255</td>\n",
       "      <td>2599922287719.730957</td>\n",
       "      <td>2.668338</td>\n",
       "      <td>43044.21153</td>\n",
       "      <td>2.885515</td>\n",
       "      <td>19.656798</td>\n",
       "      <td>508827992431.817383</td>\n",
       "      <td>4.92918</td>\n",
       "      <td>1032967765772.557007</td>\n",
       "      <td>22.1</td>\n",
       "      <td>27.8</td>\n",
       "      <td>42.8</td>\n",
       "      <td>2.8</td>\n",
       "      <td>7.1</td>\n",
       "      <td>11.8</td>\n",
       "      <td>16.2</td>\n",
       "      <td>4.648675</td>\n",
       "      <td>79.04878</td>\n",
       "      <td>2492</td>\n",
       "      <td>4284</td>\n",
       "      <td>0.7</td>\n",
       "      <td>12.7</td>\n",
       "      <td>52.125939</td>\n",
       "      <td>25.471852</td>\n",
       "    </tr>\n",
       "    <tr>\n",
       "      <th>1233</th>\n",
       "      <td>United Kingdom</td>\n",
       "      <td>2006</td>\n",
       "      <td>90.281117</td>\n",
       "      <td>2656091147154.862305</td>\n",
       "      <td>2.160405</td>\n",
       "      <td>43652.094672</td>\n",
       "      <td>0.739015</td>\n",
       "      <td>19.855693</td>\n",
       "      <td>519450473563.840393</td>\n",
       "      <td>4.97326</td>\n",
       "      <td>1281443229817.022949</td>\n",
       "      <td>21.9</td>\n",
       "      <td>28.3</td>\n",
       "      <td>43.3</td>\n",
       "      <td>2.8</td>\n",
       "      <td>7.1</td>\n",
       "      <td>11.8</td>\n",
       "      <td>16</td>\n",
       "      <td>4.638258</td>\n",
       "      <td>79.24878</td>\n",
       "      <td>2526</td>\n",
       "      <td>4273</td>\n",
       "      <td>0.7</td>\n",
       "      <td>12.5</td>\n",
       "      <td>52.014899</td>\n",
       "      <td>25.756414</td>\n",
       "    </tr>\n",
       "    <tr>\n",
       "      <th>1234</th>\n",
       "      <td>United Kingdom</td>\n",
       "      <td>2007</td>\n",
       "      <td>92.435731</td>\n",
       "      <td>2724178993507.046875</td>\n",
       "      <td>2.56346</td>\n",
       "      <td>44423.835251</td>\n",
       "      <td>2.038624</td>\n",
       "      <td>19.71436</td>\n",
       "      <td>526433034970.362366</td>\n",
       "      <td>4.90883</td>\n",
       "      <td>1516706417863.828125</td>\n",
       "      <td>22.5</td>\n",
       "      <td>26.5</td>\n",
       "      <td>41.8</td>\n",
       "      <td>2.8</td>\n",
       "      <td>7.2</td>\n",
       "      <td>12</td>\n",
       "      <td>16.5</td>\n",
       "      <td>5.508708</td>\n",
       "      <td>79.44878</td>\n",
       "      <td>2546</td>\n",
       "      <td>4290</td>\n",
       "      <td>0.7</td>\n",
       "      <td>13</td>\n",
       "      <td>51.468611</td>\n",
       "      <td>25.975293</td>\n",
       "    </tr>\n",
       "    <tr>\n",
       "      <th>1235</th>\n",
       "      <td>United Kingdom</td>\n",
       "      <td>2008</td>\n",
       "      <td>95.690771</td>\n",
       "      <td>2719974378108.140137</td>\n",
       "      <td>-0.154344</td>\n",
       "      <td>44007.549277</td>\n",
       "      <td>-0.544564</td>\n",
       "      <td>20.402236</td>\n",
       "      <td>537143705543.544189</td>\n",
       "      <td>4.88497</td>\n",
       "      <td>1462651369475.76416</td>\n",
       "      <td>22.2</td>\n",
       "      <td>27.6</td>\n",
       "      <td>42.7</td>\n",
       "      <td>2.8</td>\n",
       "      <td>7.1</td>\n",
       "      <td>11.8</td>\n",
       "      <td>16.2</td>\n",
       "      <td>4.675308</td>\n",
       "      <td>79.6</td>\n",
       "      <td>2535</td>\n",
       "      <td>4278</td>\n",
       "      <td>0.7</td>\n",
       "      <td>12.7</td>\n",
       "      <td>49.37731</td>\n",
       "      <td>26.43903</td>\n",
       "    </tr>\n",
       "    <tr>\n",
       "      <th>1236</th>\n",
       "      <td>United Kingdom</td>\n",
       "      <td>2009</td>\n",
       "      <td>97.567967</td>\n",
       "      <td>2597290325456.677246</td>\n",
       "      <td>-4.510486</td>\n",
       "      <td>41705.939123</td>\n",
       "      <td>-4.065061</td>\n",
       "      <td>21.990783</td>\n",
       "      <td>544658243735.802246</td>\n",
       "      <td>5.04632</td>\n",
       "      <td>985216774690.955078</td>\n",
       "      <td>22.2</td>\n",
       "      <td>27.4</td>\n",
       "      <td>42.5</td>\n",
       "      <td>2.8</td>\n",
       "      <td>7.2</td>\n",
       "      <td>11.9</td>\n",
       "      <td>16.2</td>\n",
       "      <td>0.644867</td>\n",
       "      <td>80.05122</td>\n",
       "      <td>2458</td>\n",
       "      <td>4185</td>\n",
       "      <td>0.7</td>\n",
       "      <td>12</td>\n",
       "      <td>51.491809</td>\n",
       "      <td>24.124901</td>\n",
       "    </tr>\n",
       "    <tr>\n",
       "      <th>1237</th>\n",
       "      <td>United Kingdom</td>\n",
       "      <td>2010</td>\n",
       "      <td>100</td>\n",
       "      <td>2660406373660.759277</td>\n",
       "      <td>2.430073</td>\n",
       "      <td>42385.860224</td>\n",
       "      <td>3.327454</td>\n",
       "      <td>21.535481</td>\n",
       "      <td>545501726759.932678</td>\n",
       "      <td>5.66824</td>\n",
       "      <td>1033295861497.39502</td>\n",
       "      <td>22.3</td>\n",
       "      <td>26.4</td>\n",
       "      <td>41.5</td>\n",
       "      <td>3</td>\n",
       "      <td>7.5</td>\n",
       "      <td>12.2</td>\n",
       "      <td>16.5</td>\n",
       "      <td>0.5</td>\n",
       "      <td>80.402439</td>\n",
       "      <td>2435</td>\n",
       "      <td>4072</td>\n",
       "      <td>0.7</td>\n",
       "      <td>11.2</td>\n",
       "      <td>51.710886</td>\n",
       "      <td>25.213272</td>\n",
       "    </tr>\n",
       "    <tr>\n",
       "      <th>1238</th>\n",
       "      <td>United Kingdom</td>\n",
       "      <td>2011</td>\n",
       "      <td>103.856112</td>\n",
       "      <td>2688809162463.686035</td>\n",
       "      <td>1.067611</td>\n",
       "      <td>42504.896353</td>\n",
       "      <td>1.440966</td>\n",
       "      <td>20.943859</td>\n",
       "      <td>546498829361.673218</td>\n",
       "      <td>5.5596</td>\n",
       "      <td>1177170406483.799072</td>\n",
       "      <td>22.5</td>\n",
       "      <td>25.9</td>\n",
       "      <td>41</td>\n",
       "      <td>3.1</td>\n",
       "      <td>7.6</td>\n",
       "      <td>12.3</td>\n",
       "      <td>16.6</td>\n",
       "      <td>0.5</td>\n",
       "      <td>80.95122</td>\n",
       "      <td>2376</td>\n",
       "      <td>3967</td>\n",
       "      <td>0.7</td>\n",
       "      <td>11.5</td>\n",
       "      <td>51.756121</td>\n",
       "      <td>25.799072</td>\n",
       "    </tr>\n",
       "    <tr>\n",
       "      <th>1239</th>\n",
       "      <td>United Kingdom</td>\n",
       "      <td>2012</td>\n",
       "      <td>106.528574</td>\n",
       "      <td>2727755400457.135742</td>\n",
       "      <td>1.448457</td>\n",
       "      <td>42821.761284</td>\n",
       "      <td>0.113273</td>\n",
       "      <td>20.795148</td>\n",
       "      <td>554019058525.941406</td>\n",
       "      <td>5.659604</td>\n",
       "      <td>1157443476903.074951</td>\n",
       "      <td>22.5</td>\n",
       "      <td>25.6</td>\n",
       "      <td>40.9</td>\n",
       "      <td>3</td>\n",
       "      <td>7.6</td>\n",
       "      <td>12.3</td>\n",
       "      <td>16.6</td>\n",
       "      <td>0.5</td>\n",
       "      <td>80.904878</td>\n",
       "      <td>2317</td>\n",
       "      <td>3852</td>\n",
       "      <td>0.7</td>\n",
       "      <td>11.2</td>\n",
       "      <td>51.738196</td>\n",
       "      <td>25.094134</td>\n",
       "    </tr>\n",
       "    <tr>\n",
       "      <th>1240</th>\n",
       "      <td>United Kingdom</td>\n",
       "      <td>2013</td>\n",
       "      <td>108.969854</td>\n",
       "      <td>2777396821941.01123</td>\n",
       "      <td>1.819863</td>\n",
       "      <td>43310.020557</td>\n",
       "      <td>0.956966</td>\n",
       "      <td>20.135039</td>\n",
       "      <td>553772982423.998169</td>\n",
       "      <td>5.50078</td>\n",
       "      <td>1186895179827.759033</td>\n",
       "      <td>22.8</td>\n",
       "      <td>25.3</td>\n",
       "      <td>40.5</td>\n",
       "      <td>3.1</td>\n",
       "      <td>7.7</td>\n",
       "      <td>12.3</td>\n",
       "      <td>16.7</td>\n",
       "      <td>0.5</td>\n",
       "      <td>81.004878</td>\n",
       "      <td>2176</td>\n",
       "      <td>3691</td>\n",
       "      <td>0.5</td>\n",
       "      <td>11.2</td>\n",
       "      <td>52.634204</td>\n",
       "      <td>25.106941</td>\n",
       "    </tr>\n",
       "    <tr>\n",
       "      <th>1241</th>\n",
       "      <td>United Kingdom</td>\n",
       "      <td>2014</td>\n",
       "      <td>110.551137</td>\n",
       "      <td>2866265260991.209473</td>\n",
       "      <td>3.199703</td>\n",
       "      <td>44367.852998</td>\n",
       "      <td>3.174791</td>\n",
       "      <td>19.880322</td>\n",
       "      <td>565731098784.037964</td>\n",
       "      <td>5.56451</td>\n",
       "      <td>1233344333285.413086</td>\n",
       "      <td>22.7</td>\n",
       "      <td>25.6</td>\n",
       "      <td>40.8</td>\n",
       "      <td>3</td>\n",
       "      <td>7.5</td>\n",
       "      <td>12.3</td>\n",
       "      <td>16.7</td>\n",
       "      <td>0.5</td>\n",
       "      <td>81.304878</td>\n",
       "      <td>2129</td>\n",
       "      <td>3549</td>\n",
       "      <td>0.5</td>\n",
       "      <td>12</td>\n",
       "      <td>52.330349</td>\n",
       "      <td>24.861031</td>\n",
       "    </tr>\n",
       "    <tr>\n",
       "      <th>1242</th>\n",
       "      <td>United Kingdom</td>\n",
       "      <td>2015</td>\n",
       "      <td>110.958017</td>\n",
       "      <td>2934857946213.474609</td>\n",
       "      <td>2.393103</td>\n",
       "      <td>45071.074323</td>\n",
       "      <td>1.976564</td>\n",
       "      <td>19.505851</td>\n",
       "      <td>572469006449.674805</td>\n",
       "      <td>5.51411</td>\n",
       "      <td>1132717849930.191895</td>\n",
       "      <td>22.8</td>\n",
       "      <td>25.7</td>\n",
       "      <td>40.8</td>\n",
       "      <td>3</td>\n",
       "      <td>7.5</td>\n",
       "      <td>12.2</td>\n",
       "      <td>16.7</td>\n",
       "      <td>..</td>\n",
       "      <td>80.956098</td>\n",
       "      <td>2133</td>\n",
       "      <td>3494</td>\n",
       "      <td>0.7</td>\n",
       "      <td>12</td>\n",
       "      <td>52.929479</td>\n",
       "      <td>24.989875</td>\n",
       "    </tr>\n",
       "    <tr>\n",
       "      <th>1243</th>\n",
       "      <td>United Kingdom</td>\n",
       "      <td>2016</td>\n",
       "      <td>112.076937</td>\n",
       "      <td>2998403672734.882324</td>\n",
       "      <td>2.165206</td>\n",
       "      <td>45699.296963</td>\n",
       "      <td>1.995777</td>\n",
       "      <td>19.133456</td>\n",
       "      <td>576901204201.213989</td>\n",
       "      <td>5.37533</td>\n",
       "      <td>1080488648831.101929</td>\n",
       "      <td>22.7</td>\n",
       "      <td>25.5</td>\n",
       "      <td>40.6</td>\n",
       "      <td>2.9</td>\n",
       "      <td>7.4</td>\n",
       "      <td>12.3</td>\n",
       "      <td>16.9</td>\n",
       "      <td>..</td>\n",
       "      <td>81.156098</td>\n",
       "      <td>2146</td>\n",
       "      <td>3457</td>\n",
       "      <td>0.7</td>\n",
       "      <td>12.2</td>\n",
       "      <td>52.122374</td>\n",
       "      <td>25.340529</td>\n",
       "    </tr>\n",
       "    <tr>\n",
       "      <th>1244</th>\n",
       "      <td>United Kingdom</td>\n",
       "      <td>2017</td>\n",
       "      <td>114.943592</td>\n",
       "      <td>3071671779449.625</td>\n",
       "      <td>2.44357</td>\n",
       "      <td>46499.013546</td>\n",
       "      <td>3.770811</td>\n",
       "      <td>18.609521</td>\n",
       "      <td>579344887721.282471</td>\n",
       "      <td>5.38499</td>\n",
       "      <td>1137495737490.018066</td>\n",
       "      <td>22.9</td>\n",
       "      <td>24.9</td>\n",
       "      <td>40.2</td>\n",
       "      <td>2.9</td>\n",
       "      <td>7.5</td>\n",
       "      <td>12.5</td>\n",
       "      <td>17</td>\n",
       "      <td>..</td>\n",
       "      <td>81.256098</td>\n",
       "      <td>2117</td>\n",
       "      <td>3382</td>\n",
       "      <td>0.7</td>\n",
       "      <td>12.5</td>\n",
       "      <td>50.314027</td>\n",
       "      <td>25.551269</td>\n",
       "    </tr>\n",
       "    <tr>\n",
       "      <th>1245</th>\n",
       "      <td>United Kingdom</td>\n",
       "      <td>2018</td>\n",
       "      <td>117.579064</td>\n",
       "      <td>3124044429026.189453</td>\n",
       "      <td>1.705021</td>\n",
       "      <td>47006.142927</td>\n",
       "      <td>1.411986</td>\n",
       "      <td>18.46464</td>\n",
       "      <td>581228144178.896973</td>\n",
       "      <td>5.16799</td>\n",
       "      <td>1274343476727.654053</td>\n",
       "      <td>22.7</td>\n",
       "      <td>25.8</td>\n",
       "      <td>41.1</td>\n",
       "      <td>2.8</td>\n",
       "      <td>7.3</td>\n",
       "      <td>12.2</td>\n",
       "      <td>16.7</td>\n",
       "      <td>..</td>\n",
       "      <td>81.256098</td>\n",
       "      <td>2070</td>\n",
       "      <td>3263</td>\n",
       "      <td>0.7</td>\n",
       "      <td>12.2</td>\n",
       "      <td>49.505625</td>\n",
       "      <td>25.470495</td>\n",
       "    </tr>\n",
       "    <tr>\n",
       "      <th>1246</th>\n",
       "      <td>United Kingdom</td>\n",
       "      <td>2019</td>\n",
       "      <td>119.622711</td>\n",
       "      <td>3174163743964.482422</td>\n",
       "      <td>1.604309</td>\n",
       "      <td>47491.594563</td>\n",
       "      <td>2.959</td>\n",
       "      <td>19.013085</td>\n",
       "      <td>605343512030.446533</td>\n",
       "      <td>5.20775</td>\n",
       "      <td>1231813737502.578125</td>\n",
       "      <td>22.9</td>\n",
       "      <td>25.1</td>\n",
       "      <td>40.2</td>\n",
       "      <td>2.8</td>\n",
       "      <td>7.3</td>\n",
       "      <td>12.4</td>\n",
       "      <td>17.1</td>\n",
       "      <td>..</td>\n",
       "      <td>81.404878</td>\n",
       "      <td>2017</td>\n",
       "      <td>3136</td>\n",
       "      <td>0.7</td>\n",
       "      <td>13</td>\n",
       "      <td>49.914582</td>\n",
       "      <td>25.039315</td>\n",
       "    </tr>\n",
       "  </tbody>\n",
       "</table>\n",
       "</div>"
      ],
      "text/plain": [
       "        Country Name  Year Consumer price index (2010 = 100)  \\\n",
       "1200  United Kingdom  1973                          11.94469   \n",
       "1201  United Kingdom  1974                         13.861098   \n",
       "1202  United Kingdom  1975                         17.216493   \n",
       "1203  United Kingdom  1976                         20.067463   \n",
       "1204  United Kingdom  1977                         23.246202   \n",
       "1205  United Kingdom  1978                         25.167069   \n",
       "1206  United Kingdom  1979                         28.544811   \n",
       "1207  United Kingdom  1980                         33.673151   \n",
       "1208  United Kingdom  1981                         37.672385   \n",
       "1209  United Kingdom  1982                         40.911782   \n",
       "1210  United Kingdom  1983                          42.79753   \n",
       "1211  United Kingdom  1984                         44.920592   \n",
       "1212  United Kingdom  1985                         47.647898   \n",
       "1213  United Kingdom  1986                         49.281082   \n",
       "1214  United Kingdom  1987                         51.325716   \n",
       "1215  United Kingdom  1988                          53.45848   \n",
       "1216  United Kingdom  1989                         56.537821   \n",
       "1217  United Kingdom  1990                         61.096726   \n",
       "1218  United Kingdom  1991                         65.655632   \n",
       "1219  United Kingdom  1992                         68.670242   \n",
       "1220  United Kingdom  1993                         70.427224   \n",
       "1221  United Kingdom  1994                         71.990013   \n",
       "1222  United Kingdom  1995                          73.93194   \n",
       "1223  United Kingdom  1996                         76.040318   \n",
       "1224  United Kingdom  1997                         77.714074   \n",
       "1225  United Kingdom  1998                         79.128907   \n",
       "1226  United Kingdom  1999                         80.515998   \n",
       "1227  United Kingdom  2000                         81.468467   \n",
       "1228  United Kingdom  2001                         82.716849   \n",
       "1229  United Kingdom  2002                         83.974478   \n",
       "1230  United Kingdom  2003                         85.130387   \n",
       "1231  United Kingdom  2004                         86.314037   \n",
       "1232  United Kingdom  2005                         88.117255   \n",
       "1233  United Kingdom  2006                         90.281117   \n",
       "1234  United Kingdom  2007                         92.435731   \n",
       "1235  United Kingdom  2008                         95.690771   \n",
       "1236  United Kingdom  2009                         97.567967   \n",
       "1237  United Kingdom  2010                               100   \n",
       "1238  United Kingdom  2011                        103.856112   \n",
       "1239  United Kingdom  2012                        106.528574   \n",
       "1240  United Kingdom  2013                        108.969854   \n",
       "1241  United Kingdom  2014                        110.551137   \n",
       "1242  United Kingdom  2015                        110.958017   \n",
       "1243  United Kingdom  2016                        112.076937   \n",
       "1244  United Kingdom  2017                        114.943592   \n",
       "1245  United Kingdom  2018                        117.579064   \n",
       "1246  United Kingdom  2019                        119.622711   \n",
       "\n",
       "     GDP (constant 2015 US$) GDP growth (annual %)  \\\n",
       "1200    1262757606009.822754              6.523848   \n",
       "1201    1231385605650.851074             -2.484404   \n",
       "1202    1213239297438.027344              -1.47365   \n",
       "1203    1248547789733.673096              2.910266   \n",
       "1204    1279233979840.417725              2.457751   \n",
       "1205    1333016308392.240234               4.20426   \n",
       "1206    1382991310974.798828              3.749017   \n",
       "1207     1354897671049.24292             -2.031368   \n",
       "1208    1344224548669.106689             -0.787744   \n",
       "1209    1371040366003.380615              1.994891   \n",
       "1210    1428923720513.524902              4.221856   \n",
       "1211    1461347502638.866455              2.269105   \n",
       "1212    1521955648714.161865              4.147415   \n",
       "1213    1569902434705.617676              3.150341   \n",
       "1214    1654563164607.023682              5.392738   \n",
       "1215    1749409568712.282227              5.732414   \n",
       "1216    1794502398698.954834              2.577603   \n",
       "1217    1807669659458.390869              0.733756   \n",
       "1218    1787728863256.867676             -1.103122   \n",
       "1219    1794899122850.841064              0.401082   \n",
       "1220    1839589077852.523193              2.489831   \n",
       "1221     1910339842299.94165              3.846009   \n",
       "1222     1958703343414.76123               2.53167   \n",
       "1223    1996069836328.177734              1.907716   \n",
       "1224    2086373375047.131104              4.524067   \n",
       "1225    2152246177454.062256              3.157287   \n",
       "1226    2217116394065.012695               3.01407   \n",
       "1227    2307855285267.746582              4.092653   \n",
       "1228    2357645605496.074707              2.157428   \n",
       "1229    2399393975746.238281              1.770765   \n",
       "1230    2474328328787.791504              3.123053   \n",
       "1231     2532350622459.42627              2.344971   \n",
       "1232    2599922287719.730957              2.668338   \n",
       "1233    2656091147154.862305              2.160405   \n",
       "1234    2724178993507.046875               2.56346   \n",
       "1235    2719974378108.140137             -0.154344   \n",
       "1236    2597290325456.677246             -4.510486   \n",
       "1237    2660406373660.759277              2.430073   \n",
       "1238    2688809162463.686035              1.067611   \n",
       "1239    2727755400457.135742              1.448457   \n",
       "1240     2777396821941.01123              1.819863   \n",
       "1241    2866265260991.209473              3.199703   \n",
       "1242    2934857946213.474609              2.393103   \n",
       "1243    2998403672734.882324              2.165206   \n",
       "1244       3071671779449.625               2.44357   \n",
       "1245    3124044429026.189453              1.705021   \n",
       "1246    3174163743964.482422              1.604309   \n",
       "\n",
       "     GDP per capita (constant 2015 US$) GNI growth (annual %)  \\\n",
       "1200                        22471.18489              6.759535   \n",
       "1201                       21899.096124             -2.495104   \n",
       "1202                       21577.981948             -1.775763   \n",
       "1203                       22211.422837              2.976298   \n",
       "1204                       22764.806641              1.941189   \n",
       "1205                        23720.62697              4.330518   \n",
       "1206                       24587.844966               3.53675   \n",
       "1207                       24059.602837             -2.288942   \n",
       "1208                       23861.764281             -0.733292   \n",
       "1209                       24346.505423              1.892586   \n",
       "1210                       25365.728367              4.556437   \n",
       "1211                       25900.280703              2.388937   \n",
       "1212                       26913.323359              3.843562   \n",
       "1213                       27696.961358              3.446962   \n",
       "1214                       29128.581884              5.269484   \n",
       "1215                       30730.036537              5.805482   \n",
       "1216                         31440.1858              2.431251   \n",
       "1217                       31576.347332              0.534575   \n",
       "1218                       31131.598952              -1.03758   \n",
       "1219                       31172.049178              0.673023   \n",
       "1220                       31871.677963              2.388764   \n",
       "1221                        33013.31111              4.199303   \n",
       "1222                       33759.670636              2.296757   \n",
       "1223                       34316.219715              1.966384   \n",
       "1224                       35776.446332              4.668016   \n",
       "1225                       36798.621725              3.708723   \n",
       "1226                       37781.581879               2.32403   \n",
       "1227                       39187.583082              4.711746   \n",
       "1228                       39879.205785              2.420321   \n",
       "1229                       40413.923151              2.382347   \n",
       "1230                       41482.461706               3.11488   \n",
       "1231                       42214.353418              2.030897   \n",
       "1232                        43044.21153              2.885515   \n",
       "1233                       43652.094672              0.739015   \n",
       "1234                       44423.835251              2.038624   \n",
       "1235                       44007.549277             -0.544564   \n",
       "1236                       41705.939123             -4.065061   \n",
       "1237                       42385.860224              3.327454   \n",
       "1238                       42504.896353              1.440966   \n",
       "1239                       42821.761284              0.113273   \n",
       "1240                       43310.020557              0.956966   \n",
       "1241                       44367.852998              3.174791   \n",
       "1242                       45071.074323              1.976564   \n",
       "1243                       45699.296963              1.995777   \n",
       "1244                       46499.013546              3.770811   \n",
       "1245                       47006.142927              1.411986   \n",
       "1246                       47491.594563                 2.959   \n",
       "\n",
       "     General government final consumption expenditure (% of GDP)  \\\n",
       "1200                                             18.271            \n",
       "1201                                          20.162522            \n",
       "1202                                          22.441843            \n",
       "1203                                          22.183646            \n",
       "1204                                          20.790834            \n",
       "1205                                          20.279237            \n",
       "1206                                          19.873144            \n",
       "1207                                           21.31376            \n",
       "1208                                          21.755479            \n",
       "1209                                          21.625081            \n",
       "1210                                          21.399093            \n",
       "1211                                           21.10088            \n",
       "1212                                          20.313763            \n",
       "1213                                          20.286232            \n",
       "1214                                          19.578573            \n",
       "1215                                          18.798473            \n",
       "1216                                          18.375069            \n",
       "1217                                          18.577507            \n",
       "1218                                          19.434031            \n",
       "1219                                          19.912831            \n",
       "1220                                          19.220958            \n",
       "1221                                           18.86832            \n",
       "1222                                          17.048871            \n",
       "1223                                          16.606603            \n",
       "1224                                           16.07062            \n",
       "1225                                          16.074334            \n",
       "1226                                          16.493128            \n",
       "1227                                           16.68321            \n",
       "1228                                          17.322537            \n",
       "1229                                          18.178957            \n",
       "1230                                          18.868121            \n",
       "1231                                          19.453613            \n",
       "1232                                          19.656798            \n",
       "1233                                          19.855693            \n",
       "1234                                           19.71436            \n",
       "1235                                          20.402236            \n",
       "1236                                          21.990783            \n",
       "1237                                          21.535481            \n",
       "1238                                          20.943859            \n",
       "1239                                          20.795148            \n",
       "1240                                          20.135039            \n",
       "1241                                          19.880322            \n",
       "1242                                          19.505851            \n",
       "1243                                          19.133456            \n",
       "1244                                          18.609521            \n",
       "1245                                           18.46464            \n",
       "1246                                          19.013085            \n",
       "\n",
       "     General government final consumption expenditure (constant 2015 US$)  \\\n",
       "1200                                289433772133.422119                     \n",
       "1201                                295221264556.690186                     \n",
       "1202                                312046373513.181458                     \n",
       "1203                                317664594276.089294                     \n",
       "1204                                313217842913.981201                     \n",
       "1205                                318854872148.410522                     \n",
       "1206                                 324010953900.75824                     \n",
       "1207                                329062248434.787659                     \n",
       "1208                                329795737574.127197                     \n",
       "1209                                332184378318.468506                     \n",
       "1210                                338021573934.329285                     \n",
       "1211                                342182494890.419678                     \n",
       "1212                                341059219237.824402                     \n",
       "1213                                345997792803.831177                     \n",
       "1214                                345704013370.331909                     \n",
       "1215                                346243569461.341125                     \n",
       "1216                                349561554337.725159                     \n",
       "1217                                357224792663.332031                     \n",
       "1218                                367980392123.728821                     \n",
       "1219                                370699856327.967041                     \n",
       "1220                                368165346422.393616                     \n",
       "1221                                372043130444.588196                     \n",
       "1222                                376898982485.899109                     \n",
       "1223                                 379457878779.45282                     \n",
       "1224                                378635732698.971863                     \n",
       "1225                                393124296603.625305                     \n",
       "1226                                406914464423.187378                     \n",
       "1227                                420294980035.789429                     \n",
       "1228                                438360879779.386719                     \n",
       "1229                                 456307299666.32428                     \n",
       "1230                                476738650016.237915                     \n",
       "1231                                496858497183.312561                     \n",
       "1232                                508827992431.817383                     \n",
       "1233                                519450473563.840393                     \n",
       "1234                                526433034970.362366                     \n",
       "1235                                537143705543.544189                     \n",
       "1236                                544658243735.802246                     \n",
       "1237                                545501726759.932678                     \n",
       "1238                                546498829361.673218                     \n",
       "1239                                554019058525.941406                     \n",
       "1240                                553772982423.998169                     \n",
       "1241                                565731098784.037964                     \n",
       "1242                                572469006449.674805                     \n",
       "1243                                576901204201.213989                     \n",
       "1244                                579344887721.282471                     \n",
       "1245                                581228144178.896973                     \n",
       "1246                                605343512030.446533                     \n",
       "\n",
       "     Government expenditure on education, total (% of GDP)  \\\n",
       "1200                                            5.44861      \n",
       "1201                                              5.391      \n",
       "1202                                            6.26878      \n",
       "1203                                            6.42422      \n",
       "1204                                            6.06335      \n",
       "1205                                                 ..      \n",
       "1206                                                 ..      \n",
       "1207                                            5.07012      \n",
       "1208                                            5.28842      \n",
       "1209                                             5.1887      \n",
       "1210                                             5.0615      \n",
       "1211                                            4.89906      \n",
       "1212                                            4.59409      \n",
       "1213                                            4.38084      \n",
       "1214                                            4.37181      \n",
       "1215                                            4.26831      \n",
       "1216                                            4.12511      \n",
       "1217                                            4.05552      \n",
       "1218                                            4.12248      \n",
       "1219                                            4.33449      \n",
       "1220                                                 ..      \n",
       "1221                                            4.85083      \n",
       "1222                                            4.83926      \n",
       "1223                                            4.37116      \n",
       "1224                                                 ..      \n",
       "1225                                             4.2107      \n",
       "1226                                            3.98918      \n",
       "1227                                            4.02315      \n",
       "1228                                            4.10855      \n",
       "1229                                            4.62854      \n",
       "1230                                            4.80574      \n",
       "1231                                             4.7294      \n",
       "1232                                            4.92918      \n",
       "1233                                            4.97326      \n",
       "1234                                            4.90883      \n",
       "1235                                            4.88497      \n",
       "1236                                            5.04632      \n",
       "1237                                            5.66824      \n",
       "1238                                             5.5596      \n",
       "1239                                           5.659604      \n",
       "1240                                            5.50078      \n",
       "1241                                            5.56451      \n",
       "1242                                            5.51411      \n",
       "1243                                            5.37533      \n",
       "1244                                            5.38499      \n",
       "1245                                            5.16799      \n",
       "1246                                            5.20775      \n",
       "\n",
       "     Imports of goods, services and primary income (BoP, current US$)  \\\n",
       "1200                                 55209037596.967484                 \n",
       "1201                                 74529618928.407303                 \n",
       "1202                                 76413998999.817505                 \n",
       "1203                                    78001440947.444                 \n",
       "1204                                 88886296514.065796                 \n",
       "1205                                106985589647.592697                 \n",
       "1206                                150111781262.529205                 \n",
       "1207                                189683207044.255005                 \n",
       "1208                                193847916210.429077                 \n",
       "1209                                194105811517.141113                 \n",
       "1210                                177682884463.377808                 \n",
       "1211                                186221473452.525391                 \n",
       "1212                                191704512585.016113                 \n",
       "1213                                211054614234.333801                 \n",
       "1214                                259217621684.419189                 \n",
       "1215                                319834102568.505493                 \n",
       "1216                                354195194102.199951                 \n",
       "1217                                409080295492.665039                 \n",
       "1218                                390306883806.702026                 \n",
       "1219                                384215950732.250977                 \n",
       "1220                                364933529770.413025                 \n",
       "1221                                392958128532.992004                 \n",
       "1222                                462585966608.459961                 \n",
       "1223                                498908791526.166992                 \n",
       "1224                                 532805772467.72998                 \n",
       "1225                                548359979520.195984                 \n",
       "1226                                609363902554.312012                 \n",
       "1227                                653850298557.562012                 \n",
       "1228                                649237179855.680908                 \n",
       "1229                                654411730429.329956                 \n",
       "1230                                731378364817.219971                 \n",
       "1231                                890638892739.130981                 \n",
       "1232                               1032967765772.557007                 \n",
       "1233                               1281443229817.022949                 \n",
       "1234                               1516706417863.828125                 \n",
       "1235                                1462651369475.76416                 \n",
       "1236                                985216774690.955078                 \n",
       "1237                                1033295861497.39502                 \n",
       "1238                               1177170406483.799072                 \n",
       "1239                               1157443476903.074951                 \n",
       "1240                               1186895179827.759033                 \n",
       "1241                               1233344333285.413086                 \n",
       "1242                               1132717849930.191895                 \n",
       "1243                               1080488648831.101929                 \n",
       "1244                               1137495737490.018066                 \n",
       "1245                               1274343476727.654053                 \n",
       "1246                               1231813737502.578125                 \n",
       "\n",
       "     Income share held by fourth 20% Income share held by highest 10%  \\\n",
       "1200                            22.4                             23.3   \n",
       "1201                            22.4                             23.5   \n",
       "1202                            22.5                             22.6   \n",
       "1203                            22.7                             22.2   \n",
       "1204                            22.6                               22   \n",
       "1205                            22.8                             21.9   \n",
       "1206                            22.7                               22   \n",
       "1207                            22.5                             22.9   \n",
       "1208                            22.5                             23.6   \n",
       "1209                            22.5                             23.7   \n",
       "1210                            22.5                             23.6   \n",
       "1211                            22.7                             23.2   \n",
       "1212                            22.7                             23.8   \n",
       "1213                            22.4                             25.3   \n",
       "1214                            22.1                             26.7   \n",
       "1215                            22.1                             26.9   \n",
       "1216                            22.8                             25.7   \n",
       "1217                            22.6                             27.5   \n",
       "1218                            22.6                             26.7   \n",
       "1219                            22.6                             26.6   \n",
       "1220                            22.7                             26.8   \n",
       "1221                            22.3                             27.8   \n",
       "1222                            22.4                             27.3   \n",
       "1223                            22.4                             27.2   \n",
       "1224                            22.4                             27.6   \n",
       "1225                            22.1                             28.5   \n",
       "1226                            22.1                             28.7   \n",
       "1227                            21.2                             31.1   \n",
       "1228                            21.7                             29.3   \n",
       "1229                              22                             27.7   \n",
       "1230                            22.2                             27.3   \n",
       "1231                            22.2                             27.3   \n",
       "1232                            22.1                             27.8   \n",
       "1233                            21.9                             28.3   \n",
       "1234                            22.5                             26.5   \n",
       "1235                            22.2                             27.6   \n",
       "1236                            22.2                             27.4   \n",
       "1237                            22.3                             26.4   \n",
       "1238                            22.5                             25.9   \n",
       "1239                            22.5                             25.6   \n",
       "1240                            22.8                             25.3   \n",
       "1241                            22.7                             25.6   \n",
       "1242                            22.8                             25.7   \n",
       "1243                            22.7                             25.5   \n",
       "1244                            22.9                             24.9   \n",
       "1245                            22.7                             25.8   \n",
       "1246                            22.9                             25.1   \n",
       "\n",
       "     Income share held by highest 20% Income share held by lowest 10%  \\\n",
       "1200                             38.2                               4   \n",
       "1201                             38.2                             3.8   \n",
       "1202                             37.3                             3.9   \n",
       "1203                             37.1                               4   \n",
       "1204                             36.7                               4   \n",
       "1205                             36.6                             3.9   \n",
       "1206                               37                               4   \n",
       "1207                             37.8                             3.8   \n",
       "1208                             38.6                             3.6   \n",
       "1209                             38.8                             3.6   \n",
       "1210                             38.7                             3.6   \n",
       "1211                               38                             3.6   \n",
       "1212                             39.1                             3.5   \n",
       "1213                             40.2                             3.3   \n",
       "1214                             41.9                             3.2   \n",
       "1215                             42.2                             3.1   \n",
       "1216                             41.1                               3   \n",
       "1217                             42.9                             2.8   \n",
       "1218                             42.3                             2.8   \n",
       "1219                             42.3                             2.8   \n",
       "1220                             42.3                             2.8   \n",
       "1221                             43.2                             2.8   \n",
       "1222                             42.8                             2.8   \n",
       "1223                             42.6                             2.8   \n",
       "1224                             42.9                             2.8   \n",
       "1225                             43.7                             2.7   \n",
       "1226                             43.8                             2.7   \n",
       "1227                             45.8                             2.6   \n",
       "1228                             44.3                             2.7   \n",
       "1229                             42.7                             2.8   \n",
       "1230                             42.3                             2.9   \n",
       "1231                             42.4                             2.9   \n",
       "1232                             42.8                             2.8   \n",
       "1233                             43.3                             2.8   \n",
       "1234                             41.8                             2.8   \n",
       "1235                             42.7                             2.8   \n",
       "1236                             42.5                             2.8   \n",
       "1237                             41.5                               3   \n",
       "1238                               41                             3.1   \n",
       "1239                             40.9                               3   \n",
       "1240                             40.5                             3.1   \n",
       "1241                             40.8                               3   \n",
       "1242                             40.8                               3   \n",
       "1243                             40.6                             2.9   \n",
       "1244                             40.2                             2.9   \n",
       "1245                             41.1                             2.8   \n",
       "1246                             40.2                             2.8   \n",
       "\n",
       "     Income share held by lowest 20% Income share held by second 20%  \\\n",
       "1200                             9.3                            13.2   \n",
       "1201                             9.1                            13.4   \n",
       "1202                             9.3                            13.6   \n",
       "1203                             9.4                            13.5   \n",
       "1204                             9.5                            13.7   \n",
       "1205                             9.3                            13.7   \n",
       "1206                             9.4                            13.6   \n",
       "1207                             9.1                            13.5   \n",
       "1208                             8.7                            13.2   \n",
       "1209                             8.6                            13.1   \n",
       "1210                             8.7                            13.1   \n",
       "1211                             8.7                            13.3   \n",
       "1212                             8.5                            12.9   \n",
       "1213                             8.1                            12.6   \n",
       "1214                             7.7                            12.1   \n",
       "1215                             7.7                              12   \n",
       "1216                             7.6                            12.2   \n",
       "1217                             7.1                            11.6   \n",
       "1218                             7.2                            11.8   \n",
       "1219                             7.1                            11.8   \n",
       "1220                               7                            11.8   \n",
       "1221                               7                            11.6   \n",
       "1222                             7.1                            11.6   \n",
       "1223                             7.1                            11.7   \n",
       "1224                               7                            11.7   \n",
       "1225                             6.9                            11.5   \n",
       "1226                             6.8                            11.5   \n",
       "1227                             6.7                            11.1   \n",
       "1228                             6.9                            11.4   \n",
       "1229                             7.2                            11.9   \n",
       "1230                             7.3                            11.9   \n",
       "1231                             7.3                            11.9   \n",
       "1232                             7.1                            11.8   \n",
       "1233                             7.1                            11.8   \n",
       "1234                             7.2                              12   \n",
       "1235                             7.1                            11.8   \n",
       "1236                             7.2                            11.9   \n",
       "1237                             7.5                            12.2   \n",
       "1238                             7.6                            12.3   \n",
       "1239                             7.6                            12.3   \n",
       "1240                             7.7                            12.3   \n",
       "1241                             7.5                            12.3   \n",
       "1242                             7.5                            12.2   \n",
       "1243                             7.4                            12.3   \n",
       "1244                             7.5                            12.5   \n",
       "1245                             7.3                            12.2   \n",
       "1246                             7.3                            12.4   \n",
       "\n",
       "     Income share held by third 20% Lending interest rate (%)  \\\n",
       "1200                           16.9                         8   \n",
       "1201                             17                         9   \n",
       "1202                           17.3                 10.467692   \n",
       "1203                           17.3                  11.10095   \n",
       "1204                           17.4                  8.911867   \n",
       "1205                           17.5                   9.09315   \n",
       "1206                           17.3                 13.694808   \n",
       "1207                           17.1                 16.312683   \n",
       "1208                           17.1                    13.255   \n",
       "1209                             17                 11.930967   \n",
       "1210                             17                  9.825267   \n",
       "1211                           17.2                    9.6801   \n",
       "1212                           16.9                 12.252983   \n",
       "1213                           16.7                 10.901358   \n",
       "1214                           16.1                    9.7355   \n",
       "1215                             16                 10.095708   \n",
       "1216                           16.4                 13.841808   \n",
       "1217                           15.9                 14.768117   \n",
       "1218                           16.1                 11.694983   \n",
       "1219                           16.2                  9.563483   \n",
       "1220                           16.2                  6.013633   \n",
       "1221                             16                  5.462783   \n",
       "1222                           16.1                  6.693675   \n",
       "1223                           16.2                  5.958533   \n",
       "1224                           16.1                    6.5634   \n",
       "1225                           15.8                   7.23205   \n",
       "1226                           15.8                  5.344408   \n",
       "1227                           15.2                  5.963892   \n",
       "1228                           15.6                  5.122375   \n",
       "1229                           16.2                         4   \n",
       "1230                           16.3                  3.695792   \n",
       "1231                           16.2                  4.379817   \n",
       "1232                           16.2                  4.648675   \n",
       "1233                             16                  4.638258   \n",
       "1234                           16.5                  5.508708   \n",
       "1235                           16.2                  4.675308   \n",
       "1236                           16.2                  0.644867   \n",
       "1237                           16.5                       0.5   \n",
       "1238                           16.6                       0.5   \n",
       "1239                           16.6                       0.5   \n",
       "1240                           16.7                       0.5   \n",
       "1241                           16.7                       0.5   \n",
       "1242                           16.7                        ..   \n",
       "1243                           16.9                        ..   \n",
       "1244                             17                        ..   \n",
       "1245                           16.7                        ..   \n",
       "1246                           17.1                        ..   \n",
       "\n",
       "     Life expectancy at birth, total (years) Number of neonatal deaths  \\\n",
       "1200                                72.32439                      8905   \n",
       "1201                                72.52439                      8211   \n",
       "1202                                72.72439                      7514   \n",
       "1203                                72.77561                      6928   \n",
       "1204                                73.22439                      6324   \n",
       "1205                                73.17561                      6061   \n",
       "1206                                73.27561                      5922   \n",
       "1207                                73.67561                      5605   \n",
       "1208                               74.026829                      5052   \n",
       "1209                               74.178049                      4659   \n",
       "1210                               74.378049                      4389   \n",
       "1211                               74.778049                      4204   \n",
       "1212                               74.629268                      4118   \n",
       "1213                               74.929268                      3974   \n",
       "1214                               75.280488                      3885   \n",
       "1215                               75.380488                      3758   \n",
       "1216                               75.582927                      3586   \n",
       "1217                               75.880488                      3563   \n",
       "1218                               76.082927                      3481   \n",
       "1219                               76.434146                      3392   \n",
       "1220                               76.385366                      3276   \n",
       "1221                               76.885366                      3154   \n",
       "1222                               76.836585                      2992   \n",
       "1223                               77.087805                      2900   \n",
       "1224                               77.210976                      2825   \n",
       "1225                               77.190244                      2763   \n",
       "1226                               77.390244                      2674   \n",
       "1227                               77.741463                      2555   \n",
       "1228                               77.992683                      2470   \n",
       "1229                               78.143902                      2426   \n",
       "1230                               78.446341                      2472   \n",
       "1231                               78.746341                      2504   \n",
       "1232                                79.04878                      2492   \n",
       "1233                                79.24878                      2526   \n",
       "1234                                79.44878                      2546   \n",
       "1235                                    79.6                      2535   \n",
       "1236                                80.05122                      2458   \n",
       "1237                               80.402439                      2435   \n",
       "1238                                80.95122                      2376   \n",
       "1239                               80.904878                      2317   \n",
       "1240                               81.004878                      2176   \n",
       "1241                               81.304878                      2129   \n",
       "1242                               80.956098                      2133   \n",
       "1243                               81.156098                      2146   \n",
       "1244                               81.256098                      2117   \n",
       "1245                               81.256098                      2070   \n",
       "1246                               81.404878                      2017   \n",
       "\n",
       "     Number of under-five deaths  \\\n",
       "1200                       15828   \n",
       "1201                       14424   \n",
       "1202                       13151   \n",
       "1203                       12018   \n",
       "1204                       11113   \n",
       "1205                       10621   \n",
       "1206                       10531   \n",
       "1207                       10356   \n",
       "1208                        9807   \n",
       "1209                        9195   \n",
       "1210                        8794   \n",
       "1211                        8541   \n",
       "1212                        8424   \n",
       "1213                        8312   \n",
       "1214                        8188   \n",
       "1215                        8032   \n",
       "1216                        7680   \n",
       "1217                        7279   \n",
       "1218                        6865   \n",
       "1219                        6397   \n",
       "1220                        5961   \n",
       "1221                        5611   \n",
       "1222                        5342   \n",
       "1223                        5158   \n",
       "1224                        5024   \n",
       "1225                        4879   \n",
       "1226                        4714   \n",
       "1227                        4525   \n",
       "1228                        4360   \n",
       "1229                        4259   \n",
       "1230                        4253   \n",
       "1231                        4296   \n",
       "1232                        4284   \n",
       "1233                        4273   \n",
       "1234                        4290   \n",
       "1235                        4278   \n",
       "1236                        4185   \n",
       "1237                        4072   \n",
       "1238                        3967   \n",
       "1239                        3852   \n",
       "1240                        3691   \n",
       "1241                        3549   \n",
       "1242                        3494   \n",
       "1243                        3457   \n",
       "1244                        3382   \n",
       "1245                        3263   \n",
       "1246                        3136   \n",
       "\n",
       "     Poverty headcount ratio at $6.85 a day (2017 PPP) (% of population)  \\\n",
       "1200                                                0.7                    \n",
       "1201                                                1.2                    \n",
       "1202                                                1.2                    \n",
       "1203                                                0.7                    \n",
       "1204                                                1.2                    \n",
       "1205                                                0.7                    \n",
       "1206                                                0.7                    \n",
       "1207                                                  1                    \n",
       "1208                                                  1                    \n",
       "1209                                                0.5                    \n",
       "1210                                                0.5                    \n",
       "1211                                                0.7                    \n",
       "1212                                                0.7                    \n",
       "1213                                                  1                    \n",
       "1214                                                0.5                    \n",
       "1215                                                0.5                    \n",
       "1216                                                0.7                    \n",
       "1217                                                0.7                    \n",
       "1218                                                0.7                    \n",
       "1219                                                  1                    \n",
       "1220                                                  1                    \n",
       "1221                                                  1                    \n",
       "1222                                                  1                    \n",
       "1223                                                0.7                    \n",
       "1224                                                0.7                    \n",
       "1225                                                0.7                    \n",
       "1226                                                0.7                    \n",
       "1227                                                0.7                    \n",
       "1228                                                0.7                    \n",
       "1229                                                0.7                    \n",
       "1230                                                0.7                    \n",
       "1231                                                0.5                    \n",
       "1232                                                0.7                    \n",
       "1233                                                0.7                    \n",
       "1234                                                0.7                    \n",
       "1235                                                0.7                    \n",
       "1236                                                0.7                    \n",
       "1237                                                0.7                    \n",
       "1238                                                0.7                    \n",
       "1239                                                0.7                    \n",
       "1240                                                0.5                    \n",
       "1241                                                0.5                    \n",
       "1242                                                0.7                    \n",
       "1243                                                0.7                    \n",
       "1244                                                0.7                    \n",
       "1245                                                0.7                    \n",
       "1246                                                0.7                    \n",
       "\n",
       "     Proportion of people living below 50 percent of median income (%)  \\\n",
       "1200                                                5.5                  \n",
       "1201                                                6.5                  \n",
       "1202                                                6.2                  \n",
       "1203                                                  6                  \n",
       "1204                                                  6                  \n",
       "1205                                                  7                  \n",
       "1206                                                  6                  \n",
       "1207                                                  7                  \n",
       "1208                                                8.2                  \n",
       "1209                                                8.5                  \n",
       "1210                                                8.5                  \n",
       "1211                                                8.7                  \n",
       "1212                                                9.2                  \n",
       "1213                                               10.2                  \n",
       "1214                                               10.7                  \n",
       "1215                                               10.2                  \n",
       "1216                                               11.2                  \n",
       "1217                                                 12                  \n",
       "1218                                               12.2                  \n",
       "1219                                               13.2                  \n",
       "1220                                               13.7                  \n",
       "1221                                               12.7                  \n",
       "1222                                               12.5                  \n",
       "1223                                               12.7                  \n",
       "1224                                               13.2                  \n",
       "1225                                                 13                  \n",
       "1226                                               13.2                  \n",
       "1227                                               12.5                  \n",
       "1228                                               12.2                  \n",
       "1229                                                 12                  \n",
       "1230                                               12.2                  \n",
       "1231                                               11.7                  \n",
       "1232                                               12.7                  \n",
       "1233                                               12.5                  \n",
       "1234                                                 13                  \n",
       "1235                                               12.7                  \n",
       "1236                                                 12                  \n",
       "1237                                               11.2                  \n",
       "1238                                               11.5                  \n",
       "1239                                               11.2                  \n",
       "1240                                               11.2                  \n",
       "1241                                                 12                  \n",
       "1242                                                 12                  \n",
       "1243                                               12.2                  \n",
       "1244                                               12.5                  \n",
       "1245                                               12.2                  \n",
       "1246                                                 13                  \n",
       "\n",
       "     Subsidies and other transfers (% of expense) Tax revenue (% of GDP)  \n",
       "1200                                    27.915288              21.071583  \n",
       "1201                                    26.415223              23.746074  \n",
       "1202                                      25.6063              24.265608  \n",
       "1203                                    26.849379              23.800695  \n",
       "1204                                    28.736029              23.325774  \n",
       "1205                                       29.466              22.154222  \n",
       "1206                                    30.093132              21.903779  \n",
       "1207                                    34.780496              23.876066  \n",
       "1208                                    36.432856              24.639426  \n",
       "1209                                    37.384861              25.866139  \n",
       "1210                                    35.488718               24.64853  \n",
       "1211                                    35.535133              24.777631  \n",
       "1212                                    36.684818              25.133573  \n",
       "1213                                    36.946585              24.500684  \n",
       "1214                                    36.700089              23.158795  \n",
       "1215                                    35.695401               22.99075  \n",
       "1216                                    34.733358              22.762272  \n",
       "1217                                    52.841654              24.151295  \n",
       "1218                                    58.390605              24.847137  \n",
       "1219                                    60.440933              24.280316  \n",
       "1220                                    59.043078              22.981092  \n",
       "1221                                    58.124907              23.797095  \n",
       "1222                                    52.408878              23.198023  \n",
       "1223                                    52.067807              23.032994  \n",
       "1224                                    51.549784              23.723521  \n",
       "1225                                    51.415876              25.004453  \n",
       "1226                                    51.631412              25.459656  \n",
       "1227                                    51.930604              26.079901  \n",
       "1228                                    51.417374               25.75972  \n",
       "1229                                    52.083743              24.959988  \n",
       "1230                                    52.811621              24.529264  \n",
       "1231                                    52.688259              25.137447  \n",
       "1232                                    52.125939              25.471852  \n",
       "1233                                    52.014899              25.756414  \n",
       "1234                                    51.468611              25.975293  \n",
       "1235                                     49.37731               26.43903  \n",
       "1236                                    51.491809              24.124901  \n",
       "1237                                    51.710886              25.213272  \n",
       "1238                                    51.756121              25.799072  \n",
       "1239                                    51.738196              25.094134  \n",
       "1240                                    52.634204              25.106941  \n",
       "1241                                    52.330349              24.861031  \n",
       "1242                                    52.929479              24.989875  \n",
       "1243                                    52.122374              25.340529  \n",
       "1244                                    50.314027              25.551269  \n",
       "1245                                    49.505625              25.470495  \n",
       "1246                                    49.914582              25.039315  "
      ]
     },
     "execution_count": 11,
     "metadata": {},
     "output_type": "execute_result"
    }
   ],
   "source": [
    "# Due to limitations in the availability of data spanning 50 years, the following columns will be selected from the available statistics.\n",
    "selected_columns = ['Country Name',\n",
    "                    'Year',\n",
    "                    'Consumer price index (2010 = 100)',\n",
    "                    'GDP (constant 2015 US$)',\n",
    "                    'GDP growth (annual %)',\n",
    "                    'GDP per capita (constant 2015 US$)',\n",
    "                    'GNI growth (annual %)',\n",
    "                    'General government final consumption expenditure (% of GDP)',\n",
    "                    'General government final consumption expenditure (constant 2015 US$)',\n",
    "                    'Government expenditure on education, total (% of GDP)',\n",
    "                    'Imports of goods, services and primary income (BoP, current US$)',\n",
    "                    'Income share held by fourth 20%',\n",
    "                    'Income share held by highest 10%',\n",
    "                    'Income share held by highest 20%',\n",
    "                    'Income share held by lowest 10%',\n",
    "                    'Income share held by lowest 20%',\n",
    "                    'Income share held by second 20%',\n",
    "                    'Income share held by third 20%',\n",
    "                    'Lending interest rate (%)',\n",
    "                    'Life expectancy at birth, total (years)',\n",
    "                    'Number of neonatal deaths',\n",
    "                    'Number of under-five deaths',\n",
    "                    'Poverty headcount ratio at $6.85 a day (2017 PPP) (% of population)',\n",
    "                    'Proportion of people living below 50 percent of median income (%)',\n",
    "                    'Subsidies and other transfers (% of expense)',\n",
    "                    'Tax revenue (% of GDP)']\n",
    "\n",
    "# The COVID-affected period (2020-2022), which may introduce confounding or interference, will be excluded.\n",
    "# The analysis will concentrate on the data from 1973 to 2019.\n",
    "\n",
    "excluded_df = group_uk[((group_uk['Year'] < 2020) | (group_uk['Year'] > 2022))]\n",
    "analysis_df = excluded_df[(excluded_df['Year'] >= 1973) & (excluded_df['Year'] <= 2019)]\n",
    "selected_uk_df = analysis_df[selected_columns]\n",
    "\n",
    "# Display the new dataframe\n",
    "selected_uk_df.head(55)\n",
    "\n"
   ]
  },
  {
   "cell_type": "code",
   "execution_count": 12,
   "id": "8e0ad143",
   "metadata": {
    "scrolled": false
   },
   "outputs": [
    {
     "data": {
      "text/html": [
       "<div>\n",
       "<style scoped>\n",
       "    .dataframe tbody tr th:only-of-type {\n",
       "        vertical-align: middle;\n",
       "    }\n",
       "\n",
       "    .dataframe tbody tr th {\n",
       "        vertical-align: top;\n",
       "    }\n",
       "\n",
       "    .dataframe thead th {\n",
       "        text-align: right;\n",
       "    }\n",
       "</style>\n",
       "<table border=\"1\" class=\"dataframe\">\n",
       "  <thead>\n",
       "    <tr style=\"text-align: right;\">\n",
       "      <th></th>\n",
       "      <th>Country Name</th>\n",
       "      <th>Year</th>\n",
       "      <th>Consumer price index (2010 = 100)</th>\n",
       "      <th>GDP (constant 2015 US$)</th>\n",
       "      <th>GDP growth (annual %)</th>\n",
       "      <th>GDP per capita (constant 2015 US$)</th>\n",
       "      <th>GNI growth (annual %)</th>\n",
       "      <th>General government final consumption expenditure (% of GDP)</th>\n",
       "      <th>General government final consumption expenditure (constant 2015 US$)</th>\n",
       "      <th>Government expenditure on education, total (% of GDP)</th>\n",
       "      <th>Imports of goods, services and primary income (BoP, current US$)</th>\n",
       "      <th>Income share held by fourth 20%</th>\n",
       "      <th>Income share held by highest 10%</th>\n",
       "      <th>Income share held by highest 20%</th>\n",
       "      <th>Income share held by lowest 10%</th>\n",
       "      <th>Income share held by lowest 20%</th>\n",
       "      <th>Income share held by second 20%</th>\n",
       "      <th>Income share held by third 20%</th>\n",
       "      <th>Lending interest rate (%)</th>\n",
       "      <th>Life expectancy at birth, total (years)</th>\n",
       "      <th>Number of neonatal deaths</th>\n",
       "      <th>Number of under-five deaths</th>\n",
       "      <th>Poverty headcount ratio at $6.85 a day (2017 PPP) (% of population)</th>\n",
       "      <th>Proportion of people living below 50 percent of median income (%)</th>\n",
       "      <th>Subsidies and other transfers (% of expense)</th>\n",
       "      <th>Tax revenue (% of GDP)</th>\n",
       "    </tr>\n",
       "  </thead>\n",
       "  <tbody>\n",
       "    <tr>\n",
       "      <th>1200</th>\n",
       "      <td>United Kingdom</td>\n",
       "      <td>1973</td>\n",
       "      <td>11.94469</td>\n",
       "      <td>1262757606009.822754</td>\n",
       "      <td>6.523848</td>\n",
       "      <td>22471.18489</td>\n",
       "      <td>6.759535</td>\n",
       "      <td>18.271</td>\n",
       "      <td>289433772133.422119</td>\n",
       "      <td>5.448610</td>\n",
       "      <td>55209037596.967484</td>\n",
       "      <td>22.4</td>\n",
       "      <td>23.3</td>\n",
       "      <td>38.2</td>\n",
       "      <td>4</td>\n",
       "      <td>9.3</td>\n",
       "      <td>13.2</td>\n",
       "      <td>16.9</td>\n",
       "      <td>8.000000</td>\n",
       "      <td>72.32439</td>\n",
       "      <td>8905</td>\n",
       "      <td>15828</td>\n",
       "      <td>0.7</td>\n",
       "      <td>5.5</td>\n",
       "      <td>27.915288</td>\n",
       "      <td>21.071583</td>\n",
       "    </tr>\n",
       "    <tr>\n",
       "      <th>1201</th>\n",
       "      <td>United Kingdom</td>\n",
       "      <td>1974</td>\n",
       "      <td>13.861098</td>\n",
       "      <td>1231385605650.851074</td>\n",
       "      <td>-2.484404</td>\n",
       "      <td>21899.096124</td>\n",
       "      <td>-2.495104</td>\n",
       "      <td>20.162522</td>\n",
       "      <td>295221264556.690186</td>\n",
       "      <td>5.391000</td>\n",
       "      <td>74529618928.407303</td>\n",
       "      <td>22.4</td>\n",
       "      <td>23.5</td>\n",
       "      <td>38.2</td>\n",
       "      <td>3.8</td>\n",
       "      <td>9.1</td>\n",
       "      <td>13.4</td>\n",
       "      <td>17</td>\n",
       "      <td>9.000000</td>\n",
       "      <td>72.52439</td>\n",
       "      <td>8211</td>\n",
       "      <td>14424</td>\n",
       "      <td>1.2</td>\n",
       "      <td>6.5</td>\n",
       "      <td>26.415223</td>\n",
       "      <td>23.746074</td>\n",
       "    </tr>\n",
       "    <tr>\n",
       "      <th>1202</th>\n",
       "      <td>United Kingdom</td>\n",
       "      <td>1975</td>\n",
       "      <td>17.216493</td>\n",
       "      <td>1213239297438.027344</td>\n",
       "      <td>-1.47365</td>\n",
       "      <td>21577.981948</td>\n",
       "      <td>-1.775763</td>\n",
       "      <td>22.441843</td>\n",
       "      <td>312046373513.181458</td>\n",
       "      <td>6.268780</td>\n",
       "      <td>76413998999.817505</td>\n",
       "      <td>22.5</td>\n",
       "      <td>22.6</td>\n",
       "      <td>37.3</td>\n",
       "      <td>3.9</td>\n",
       "      <td>9.3</td>\n",
       "      <td>13.6</td>\n",
       "      <td>17.3</td>\n",
       "      <td>10.467692</td>\n",
       "      <td>72.72439</td>\n",
       "      <td>7514</td>\n",
       "      <td>13151</td>\n",
       "      <td>1.2</td>\n",
       "      <td>6.2</td>\n",
       "      <td>25.6063</td>\n",
       "      <td>24.265608</td>\n",
       "    </tr>\n",
       "    <tr>\n",
       "      <th>1203</th>\n",
       "      <td>United Kingdom</td>\n",
       "      <td>1976</td>\n",
       "      <td>20.067463</td>\n",
       "      <td>1248547789733.673096</td>\n",
       "      <td>2.910266</td>\n",
       "      <td>22211.422837</td>\n",
       "      <td>2.976298</td>\n",
       "      <td>22.183646</td>\n",
       "      <td>317664594276.089294</td>\n",
       "      <td>6.424220</td>\n",
       "      <td>78001440947.444</td>\n",
       "      <td>22.7</td>\n",
       "      <td>22.2</td>\n",
       "      <td>37.1</td>\n",
       "      <td>4</td>\n",
       "      <td>9.4</td>\n",
       "      <td>13.5</td>\n",
       "      <td>17.3</td>\n",
       "      <td>11.100950</td>\n",
       "      <td>72.77561</td>\n",
       "      <td>6928</td>\n",
       "      <td>12018</td>\n",
       "      <td>0.7</td>\n",
       "      <td>6</td>\n",
       "      <td>26.849379</td>\n",
       "      <td>23.800695</td>\n",
       "    </tr>\n",
       "    <tr>\n",
       "      <th>1204</th>\n",
       "      <td>United Kingdom</td>\n",
       "      <td>1977</td>\n",
       "      <td>23.246202</td>\n",
       "      <td>1279233979840.417725</td>\n",
       "      <td>2.457751</td>\n",
       "      <td>22764.806641</td>\n",
       "      <td>1.941189</td>\n",
       "      <td>20.790834</td>\n",
       "      <td>313217842913.981201</td>\n",
       "      <td>6.063350</td>\n",
       "      <td>88886296514.065796</td>\n",
       "      <td>22.6</td>\n",
       "      <td>22</td>\n",
       "      <td>36.7</td>\n",
       "      <td>4</td>\n",
       "      <td>9.5</td>\n",
       "      <td>13.7</td>\n",
       "      <td>17.4</td>\n",
       "      <td>8.911867</td>\n",
       "      <td>73.22439</td>\n",
       "      <td>6324</td>\n",
       "      <td>11113</td>\n",
       "      <td>1.2</td>\n",
       "      <td>6</td>\n",
       "      <td>28.736029</td>\n",
       "      <td>23.325774</td>\n",
       "    </tr>\n",
       "    <tr>\n",
       "      <th>1205</th>\n",
       "      <td>United Kingdom</td>\n",
       "      <td>1978</td>\n",
       "      <td>25.167069</td>\n",
       "      <td>1333016308392.240234</td>\n",
       "      <td>4.20426</td>\n",
       "      <td>23720.62697</td>\n",
       "      <td>4.330518</td>\n",
       "      <td>20.279237</td>\n",
       "      <td>318854872148.410522</td>\n",
       "      <td>4.959497</td>\n",
       "      <td>106985589647.592697</td>\n",
       "      <td>22.8</td>\n",
       "      <td>21.9</td>\n",
       "      <td>36.6</td>\n",
       "      <td>3.9</td>\n",
       "      <td>9.3</td>\n",
       "      <td>13.7</td>\n",
       "      <td>17.5</td>\n",
       "      <td>9.093150</td>\n",
       "      <td>73.17561</td>\n",
       "      <td>6061</td>\n",
       "      <td>10621</td>\n",
       "      <td>0.7</td>\n",
       "      <td>7</td>\n",
       "      <td>29.466</td>\n",
       "      <td>22.154222</td>\n",
       "    </tr>\n",
       "    <tr>\n",
       "      <th>1206</th>\n",
       "      <td>United Kingdom</td>\n",
       "      <td>1979</td>\n",
       "      <td>28.544811</td>\n",
       "      <td>1382991310974.798828</td>\n",
       "      <td>3.749017</td>\n",
       "      <td>24587.844966</td>\n",
       "      <td>3.53675</td>\n",
       "      <td>19.873144</td>\n",
       "      <td>324010953900.75824</td>\n",
       "      <td>4.959497</td>\n",
       "      <td>150111781262.529205</td>\n",
       "      <td>22.7</td>\n",
       "      <td>22</td>\n",
       "      <td>37</td>\n",
       "      <td>4</td>\n",
       "      <td>9.4</td>\n",
       "      <td>13.6</td>\n",
       "      <td>17.3</td>\n",
       "      <td>13.694808</td>\n",
       "      <td>73.27561</td>\n",
       "      <td>5922</td>\n",
       "      <td>10531</td>\n",
       "      <td>0.7</td>\n",
       "      <td>6</td>\n",
       "      <td>30.093132</td>\n",
       "      <td>21.903779</td>\n",
       "    </tr>\n",
       "    <tr>\n",
       "      <th>1207</th>\n",
       "      <td>United Kingdom</td>\n",
       "      <td>1980</td>\n",
       "      <td>33.673151</td>\n",
       "      <td>1354897671049.24292</td>\n",
       "      <td>-2.031368</td>\n",
       "      <td>24059.602837</td>\n",
       "      <td>-2.288942</td>\n",
       "      <td>21.31376</td>\n",
       "      <td>329062248434.787659</td>\n",
       "      <td>5.070120</td>\n",
       "      <td>189683207044.255005</td>\n",
       "      <td>22.5</td>\n",
       "      <td>22.9</td>\n",
       "      <td>37.8</td>\n",
       "      <td>3.8</td>\n",
       "      <td>9.1</td>\n",
       "      <td>13.5</td>\n",
       "      <td>17.1</td>\n",
       "      <td>16.312683</td>\n",
       "      <td>73.67561</td>\n",
       "      <td>5605</td>\n",
       "      <td>10356</td>\n",
       "      <td>1</td>\n",
       "      <td>7</td>\n",
       "      <td>34.780496</td>\n",
       "      <td>23.876066</td>\n",
       "    </tr>\n",
       "    <tr>\n",
       "      <th>1208</th>\n",
       "      <td>United Kingdom</td>\n",
       "      <td>1981</td>\n",
       "      <td>37.672385</td>\n",
       "      <td>1344224548669.106689</td>\n",
       "      <td>-0.787744</td>\n",
       "      <td>23861.764281</td>\n",
       "      <td>-0.733292</td>\n",
       "      <td>21.755479</td>\n",
       "      <td>329795737574.127197</td>\n",
       "      <td>5.288420</td>\n",
       "      <td>193847916210.429077</td>\n",
       "      <td>22.5</td>\n",
       "      <td>23.6</td>\n",
       "      <td>38.6</td>\n",
       "      <td>3.6</td>\n",
       "      <td>8.7</td>\n",
       "      <td>13.2</td>\n",
       "      <td>17.1</td>\n",
       "      <td>13.255000</td>\n",
       "      <td>74.026829</td>\n",
       "      <td>5052</td>\n",
       "      <td>9807</td>\n",
       "      <td>1</td>\n",
       "      <td>8.2</td>\n",
       "      <td>36.432856</td>\n",
       "      <td>24.639426</td>\n",
       "    </tr>\n",
       "    <tr>\n",
       "      <th>1209</th>\n",
       "      <td>United Kingdom</td>\n",
       "      <td>1982</td>\n",
       "      <td>40.911782</td>\n",
       "      <td>1371040366003.380615</td>\n",
       "      <td>1.994891</td>\n",
       "      <td>24346.505423</td>\n",
       "      <td>1.892586</td>\n",
       "      <td>21.625081</td>\n",
       "      <td>332184378318.468506</td>\n",
       "      <td>5.188700</td>\n",
       "      <td>194105811517.141113</td>\n",
       "      <td>22.5</td>\n",
       "      <td>23.7</td>\n",
       "      <td>38.8</td>\n",
       "      <td>3.6</td>\n",
       "      <td>8.6</td>\n",
       "      <td>13.1</td>\n",
       "      <td>17</td>\n",
       "      <td>11.930967</td>\n",
       "      <td>74.178049</td>\n",
       "      <td>4659</td>\n",
       "      <td>9195</td>\n",
       "      <td>0.5</td>\n",
       "      <td>8.5</td>\n",
       "      <td>37.384861</td>\n",
       "      <td>25.866139</td>\n",
       "    </tr>\n",
       "  </tbody>\n",
       "</table>\n",
       "</div>"
      ],
      "text/plain": [
       "        Country Name  Year Consumer price index (2010 = 100)  \\\n",
       "1200  United Kingdom  1973                          11.94469   \n",
       "1201  United Kingdom  1974                         13.861098   \n",
       "1202  United Kingdom  1975                         17.216493   \n",
       "1203  United Kingdom  1976                         20.067463   \n",
       "1204  United Kingdom  1977                         23.246202   \n",
       "1205  United Kingdom  1978                         25.167069   \n",
       "1206  United Kingdom  1979                         28.544811   \n",
       "1207  United Kingdom  1980                         33.673151   \n",
       "1208  United Kingdom  1981                         37.672385   \n",
       "1209  United Kingdom  1982                         40.911782   \n",
       "\n",
       "     GDP (constant 2015 US$) GDP growth (annual %)  \\\n",
       "1200    1262757606009.822754              6.523848   \n",
       "1201    1231385605650.851074             -2.484404   \n",
       "1202    1213239297438.027344              -1.47365   \n",
       "1203    1248547789733.673096              2.910266   \n",
       "1204    1279233979840.417725              2.457751   \n",
       "1205    1333016308392.240234               4.20426   \n",
       "1206    1382991310974.798828              3.749017   \n",
       "1207     1354897671049.24292             -2.031368   \n",
       "1208    1344224548669.106689             -0.787744   \n",
       "1209    1371040366003.380615              1.994891   \n",
       "\n",
       "     GDP per capita (constant 2015 US$) GNI growth (annual %)  \\\n",
       "1200                        22471.18489              6.759535   \n",
       "1201                       21899.096124             -2.495104   \n",
       "1202                       21577.981948             -1.775763   \n",
       "1203                       22211.422837              2.976298   \n",
       "1204                       22764.806641              1.941189   \n",
       "1205                        23720.62697              4.330518   \n",
       "1206                       24587.844966               3.53675   \n",
       "1207                       24059.602837             -2.288942   \n",
       "1208                       23861.764281             -0.733292   \n",
       "1209                       24346.505423              1.892586   \n",
       "\n",
       "     General government final consumption expenditure (% of GDP)  \\\n",
       "1200                                             18.271            \n",
       "1201                                          20.162522            \n",
       "1202                                          22.441843            \n",
       "1203                                          22.183646            \n",
       "1204                                          20.790834            \n",
       "1205                                          20.279237            \n",
       "1206                                          19.873144            \n",
       "1207                                           21.31376            \n",
       "1208                                          21.755479            \n",
       "1209                                          21.625081            \n",
       "\n",
       "     General government final consumption expenditure (constant 2015 US$)  \\\n",
       "1200                                289433772133.422119                     \n",
       "1201                                295221264556.690186                     \n",
       "1202                                312046373513.181458                     \n",
       "1203                                317664594276.089294                     \n",
       "1204                                313217842913.981201                     \n",
       "1205                                318854872148.410522                     \n",
       "1206                                 324010953900.75824                     \n",
       "1207                                329062248434.787659                     \n",
       "1208                                329795737574.127197                     \n",
       "1209                                332184378318.468506                     \n",
       "\n",
       "      Government expenditure on education, total (% of GDP)  \\\n",
       "1200                                           5.448610       \n",
       "1201                                           5.391000       \n",
       "1202                                           6.268780       \n",
       "1203                                           6.424220       \n",
       "1204                                           6.063350       \n",
       "1205                                           4.959497       \n",
       "1206                                           4.959497       \n",
       "1207                                           5.070120       \n",
       "1208                                           5.288420       \n",
       "1209                                           5.188700       \n",
       "\n",
       "     Imports of goods, services and primary income (BoP, current US$)  \\\n",
       "1200                                 55209037596.967484                 \n",
       "1201                                 74529618928.407303                 \n",
       "1202                                 76413998999.817505                 \n",
       "1203                                    78001440947.444                 \n",
       "1204                                 88886296514.065796                 \n",
       "1205                                106985589647.592697                 \n",
       "1206                                150111781262.529205                 \n",
       "1207                                189683207044.255005                 \n",
       "1208                                193847916210.429077                 \n",
       "1209                                194105811517.141113                 \n",
       "\n",
       "     Income share held by fourth 20% Income share held by highest 10%  \\\n",
       "1200                            22.4                             23.3   \n",
       "1201                            22.4                             23.5   \n",
       "1202                            22.5                             22.6   \n",
       "1203                            22.7                             22.2   \n",
       "1204                            22.6                               22   \n",
       "1205                            22.8                             21.9   \n",
       "1206                            22.7                               22   \n",
       "1207                            22.5                             22.9   \n",
       "1208                            22.5                             23.6   \n",
       "1209                            22.5                             23.7   \n",
       "\n",
       "     Income share held by highest 20% Income share held by lowest 10%  \\\n",
       "1200                             38.2                               4   \n",
       "1201                             38.2                             3.8   \n",
       "1202                             37.3                             3.9   \n",
       "1203                             37.1                               4   \n",
       "1204                             36.7                               4   \n",
       "1205                             36.6                             3.9   \n",
       "1206                               37                               4   \n",
       "1207                             37.8                             3.8   \n",
       "1208                             38.6                             3.6   \n",
       "1209                             38.8                             3.6   \n",
       "\n",
       "     Income share held by lowest 20% Income share held by second 20%  \\\n",
       "1200                             9.3                            13.2   \n",
       "1201                             9.1                            13.4   \n",
       "1202                             9.3                            13.6   \n",
       "1203                             9.4                            13.5   \n",
       "1204                             9.5                            13.7   \n",
       "1205                             9.3                            13.7   \n",
       "1206                             9.4                            13.6   \n",
       "1207                             9.1                            13.5   \n",
       "1208                             8.7                            13.2   \n",
       "1209                             8.6                            13.1   \n",
       "\n",
       "     Income share held by third 20%  Lending interest rate (%)  \\\n",
       "1200                           16.9                   8.000000   \n",
       "1201                             17                   9.000000   \n",
       "1202                           17.3                  10.467692   \n",
       "1203                           17.3                  11.100950   \n",
       "1204                           17.4                   8.911867   \n",
       "1205                           17.5                   9.093150   \n",
       "1206                           17.3                  13.694808   \n",
       "1207                           17.1                  16.312683   \n",
       "1208                           17.1                  13.255000   \n",
       "1209                             17                  11.930967   \n",
       "\n",
       "     Life expectancy at birth, total (years) Number of neonatal deaths  \\\n",
       "1200                                72.32439                      8905   \n",
       "1201                                72.52439                      8211   \n",
       "1202                                72.72439                      7514   \n",
       "1203                                72.77561                      6928   \n",
       "1204                                73.22439                      6324   \n",
       "1205                                73.17561                      6061   \n",
       "1206                                73.27561                      5922   \n",
       "1207                                73.67561                      5605   \n",
       "1208                               74.026829                      5052   \n",
       "1209                               74.178049                      4659   \n",
       "\n",
       "     Number of under-five deaths  \\\n",
       "1200                       15828   \n",
       "1201                       14424   \n",
       "1202                       13151   \n",
       "1203                       12018   \n",
       "1204                       11113   \n",
       "1205                       10621   \n",
       "1206                       10531   \n",
       "1207                       10356   \n",
       "1208                        9807   \n",
       "1209                        9195   \n",
       "\n",
       "     Poverty headcount ratio at $6.85 a day (2017 PPP) (% of population)  \\\n",
       "1200                                                0.7                    \n",
       "1201                                                1.2                    \n",
       "1202                                                1.2                    \n",
       "1203                                                0.7                    \n",
       "1204                                                1.2                    \n",
       "1205                                                0.7                    \n",
       "1206                                                0.7                    \n",
       "1207                                                  1                    \n",
       "1208                                                  1                    \n",
       "1209                                                0.5                    \n",
       "\n",
       "     Proportion of people living below 50 percent of median income (%)  \\\n",
       "1200                                                5.5                  \n",
       "1201                                                6.5                  \n",
       "1202                                                6.2                  \n",
       "1203                                                  6                  \n",
       "1204                                                  6                  \n",
       "1205                                                  7                  \n",
       "1206                                                  6                  \n",
       "1207                                                  7                  \n",
       "1208                                                8.2                  \n",
       "1209                                                8.5                  \n",
       "\n",
       "     Subsidies and other transfers (% of expense) Tax revenue (% of GDP)  \n",
       "1200                                    27.915288              21.071583  \n",
       "1201                                    26.415223              23.746074  \n",
       "1202                                      25.6063              24.265608  \n",
       "1203                                    26.849379              23.800695  \n",
       "1204                                    28.736029              23.325774  \n",
       "1205                                       29.466              22.154222  \n",
       "1206                                    30.093132              21.903779  \n",
       "1207                                    34.780496              23.876066  \n",
       "1208                                    36.432856              24.639426  \n",
       "1209                                    37.384861              25.866139  "
      ]
     },
     "execution_count": 12,
     "metadata": {},
     "output_type": "execute_result"
    }
   ],
   "source": [
    "#There are missing values in the 'Lending interest rate (%)' column. Values for Year 2015 - 2019 are missing\n",
    "# Similarly values for 1978, 1979,1993 and 1997 are missing for 'Government expenditure on education, total (% of GDP)' column\n",
    "#To allow for smooth operation in a way that does not impact the data negatively will be deviced to fill it up \n",
    "\n",
    "# Import libraries\n",
    "from sklearn.impute import SimpleImputer\n",
    "\n",
    "# Create a copy of the DataFrame to avoid modifying the original data\n",
    "selected_uk_df_copy = selected_uk_df.copy()\n",
    "\n",
    "# Convert '..' to NaN as NaN values are typically treated as missing values in pandas and scikit-learn\n",
    "\n",
    "for column in ['Lending interest rate (%)', 'Government expenditure on education, total (% of GDP)']:\n",
    "    selected_uk_df_copy[column] = selected_uk_df_copy[column].replace('..', float('NaN'))\n",
    "\n",
    "# Perform imputation to fill in missing values in both columns\n",
    "imputer = SimpleImputer(strategy='mean')\n",
    "selected_uk_df_copy[['Lending interest rate (%)', 'Government expenditure on education, total (% of GDP)']] = imputer.fit_transform(selected_uk_df_copy[['Lending interest rate (%)', 'Government expenditure on education, total (% of GDP)']])\n",
    "\n",
    "# Display the updated DataFrame\n",
    "selected_uk_df_copy.head(10)\n",
    "\n"
   ]
  },
  {
   "cell_type": "code",
   "execution_count": 13,
   "id": "fd78dc6c",
   "metadata": {},
   "outputs": [],
   "source": [
    "# the data was imported as object. As part of  getting it ready for statistical analysis, it will be converted to float.\n",
    "# Get all column names except 'Country Name' and 'Year'\n",
    "cols_to_convert = [col for col in selected_uk_df_copy.columns if col not in ['Country Name', 'Year']]\n",
    "\n",
    "# Convert the selected columns to float\n",
    "for col in cols_to_convert:\n",
    "    selected_uk_df_copy[col] = selected_uk_df_copy[col].astype(float)\n",
    "\n"
   ]
  },
  {
   "cell_type": "markdown",
   "id": "6d9012d6",
   "metadata": {},
   "source": [
    "# Exploratory Data Analysis (EDA) and Visualisation"
   ]
  },
  {
   "cell_type": "code",
   "execution_count": 14,
   "id": "b969b9ae",
   "metadata": {
    "scrolled": false
   },
   "outputs": [
    {
     "name": "stdout",
     "output_type": "stream",
     "text": [
      "Requirement already satisfied: plotly in c:\\users\\prett\\anaconda3\\lib\\site-packages (5.9.0)\n",
      "Requirement already satisfied: tenacity>=6.2.0 in c:\\users\\prett\\anaconda3\\lib\\site-packages (from plotly) (8.0.1)\n",
      "Note: you may need to restart the kernel to use updated packages.\n"
     ]
    }
   ],
   "source": [
    "pip install plotly\n"
   ]
  },
  {
   "cell_type": "code",
   "execution_count": 15,
   "id": "bc7e170c",
   "metadata": {
    "scrolled": true
   },
   "outputs": [
    {
     "data": {
      "text/html": [
       "<div>\n",
       "<style scoped>\n",
       "    .dataframe tbody tr th:only-of-type {\n",
       "        vertical-align: middle;\n",
       "    }\n",
       "\n",
       "    .dataframe tbody tr th {\n",
       "        vertical-align: top;\n",
       "    }\n",
       "\n",
       "    .dataframe thead th {\n",
       "        text-align: right;\n",
       "    }\n",
       "</style>\n",
       "<table border=\"1\" class=\"dataframe\">\n",
       "  <thead>\n",
       "    <tr style=\"text-align: right;\">\n",
       "      <th></th>\n",
       "      <th>Consumer price index (2010 = 100)</th>\n",
       "      <th>GDP (constant 2015 US$)</th>\n",
       "      <th>GDP growth (annual %)</th>\n",
       "      <th>GDP per capita (constant 2015 US$)</th>\n",
       "      <th>GNI growth (annual %)</th>\n",
       "      <th>General government final consumption expenditure (% of GDP)</th>\n",
       "      <th>General government final consumption expenditure (constant 2015 US$)</th>\n",
       "      <th>Government expenditure on education, total (% of GDP)</th>\n",
       "      <th>Imports of goods, services and primary income (BoP, current US$)</th>\n",
       "      <th>Income share held by fourth 20%</th>\n",
       "      <th>Income share held by highest 10%</th>\n",
       "      <th>Income share held by highest 20%</th>\n",
       "      <th>Income share held by lowest 10%</th>\n",
       "      <th>Income share held by lowest 20%</th>\n",
       "      <th>Income share held by second 20%</th>\n",
       "      <th>Income share held by third 20%</th>\n",
       "      <th>Lending interest rate (%)</th>\n",
       "      <th>Life expectancy at birth, total (years)</th>\n",
       "      <th>Number of neonatal deaths</th>\n",
       "      <th>Number of under-five deaths</th>\n",
       "      <th>Poverty headcount ratio at $6.85 a day (2017 PPP) (% of population)</th>\n",
       "      <th>Proportion of people living below 50 percent of median income (%)</th>\n",
       "      <th>Subsidies and other transfers (% of expense)</th>\n",
       "      <th>Tax revenue (% of GDP)</th>\n",
       "    </tr>\n",
       "  </thead>\n",
       "  <tbody>\n",
       "    <tr>\n",
       "      <th>count</th>\n",
       "      <td>47.000000</td>\n",
       "      <td>4.700000e+01</td>\n",
       "      <td>47.000000</td>\n",
       "      <td>47.000000</td>\n",
       "      <td>47.000000</td>\n",
       "      <td>47.000000</td>\n",
       "      <td>4.700000e+01</td>\n",
       "      <td>47.000000</td>\n",
       "      <td>4.700000e+01</td>\n",
       "      <td>47.000000</td>\n",
       "      <td>47.000000</td>\n",
       "      <td>47.000000</td>\n",
       "      <td>47.000000</td>\n",
       "      <td>47.000000</td>\n",
       "      <td>47.000000</td>\n",
       "      <td>47.000000</td>\n",
       "      <td>47.000000</td>\n",
       "      <td>47.000000</td>\n",
       "      <td>47.000000</td>\n",
       "      <td>47.000000</td>\n",
       "      <td>47.000000</td>\n",
       "      <td>47.000000</td>\n",
       "      <td>47.000000</td>\n",
       "      <td>47.000000</td>\n",
       "    </tr>\n",
       "    <tr>\n",
       "      <th>mean</th>\n",
       "      <td>70.472945</td>\n",
       "      <td>2.088202e+12</td>\n",
       "      <td>2.139359</td>\n",
       "      <td>34745.577244</td>\n",
       "      <td>2.137217</td>\n",
       "      <td>19.510607</td>\n",
       "      <td>4.244105e+11</td>\n",
       "      <td>4.959497</td>\n",
       "      <td>6.171216e+11</td>\n",
       "      <td>22.427660</td>\n",
       "      <td>25.823404</td>\n",
       "      <td>40.946809</td>\n",
       "      <td>3.131915</td>\n",
       "      <td>7.765957</td>\n",
       "      <td>12.336170</td>\n",
       "      <td>16.525532</td>\n",
       "      <td>7.456490</td>\n",
       "      <td>77.091775</td>\n",
       "      <td>3638.617021</td>\n",
       "      <td>6619.382979</td>\n",
       "      <td>0.746809</td>\n",
       "      <td>10.776596</td>\n",
       "      <td>45.441375</td>\n",
       "      <td>24.463764</td>\n",
       "    </tr>\n",
       "    <tr>\n",
       "      <th>std</th>\n",
       "      <td>31.211501</td>\n",
       "      <td>6.179838e+11</td>\n",
       "      <td>2.111049</td>\n",
       "      <td>8516.761652</td>\n",
       "      <td>2.205770</td>\n",
       "      <td>1.638306</td>\n",
       "      <td>1.001055e+11</td>\n",
       "      <td>0.590565</td>\n",
       "      <td>4.477972e+11</td>\n",
       "      <td>0.330811</td>\n",
       "      <td>2.156508</td>\n",
       "      <td>2.259362</td>\n",
       "      <td>0.443360</td>\n",
       "      <td>0.860050</td>\n",
       "      <td>0.720032</td>\n",
       "      <td>0.530983</td>\n",
       "      <td>4.032967</td>\n",
       "      <td>2.894823</td>\n",
       "      <td>1737.608333</td>\n",
       "      <td>3235.538827</td>\n",
       "      <td>0.183979</td>\n",
       "      <td>2.449065</td>\n",
       "      <td>10.269307</td>\n",
       "      <td>1.185510</td>\n",
       "    </tr>\n",
       "    <tr>\n",
       "      <th>min</th>\n",
       "      <td>11.944690</td>\n",
       "      <td>1.213239e+12</td>\n",
       "      <td>-4.510486</td>\n",
       "      <td>21577.981948</td>\n",
       "      <td>-4.065061</td>\n",
       "      <td>16.070620</td>\n",
       "      <td>2.894338e+11</td>\n",
       "      <td>3.989180</td>\n",
       "      <td>5.520904e+10</td>\n",
       "      <td>21.200000</td>\n",
       "      <td>21.900000</td>\n",
       "      <td>36.600000</td>\n",
       "      <td>2.600000</td>\n",
       "      <td>6.700000</td>\n",
       "      <td>11.100000</td>\n",
       "      <td>15.200000</td>\n",
       "      <td>0.500000</td>\n",
       "      <td>72.324390</td>\n",
       "      <td>2017.000000</td>\n",
       "      <td>3136.000000</td>\n",
       "      <td>0.500000</td>\n",
       "      <td>5.500000</td>\n",
       "      <td>25.606300</td>\n",
       "      <td>21.071583</td>\n",
       "    </tr>\n",
       "    <tr>\n",
       "      <th>25%</th>\n",
       "      <td>46.284245</td>\n",
       "      <td>1.491652e+12</td>\n",
       "      <td>1.654665</td>\n",
       "      <td>26406.802031</td>\n",
       "      <td>1.184476</td>\n",
       "      <td>18.593514</td>\n",
       "      <td>3.416209e+11</td>\n",
       "      <td>4.487465</td>\n",
       "      <td>1.939769e+11</td>\n",
       "      <td>22.200000</td>\n",
       "      <td>23.750000</td>\n",
       "      <td>38.950000</td>\n",
       "      <td>2.800000</td>\n",
       "      <td>7.100000</td>\n",
       "      <td>11.800000</td>\n",
       "      <td>16.150000</td>\n",
       "      <td>4.898842</td>\n",
       "      <td>74.703659</td>\n",
       "      <td>2464.000000</td>\n",
       "      <td>4256.000000</td>\n",
       "      <td>0.700000</td>\n",
       "      <td>8.950000</td>\n",
       "      <td>36.064128</td>\n",
       "      <td>23.771584</td>\n",
       "    </tr>\n",
       "    <tr>\n",
       "      <th>50%</th>\n",
       "      <td>76.040318</td>\n",
       "      <td>1.996070e+12</td>\n",
       "      <td>2.430073</td>\n",
       "      <td>34316.219715</td>\n",
       "      <td>2.382347</td>\n",
       "      <td>19.656798</td>\n",
       "      <td>3.786357e+11</td>\n",
       "      <td>4.959497</td>\n",
       "      <td>4.989088e+11</td>\n",
       "      <td>22.500000</td>\n",
       "      <td>25.900000</td>\n",
       "      <td>41.100000</td>\n",
       "      <td>2.900000</td>\n",
       "      <td>7.500000</td>\n",
       "      <td>12.200000</td>\n",
       "      <td>16.500000</td>\n",
       "      <td>7.456490</td>\n",
       "      <td>77.087805</td>\n",
       "      <td>2900.000000</td>\n",
       "      <td>5158.000000</td>\n",
       "      <td>0.700000</td>\n",
       "      <td>12.000000</td>\n",
       "      <td>51.468611</td>\n",
       "      <td>24.777631</td>\n",
       "    </tr>\n",
       "    <tr>\n",
       "      <th>75%</th>\n",
       "      <td>94.063251</td>\n",
       "      <td>2.658249e+12</td>\n",
       "      <td>3.153814</td>\n",
       "      <td>42663.328818</td>\n",
       "      <td>3.491856</td>\n",
       "      <td>20.596535</td>\n",
       "      <td>5.317884e+11</td>\n",
       "      <td>5.380160</td>\n",
       "      <td>1.056892e+12</td>\n",
       "      <td>22.700000</td>\n",
       "      <td>27.350000</td>\n",
       "      <td>42.650000</td>\n",
       "      <td>3.550000</td>\n",
       "      <td>8.550000</td>\n",
       "      <td>13.000000</td>\n",
       "      <td>17.000000</td>\n",
       "      <td>9.960487</td>\n",
       "      <td>79.524390</td>\n",
       "      <td>4161.000000</td>\n",
       "      <td>8482.500000</td>\n",
       "      <td>0.700000</td>\n",
       "      <td>12.500000</td>\n",
       "      <td>52.124157</td>\n",
       "      <td>25.276900</td>\n",
       "    </tr>\n",
       "    <tr>\n",
       "      <th>max</th>\n",
       "      <td>119.622711</td>\n",
       "      <td>3.174164e+12</td>\n",
       "      <td>6.523848</td>\n",
       "      <td>47491.594563</td>\n",
       "      <td>6.759535</td>\n",
       "      <td>22.441843</td>\n",
       "      <td>6.053435e+11</td>\n",
       "      <td>6.424220</td>\n",
       "      <td>1.516706e+12</td>\n",
       "      <td>22.900000</td>\n",
       "      <td>31.100000</td>\n",
       "      <td>45.800000</td>\n",
       "      <td>4.000000</td>\n",
       "      <td>9.500000</td>\n",
       "      <td>13.700000</td>\n",
       "      <td>17.500000</td>\n",
       "      <td>16.312683</td>\n",
       "      <td>81.404878</td>\n",
       "      <td>8905.000000</td>\n",
       "      <td>15828.000000</td>\n",
       "      <td>1.200000</td>\n",
       "      <td>13.700000</td>\n",
       "      <td>60.440933</td>\n",
       "      <td>26.439030</td>\n",
       "    </tr>\n",
       "  </tbody>\n",
       "</table>\n",
       "</div>"
      ],
      "text/plain": [
       "       Consumer price index (2010 = 100)  GDP (constant 2015 US$)  \\\n",
       "count                          47.000000             4.700000e+01   \n",
       "mean                           70.472945             2.088202e+12   \n",
       "std                            31.211501             6.179838e+11   \n",
       "min                            11.944690             1.213239e+12   \n",
       "25%                            46.284245             1.491652e+12   \n",
       "50%                            76.040318             1.996070e+12   \n",
       "75%                            94.063251             2.658249e+12   \n",
       "max                           119.622711             3.174164e+12   \n",
       "\n",
       "       GDP growth (annual %)  GDP per capita (constant 2015 US$)  \\\n",
       "count              47.000000                           47.000000   \n",
       "mean                2.139359                        34745.577244   \n",
       "std                 2.111049                         8516.761652   \n",
       "min                -4.510486                        21577.981948   \n",
       "25%                 1.654665                        26406.802031   \n",
       "50%                 2.430073                        34316.219715   \n",
       "75%                 3.153814                        42663.328818   \n",
       "max                 6.523848                        47491.594563   \n",
       "\n",
       "       GNI growth (annual %)  \\\n",
       "count              47.000000   \n",
       "mean                2.137217   \n",
       "std                 2.205770   \n",
       "min                -4.065061   \n",
       "25%                 1.184476   \n",
       "50%                 2.382347   \n",
       "75%                 3.491856   \n",
       "max                 6.759535   \n",
       "\n",
       "       General government final consumption expenditure (% of GDP)  \\\n",
       "count                                          47.000000             \n",
       "mean                                           19.510607             \n",
       "std                                             1.638306             \n",
       "min                                            16.070620             \n",
       "25%                                            18.593514             \n",
       "50%                                            19.656798             \n",
       "75%                                            20.596535             \n",
       "max                                            22.441843             \n",
       "\n",
       "       General government final consumption expenditure (constant 2015 US$)  \\\n",
       "count                                       4.700000e+01                      \n",
       "mean                                        4.244105e+11                      \n",
       "std                                         1.001055e+11                      \n",
       "min                                         2.894338e+11                      \n",
       "25%                                         3.416209e+11                      \n",
       "50%                                         3.786357e+11                      \n",
       "75%                                         5.317884e+11                      \n",
       "max                                         6.053435e+11                      \n",
       "\n",
       "       Government expenditure on education, total (% of GDP)  \\\n",
       "count                                          47.000000       \n",
       "mean                                            4.959497       \n",
       "std                                             0.590565       \n",
       "min                                             3.989180       \n",
       "25%                                             4.487465       \n",
       "50%                                             4.959497       \n",
       "75%                                             5.380160       \n",
       "max                                             6.424220       \n",
       "\n",
       "       Imports of goods, services and primary income (BoP, current US$)  \\\n",
       "count                                       4.700000e+01                  \n",
       "mean                                        6.171216e+11                  \n",
       "std                                         4.477972e+11                  \n",
       "min                                         5.520904e+10                  \n",
       "25%                                         1.939769e+11                  \n",
       "50%                                         4.989088e+11                  \n",
       "75%                                         1.056892e+12                  \n",
       "max                                         1.516706e+12                  \n",
       "\n",
       "       Income share held by fourth 20%  Income share held by highest 10%  \\\n",
       "count                        47.000000                         47.000000   \n",
       "mean                         22.427660                         25.823404   \n",
       "std                           0.330811                          2.156508   \n",
       "min                          21.200000                         21.900000   \n",
       "25%                          22.200000                         23.750000   \n",
       "50%                          22.500000                         25.900000   \n",
       "75%                          22.700000                         27.350000   \n",
       "max                          22.900000                         31.100000   \n",
       "\n",
       "       Income share held by highest 20%  Income share held by lowest 10%  \\\n",
       "count                         47.000000                        47.000000   \n",
       "mean                          40.946809                         3.131915   \n",
       "std                            2.259362                         0.443360   \n",
       "min                           36.600000                         2.600000   \n",
       "25%                           38.950000                         2.800000   \n",
       "50%                           41.100000                         2.900000   \n",
       "75%                           42.650000                         3.550000   \n",
       "max                           45.800000                         4.000000   \n",
       "\n",
       "       Income share held by lowest 20%  Income share held by second 20%  \\\n",
       "count                        47.000000                        47.000000   \n",
       "mean                          7.765957                        12.336170   \n",
       "std                           0.860050                         0.720032   \n",
       "min                           6.700000                        11.100000   \n",
       "25%                           7.100000                        11.800000   \n",
       "50%                           7.500000                        12.200000   \n",
       "75%                           8.550000                        13.000000   \n",
       "max                           9.500000                        13.700000   \n",
       "\n",
       "       Income share held by third 20%  Lending interest rate (%)  \\\n",
       "count                       47.000000                  47.000000   \n",
       "mean                        16.525532                   7.456490   \n",
       "std                          0.530983                   4.032967   \n",
       "min                         15.200000                   0.500000   \n",
       "25%                         16.150000                   4.898842   \n",
       "50%                         16.500000                   7.456490   \n",
       "75%                         17.000000                   9.960487   \n",
       "max                         17.500000                  16.312683   \n",
       "\n",
       "       Life expectancy at birth, total (years)  Number of neonatal deaths  \\\n",
       "count                                47.000000                  47.000000   \n",
       "mean                                 77.091775                3638.617021   \n",
       "std                                   2.894823                1737.608333   \n",
       "min                                  72.324390                2017.000000   \n",
       "25%                                  74.703659                2464.000000   \n",
       "50%                                  77.087805                2900.000000   \n",
       "75%                                  79.524390                4161.000000   \n",
       "max                                  81.404878                8905.000000   \n",
       "\n",
       "       Number of under-five deaths  \\\n",
       "count                    47.000000   \n",
       "mean                   6619.382979   \n",
       "std                    3235.538827   \n",
       "min                    3136.000000   \n",
       "25%                    4256.000000   \n",
       "50%                    5158.000000   \n",
       "75%                    8482.500000   \n",
       "max                   15828.000000   \n",
       "\n",
       "       Poverty headcount ratio at $6.85 a day (2017 PPP) (% of population)  \\\n",
       "count                                          47.000000                     \n",
       "mean                                            0.746809                     \n",
       "std                                             0.183979                     \n",
       "min                                             0.500000                     \n",
       "25%                                             0.700000                     \n",
       "50%                                             0.700000                     \n",
       "75%                                             0.700000                     \n",
       "max                                             1.200000                     \n",
       "\n",
       "       Proportion of people living below 50 percent of median income (%)  \\\n",
       "count                                          47.000000                   \n",
       "mean                                           10.776596                   \n",
       "std                                             2.449065                   \n",
       "min                                             5.500000                   \n",
       "25%                                             8.950000                   \n",
       "50%                                            12.000000                   \n",
       "75%                                            12.500000                   \n",
       "max                                            13.700000                   \n",
       "\n",
       "       Subsidies and other transfers (% of expense)  Tax revenue (% of GDP)  \n",
       "count                                     47.000000               47.000000  \n",
       "mean                                      45.441375               24.463764  \n",
       "std                                       10.269307                1.185510  \n",
       "min                                       25.606300               21.071583  \n",
       "25%                                       36.064128               23.771584  \n",
       "50%                                       51.468611               24.777631  \n",
       "75%                                       52.124157               25.276900  \n",
       "max                                       60.440933               26.439030  "
      ]
     },
     "execution_count": 15,
     "metadata": {},
     "output_type": "execute_result"
    }
   ],
   "source": [
    "# To understanding the data get more information. Exclude the 'Country Name' and 'Year' column\n",
    "\n",
    "selected_uk_df_copy.iloc[:, 2:].describe()\n"
   ]
  },
  {
   "cell_type": "code",
   "execution_count": 46,
   "id": "e02f107f",
   "metadata": {
    "scrolled": true
   },
   "outputs": [
    {
     "data": {
      "application/vnd.plotly.v1+json": {
       "config": {
        "plotlyServerURL": "https://plot.ly"
       },
       "data": [
        {
         "hovertemplate": "Year=%{marker.color}<br>Consumer price index (2010 = 100)=%{marker.size}<extra></extra>",
         "legendgroup": "",
         "marker": {
          "color": [
           1973,
           1974,
           1975,
           1976,
           1977,
           1978,
           1979,
           1980,
           1981,
           1982,
           1983,
           1984,
           1985,
           1986,
           1987,
           1988,
           1989,
           1990,
           1991,
           1992,
           1993,
           1994,
           1995,
           1996,
           1997,
           1998,
           1999,
           2000,
           2001,
           2002,
           2003,
           2004,
           2005,
           2006,
           2007,
           2008,
           2009,
           2010,
           2011,
           2012,
           2013,
           2014,
           2015,
           2016,
           2017,
           2018,
           2019
          ],
          "coloraxis": "coloraxis",
          "size": [
           11.9446902163862,
           13.8610976511929,
           17.2164934344368,
           20.0674625485482,
           23.2462021453671,
           25.1670686147586,
           28.5448113556501,
           33.6731505455891,
           37.6723848714629,
           40.9117819493249,
           42.7975300536342,
           44.9205918254115,
           47.647898095062,
           49.2810819308304,
           51.325715738857,
           53.4584797484742,
           56.5378213427039,
           61.0967264656926,
           65.6556315886813,
           68.6702422785278,
           70.4272239689292,
           71.9900129461809,
           73.9319400776771,
           76.0403181061587,
           77.7140743480673,
           79.1289069724431,
           80.5159977806547,
           81.4684668022933,
           82.7168485296837,
           83.9744775291289,
           85.1303865359719,
           86.3140373589791,
           88.1172554096542,
           90.2811170704642,
           92.4357314592195,
           95.6907712224894,
           97.5679674496024,
           100,
           103.856112446828,
           106.528574070649,
           108.969853893102,
           110.551137414463,
           110.958017384871,
           112.076937303495,
           114.943591640466,
           117.579064176068,
           119.622711300166
          ],
          "sizemode": "area",
          "sizeref": 0.299056778250415,
          "symbol": "circle"
         },
         "mode": "markers",
         "name": "",
         "orientation": "v",
         "showlegend": false,
         "type": "scatter",
         "x": [
          1973,
          1974,
          1975,
          1976,
          1977,
          1978,
          1979,
          1980,
          1981,
          1982,
          1983,
          1984,
          1985,
          1986,
          1987,
          1988,
          1989,
          1990,
          1991,
          1992,
          1993,
          1994,
          1995,
          1996,
          1997,
          1998,
          1999,
          2000,
          2001,
          2002,
          2003,
          2004,
          2005,
          2006,
          2007,
          2008,
          2009,
          2010,
          2011,
          2012,
          2013,
          2014,
          2015,
          2016,
          2017,
          2018,
          2019
         ],
         "xaxis": "x",
         "y": [
          11.9446902163862,
          13.8610976511929,
          17.2164934344368,
          20.0674625485482,
          23.2462021453671,
          25.1670686147586,
          28.5448113556501,
          33.6731505455891,
          37.6723848714629,
          40.9117819493249,
          42.7975300536342,
          44.9205918254115,
          47.647898095062,
          49.2810819308304,
          51.325715738857,
          53.4584797484742,
          56.5378213427039,
          61.0967264656926,
          65.6556315886813,
          68.6702422785278,
          70.4272239689292,
          71.9900129461809,
          73.9319400776771,
          76.0403181061587,
          77.7140743480673,
          79.1289069724431,
          80.5159977806547,
          81.4684668022933,
          82.7168485296837,
          83.9744775291289,
          85.1303865359719,
          86.3140373589791,
          88.1172554096542,
          90.2811170704642,
          92.4357314592195,
          95.6907712224894,
          97.5679674496024,
          100,
          103.856112446828,
          106.528574070649,
          108.969853893102,
          110.551137414463,
          110.958017384871,
          112.076937303495,
          114.943591640466,
          117.579064176068,
          119.622711300166
         ],
         "yaxis": "y"
        }
       ],
       "layout": {
        "coloraxis": {
         "colorbar": {
          "title": {
           "text": "Year"
          }
         },
         "colorscale": [
          [
           0,
           "#440154"
          ],
          [
           0.1111111111111111,
           "#482878"
          ],
          [
           0.2222222222222222,
           "#3e4989"
          ],
          [
           0.3333333333333333,
           "#31688e"
          ],
          [
           0.4444444444444444,
           "#26828e"
          ],
          [
           0.5555555555555556,
           "#1f9e89"
          ],
          [
           0.6666666666666666,
           "#35b779"
          ],
          [
           0.7777777777777778,
           "#6ece58"
          ],
          [
           0.8888888888888888,
           "#b5de2b"
          ],
          [
           1,
           "#fde725"
          ]
         ]
        },
        "legend": {
         "itemsizing": "constant",
         "tracegroupgap": 0
        },
        "template": {
         "data": {
          "bar": [
           {
            "error_x": {
             "color": "#f2f5fa"
            },
            "error_y": {
             "color": "#f2f5fa"
            },
            "marker": {
             "line": {
              "color": "rgb(17,17,17)",
              "width": 0.5
             },
             "pattern": {
              "fillmode": "overlay",
              "size": 10,
              "solidity": 0.2
             }
            },
            "type": "bar"
           }
          ],
          "barpolar": [
           {
            "marker": {
             "line": {
              "color": "rgb(17,17,17)",
              "width": 0.5
             },
             "pattern": {
              "fillmode": "overlay",
              "size": 10,
              "solidity": 0.2
             }
            },
            "type": "barpolar"
           }
          ],
          "carpet": [
           {
            "aaxis": {
             "endlinecolor": "#A2B1C6",
             "gridcolor": "#506784",
             "linecolor": "#506784",
             "minorgridcolor": "#506784",
             "startlinecolor": "#A2B1C6"
            },
            "baxis": {
             "endlinecolor": "#A2B1C6",
             "gridcolor": "#506784",
             "linecolor": "#506784",
             "minorgridcolor": "#506784",
             "startlinecolor": "#A2B1C6"
            },
            "type": "carpet"
           }
          ],
          "choropleth": [
           {
            "colorbar": {
             "outlinewidth": 0,
             "ticks": ""
            },
            "type": "choropleth"
           }
          ],
          "contour": [
           {
            "colorbar": {
             "outlinewidth": 0,
             "ticks": ""
            },
            "colorscale": [
             [
              0,
              "#0d0887"
             ],
             [
              0.1111111111111111,
              "#46039f"
             ],
             [
              0.2222222222222222,
              "#7201a8"
             ],
             [
              0.3333333333333333,
              "#9c179e"
             ],
             [
              0.4444444444444444,
              "#bd3786"
             ],
             [
              0.5555555555555556,
              "#d8576b"
             ],
             [
              0.6666666666666666,
              "#ed7953"
             ],
             [
              0.7777777777777778,
              "#fb9f3a"
             ],
             [
              0.8888888888888888,
              "#fdca26"
             ],
             [
              1,
              "#f0f921"
             ]
            ],
            "type": "contour"
           }
          ],
          "contourcarpet": [
           {
            "colorbar": {
             "outlinewidth": 0,
             "ticks": ""
            },
            "type": "contourcarpet"
           }
          ],
          "heatmap": [
           {
            "colorbar": {
             "outlinewidth": 0,
             "ticks": ""
            },
            "colorscale": [
             [
              0,
              "#0d0887"
             ],
             [
              0.1111111111111111,
              "#46039f"
             ],
             [
              0.2222222222222222,
              "#7201a8"
             ],
             [
              0.3333333333333333,
              "#9c179e"
             ],
             [
              0.4444444444444444,
              "#bd3786"
             ],
             [
              0.5555555555555556,
              "#d8576b"
             ],
             [
              0.6666666666666666,
              "#ed7953"
             ],
             [
              0.7777777777777778,
              "#fb9f3a"
             ],
             [
              0.8888888888888888,
              "#fdca26"
             ],
             [
              1,
              "#f0f921"
             ]
            ],
            "type": "heatmap"
           }
          ],
          "heatmapgl": [
           {
            "colorbar": {
             "outlinewidth": 0,
             "ticks": ""
            },
            "colorscale": [
             [
              0,
              "#0d0887"
             ],
             [
              0.1111111111111111,
              "#46039f"
             ],
             [
              0.2222222222222222,
              "#7201a8"
             ],
             [
              0.3333333333333333,
              "#9c179e"
             ],
             [
              0.4444444444444444,
              "#bd3786"
             ],
             [
              0.5555555555555556,
              "#d8576b"
             ],
             [
              0.6666666666666666,
              "#ed7953"
             ],
             [
              0.7777777777777778,
              "#fb9f3a"
             ],
             [
              0.8888888888888888,
              "#fdca26"
             ],
             [
              1,
              "#f0f921"
             ]
            ],
            "type": "heatmapgl"
           }
          ],
          "histogram": [
           {
            "marker": {
             "pattern": {
              "fillmode": "overlay",
              "size": 10,
              "solidity": 0.2
             }
            },
            "type": "histogram"
           }
          ],
          "histogram2d": [
           {
            "colorbar": {
             "outlinewidth": 0,
             "ticks": ""
            },
            "colorscale": [
             [
              0,
              "#0d0887"
             ],
             [
              0.1111111111111111,
              "#46039f"
             ],
             [
              0.2222222222222222,
              "#7201a8"
             ],
             [
              0.3333333333333333,
              "#9c179e"
             ],
             [
              0.4444444444444444,
              "#bd3786"
             ],
             [
              0.5555555555555556,
              "#d8576b"
             ],
             [
              0.6666666666666666,
              "#ed7953"
             ],
             [
              0.7777777777777778,
              "#fb9f3a"
             ],
             [
              0.8888888888888888,
              "#fdca26"
             ],
             [
              1,
              "#f0f921"
             ]
            ],
            "type": "histogram2d"
           }
          ],
          "histogram2dcontour": [
           {
            "colorbar": {
             "outlinewidth": 0,
             "ticks": ""
            },
            "colorscale": [
             [
              0,
              "#0d0887"
             ],
             [
              0.1111111111111111,
              "#46039f"
             ],
             [
              0.2222222222222222,
              "#7201a8"
             ],
             [
              0.3333333333333333,
              "#9c179e"
             ],
             [
              0.4444444444444444,
              "#bd3786"
             ],
             [
              0.5555555555555556,
              "#d8576b"
             ],
             [
              0.6666666666666666,
              "#ed7953"
             ],
             [
              0.7777777777777778,
              "#fb9f3a"
             ],
             [
              0.8888888888888888,
              "#fdca26"
             ],
             [
              1,
              "#f0f921"
             ]
            ],
            "type": "histogram2dcontour"
           }
          ],
          "mesh3d": [
           {
            "colorbar": {
             "outlinewidth": 0,
             "ticks": ""
            },
            "type": "mesh3d"
           }
          ],
          "parcoords": [
           {
            "line": {
             "colorbar": {
              "outlinewidth": 0,
              "ticks": ""
             }
            },
            "type": "parcoords"
           }
          ],
          "pie": [
           {
            "automargin": true,
            "type": "pie"
           }
          ],
          "scatter": [
           {
            "marker": {
             "line": {
              "color": "#283442"
             }
            },
            "type": "scatter"
           }
          ],
          "scatter3d": [
           {
            "line": {
             "colorbar": {
              "outlinewidth": 0,
              "ticks": ""
             }
            },
            "marker": {
             "colorbar": {
              "outlinewidth": 0,
              "ticks": ""
             }
            },
            "type": "scatter3d"
           }
          ],
          "scattercarpet": [
           {
            "marker": {
             "colorbar": {
              "outlinewidth": 0,
              "ticks": ""
             }
            },
            "type": "scattercarpet"
           }
          ],
          "scattergeo": [
           {
            "marker": {
             "colorbar": {
              "outlinewidth": 0,
              "ticks": ""
             }
            },
            "type": "scattergeo"
           }
          ],
          "scattergl": [
           {
            "marker": {
             "line": {
              "color": "#283442"
             }
            },
            "type": "scattergl"
           }
          ],
          "scattermapbox": [
           {
            "marker": {
             "colorbar": {
              "outlinewidth": 0,
              "ticks": ""
             }
            },
            "type": "scattermapbox"
           }
          ],
          "scatterpolar": [
           {
            "marker": {
             "colorbar": {
              "outlinewidth": 0,
              "ticks": ""
             }
            },
            "type": "scatterpolar"
           }
          ],
          "scatterpolargl": [
           {
            "marker": {
             "colorbar": {
              "outlinewidth": 0,
              "ticks": ""
             }
            },
            "type": "scatterpolargl"
           }
          ],
          "scatterternary": [
           {
            "marker": {
             "colorbar": {
              "outlinewidth": 0,
              "ticks": ""
             }
            },
            "type": "scatterternary"
           }
          ],
          "surface": [
           {
            "colorbar": {
             "outlinewidth": 0,
             "ticks": ""
            },
            "colorscale": [
             [
              0,
              "#0d0887"
             ],
             [
              0.1111111111111111,
              "#46039f"
             ],
             [
              0.2222222222222222,
              "#7201a8"
             ],
             [
              0.3333333333333333,
              "#9c179e"
             ],
             [
              0.4444444444444444,
              "#bd3786"
             ],
             [
              0.5555555555555556,
              "#d8576b"
             ],
             [
              0.6666666666666666,
              "#ed7953"
             ],
             [
              0.7777777777777778,
              "#fb9f3a"
             ],
             [
              0.8888888888888888,
              "#fdca26"
             ],
             [
              1,
              "#f0f921"
             ]
            ],
            "type": "surface"
           }
          ],
          "table": [
           {
            "cells": {
             "fill": {
              "color": "#506784"
             },
             "line": {
              "color": "rgb(17,17,17)"
             }
            },
            "header": {
             "fill": {
              "color": "#2a3f5f"
             },
             "line": {
              "color": "rgb(17,17,17)"
             }
            },
            "type": "table"
           }
          ]
         },
         "layout": {
          "annotationdefaults": {
           "arrowcolor": "#f2f5fa",
           "arrowhead": 0,
           "arrowwidth": 1
          },
          "autotypenumbers": "strict",
          "coloraxis": {
           "colorbar": {
            "outlinewidth": 0,
            "ticks": ""
           }
          },
          "colorscale": {
           "diverging": [
            [
             0,
             "#8e0152"
            ],
            [
             0.1,
             "#c51b7d"
            ],
            [
             0.2,
             "#de77ae"
            ],
            [
             0.3,
             "#f1b6da"
            ],
            [
             0.4,
             "#fde0ef"
            ],
            [
             0.5,
             "#f7f7f7"
            ],
            [
             0.6,
             "#e6f5d0"
            ],
            [
             0.7,
             "#b8e186"
            ],
            [
             0.8,
             "#7fbc41"
            ],
            [
             0.9,
             "#4d9221"
            ],
            [
             1,
             "#276419"
            ]
           ],
           "sequential": [
            [
             0,
             "#0d0887"
            ],
            [
             0.1111111111111111,
             "#46039f"
            ],
            [
             0.2222222222222222,
             "#7201a8"
            ],
            [
             0.3333333333333333,
             "#9c179e"
            ],
            [
             0.4444444444444444,
             "#bd3786"
            ],
            [
             0.5555555555555556,
             "#d8576b"
            ],
            [
             0.6666666666666666,
             "#ed7953"
            ],
            [
             0.7777777777777778,
             "#fb9f3a"
            ],
            [
             0.8888888888888888,
             "#fdca26"
            ],
            [
             1,
             "#f0f921"
            ]
           ],
           "sequentialminus": [
            [
             0,
             "#0d0887"
            ],
            [
             0.1111111111111111,
             "#46039f"
            ],
            [
             0.2222222222222222,
             "#7201a8"
            ],
            [
             0.3333333333333333,
             "#9c179e"
            ],
            [
             0.4444444444444444,
             "#bd3786"
            ],
            [
             0.5555555555555556,
             "#d8576b"
            ],
            [
             0.6666666666666666,
             "#ed7953"
            ],
            [
             0.7777777777777778,
             "#fb9f3a"
            ],
            [
             0.8888888888888888,
             "#fdca26"
            ],
            [
             1,
             "#f0f921"
            ]
           ]
          },
          "colorway": [
           "#636efa",
           "#EF553B",
           "#00cc96",
           "#ab63fa",
           "#FFA15A",
           "#19d3f3",
           "#FF6692",
           "#B6E880",
           "#FF97FF",
           "#FECB52"
          ],
          "font": {
           "color": "#f2f5fa"
          },
          "geo": {
           "bgcolor": "rgb(17,17,17)",
           "lakecolor": "rgb(17,17,17)",
           "landcolor": "rgb(17,17,17)",
           "showlakes": true,
           "showland": true,
           "subunitcolor": "#506784"
          },
          "hoverlabel": {
           "align": "left"
          },
          "hovermode": "closest",
          "mapbox": {
           "style": "dark"
          },
          "paper_bgcolor": "rgb(17,17,17)",
          "plot_bgcolor": "rgb(17,17,17)",
          "polar": {
           "angularaxis": {
            "gridcolor": "#506784",
            "linecolor": "#506784",
            "ticks": ""
           },
           "bgcolor": "rgb(17,17,17)",
           "radialaxis": {
            "gridcolor": "#506784",
            "linecolor": "#506784",
            "ticks": ""
           }
          },
          "scene": {
           "xaxis": {
            "backgroundcolor": "rgb(17,17,17)",
            "gridcolor": "#506784",
            "gridwidth": 2,
            "linecolor": "#506784",
            "showbackground": true,
            "ticks": "",
            "zerolinecolor": "#C8D4E3"
           },
           "yaxis": {
            "backgroundcolor": "rgb(17,17,17)",
            "gridcolor": "#506784",
            "gridwidth": 2,
            "linecolor": "#506784",
            "showbackground": true,
            "ticks": "",
            "zerolinecolor": "#C8D4E3"
           },
           "zaxis": {
            "backgroundcolor": "rgb(17,17,17)",
            "gridcolor": "#506784",
            "gridwidth": 2,
            "linecolor": "#506784",
            "showbackground": true,
            "ticks": "",
            "zerolinecolor": "#C8D4E3"
           }
          },
          "shapedefaults": {
           "line": {
            "color": "#f2f5fa"
           }
          },
          "sliderdefaults": {
           "bgcolor": "#C8D4E3",
           "bordercolor": "rgb(17,17,17)",
           "borderwidth": 1,
           "tickwidth": 0
          },
          "ternary": {
           "aaxis": {
            "gridcolor": "#506784",
            "linecolor": "#506784",
            "ticks": ""
           },
           "baxis": {
            "gridcolor": "#506784",
            "linecolor": "#506784",
            "ticks": ""
           },
           "bgcolor": "rgb(17,17,17)",
           "caxis": {
            "gridcolor": "#506784",
            "linecolor": "#506784",
            "ticks": ""
           }
          },
          "title": {
           "x": 0.05
          },
          "updatemenudefaults": {
           "bgcolor": "#506784",
           "borderwidth": 0
          },
          "xaxis": {
           "automargin": true,
           "gridcolor": "#283442",
           "linecolor": "#506784",
           "ticks": "",
           "title": {
            "standoff": 15
           },
           "zerolinecolor": "#283442",
           "zerolinewidth": 2
          },
          "yaxis": {
           "automargin": true,
           "gridcolor": "#283442",
           "linecolor": "#506784",
           "ticks": "",
           "title": {
            "standoff": 15
           },
           "zerolinecolor": "#283442",
           "zerolinewidth": 2
          }
         }
        },
        "title": {
         "text": "Scatter Plot of Consumer price index (2010 = 100) Over Years"
        },
        "xaxis": {
         "anchor": "y",
         "domain": [
          0,
          1
         ],
         "title": {
          "text": "Year"
         }
        },
        "yaxis": {
         "anchor": "x",
         "domain": [
          0,
          1
         ],
         "title": {
          "text": "Consumer price index (2010 = 100)"
         }
        }
       }
      },
      "text/html": [
       "<div>                            <div id=\"44a6d74a-d4c4-4878-9337-e63c521a0834\" class=\"plotly-graph-div\" style=\"height:525px; width:100%;\"></div>            <script type=\"text/javascript\">                require([\"plotly\"], function(Plotly) {                    window.PLOTLYENV=window.PLOTLYENV || {};                                    if (document.getElementById(\"44a6d74a-d4c4-4878-9337-e63c521a0834\")) {                    Plotly.newPlot(                        \"44a6d74a-d4c4-4878-9337-e63c521a0834\",                        [{\"hovertemplate\":\"Year=%{marker.color}<br>Consumer price index (2010 = 100)=%{marker.size}<extra></extra>\",\"legendgroup\":\"\",\"marker\":{\"color\":[1973,1974,1975,1976,1977,1978,1979,1980,1981,1982,1983,1984,1985,1986,1987,1988,1989,1990,1991,1992,1993,1994,1995,1996,1997,1998,1999,2000,2001,2002,2003,2004,2005,2006,2007,2008,2009,2010,2011,2012,2013,2014,2015,2016,2017,2018,2019],\"coloraxis\":\"coloraxis\",\"size\":[11.9446902163862,13.8610976511929,17.2164934344368,20.0674625485482,23.2462021453671,25.1670686147586,28.5448113556501,33.6731505455891,37.6723848714629,40.9117819493249,42.7975300536342,44.9205918254115,47.647898095062,49.2810819308304,51.325715738857,53.4584797484742,56.5378213427039,61.0967264656926,65.6556315886813,68.6702422785278,70.4272239689292,71.9900129461809,73.9319400776771,76.0403181061587,77.7140743480673,79.1289069724431,80.5159977806547,81.4684668022933,82.7168485296837,83.9744775291289,85.1303865359719,86.3140373589791,88.1172554096542,90.2811170704642,92.4357314592195,95.6907712224894,97.5679674496024,100.0,103.856112446828,106.528574070649,108.969853893102,110.551137414463,110.958017384871,112.076937303495,114.943591640466,117.579064176068,119.622711300166],\"sizemode\":\"area\",\"sizeref\":0.299056778250415,\"symbol\":\"circle\"},\"mode\":\"markers\",\"name\":\"\",\"orientation\":\"v\",\"showlegend\":false,\"x\":[1973,1974,1975,1976,1977,1978,1979,1980,1981,1982,1983,1984,1985,1986,1987,1988,1989,1990,1991,1992,1993,1994,1995,1996,1997,1998,1999,2000,2001,2002,2003,2004,2005,2006,2007,2008,2009,2010,2011,2012,2013,2014,2015,2016,2017,2018,2019],\"xaxis\":\"x\",\"y\":[11.9446902163862,13.8610976511929,17.2164934344368,20.0674625485482,23.2462021453671,25.1670686147586,28.5448113556501,33.6731505455891,37.6723848714629,40.9117819493249,42.7975300536342,44.9205918254115,47.647898095062,49.2810819308304,51.325715738857,53.4584797484742,56.5378213427039,61.0967264656926,65.6556315886813,68.6702422785278,70.4272239689292,71.9900129461809,73.9319400776771,76.0403181061587,77.7140743480673,79.1289069724431,80.5159977806547,81.4684668022933,82.7168485296837,83.9744775291289,85.1303865359719,86.3140373589791,88.1172554096542,90.2811170704642,92.4357314592195,95.6907712224894,97.5679674496024,100.0,103.856112446828,106.528574070649,108.969853893102,110.551137414463,110.958017384871,112.076937303495,114.943591640466,117.579064176068,119.622711300166],\"yaxis\":\"y\",\"type\":\"scatter\"}],                        {\"template\":{\"data\":{\"barpolar\":[{\"marker\":{\"line\":{\"color\":\"rgb(17,17,17)\",\"width\":0.5},\"pattern\":{\"fillmode\":\"overlay\",\"size\":10,\"solidity\":0.2}},\"type\":\"barpolar\"}],\"bar\":[{\"error_x\":{\"color\":\"#f2f5fa\"},\"error_y\":{\"color\":\"#f2f5fa\"},\"marker\":{\"line\":{\"color\":\"rgb(17,17,17)\",\"width\":0.5},\"pattern\":{\"fillmode\":\"overlay\",\"size\":10,\"solidity\":0.2}},\"type\":\"bar\"}],\"carpet\":[{\"aaxis\":{\"endlinecolor\":\"#A2B1C6\",\"gridcolor\":\"#506784\",\"linecolor\":\"#506784\",\"minorgridcolor\":\"#506784\",\"startlinecolor\":\"#A2B1C6\"},\"baxis\":{\"endlinecolor\":\"#A2B1C6\",\"gridcolor\":\"#506784\",\"linecolor\":\"#506784\",\"minorgridcolor\":\"#506784\",\"startlinecolor\":\"#A2B1C6\"},\"type\":\"carpet\"}],\"choropleth\":[{\"colorbar\":{\"outlinewidth\":0,\"ticks\":\"\"},\"type\":\"choropleth\"}],\"contourcarpet\":[{\"colorbar\":{\"outlinewidth\":0,\"ticks\":\"\"},\"type\":\"contourcarpet\"}],\"contour\":[{\"colorbar\":{\"outlinewidth\":0,\"ticks\":\"\"},\"colorscale\":[[0.0,\"#0d0887\"],[0.1111111111111111,\"#46039f\"],[0.2222222222222222,\"#7201a8\"],[0.3333333333333333,\"#9c179e\"],[0.4444444444444444,\"#bd3786\"],[0.5555555555555556,\"#d8576b\"],[0.6666666666666666,\"#ed7953\"],[0.7777777777777778,\"#fb9f3a\"],[0.8888888888888888,\"#fdca26\"],[1.0,\"#f0f921\"]],\"type\":\"contour\"}],\"heatmapgl\":[{\"colorbar\":{\"outlinewidth\":0,\"ticks\":\"\"},\"colorscale\":[[0.0,\"#0d0887\"],[0.1111111111111111,\"#46039f\"],[0.2222222222222222,\"#7201a8\"],[0.3333333333333333,\"#9c179e\"],[0.4444444444444444,\"#bd3786\"],[0.5555555555555556,\"#d8576b\"],[0.6666666666666666,\"#ed7953\"],[0.7777777777777778,\"#fb9f3a\"],[0.8888888888888888,\"#fdca26\"],[1.0,\"#f0f921\"]],\"type\":\"heatmapgl\"}],\"heatmap\":[{\"colorbar\":{\"outlinewidth\":0,\"ticks\":\"\"},\"colorscale\":[[0.0,\"#0d0887\"],[0.1111111111111111,\"#46039f\"],[0.2222222222222222,\"#7201a8\"],[0.3333333333333333,\"#9c179e\"],[0.4444444444444444,\"#bd3786\"],[0.5555555555555556,\"#d8576b\"],[0.6666666666666666,\"#ed7953\"],[0.7777777777777778,\"#fb9f3a\"],[0.8888888888888888,\"#fdca26\"],[1.0,\"#f0f921\"]],\"type\":\"heatmap\"}],\"histogram2dcontour\":[{\"colorbar\":{\"outlinewidth\":0,\"ticks\":\"\"},\"colorscale\":[[0.0,\"#0d0887\"],[0.1111111111111111,\"#46039f\"],[0.2222222222222222,\"#7201a8\"],[0.3333333333333333,\"#9c179e\"],[0.4444444444444444,\"#bd3786\"],[0.5555555555555556,\"#d8576b\"],[0.6666666666666666,\"#ed7953\"],[0.7777777777777778,\"#fb9f3a\"],[0.8888888888888888,\"#fdca26\"],[1.0,\"#f0f921\"]],\"type\":\"histogram2dcontour\"}],\"histogram2d\":[{\"colorbar\":{\"outlinewidth\":0,\"ticks\":\"\"},\"colorscale\":[[0.0,\"#0d0887\"],[0.1111111111111111,\"#46039f\"],[0.2222222222222222,\"#7201a8\"],[0.3333333333333333,\"#9c179e\"],[0.4444444444444444,\"#bd3786\"],[0.5555555555555556,\"#d8576b\"],[0.6666666666666666,\"#ed7953\"],[0.7777777777777778,\"#fb9f3a\"],[0.8888888888888888,\"#fdca26\"],[1.0,\"#f0f921\"]],\"type\":\"histogram2d\"}],\"histogram\":[{\"marker\":{\"pattern\":{\"fillmode\":\"overlay\",\"size\":10,\"solidity\":0.2}},\"type\":\"histogram\"}],\"mesh3d\":[{\"colorbar\":{\"outlinewidth\":0,\"ticks\":\"\"},\"type\":\"mesh3d\"}],\"parcoords\":[{\"line\":{\"colorbar\":{\"outlinewidth\":0,\"ticks\":\"\"}},\"type\":\"parcoords\"}],\"pie\":[{\"automargin\":true,\"type\":\"pie\"}],\"scatter3d\":[{\"line\":{\"colorbar\":{\"outlinewidth\":0,\"ticks\":\"\"}},\"marker\":{\"colorbar\":{\"outlinewidth\":0,\"ticks\":\"\"}},\"type\":\"scatter3d\"}],\"scattercarpet\":[{\"marker\":{\"colorbar\":{\"outlinewidth\":0,\"ticks\":\"\"}},\"type\":\"scattercarpet\"}],\"scattergeo\":[{\"marker\":{\"colorbar\":{\"outlinewidth\":0,\"ticks\":\"\"}},\"type\":\"scattergeo\"}],\"scattergl\":[{\"marker\":{\"line\":{\"color\":\"#283442\"}},\"type\":\"scattergl\"}],\"scattermapbox\":[{\"marker\":{\"colorbar\":{\"outlinewidth\":0,\"ticks\":\"\"}},\"type\":\"scattermapbox\"}],\"scatterpolargl\":[{\"marker\":{\"colorbar\":{\"outlinewidth\":0,\"ticks\":\"\"}},\"type\":\"scatterpolargl\"}],\"scatterpolar\":[{\"marker\":{\"colorbar\":{\"outlinewidth\":0,\"ticks\":\"\"}},\"type\":\"scatterpolar\"}],\"scatter\":[{\"marker\":{\"line\":{\"color\":\"#283442\"}},\"type\":\"scatter\"}],\"scatterternary\":[{\"marker\":{\"colorbar\":{\"outlinewidth\":0,\"ticks\":\"\"}},\"type\":\"scatterternary\"}],\"surface\":[{\"colorbar\":{\"outlinewidth\":0,\"ticks\":\"\"},\"colorscale\":[[0.0,\"#0d0887\"],[0.1111111111111111,\"#46039f\"],[0.2222222222222222,\"#7201a8\"],[0.3333333333333333,\"#9c179e\"],[0.4444444444444444,\"#bd3786\"],[0.5555555555555556,\"#d8576b\"],[0.6666666666666666,\"#ed7953\"],[0.7777777777777778,\"#fb9f3a\"],[0.8888888888888888,\"#fdca26\"],[1.0,\"#f0f921\"]],\"type\":\"surface\"}],\"table\":[{\"cells\":{\"fill\":{\"color\":\"#506784\"},\"line\":{\"color\":\"rgb(17,17,17)\"}},\"header\":{\"fill\":{\"color\":\"#2a3f5f\"},\"line\":{\"color\":\"rgb(17,17,17)\"}},\"type\":\"table\"}]},\"layout\":{\"annotationdefaults\":{\"arrowcolor\":\"#f2f5fa\",\"arrowhead\":0,\"arrowwidth\":1},\"autotypenumbers\":\"strict\",\"coloraxis\":{\"colorbar\":{\"outlinewidth\":0,\"ticks\":\"\"}},\"colorscale\":{\"diverging\":[[0,\"#8e0152\"],[0.1,\"#c51b7d\"],[0.2,\"#de77ae\"],[0.3,\"#f1b6da\"],[0.4,\"#fde0ef\"],[0.5,\"#f7f7f7\"],[0.6,\"#e6f5d0\"],[0.7,\"#b8e186\"],[0.8,\"#7fbc41\"],[0.9,\"#4d9221\"],[1,\"#276419\"]],\"sequential\":[[0.0,\"#0d0887\"],[0.1111111111111111,\"#46039f\"],[0.2222222222222222,\"#7201a8\"],[0.3333333333333333,\"#9c179e\"],[0.4444444444444444,\"#bd3786\"],[0.5555555555555556,\"#d8576b\"],[0.6666666666666666,\"#ed7953\"],[0.7777777777777778,\"#fb9f3a\"],[0.8888888888888888,\"#fdca26\"],[1.0,\"#f0f921\"]],\"sequentialminus\":[[0.0,\"#0d0887\"],[0.1111111111111111,\"#46039f\"],[0.2222222222222222,\"#7201a8\"],[0.3333333333333333,\"#9c179e\"],[0.4444444444444444,\"#bd3786\"],[0.5555555555555556,\"#d8576b\"],[0.6666666666666666,\"#ed7953\"],[0.7777777777777778,\"#fb9f3a\"],[0.8888888888888888,\"#fdca26\"],[1.0,\"#f0f921\"]]},\"colorway\":[\"#636efa\",\"#EF553B\",\"#00cc96\",\"#ab63fa\",\"#FFA15A\",\"#19d3f3\",\"#FF6692\",\"#B6E880\",\"#FF97FF\",\"#FECB52\"],\"font\":{\"color\":\"#f2f5fa\"},\"geo\":{\"bgcolor\":\"rgb(17,17,17)\",\"lakecolor\":\"rgb(17,17,17)\",\"landcolor\":\"rgb(17,17,17)\",\"showlakes\":true,\"showland\":true,\"subunitcolor\":\"#506784\"},\"hoverlabel\":{\"align\":\"left\"},\"hovermode\":\"closest\",\"mapbox\":{\"style\":\"dark\"},\"paper_bgcolor\":\"rgb(17,17,17)\",\"plot_bgcolor\":\"rgb(17,17,17)\",\"polar\":{\"angularaxis\":{\"gridcolor\":\"#506784\",\"linecolor\":\"#506784\",\"ticks\":\"\"},\"bgcolor\":\"rgb(17,17,17)\",\"radialaxis\":{\"gridcolor\":\"#506784\",\"linecolor\":\"#506784\",\"ticks\":\"\"}},\"scene\":{\"xaxis\":{\"backgroundcolor\":\"rgb(17,17,17)\",\"gridcolor\":\"#506784\",\"gridwidth\":2,\"linecolor\":\"#506784\",\"showbackground\":true,\"ticks\":\"\",\"zerolinecolor\":\"#C8D4E3\"},\"yaxis\":{\"backgroundcolor\":\"rgb(17,17,17)\",\"gridcolor\":\"#506784\",\"gridwidth\":2,\"linecolor\":\"#506784\",\"showbackground\":true,\"ticks\":\"\",\"zerolinecolor\":\"#C8D4E3\"},\"zaxis\":{\"backgroundcolor\":\"rgb(17,17,17)\",\"gridcolor\":\"#506784\",\"gridwidth\":2,\"linecolor\":\"#506784\",\"showbackground\":true,\"ticks\":\"\",\"zerolinecolor\":\"#C8D4E3\"}},\"shapedefaults\":{\"line\":{\"color\":\"#f2f5fa\"}},\"sliderdefaults\":{\"bgcolor\":\"#C8D4E3\",\"bordercolor\":\"rgb(17,17,17)\",\"borderwidth\":1,\"tickwidth\":0},\"ternary\":{\"aaxis\":{\"gridcolor\":\"#506784\",\"linecolor\":\"#506784\",\"ticks\":\"\"},\"baxis\":{\"gridcolor\":\"#506784\",\"linecolor\":\"#506784\",\"ticks\":\"\"},\"bgcolor\":\"rgb(17,17,17)\",\"caxis\":{\"gridcolor\":\"#506784\",\"linecolor\":\"#506784\",\"ticks\":\"\"}},\"title\":{\"x\":0.05},\"updatemenudefaults\":{\"bgcolor\":\"#506784\",\"borderwidth\":0},\"xaxis\":{\"automargin\":true,\"gridcolor\":\"#283442\",\"linecolor\":\"#506784\",\"ticks\":\"\",\"title\":{\"standoff\":15},\"zerolinecolor\":\"#283442\",\"zerolinewidth\":2},\"yaxis\":{\"automargin\":true,\"gridcolor\":\"#283442\",\"linecolor\":\"#506784\",\"ticks\":\"\",\"title\":{\"standoff\":15},\"zerolinecolor\":\"#283442\",\"zerolinewidth\":2}}},\"xaxis\":{\"anchor\":\"y\",\"domain\":[0.0,1.0],\"title\":{\"text\":\"Year\"}},\"yaxis\":{\"anchor\":\"x\",\"domain\":[0.0,1.0],\"title\":{\"text\":\"Consumer price index (2010 = 100)\"}},\"coloraxis\":{\"colorbar\":{\"title\":{\"text\":\"Year\"}},\"colorscale\":[[0.0,\"#440154\"],[0.1111111111111111,\"#482878\"],[0.2222222222222222,\"#3e4989\"],[0.3333333333333333,\"#31688e\"],[0.4444444444444444,\"#26828e\"],[0.5555555555555556,\"#1f9e89\"],[0.6666666666666666,\"#35b779\"],[0.7777777777777778,\"#6ece58\"],[0.8888888888888888,\"#b5de2b\"],[1.0,\"#fde725\"]]},\"legend\":{\"tracegroupgap\":0,\"itemsizing\":\"constant\"},\"title\":{\"text\":\"Scatter Plot of Consumer price index (2010 = 100) Over Years\"}},                        {\"responsive\": true}                    ).then(function(){\n",
       "                            \n",
       "var gd = document.getElementById('44a6d74a-d4c4-4878-9337-e63c521a0834');\n",
       "var x = new MutationObserver(function (mutations, observer) {{\n",
       "        var display = window.getComputedStyle(gd).display;\n",
       "        if (!display || display === 'none') {{\n",
       "            console.log([gd, 'removed!']);\n",
       "            Plotly.purge(gd);\n",
       "            observer.disconnect();\n",
       "        }}\n",
       "}});\n",
       "\n",
       "// Listen for the removal of the full notebook cells\n",
       "var notebookContainer = gd.closest('#notebook-container');\n",
       "if (notebookContainer) {{\n",
       "    x.observe(notebookContainer, {childList: true});\n",
       "}}\n",
       "\n",
       "// Listen for the clearing of the current output cell\n",
       "var outputEl = gd.closest('.output');\n",
       "if (outputEl) {{\n",
       "    x.observe(outputEl, {childList: true});\n",
       "}}\n",
       "\n",
       "                        })                };                });            </script>        </div>"
      ]
     },
     "metadata": {},
     "output_type": "display_data"
    },
    {
     "data": {
      "application/vnd.plotly.v1+json": {
       "config": {
        "plotlyServerURL": "https://plot.ly"
       },
       "data": [
        {
         "alignmentgroup": "True",
         "hovertemplate": "Year=%{x}<br>GDP (constant 2015 US$)=%{y}<extra></extra>",
         "legendgroup": "",
         "marker": {
          "color": "pink"
         },
         "name": "",
         "notched": false,
         "offsetgroup": "",
         "orientation": "v",
         "showlegend": false,
         "type": "box",
         "x": [
          1973,
          1974,
          1975,
          1976,
          1977,
          1978,
          1979,
          1980,
          1981,
          1982,
          1983,
          1984,
          1985,
          1986,
          1987,
          1988,
          1989,
          1990,
          1991,
          1992,
          1993,
          1994,
          1995,
          1996,
          1997,
          1998,
          1999,
          2000,
          2001,
          2002,
          2003,
          2004,
          2005,
          2006,
          2007,
          2008,
          2009,
          2010,
          2011,
          2012,
          2013,
          2014,
          2015,
          2016,
          2017,
          2018,
          2019
         ],
         "x0": " ",
         "xaxis": "x",
         "y": [
          1262757606009.8228,
          1231385605650.851,
          1213239297438.0273,
          1248547789733.673,
          1279233979840.4177,
          1333016308392.2402,
          1382991310974.7988,
          1354897671049.243,
          1344224548669.1067,
          1371040366003.3806,
          1428923720513.525,
          1461347502638.8665,
          1521955648714.1619,
          1569902434705.6177,
          1654563164607.0237,
          1749409568712.2822,
          1794502398698.9548,
          1807669659458.3909,
          1787728863256.8677,
          1794899122850.841,
          1839589077852.5232,
          1910339842299.9417,
          1958703343414.7612,
          1996069836328.1777,
          2086373375047.131,
          2152246177454.0623,
          2217116394065.0127,
          2307855285267.7466,
          2357645605496.0747,
          2399393975746.2383,
          2474328328787.7915,
          2532350622459.4263,
          2599922287719.731,
          2656091147154.8623,
          2724178993507.047,
          2719974378108.14,
          2597290325456.6772,
          2660406373660.7593,
          2688809162463.686,
          2727755400457.1357,
          2777396821941.011,
          2866265260991.2095,
          2934857946213.4746,
          2998403672734.8823,
          3071671779449.625,
          3124044429026.1895,
          3174163743964.4824
         ],
         "y0": " ",
         "yaxis": "y"
        }
       ],
       "layout": {
        "boxmode": "group",
        "legend": {
         "tracegroupgap": 0
        },
        "template": {
         "data": {
          "bar": [
           {
            "error_x": {
             "color": "#f2f5fa"
            },
            "error_y": {
             "color": "#f2f5fa"
            },
            "marker": {
             "line": {
              "color": "rgb(17,17,17)",
              "width": 0.5
             },
             "pattern": {
              "fillmode": "overlay",
              "size": 10,
              "solidity": 0.2
             }
            },
            "type": "bar"
           }
          ],
          "barpolar": [
           {
            "marker": {
             "line": {
              "color": "rgb(17,17,17)",
              "width": 0.5
             },
             "pattern": {
              "fillmode": "overlay",
              "size": 10,
              "solidity": 0.2
             }
            },
            "type": "barpolar"
           }
          ],
          "carpet": [
           {
            "aaxis": {
             "endlinecolor": "#A2B1C6",
             "gridcolor": "#506784",
             "linecolor": "#506784",
             "minorgridcolor": "#506784",
             "startlinecolor": "#A2B1C6"
            },
            "baxis": {
             "endlinecolor": "#A2B1C6",
             "gridcolor": "#506784",
             "linecolor": "#506784",
             "minorgridcolor": "#506784",
             "startlinecolor": "#A2B1C6"
            },
            "type": "carpet"
           }
          ],
          "choropleth": [
           {
            "colorbar": {
             "outlinewidth": 0,
             "ticks": ""
            },
            "type": "choropleth"
           }
          ],
          "contour": [
           {
            "colorbar": {
             "outlinewidth": 0,
             "ticks": ""
            },
            "colorscale": [
             [
              0,
              "#0d0887"
             ],
             [
              0.1111111111111111,
              "#46039f"
             ],
             [
              0.2222222222222222,
              "#7201a8"
             ],
             [
              0.3333333333333333,
              "#9c179e"
             ],
             [
              0.4444444444444444,
              "#bd3786"
             ],
             [
              0.5555555555555556,
              "#d8576b"
             ],
             [
              0.6666666666666666,
              "#ed7953"
             ],
             [
              0.7777777777777778,
              "#fb9f3a"
             ],
             [
              0.8888888888888888,
              "#fdca26"
             ],
             [
              1,
              "#f0f921"
             ]
            ],
            "type": "contour"
           }
          ],
          "contourcarpet": [
           {
            "colorbar": {
             "outlinewidth": 0,
             "ticks": ""
            },
            "type": "contourcarpet"
           }
          ],
          "heatmap": [
           {
            "colorbar": {
             "outlinewidth": 0,
             "ticks": ""
            },
            "colorscale": [
             [
              0,
              "#0d0887"
             ],
             [
              0.1111111111111111,
              "#46039f"
             ],
             [
              0.2222222222222222,
              "#7201a8"
             ],
             [
              0.3333333333333333,
              "#9c179e"
             ],
             [
              0.4444444444444444,
              "#bd3786"
             ],
             [
              0.5555555555555556,
              "#d8576b"
             ],
             [
              0.6666666666666666,
              "#ed7953"
             ],
             [
              0.7777777777777778,
              "#fb9f3a"
             ],
             [
              0.8888888888888888,
              "#fdca26"
             ],
             [
              1,
              "#f0f921"
             ]
            ],
            "type": "heatmap"
           }
          ],
          "heatmapgl": [
           {
            "colorbar": {
             "outlinewidth": 0,
             "ticks": ""
            },
            "colorscale": [
             [
              0,
              "#0d0887"
             ],
             [
              0.1111111111111111,
              "#46039f"
             ],
             [
              0.2222222222222222,
              "#7201a8"
             ],
             [
              0.3333333333333333,
              "#9c179e"
             ],
             [
              0.4444444444444444,
              "#bd3786"
             ],
             [
              0.5555555555555556,
              "#d8576b"
             ],
             [
              0.6666666666666666,
              "#ed7953"
             ],
             [
              0.7777777777777778,
              "#fb9f3a"
             ],
             [
              0.8888888888888888,
              "#fdca26"
             ],
             [
              1,
              "#f0f921"
             ]
            ],
            "type": "heatmapgl"
           }
          ],
          "histogram": [
           {
            "marker": {
             "pattern": {
              "fillmode": "overlay",
              "size": 10,
              "solidity": 0.2
             }
            },
            "type": "histogram"
           }
          ],
          "histogram2d": [
           {
            "colorbar": {
             "outlinewidth": 0,
             "ticks": ""
            },
            "colorscale": [
             [
              0,
              "#0d0887"
             ],
             [
              0.1111111111111111,
              "#46039f"
             ],
             [
              0.2222222222222222,
              "#7201a8"
             ],
             [
              0.3333333333333333,
              "#9c179e"
             ],
             [
              0.4444444444444444,
              "#bd3786"
             ],
             [
              0.5555555555555556,
              "#d8576b"
             ],
             [
              0.6666666666666666,
              "#ed7953"
             ],
             [
              0.7777777777777778,
              "#fb9f3a"
             ],
             [
              0.8888888888888888,
              "#fdca26"
             ],
             [
              1,
              "#f0f921"
             ]
            ],
            "type": "histogram2d"
           }
          ],
          "histogram2dcontour": [
           {
            "colorbar": {
             "outlinewidth": 0,
             "ticks": ""
            },
            "colorscale": [
             [
              0,
              "#0d0887"
             ],
             [
              0.1111111111111111,
              "#46039f"
             ],
             [
              0.2222222222222222,
              "#7201a8"
             ],
             [
              0.3333333333333333,
              "#9c179e"
             ],
             [
              0.4444444444444444,
              "#bd3786"
             ],
             [
              0.5555555555555556,
              "#d8576b"
             ],
             [
              0.6666666666666666,
              "#ed7953"
             ],
             [
              0.7777777777777778,
              "#fb9f3a"
             ],
             [
              0.8888888888888888,
              "#fdca26"
             ],
             [
              1,
              "#f0f921"
             ]
            ],
            "type": "histogram2dcontour"
           }
          ],
          "mesh3d": [
           {
            "colorbar": {
             "outlinewidth": 0,
             "ticks": ""
            },
            "type": "mesh3d"
           }
          ],
          "parcoords": [
           {
            "line": {
             "colorbar": {
              "outlinewidth": 0,
              "ticks": ""
             }
            },
            "type": "parcoords"
           }
          ],
          "pie": [
           {
            "automargin": true,
            "type": "pie"
           }
          ],
          "scatter": [
           {
            "marker": {
             "line": {
              "color": "#283442"
             }
            },
            "type": "scatter"
           }
          ],
          "scatter3d": [
           {
            "line": {
             "colorbar": {
              "outlinewidth": 0,
              "ticks": ""
             }
            },
            "marker": {
             "colorbar": {
              "outlinewidth": 0,
              "ticks": ""
             }
            },
            "type": "scatter3d"
           }
          ],
          "scattercarpet": [
           {
            "marker": {
             "colorbar": {
              "outlinewidth": 0,
              "ticks": ""
             }
            },
            "type": "scattercarpet"
           }
          ],
          "scattergeo": [
           {
            "marker": {
             "colorbar": {
              "outlinewidth": 0,
              "ticks": ""
             }
            },
            "type": "scattergeo"
           }
          ],
          "scattergl": [
           {
            "marker": {
             "line": {
              "color": "#283442"
             }
            },
            "type": "scattergl"
           }
          ],
          "scattermapbox": [
           {
            "marker": {
             "colorbar": {
              "outlinewidth": 0,
              "ticks": ""
             }
            },
            "type": "scattermapbox"
           }
          ],
          "scatterpolar": [
           {
            "marker": {
             "colorbar": {
              "outlinewidth": 0,
              "ticks": ""
             }
            },
            "type": "scatterpolar"
           }
          ],
          "scatterpolargl": [
           {
            "marker": {
             "colorbar": {
              "outlinewidth": 0,
              "ticks": ""
             }
            },
            "type": "scatterpolargl"
           }
          ],
          "scatterternary": [
           {
            "marker": {
             "colorbar": {
              "outlinewidth": 0,
              "ticks": ""
             }
            },
            "type": "scatterternary"
           }
          ],
          "surface": [
           {
            "colorbar": {
             "outlinewidth": 0,
             "ticks": ""
            },
            "colorscale": [
             [
              0,
              "#0d0887"
             ],
             [
              0.1111111111111111,
              "#46039f"
             ],
             [
              0.2222222222222222,
              "#7201a8"
             ],
             [
              0.3333333333333333,
              "#9c179e"
             ],
             [
              0.4444444444444444,
              "#bd3786"
             ],
             [
              0.5555555555555556,
              "#d8576b"
             ],
             [
              0.6666666666666666,
              "#ed7953"
             ],
             [
              0.7777777777777778,
              "#fb9f3a"
             ],
             [
              0.8888888888888888,
              "#fdca26"
             ],
             [
              1,
              "#f0f921"
             ]
            ],
            "type": "surface"
           }
          ],
          "table": [
           {
            "cells": {
             "fill": {
              "color": "#506784"
             },
             "line": {
              "color": "rgb(17,17,17)"
             }
            },
            "header": {
             "fill": {
              "color": "#2a3f5f"
             },
             "line": {
              "color": "rgb(17,17,17)"
             }
            },
            "type": "table"
           }
          ]
         },
         "layout": {
          "annotationdefaults": {
           "arrowcolor": "#f2f5fa",
           "arrowhead": 0,
           "arrowwidth": 1
          },
          "autotypenumbers": "strict",
          "coloraxis": {
           "colorbar": {
            "outlinewidth": 0,
            "ticks": ""
           }
          },
          "colorscale": {
           "diverging": [
            [
             0,
             "#8e0152"
            ],
            [
             0.1,
             "#c51b7d"
            ],
            [
             0.2,
             "#de77ae"
            ],
            [
             0.3,
             "#f1b6da"
            ],
            [
             0.4,
             "#fde0ef"
            ],
            [
             0.5,
             "#f7f7f7"
            ],
            [
             0.6,
             "#e6f5d0"
            ],
            [
             0.7,
             "#b8e186"
            ],
            [
             0.8,
             "#7fbc41"
            ],
            [
             0.9,
             "#4d9221"
            ],
            [
             1,
             "#276419"
            ]
           ],
           "sequential": [
            [
             0,
             "#0d0887"
            ],
            [
             0.1111111111111111,
             "#46039f"
            ],
            [
             0.2222222222222222,
             "#7201a8"
            ],
            [
             0.3333333333333333,
             "#9c179e"
            ],
            [
             0.4444444444444444,
             "#bd3786"
            ],
            [
             0.5555555555555556,
             "#d8576b"
            ],
            [
             0.6666666666666666,
             "#ed7953"
            ],
            [
             0.7777777777777778,
             "#fb9f3a"
            ],
            [
             0.8888888888888888,
             "#fdca26"
            ],
            [
             1,
             "#f0f921"
            ]
           ],
           "sequentialminus": [
            [
             0,
             "#0d0887"
            ],
            [
             0.1111111111111111,
             "#46039f"
            ],
            [
             0.2222222222222222,
             "#7201a8"
            ],
            [
             0.3333333333333333,
             "#9c179e"
            ],
            [
             0.4444444444444444,
             "#bd3786"
            ],
            [
             0.5555555555555556,
             "#d8576b"
            ],
            [
             0.6666666666666666,
             "#ed7953"
            ],
            [
             0.7777777777777778,
             "#fb9f3a"
            ],
            [
             0.8888888888888888,
             "#fdca26"
            ],
            [
             1,
             "#f0f921"
            ]
           ]
          },
          "colorway": [
           "#636efa",
           "#EF553B",
           "#00cc96",
           "#ab63fa",
           "#FFA15A",
           "#19d3f3",
           "#FF6692",
           "#B6E880",
           "#FF97FF",
           "#FECB52"
          ],
          "font": {
           "color": "#f2f5fa"
          },
          "geo": {
           "bgcolor": "rgb(17,17,17)",
           "lakecolor": "rgb(17,17,17)",
           "landcolor": "rgb(17,17,17)",
           "showlakes": true,
           "showland": true,
           "subunitcolor": "#506784"
          },
          "hoverlabel": {
           "align": "left"
          },
          "hovermode": "closest",
          "mapbox": {
           "style": "dark"
          },
          "paper_bgcolor": "rgb(17,17,17)",
          "plot_bgcolor": "rgb(17,17,17)",
          "polar": {
           "angularaxis": {
            "gridcolor": "#506784",
            "linecolor": "#506784",
            "ticks": ""
           },
           "bgcolor": "rgb(17,17,17)",
           "radialaxis": {
            "gridcolor": "#506784",
            "linecolor": "#506784",
            "ticks": ""
           }
          },
          "scene": {
           "xaxis": {
            "backgroundcolor": "rgb(17,17,17)",
            "gridcolor": "#506784",
            "gridwidth": 2,
            "linecolor": "#506784",
            "showbackground": true,
            "ticks": "",
            "zerolinecolor": "#C8D4E3"
           },
           "yaxis": {
            "backgroundcolor": "rgb(17,17,17)",
            "gridcolor": "#506784",
            "gridwidth": 2,
            "linecolor": "#506784",
            "showbackground": true,
            "ticks": "",
            "zerolinecolor": "#C8D4E3"
           },
           "zaxis": {
            "backgroundcolor": "rgb(17,17,17)",
            "gridcolor": "#506784",
            "gridwidth": 2,
            "linecolor": "#506784",
            "showbackground": true,
            "ticks": "",
            "zerolinecolor": "#C8D4E3"
           }
          },
          "shapedefaults": {
           "line": {
            "color": "#f2f5fa"
           }
          },
          "sliderdefaults": {
           "bgcolor": "#C8D4E3",
           "bordercolor": "rgb(17,17,17)",
           "borderwidth": 1,
           "tickwidth": 0
          },
          "ternary": {
           "aaxis": {
            "gridcolor": "#506784",
            "linecolor": "#506784",
            "ticks": ""
           },
           "baxis": {
            "gridcolor": "#506784",
            "linecolor": "#506784",
            "ticks": ""
           },
           "bgcolor": "rgb(17,17,17)",
           "caxis": {
            "gridcolor": "#506784",
            "linecolor": "#506784",
            "ticks": ""
           }
          },
          "title": {
           "x": 0.05
          },
          "updatemenudefaults": {
           "bgcolor": "#506784",
           "borderwidth": 0
          },
          "xaxis": {
           "automargin": true,
           "gridcolor": "#283442",
           "linecolor": "#506784",
           "ticks": "",
           "title": {
            "standoff": 15
           },
           "zerolinecolor": "#283442",
           "zerolinewidth": 2
          },
          "yaxis": {
           "automargin": true,
           "gridcolor": "#283442",
           "linecolor": "#506784",
           "ticks": "",
           "title": {
            "standoff": 15
           },
           "zerolinecolor": "#283442",
           "zerolinewidth": 2
          }
         }
        },
        "title": {
         "text": "Box Plot of GDP (constant 2015 US$) Over Years"
        },
        "xaxis": {
         "anchor": "y",
         "domain": [
          0,
          1
         ],
         "title": {
          "text": "Year"
         }
        },
        "yaxis": {
         "anchor": "x",
         "domain": [
          0,
          1
         ],
         "title": {
          "text": "GDP (constant 2015 US$)"
         }
        }
       }
      },
      "text/html": [
       "<div>                            <div id=\"62cbf169-22f3-453d-bddd-c96a253e1312\" class=\"plotly-graph-div\" style=\"height:525px; width:100%;\"></div>            <script type=\"text/javascript\">                require([\"plotly\"], function(Plotly) {                    window.PLOTLYENV=window.PLOTLYENV || {};                                    if (document.getElementById(\"62cbf169-22f3-453d-bddd-c96a253e1312\")) {                    Plotly.newPlot(                        \"62cbf169-22f3-453d-bddd-c96a253e1312\",                        [{\"alignmentgroup\":\"True\",\"hovertemplate\":\"Year=%{x}<br>GDP (constant 2015 US$)=%{y}<extra></extra>\",\"legendgroup\":\"\",\"marker\":{\"color\":\"pink\"},\"name\":\"\",\"notched\":false,\"offsetgroup\":\"\",\"orientation\":\"v\",\"showlegend\":false,\"x\":[1973,1974,1975,1976,1977,1978,1979,1980,1981,1982,1983,1984,1985,1986,1987,1988,1989,1990,1991,1992,1993,1994,1995,1996,1997,1998,1999,2000,2001,2002,2003,2004,2005,2006,2007,2008,2009,2010,2011,2012,2013,2014,2015,2016,2017,2018,2019],\"x0\":\" \",\"xaxis\":\"x\",\"y\":[1262757606009.8228,1231385605650.851,1213239297438.0273,1248547789733.673,1279233979840.4177,1333016308392.2402,1382991310974.7988,1354897671049.243,1344224548669.1067,1371040366003.3806,1428923720513.525,1461347502638.8665,1521955648714.1619,1569902434705.6177,1654563164607.0237,1749409568712.2822,1794502398698.9548,1807669659458.3909,1787728863256.8677,1794899122850.841,1839589077852.5232,1910339842299.9417,1958703343414.7612,1996069836328.1777,2086373375047.131,2152246177454.0623,2217116394065.0127,2307855285267.7466,2357645605496.0747,2399393975746.2383,2474328328787.7915,2532350622459.4263,2599922287719.731,2656091147154.8623,2724178993507.047,2719974378108.14,2597290325456.6772,2660406373660.7593,2688809162463.686,2727755400457.1357,2777396821941.011,2866265260991.2095,2934857946213.4746,2998403672734.8823,3071671779449.625,3124044429026.1895,3174163743964.4824],\"y0\":\" \",\"yaxis\":\"y\",\"type\":\"box\"}],                        {\"template\":{\"data\":{\"barpolar\":[{\"marker\":{\"line\":{\"color\":\"rgb(17,17,17)\",\"width\":0.5},\"pattern\":{\"fillmode\":\"overlay\",\"size\":10,\"solidity\":0.2}},\"type\":\"barpolar\"}],\"bar\":[{\"error_x\":{\"color\":\"#f2f5fa\"},\"error_y\":{\"color\":\"#f2f5fa\"},\"marker\":{\"line\":{\"color\":\"rgb(17,17,17)\",\"width\":0.5},\"pattern\":{\"fillmode\":\"overlay\",\"size\":10,\"solidity\":0.2}},\"type\":\"bar\"}],\"carpet\":[{\"aaxis\":{\"endlinecolor\":\"#A2B1C6\",\"gridcolor\":\"#506784\",\"linecolor\":\"#506784\",\"minorgridcolor\":\"#506784\",\"startlinecolor\":\"#A2B1C6\"},\"baxis\":{\"endlinecolor\":\"#A2B1C6\",\"gridcolor\":\"#506784\",\"linecolor\":\"#506784\",\"minorgridcolor\":\"#506784\",\"startlinecolor\":\"#A2B1C6\"},\"type\":\"carpet\"}],\"choropleth\":[{\"colorbar\":{\"outlinewidth\":0,\"ticks\":\"\"},\"type\":\"choropleth\"}],\"contourcarpet\":[{\"colorbar\":{\"outlinewidth\":0,\"ticks\":\"\"},\"type\":\"contourcarpet\"}],\"contour\":[{\"colorbar\":{\"outlinewidth\":0,\"ticks\":\"\"},\"colorscale\":[[0.0,\"#0d0887\"],[0.1111111111111111,\"#46039f\"],[0.2222222222222222,\"#7201a8\"],[0.3333333333333333,\"#9c179e\"],[0.4444444444444444,\"#bd3786\"],[0.5555555555555556,\"#d8576b\"],[0.6666666666666666,\"#ed7953\"],[0.7777777777777778,\"#fb9f3a\"],[0.8888888888888888,\"#fdca26\"],[1.0,\"#f0f921\"]],\"type\":\"contour\"}],\"heatmapgl\":[{\"colorbar\":{\"outlinewidth\":0,\"ticks\":\"\"},\"colorscale\":[[0.0,\"#0d0887\"],[0.1111111111111111,\"#46039f\"],[0.2222222222222222,\"#7201a8\"],[0.3333333333333333,\"#9c179e\"],[0.4444444444444444,\"#bd3786\"],[0.5555555555555556,\"#d8576b\"],[0.6666666666666666,\"#ed7953\"],[0.7777777777777778,\"#fb9f3a\"],[0.8888888888888888,\"#fdca26\"],[1.0,\"#f0f921\"]],\"type\":\"heatmapgl\"}],\"heatmap\":[{\"colorbar\":{\"outlinewidth\":0,\"ticks\":\"\"},\"colorscale\":[[0.0,\"#0d0887\"],[0.1111111111111111,\"#46039f\"],[0.2222222222222222,\"#7201a8\"],[0.3333333333333333,\"#9c179e\"],[0.4444444444444444,\"#bd3786\"],[0.5555555555555556,\"#d8576b\"],[0.6666666666666666,\"#ed7953\"],[0.7777777777777778,\"#fb9f3a\"],[0.8888888888888888,\"#fdca26\"],[1.0,\"#f0f921\"]],\"type\":\"heatmap\"}],\"histogram2dcontour\":[{\"colorbar\":{\"outlinewidth\":0,\"ticks\":\"\"},\"colorscale\":[[0.0,\"#0d0887\"],[0.1111111111111111,\"#46039f\"],[0.2222222222222222,\"#7201a8\"],[0.3333333333333333,\"#9c179e\"],[0.4444444444444444,\"#bd3786\"],[0.5555555555555556,\"#d8576b\"],[0.6666666666666666,\"#ed7953\"],[0.7777777777777778,\"#fb9f3a\"],[0.8888888888888888,\"#fdca26\"],[1.0,\"#f0f921\"]],\"type\":\"histogram2dcontour\"}],\"histogram2d\":[{\"colorbar\":{\"outlinewidth\":0,\"ticks\":\"\"},\"colorscale\":[[0.0,\"#0d0887\"],[0.1111111111111111,\"#46039f\"],[0.2222222222222222,\"#7201a8\"],[0.3333333333333333,\"#9c179e\"],[0.4444444444444444,\"#bd3786\"],[0.5555555555555556,\"#d8576b\"],[0.6666666666666666,\"#ed7953\"],[0.7777777777777778,\"#fb9f3a\"],[0.8888888888888888,\"#fdca26\"],[1.0,\"#f0f921\"]],\"type\":\"histogram2d\"}],\"histogram\":[{\"marker\":{\"pattern\":{\"fillmode\":\"overlay\",\"size\":10,\"solidity\":0.2}},\"type\":\"histogram\"}],\"mesh3d\":[{\"colorbar\":{\"outlinewidth\":0,\"ticks\":\"\"},\"type\":\"mesh3d\"}],\"parcoords\":[{\"line\":{\"colorbar\":{\"outlinewidth\":0,\"ticks\":\"\"}},\"type\":\"parcoords\"}],\"pie\":[{\"automargin\":true,\"type\":\"pie\"}],\"scatter3d\":[{\"line\":{\"colorbar\":{\"outlinewidth\":0,\"ticks\":\"\"}},\"marker\":{\"colorbar\":{\"outlinewidth\":0,\"ticks\":\"\"}},\"type\":\"scatter3d\"}],\"scattercarpet\":[{\"marker\":{\"colorbar\":{\"outlinewidth\":0,\"ticks\":\"\"}},\"type\":\"scattercarpet\"}],\"scattergeo\":[{\"marker\":{\"colorbar\":{\"outlinewidth\":0,\"ticks\":\"\"}},\"type\":\"scattergeo\"}],\"scattergl\":[{\"marker\":{\"line\":{\"color\":\"#283442\"}},\"type\":\"scattergl\"}],\"scattermapbox\":[{\"marker\":{\"colorbar\":{\"outlinewidth\":0,\"ticks\":\"\"}},\"type\":\"scattermapbox\"}],\"scatterpolargl\":[{\"marker\":{\"colorbar\":{\"outlinewidth\":0,\"ticks\":\"\"}},\"type\":\"scatterpolargl\"}],\"scatterpolar\":[{\"marker\":{\"colorbar\":{\"outlinewidth\":0,\"ticks\":\"\"}},\"type\":\"scatterpolar\"}],\"scatter\":[{\"marker\":{\"line\":{\"color\":\"#283442\"}},\"type\":\"scatter\"}],\"scatterternary\":[{\"marker\":{\"colorbar\":{\"outlinewidth\":0,\"ticks\":\"\"}},\"type\":\"scatterternary\"}],\"surface\":[{\"colorbar\":{\"outlinewidth\":0,\"ticks\":\"\"},\"colorscale\":[[0.0,\"#0d0887\"],[0.1111111111111111,\"#46039f\"],[0.2222222222222222,\"#7201a8\"],[0.3333333333333333,\"#9c179e\"],[0.4444444444444444,\"#bd3786\"],[0.5555555555555556,\"#d8576b\"],[0.6666666666666666,\"#ed7953\"],[0.7777777777777778,\"#fb9f3a\"],[0.8888888888888888,\"#fdca26\"],[1.0,\"#f0f921\"]],\"type\":\"surface\"}],\"table\":[{\"cells\":{\"fill\":{\"color\":\"#506784\"},\"line\":{\"color\":\"rgb(17,17,17)\"}},\"header\":{\"fill\":{\"color\":\"#2a3f5f\"},\"line\":{\"color\":\"rgb(17,17,17)\"}},\"type\":\"table\"}]},\"layout\":{\"annotationdefaults\":{\"arrowcolor\":\"#f2f5fa\",\"arrowhead\":0,\"arrowwidth\":1},\"autotypenumbers\":\"strict\",\"coloraxis\":{\"colorbar\":{\"outlinewidth\":0,\"ticks\":\"\"}},\"colorscale\":{\"diverging\":[[0,\"#8e0152\"],[0.1,\"#c51b7d\"],[0.2,\"#de77ae\"],[0.3,\"#f1b6da\"],[0.4,\"#fde0ef\"],[0.5,\"#f7f7f7\"],[0.6,\"#e6f5d0\"],[0.7,\"#b8e186\"],[0.8,\"#7fbc41\"],[0.9,\"#4d9221\"],[1,\"#276419\"]],\"sequential\":[[0.0,\"#0d0887\"],[0.1111111111111111,\"#46039f\"],[0.2222222222222222,\"#7201a8\"],[0.3333333333333333,\"#9c179e\"],[0.4444444444444444,\"#bd3786\"],[0.5555555555555556,\"#d8576b\"],[0.6666666666666666,\"#ed7953\"],[0.7777777777777778,\"#fb9f3a\"],[0.8888888888888888,\"#fdca26\"],[1.0,\"#f0f921\"]],\"sequentialminus\":[[0.0,\"#0d0887\"],[0.1111111111111111,\"#46039f\"],[0.2222222222222222,\"#7201a8\"],[0.3333333333333333,\"#9c179e\"],[0.4444444444444444,\"#bd3786\"],[0.5555555555555556,\"#d8576b\"],[0.6666666666666666,\"#ed7953\"],[0.7777777777777778,\"#fb9f3a\"],[0.8888888888888888,\"#fdca26\"],[1.0,\"#f0f921\"]]},\"colorway\":[\"#636efa\",\"#EF553B\",\"#00cc96\",\"#ab63fa\",\"#FFA15A\",\"#19d3f3\",\"#FF6692\",\"#B6E880\",\"#FF97FF\",\"#FECB52\"],\"font\":{\"color\":\"#f2f5fa\"},\"geo\":{\"bgcolor\":\"rgb(17,17,17)\",\"lakecolor\":\"rgb(17,17,17)\",\"landcolor\":\"rgb(17,17,17)\",\"showlakes\":true,\"showland\":true,\"subunitcolor\":\"#506784\"},\"hoverlabel\":{\"align\":\"left\"},\"hovermode\":\"closest\",\"mapbox\":{\"style\":\"dark\"},\"paper_bgcolor\":\"rgb(17,17,17)\",\"plot_bgcolor\":\"rgb(17,17,17)\",\"polar\":{\"angularaxis\":{\"gridcolor\":\"#506784\",\"linecolor\":\"#506784\",\"ticks\":\"\"},\"bgcolor\":\"rgb(17,17,17)\",\"radialaxis\":{\"gridcolor\":\"#506784\",\"linecolor\":\"#506784\",\"ticks\":\"\"}},\"scene\":{\"xaxis\":{\"backgroundcolor\":\"rgb(17,17,17)\",\"gridcolor\":\"#506784\",\"gridwidth\":2,\"linecolor\":\"#506784\",\"showbackground\":true,\"ticks\":\"\",\"zerolinecolor\":\"#C8D4E3\"},\"yaxis\":{\"backgroundcolor\":\"rgb(17,17,17)\",\"gridcolor\":\"#506784\",\"gridwidth\":2,\"linecolor\":\"#506784\",\"showbackground\":true,\"ticks\":\"\",\"zerolinecolor\":\"#C8D4E3\"},\"zaxis\":{\"backgroundcolor\":\"rgb(17,17,17)\",\"gridcolor\":\"#506784\",\"gridwidth\":2,\"linecolor\":\"#506784\",\"showbackground\":true,\"ticks\":\"\",\"zerolinecolor\":\"#C8D4E3\"}},\"shapedefaults\":{\"line\":{\"color\":\"#f2f5fa\"}},\"sliderdefaults\":{\"bgcolor\":\"#C8D4E3\",\"bordercolor\":\"rgb(17,17,17)\",\"borderwidth\":1,\"tickwidth\":0},\"ternary\":{\"aaxis\":{\"gridcolor\":\"#506784\",\"linecolor\":\"#506784\",\"ticks\":\"\"},\"baxis\":{\"gridcolor\":\"#506784\",\"linecolor\":\"#506784\",\"ticks\":\"\"},\"bgcolor\":\"rgb(17,17,17)\",\"caxis\":{\"gridcolor\":\"#506784\",\"linecolor\":\"#506784\",\"ticks\":\"\"}},\"title\":{\"x\":0.05},\"updatemenudefaults\":{\"bgcolor\":\"#506784\",\"borderwidth\":0},\"xaxis\":{\"automargin\":true,\"gridcolor\":\"#283442\",\"linecolor\":\"#506784\",\"ticks\":\"\",\"title\":{\"standoff\":15},\"zerolinecolor\":\"#283442\",\"zerolinewidth\":2},\"yaxis\":{\"automargin\":true,\"gridcolor\":\"#283442\",\"linecolor\":\"#506784\",\"ticks\":\"\",\"title\":{\"standoff\":15},\"zerolinecolor\":\"#283442\",\"zerolinewidth\":2}}},\"xaxis\":{\"anchor\":\"y\",\"domain\":[0.0,1.0],\"title\":{\"text\":\"Year\"}},\"yaxis\":{\"anchor\":\"x\",\"domain\":[0.0,1.0],\"title\":{\"text\":\"GDP (constant 2015 US$)\"}},\"legend\":{\"tracegroupgap\":0},\"title\":{\"text\":\"Box Plot of GDP (constant 2015 US$) Over Years\"},\"boxmode\":\"group\"},                        {\"responsive\": true}                    ).then(function(){\n",
       "                            \n",
       "var gd = document.getElementById('62cbf169-22f3-453d-bddd-c96a253e1312');\n",
       "var x = new MutationObserver(function (mutations, observer) {{\n",
       "        var display = window.getComputedStyle(gd).display;\n",
       "        if (!display || display === 'none') {{\n",
       "            console.log([gd, 'removed!']);\n",
       "            Plotly.purge(gd);\n",
       "            observer.disconnect();\n",
       "        }}\n",
       "}});\n",
       "\n",
       "// Listen for the removal of the full notebook cells\n",
       "var notebookContainer = gd.closest('#notebook-container');\n",
       "if (notebookContainer) {{\n",
       "    x.observe(notebookContainer, {childList: true});\n",
       "}}\n",
       "\n",
       "// Listen for the clearing of the current output cell\n",
       "var outputEl = gd.closest('.output');\n",
       "if (outputEl) {{\n",
       "    x.observe(outputEl, {childList: true});\n",
       "}}\n",
       "\n",
       "                        })                };                });            </script>        </div>"
      ]
     },
     "metadata": {},
     "output_type": "display_data"
    },
    {
     "data": {
      "application/vnd.plotly.v1+json": {
       "config": {
        "plotlyServerURL": "https://plot.ly"
       },
       "data": [
        {
         "alignmentgroup": "True",
         "box": {
          "visible": false
         },
         "hovertemplate": "Year=%{x}<br>GDP growth (annual %)=%{y}<extra></extra>",
         "legendgroup": "",
         "marker": {
          "color": "yellow"
         },
         "name": "",
         "offsetgroup": "",
         "orientation": "v",
         "scalegroup": "True",
         "showlegend": false,
         "type": "violin",
         "x": [
          1973,
          1974,
          1975,
          1976,
          1977,
          1978,
          1979,
          1980,
          1981,
          1982,
          1983,
          1984,
          1985,
          1986,
          1987,
          1988,
          1989,
          1990,
          1991,
          1992,
          1993,
          1994,
          1995,
          1996,
          1997,
          1998,
          1999,
          2000,
          2001,
          2002,
          2003,
          2004,
          2005,
          2006,
          2007,
          2008,
          2009,
          2010,
          2011,
          2012,
          2013,
          2014,
          2015,
          2016,
          2017,
          2018,
          2019
         ],
         "x0": " ",
         "xaxis": "x",
         "y": [
          6.523848488664115,
          -2.4844039908897457,
          -1.473649531840394,
          2.910266125586759,
          2.4577505449983903,
          4.204260471452741,
          3.74901659251519,
          -2.0313677824739216,
          -0.7877437985313662,
          1.9948912077839793,
          4.221856332273859,
          2.2691051775450433,
          4.147415037549294,
          3.150340552430947,
          5.3927383020640605,
          5.732413614308001,
          2.5776027977179012,
          0.7337555396405406,
          -1.1031216957803025,
          0.4010820511624331,
          2.489831012380293,
          3.846009160372404,
          2.5316700224705926,
          1.9077157875409796,
          4.5240670980264355,
          3.1572873386309936,
          3.014070476254105,
          4.0926534775365155,
          2.157428177848317,
          1.7707652987726874,
          3.1230533125868902,
          2.3449714816166107,
          2.66833765676094,
          2.1604053205911242,
          2.5634604605010907,
          -0.15434431470650622,
          -4.510485600117846,
          2.4300728950270383,
          1.0676109140365782,
          1.4484567568850508,
          1.8198633746836776,
          3.19970262614801,
          2.3931031839859997,
          2.1652062105218306,
          2.443570469879859,
          1.705021022329035,
          1.6043086478739923
         ],
         "y0": " ",
         "yaxis": "y"
        }
       ],
       "layout": {
        "legend": {
         "tracegroupgap": 0
        },
        "template": {
         "data": {
          "bar": [
           {
            "error_x": {
             "color": "#f2f5fa"
            },
            "error_y": {
             "color": "#f2f5fa"
            },
            "marker": {
             "line": {
              "color": "rgb(17,17,17)",
              "width": 0.5
             },
             "pattern": {
              "fillmode": "overlay",
              "size": 10,
              "solidity": 0.2
             }
            },
            "type": "bar"
           }
          ],
          "barpolar": [
           {
            "marker": {
             "line": {
              "color": "rgb(17,17,17)",
              "width": 0.5
             },
             "pattern": {
              "fillmode": "overlay",
              "size": 10,
              "solidity": 0.2
             }
            },
            "type": "barpolar"
           }
          ],
          "carpet": [
           {
            "aaxis": {
             "endlinecolor": "#A2B1C6",
             "gridcolor": "#506784",
             "linecolor": "#506784",
             "minorgridcolor": "#506784",
             "startlinecolor": "#A2B1C6"
            },
            "baxis": {
             "endlinecolor": "#A2B1C6",
             "gridcolor": "#506784",
             "linecolor": "#506784",
             "minorgridcolor": "#506784",
             "startlinecolor": "#A2B1C6"
            },
            "type": "carpet"
           }
          ],
          "choropleth": [
           {
            "colorbar": {
             "outlinewidth": 0,
             "ticks": ""
            },
            "type": "choropleth"
           }
          ],
          "contour": [
           {
            "colorbar": {
             "outlinewidth": 0,
             "ticks": ""
            },
            "colorscale": [
             [
              0,
              "#0d0887"
             ],
             [
              0.1111111111111111,
              "#46039f"
             ],
             [
              0.2222222222222222,
              "#7201a8"
             ],
             [
              0.3333333333333333,
              "#9c179e"
             ],
             [
              0.4444444444444444,
              "#bd3786"
             ],
             [
              0.5555555555555556,
              "#d8576b"
             ],
             [
              0.6666666666666666,
              "#ed7953"
             ],
             [
              0.7777777777777778,
              "#fb9f3a"
             ],
             [
              0.8888888888888888,
              "#fdca26"
             ],
             [
              1,
              "#f0f921"
             ]
            ],
            "type": "contour"
           }
          ],
          "contourcarpet": [
           {
            "colorbar": {
             "outlinewidth": 0,
             "ticks": ""
            },
            "type": "contourcarpet"
           }
          ],
          "heatmap": [
           {
            "colorbar": {
             "outlinewidth": 0,
             "ticks": ""
            },
            "colorscale": [
             [
              0,
              "#0d0887"
             ],
             [
              0.1111111111111111,
              "#46039f"
             ],
             [
              0.2222222222222222,
              "#7201a8"
             ],
             [
              0.3333333333333333,
              "#9c179e"
             ],
             [
              0.4444444444444444,
              "#bd3786"
             ],
             [
              0.5555555555555556,
              "#d8576b"
             ],
             [
              0.6666666666666666,
              "#ed7953"
             ],
             [
              0.7777777777777778,
              "#fb9f3a"
             ],
             [
              0.8888888888888888,
              "#fdca26"
             ],
             [
              1,
              "#f0f921"
             ]
            ],
            "type": "heatmap"
           }
          ],
          "heatmapgl": [
           {
            "colorbar": {
             "outlinewidth": 0,
             "ticks": ""
            },
            "colorscale": [
             [
              0,
              "#0d0887"
             ],
             [
              0.1111111111111111,
              "#46039f"
             ],
             [
              0.2222222222222222,
              "#7201a8"
             ],
             [
              0.3333333333333333,
              "#9c179e"
             ],
             [
              0.4444444444444444,
              "#bd3786"
             ],
             [
              0.5555555555555556,
              "#d8576b"
             ],
             [
              0.6666666666666666,
              "#ed7953"
             ],
             [
              0.7777777777777778,
              "#fb9f3a"
             ],
             [
              0.8888888888888888,
              "#fdca26"
             ],
             [
              1,
              "#f0f921"
             ]
            ],
            "type": "heatmapgl"
           }
          ],
          "histogram": [
           {
            "marker": {
             "pattern": {
              "fillmode": "overlay",
              "size": 10,
              "solidity": 0.2
             }
            },
            "type": "histogram"
           }
          ],
          "histogram2d": [
           {
            "colorbar": {
             "outlinewidth": 0,
             "ticks": ""
            },
            "colorscale": [
             [
              0,
              "#0d0887"
             ],
             [
              0.1111111111111111,
              "#46039f"
             ],
             [
              0.2222222222222222,
              "#7201a8"
             ],
             [
              0.3333333333333333,
              "#9c179e"
             ],
             [
              0.4444444444444444,
              "#bd3786"
             ],
             [
              0.5555555555555556,
              "#d8576b"
             ],
             [
              0.6666666666666666,
              "#ed7953"
             ],
             [
              0.7777777777777778,
              "#fb9f3a"
             ],
             [
              0.8888888888888888,
              "#fdca26"
             ],
             [
              1,
              "#f0f921"
             ]
            ],
            "type": "histogram2d"
           }
          ],
          "histogram2dcontour": [
           {
            "colorbar": {
             "outlinewidth": 0,
             "ticks": ""
            },
            "colorscale": [
             [
              0,
              "#0d0887"
             ],
             [
              0.1111111111111111,
              "#46039f"
             ],
             [
              0.2222222222222222,
              "#7201a8"
             ],
             [
              0.3333333333333333,
              "#9c179e"
             ],
             [
              0.4444444444444444,
              "#bd3786"
             ],
             [
              0.5555555555555556,
              "#d8576b"
             ],
             [
              0.6666666666666666,
              "#ed7953"
             ],
             [
              0.7777777777777778,
              "#fb9f3a"
             ],
             [
              0.8888888888888888,
              "#fdca26"
             ],
             [
              1,
              "#f0f921"
             ]
            ],
            "type": "histogram2dcontour"
           }
          ],
          "mesh3d": [
           {
            "colorbar": {
             "outlinewidth": 0,
             "ticks": ""
            },
            "type": "mesh3d"
           }
          ],
          "parcoords": [
           {
            "line": {
             "colorbar": {
              "outlinewidth": 0,
              "ticks": ""
             }
            },
            "type": "parcoords"
           }
          ],
          "pie": [
           {
            "automargin": true,
            "type": "pie"
           }
          ],
          "scatter": [
           {
            "marker": {
             "line": {
              "color": "#283442"
             }
            },
            "type": "scatter"
           }
          ],
          "scatter3d": [
           {
            "line": {
             "colorbar": {
              "outlinewidth": 0,
              "ticks": ""
             }
            },
            "marker": {
             "colorbar": {
              "outlinewidth": 0,
              "ticks": ""
             }
            },
            "type": "scatter3d"
           }
          ],
          "scattercarpet": [
           {
            "marker": {
             "colorbar": {
              "outlinewidth": 0,
              "ticks": ""
             }
            },
            "type": "scattercarpet"
           }
          ],
          "scattergeo": [
           {
            "marker": {
             "colorbar": {
              "outlinewidth": 0,
              "ticks": ""
             }
            },
            "type": "scattergeo"
           }
          ],
          "scattergl": [
           {
            "marker": {
             "line": {
              "color": "#283442"
             }
            },
            "type": "scattergl"
           }
          ],
          "scattermapbox": [
           {
            "marker": {
             "colorbar": {
              "outlinewidth": 0,
              "ticks": ""
             }
            },
            "type": "scattermapbox"
           }
          ],
          "scatterpolar": [
           {
            "marker": {
             "colorbar": {
              "outlinewidth": 0,
              "ticks": ""
             }
            },
            "type": "scatterpolar"
           }
          ],
          "scatterpolargl": [
           {
            "marker": {
             "colorbar": {
              "outlinewidth": 0,
              "ticks": ""
             }
            },
            "type": "scatterpolargl"
           }
          ],
          "scatterternary": [
           {
            "marker": {
             "colorbar": {
              "outlinewidth": 0,
              "ticks": ""
             }
            },
            "type": "scatterternary"
           }
          ],
          "surface": [
           {
            "colorbar": {
             "outlinewidth": 0,
             "ticks": ""
            },
            "colorscale": [
             [
              0,
              "#0d0887"
             ],
             [
              0.1111111111111111,
              "#46039f"
             ],
             [
              0.2222222222222222,
              "#7201a8"
             ],
             [
              0.3333333333333333,
              "#9c179e"
             ],
             [
              0.4444444444444444,
              "#bd3786"
             ],
             [
              0.5555555555555556,
              "#d8576b"
             ],
             [
              0.6666666666666666,
              "#ed7953"
             ],
             [
              0.7777777777777778,
              "#fb9f3a"
             ],
             [
              0.8888888888888888,
              "#fdca26"
             ],
             [
              1,
              "#f0f921"
             ]
            ],
            "type": "surface"
           }
          ],
          "table": [
           {
            "cells": {
             "fill": {
              "color": "#506784"
             },
             "line": {
              "color": "rgb(17,17,17)"
             }
            },
            "header": {
             "fill": {
              "color": "#2a3f5f"
             },
             "line": {
              "color": "rgb(17,17,17)"
             }
            },
            "type": "table"
           }
          ]
         },
         "layout": {
          "annotationdefaults": {
           "arrowcolor": "#f2f5fa",
           "arrowhead": 0,
           "arrowwidth": 1
          },
          "autotypenumbers": "strict",
          "coloraxis": {
           "colorbar": {
            "outlinewidth": 0,
            "ticks": ""
           }
          },
          "colorscale": {
           "diverging": [
            [
             0,
             "#8e0152"
            ],
            [
             0.1,
             "#c51b7d"
            ],
            [
             0.2,
             "#de77ae"
            ],
            [
             0.3,
             "#f1b6da"
            ],
            [
             0.4,
             "#fde0ef"
            ],
            [
             0.5,
             "#f7f7f7"
            ],
            [
             0.6,
             "#e6f5d0"
            ],
            [
             0.7,
             "#b8e186"
            ],
            [
             0.8,
             "#7fbc41"
            ],
            [
             0.9,
             "#4d9221"
            ],
            [
             1,
             "#276419"
            ]
           ],
           "sequential": [
            [
             0,
             "#0d0887"
            ],
            [
             0.1111111111111111,
             "#46039f"
            ],
            [
             0.2222222222222222,
             "#7201a8"
            ],
            [
             0.3333333333333333,
             "#9c179e"
            ],
            [
             0.4444444444444444,
             "#bd3786"
            ],
            [
             0.5555555555555556,
             "#d8576b"
            ],
            [
             0.6666666666666666,
             "#ed7953"
            ],
            [
             0.7777777777777778,
             "#fb9f3a"
            ],
            [
             0.8888888888888888,
             "#fdca26"
            ],
            [
             1,
             "#f0f921"
            ]
           ],
           "sequentialminus": [
            [
             0,
             "#0d0887"
            ],
            [
             0.1111111111111111,
             "#46039f"
            ],
            [
             0.2222222222222222,
             "#7201a8"
            ],
            [
             0.3333333333333333,
             "#9c179e"
            ],
            [
             0.4444444444444444,
             "#bd3786"
            ],
            [
             0.5555555555555556,
             "#d8576b"
            ],
            [
             0.6666666666666666,
             "#ed7953"
            ],
            [
             0.7777777777777778,
             "#fb9f3a"
            ],
            [
             0.8888888888888888,
             "#fdca26"
            ],
            [
             1,
             "#f0f921"
            ]
           ]
          },
          "colorway": [
           "#636efa",
           "#EF553B",
           "#00cc96",
           "#ab63fa",
           "#FFA15A",
           "#19d3f3",
           "#FF6692",
           "#B6E880",
           "#FF97FF",
           "#FECB52"
          ],
          "font": {
           "color": "#f2f5fa"
          },
          "geo": {
           "bgcolor": "rgb(17,17,17)",
           "lakecolor": "rgb(17,17,17)",
           "landcolor": "rgb(17,17,17)",
           "showlakes": true,
           "showland": true,
           "subunitcolor": "#506784"
          },
          "hoverlabel": {
           "align": "left"
          },
          "hovermode": "closest",
          "mapbox": {
           "style": "dark"
          },
          "paper_bgcolor": "rgb(17,17,17)",
          "plot_bgcolor": "rgb(17,17,17)",
          "polar": {
           "angularaxis": {
            "gridcolor": "#506784",
            "linecolor": "#506784",
            "ticks": ""
           },
           "bgcolor": "rgb(17,17,17)",
           "radialaxis": {
            "gridcolor": "#506784",
            "linecolor": "#506784",
            "ticks": ""
           }
          },
          "scene": {
           "xaxis": {
            "backgroundcolor": "rgb(17,17,17)",
            "gridcolor": "#506784",
            "gridwidth": 2,
            "linecolor": "#506784",
            "showbackground": true,
            "ticks": "",
            "zerolinecolor": "#C8D4E3"
           },
           "yaxis": {
            "backgroundcolor": "rgb(17,17,17)",
            "gridcolor": "#506784",
            "gridwidth": 2,
            "linecolor": "#506784",
            "showbackground": true,
            "ticks": "",
            "zerolinecolor": "#C8D4E3"
           },
           "zaxis": {
            "backgroundcolor": "rgb(17,17,17)",
            "gridcolor": "#506784",
            "gridwidth": 2,
            "linecolor": "#506784",
            "showbackground": true,
            "ticks": "",
            "zerolinecolor": "#C8D4E3"
           }
          },
          "shapedefaults": {
           "line": {
            "color": "#f2f5fa"
           }
          },
          "sliderdefaults": {
           "bgcolor": "#C8D4E3",
           "bordercolor": "rgb(17,17,17)",
           "borderwidth": 1,
           "tickwidth": 0
          },
          "ternary": {
           "aaxis": {
            "gridcolor": "#506784",
            "linecolor": "#506784",
            "ticks": ""
           },
           "baxis": {
            "gridcolor": "#506784",
            "linecolor": "#506784",
            "ticks": ""
           },
           "bgcolor": "rgb(17,17,17)",
           "caxis": {
            "gridcolor": "#506784",
            "linecolor": "#506784",
            "ticks": ""
           }
          },
          "title": {
           "x": 0.05
          },
          "updatemenudefaults": {
           "bgcolor": "#506784",
           "borderwidth": 0
          },
          "xaxis": {
           "automargin": true,
           "gridcolor": "#283442",
           "linecolor": "#506784",
           "ticks": "",
           "title": {
            "standoff": 15
           },
           "zerolinecolor": "#283442",
           "zerolinewidth": 2
          },
          "yaxis": {
           "automargin": true,
           "gridcolor": "#283442",
           "linecolor": "#506784",
           "ticks": "",
           "title": {
            "standoff": 15
           },
           "zerolinecolor": "#283442",
           "zerolinewidth": 2
          }
         }
        },
        "title": {
         "text": "Violin Plot of GDP growth (annual %) Over Years"
        },
        "violinmode": "group",
        "xaxis": {
         "anchor": "y",
         "domain": [
          0,
          1
         ],
         "title": {
          "text": "Year"
         }
        },
        "yaxis": {
         "anchor": "x",
         "domain": [
          0,
          1
         ],
         "title": {
          "text": "GDP growth (annual %)"
         }
        }
       }
      },
      "text/html": [
       "<div>                            <div id=\"f7ee8570-c3f9-4c03-a854-16c0057ba769\" class=\"plotly-graph-div\" style=\"height:525px; width:100%;\"></div>            <script type=\"text/javascript\">                require([\"plotly\"], function(Plotly) {                    window.PLOTLYENV=window.PLOTLYENV || {};                                    if (document.getElementById(\"f7ee8570-c3f9-4c03-a854-16c0057ba769\")) {                    Plotly.newPlot(                        \"f7ee8570-c3f9-4c03-a854-16c0057ba769\",                        [{\"alignmentgroup\":\"True\",\"box\":{\"visible\":false},\"hovertemplate\":\"Year=%{x}<br>GDP growth (annual %)=%{y}<extra></extra>\",\"legendgroup\":\"\",\"marker\":{\"color\":\"yellow\"},\"name\":\"\",\"offsetgroup\":\"\",\"orientation\":\"v\",\"scalegroup\":\"True\",\"showlegend\":false,\"x\":[1973,1974,1975,1976,1977,1978,1979,1980,1981,1982,1983,1984,1985,1986,1987,1988,1989,1990,1991,1992,1993,1994,1995,1996,1997,1998,1999,2000,2001,2002,2003,2004,2005,2006,2007,2008,2009,2010,2011,2012,2013,2014,2015,2016,2017,2018,2019],\"x0\":\" \",\"xaxis\":\"x\",\"y\":[6.523848488664115,-2.4844039908897457,-1.473649531840394,2.910266125586759,2.4577505449983903,4.204260471452741,3.74901659251519,-2.0313677824739216,-0.7877437985313662,1.9948912077839793,4.221856332273859,2.2691051775450433,4.147415037549294,3.150340552430947,5.3927383020640605,5.732413614308001,2.5776027977179012,0.7337555396405406,-1.1031216957803025,0.4010820511624331,2.489831012380293,3.846009160372404,2.5316700224705926,1.9077157875409796,4.5240670980264355,3.1572873386309936,3.014070476254105,4.0926534775365155,2.157428177848317,1.7707652987726874,3.1230533125868902,2.3449714816166107,2.66833765676094,2.1604053205911242,2.5634604605010907,-0.15434431470650622,-4.510485600117846,2.4300728950270383,1.0676109140365782,1.4484567568850508,1.8198633746836776,3.19970262614801,2.3931031839859997,2.1652062105218306,2.443570469879859,1.705021022329035,1.6043086478739923],\"y0\":\" \",\"yaxis\":\"y\",\"type\":\"violin\"}],                        {\"template\":{\"data\":{\"barpolar\":[{\"marker\":{\"line\":{\"color\":\"rgb(17,17,17)\",\"width\":0.5},\"pattern\":{\"fillmode\":\"overlay\",\"size\":10,\"solidity\":0.2}},\"type\":\"barpolar\"}],\"bar\":[{\"error_x\":{\"color\":\"#f2f5fa\"},\"error_y\":{\"color\":\"#f2f5fa\"},\"marker\":{\"line\":{\"color\":\"rgb(17,17,17)\",\"width\":0.5},\"pattern\":{\"fillmode\":\"overlay\",\"size\":10,\"solidity\":0.2}},\"type\":\"bar\"}],\"carpet\":[{\"aaxis\":{\"endlinecolor\":\"#A2B1C6\",\"gridcolor\":\"#506784\",\"linecolor\":\"#506784\",\"minorgridcolor\":\"#506784\",\"startlinecolor\":\"#A2B1C6\"},\"baxis\":{\"endlinecolor\":\"#A2B1C6\",\"gridcolor\":\"#506784\",\"linecolor\":\"#506784\",\"minorgridcolor\":\"#506784\",\"startlinecolor\":\"#A2B1C6\"},\"type\":\"carpet\"}],\"choropleth\":[{\"colorbar\":{\"outlinewidth\":0,\"ticks\":\"\"},\"type\":\"choropleth\"}],\"contourcarpet\":[{\"colorbar\":{\"outlinewidth\":0,\"ticks\":\"\"},\"type\":\"contourcarpet\"}],\"contour\":[{\"colorbar\":{\"outlinewidth\":0,\"ticks\":\"\"},\"colorscale\":[[0.0,\"#0d0887\"],[0.1111111111111111,\"#46039f\"],[0.2222222222222222,\"#7201a8\"],[0.3333333333333333,\"#9c179e\"],[0.4444444444444444,\"#bd3786\"],[0.5555555555555556,\"#d8576b\"],[0.6666666666666666,\"#ed7953\"],[0.7777777777777778,\"#fb9f3a\"],[0.8888888888888888,\"#fdca26\"],[1.0,\"#f0f921\"]],\"type\":\"contour\"}],\"heatmapgl\":[{\"colorbar\":{\"outlinewidth\":0,\"ticks\":\"\"},\"colorscale\":[[0.0,\"#0d0887\"],[0.1111111111111111,\"#46039f\"],[0.2222222222222222,\"#7201a8\"],[0.3333333333333333,\"#9c179e\"],[0.4444444444444444,\"#bd3786\"],[0.5555555555555556,\"#d8576b\"],[0.6666666666666666,\"#ed7953\"],[0.7777777777777778,\"#fb9f3a\"],[0.8888888888888888,\"#fdca26\"],[1.0,\"#f0f921\"]],\"type\":\"heatmapgl\"}],\"heatmap\":[{\"colorbar\":{\"outlinewidth\":0,\"ticks\":\"\"},\"colorscale\":[[0.0,\"#0d0887\"],[0.1111111111111111,\"#46039f\"],[0.2222222222222222,\"#7201a8\"],[0.3333333333333333,\"#9c179e\"],[0.4444444444444444,\"#bd3786\"],[0.5555555555555556,\"#d8576b\"],[0.6666666666666666,\"#ed7953\"],[0.7777777777777778,\"#fb9f3a\"],[0.8888888888888888,\"#fdca26\"],[1.0,\"#f0f921\"]],\"type\":\"heatmap\"}],\"histogram2dcontour\":[{\"colorbar\":{\"outlinewidth\":0,\"ticks\":\"\"},\"colorscale\":[[0.0,\"#0d0887\"],[0.1111111111111111,\"#46039f\"],[0.2222222222222222,\"#7201a8\"],[0.3333333333333333,\"#9c179e\"],[0.4444444444444444,\"#bd3786\"],[0.5555555555555556,\"#d8576b\"],[0.6666666666666666,\"#ed7953\"],[0.7777777777777778,\"#fb9f3a\"],[0.8888888888888888,\"#fdca26\"],[1.0,\"#f0f921\"]],\"type\":\"histogram2dcontour\"}],\"histogram2d\":[{\"colorbar\":{\"outlinewidth\":0,\"ticks\":\"\"},\"colorscale\":[[0.0,\"#0d0887\"],[0.1111111111111111,\"#46039f\"],[0.2222222222222222,\"#7201a8\"],[0.3333333333333333,\"#9c179e\"],[0.4444444444444444,\"#bd3786\"],[0.5555555555555556,\"#d8576b\"],[0.6666666666666666,\"#ed7953\"],[0.7777777777777778,\"#fb9f3a\"],[0.8888888888888888,\"#fdca26\"],[1.0,\"#f0f921\"]],\"type\":\"histogram2d\"}],\"histogram\":[{\"marker\":{\"pattern\":{\"fillmode\":\"overlay\",\"size\":10,\"solidity\":0.2}},\"type\":\"histogram\"}],\"mesh3d\":[{\"colorbar\":{\"outlinewidth\":0,\"ticks\":\"\"},\"type\":\"mesh3d\"}],\"parcoords\":[{\"line\":{\"colorbar\":{\"outlinewidth\":0,\"ticks\":\"\"}},\"type\":\"parcoords\"}],\"pie\":[{\"automargin\":true,\"type\":\"pie\"}],\"scatter3d\":[{\"line\":{\"colorbar\":{\"outlinewidth\":0,\"ticks\":\"\"}},\"marker\":{\"colorbar\":{\"outlinewidth\":0,\"ticks\":\"\"}},\"type\":\"scatter3d\"}],\"scattercarpet\":[{\"marker\":{\"colorbar\":{\"outlinewidth\":0,\"ticks\":\"\"}},\"type\":\"scattercarpet\"}],\"scattergeo\":[{\"marker\":{\"colorbar\":{\"outlinewidth\":0,\"ticks\":\"\"}},\"type\":\"scattergeo\"}],\"scattergl\":[{\"marker\":{\"line\":{\"color\":\"#283442\"}},\"type\":\"scattergl\"}],\"scattermapbox\":[{\"marker\":{\"colorbar\":{\"outlinewidth\":0,\"ticks\":\"\"}},\"type\":\"scattermapbox\"}],\"scatterpolargl\":[{\"marker\":{\"colorbar\":{\"outlinewidth\":0,\"ticks\":\"\"}},\"type\":\"scatterpolargl\"}],\"scatterpolar\":[{\"marker\":{\"colorbar\":{\"outlinewidth\":0,\"ticks\":\"\"}},\"type\":\"scatterpolar\"}],\"scatter\":[{\"marker\":{\"line\":{\"color\":\"#283442\"}},\"type\":\"scatter\"}],\"scatterternary\":[{\"marker\":{\"colorbar\":{\"outlinewidth\":0,\"ticks\":\"\"}},\"type\":\"scatterternary\"}],\"surface\":[{\"colorbar\":{\"outlinewidth\":0,\"ticks\":\"\"},\"colorscale\":[[0.0,\"#0d0887\"],[0.1111111111111111,\"#46039f\"],[0.2222222222222222,\"#7201a8\"],[0.3333333333333333,\"#9c179e\"],[0.4444444444444444,\"#bd3786\"],[0.5555555555555556,\"#d8576b\"],[0.6666666666666666,\"#ed7953\"],[0.7777777777777778,\"#fb9f3a\"],[0.8888888888888888,\"#fdca26\"],[1.0,\"#f0f921\"]],\"type\":\"surface\"}],\"table\":[{\"cells\":{\"fill\":{\"color\":\"#506784\"},\"line\":{\"color\":\"rgb(17,17,17)\"}},\"header\":{\"fill\":{\"color\":\"#2a3f5f\"},\"line\":{\"color\":\"rgb(17,17,17)\"}},\"type\":\"table\"}]},\"layout\":{\"annotationdefaults\":{\"arrowcolor\":\"#f2f5fa\",\"arrowhead\":0,\"arrowwidth\":1},\"autotypenumbers\":\"strict\",\"coloraxis\":{\"colorbar\":{\"outlinewidth\":0,\"ticks\":\"\"}},\"colorscale\":{\"diverging\":[[0,\"#8e0152\"],[0.1,\"#c51b7d\"],[0.2,\"#de77ae\"],[0.3,\"#f1b6da\"],[0.4,\"#fde0ef\"],[0.5,\"#f7f7f7\"],[0.6,\"#e6f5d0\"],[0.7,\"#b8e186\"],[0.8,\"#7fbc41\"],[0.9,\"#4d9221\"],[1,\"#276419\"]],\"sequential\":[[0.0,\"#0d0887\"],[0.1111111111111111,\"#46039f\"],[0.2222222222222222,\"#7201a8\"],[0.3333333333333333,\"#9c179e\"],[0.4444444444444444,\"#bd3786\"],[0.5555555555555556,\"#d8576b\"],[0.6666666666666666,\"#ed7953\"],[0.7777777777777778,\"#fb9f3a\"],[0.8888888888888888,\"#fdca26\"],[1.0,\"#f0f921\"]],\"sequentialminus\":[[0.0,\"#0d0887\"],[0.1111111111111111,\"#46039f\"],[0.2222222222222222,\"#7201a8\"],[0.3333333333333333,\"#9c179e\"],[0.4444444444444444,\"#bd3786\"],[0.5555555555555556,\"#d8576b\"],[0.6666666666666666,\"#ed7953\"],[0.7777777777777778,\"#fb9f3a\"],[0.8888888888888888,\"#fdca26\"],[1.0,\"#f0f921\"]]},\"colorway\":[\"#636efa\",\"#EF553B\",\"#00cc96\",\"#ab63fa\",\"#FFA15A\",\"#19d3f3\",\"#FF6692\",\"#B6E880\",\"#FF97FF\",\"#FECB52\"],\"font\":{\"color\":\"#f2f5fa\"},\"geo\":{\"bgcolor\":\"rgb(17,17,17)\",\"lakecolor\":\"rgb(17,17,17)\",\"landcolor\":\"rgb(17,17,17)\",\"showlakes\":true,\"showland\":true,\"subunitcolor\":\"#506784\"},\"hoverlabel\":{\"align\":\"left\"},\"hovermode\":\"closest\",\"mapbox\":{\"style\":\"dark\"},\"paper_bgcolor\":\"rgb(17,17,17)\",\"plot_bgcolor\":\"rgb(17,17,17)\",\"polar\":{\"angularaxis\":{\"gridcolor\":\"#506784\",\"linecolor\":\"#506784\",\"ticks\":\"\"},\"bgcolor\":\"rgb(17,17,17)\",\"radialaxis\":{\"gridcolor\":\"#506784\",\"linecolor\":\"#506784\",\"ticks\":\"\"}},\"scene\":{\"xaxis\":{\"backgroundcolor\":\"rgb(17,17,17)\",\"gridcolor\":\"#506784\",\"gridwidth\":2,\"linecolor\":\"#506784\",\"showbackground\":true,\"ticks\":\"\",\"zerolinecolor\":\"#C8D4E3\"},\"yaxis\":{\"backgroundcolor\":\"rgb(17,17,17)\",\"gridcolor\":\"#506784\",\"gridwidth\":2,\"linecolor\":\"#506784\",\"showbackground\":true,\"ticks\":\"\",\"zerolinecolor\":\"#C8D4E3\"},\"zaxis\":{\"backgroundcolor\":\"rgb(17,17,17)\",\"gridcolor\":\"#506784\",\"gridwidth\":2,\"linecolor\":\"#506784\",\"showbackground\":true,\"ticks\":\"\",\"zerolinecolor\":\"#C8D4E3\"}},\"shapedefaults\":{\"line\":{\"color\":\"#f2f5fa\"}},\"sliderdefaults\":{\"bgcolor\":\"#C8D4E3\",\"bordercolor\":\"rgb(17,17,17)\",\"borderwidth\":1,\"tickwidth\":0},\"ternary\":{\"aaxis\":{\"gridcolor\":\"#506784\",\"linecolor\":\"#506784\",\"ticks\":\"\"},\"baxis\":{\"gridcolor\":\"#506784\",\"linecolor\":\"#506784\",\"ticks\":\"\"},\"bgcolor\":\"rgb(17,17,17)\",\"caxis\":{\"gridcolor\":\"#506784\",\"linecolor\":\"#506784\",\"ticks\":\"\"}},\"title\":{\"x\":0.05},\"updatemenudefaults\":{\"bgcolor\":\"#506784\",\"borderwidth\":0},\"xaxis\":{\"automargin\":true,\"gridcolor\":\"#283442\",\"linecolor\":\"#506784\",\"ticks\":\"\",\"title\":{\"standoff\":15},\"zerolinecolor\":\"#283442\",\"zerolinewidth\":2},\"yaxis\":{\"automargin\":true,\"gridcolor\":\"#283442\",\"linecolor\":\"#506784\",\"ticks\":\"\",\"title\":{\"standoff\":15},\"zerolinecolor\":\"#283442\",\"zerolinewidth\":2}}},\"xaxis\":{\"anchor\":\"y\",\"domain\":[0.0,1.0],\"title\":{\"text\":\"Year\"}},\"yaxis\":{\"anchor\":\"x\",\"domain\":[0.0,1.0],\"title\":{\"text\":\"GDP growth (annual %)\"}},\"legend\":{\"tracegroupgap\":0},\"title\":{\"text\":\"Violin Plot of GDP growth (annual %) Over Years\"},\"violinmode\":\"group\"},                        {\"responsive\": true}                    ).then(function(){\n",
       "                            \n",
       "var gd = document.getElementById('f7ee8570-c3f9-4c03-a854-16c0057ba769');\n",
       "var x = new MutationObserver(function (mutations, observer) {{\n",
       "        var display = window.getComputedStyle(gd).display;\n",
       "        if (!display || display === 'none') {{\n",
       "            console.log([gd, 'removed!']);\n",
       "            Plotly.purge(gd);\n",
       "            observer.disconnect();\n",
       "        }}\n",
       "}});\n",
       "\n",
       "// Listen for the removal of the full notebook cells\n",
       "var notebookContainer = gd.closest('#notebook-container');\n",
       "if (notebookContainer) {{\n",
       "    x.observe(notebookContainer, {childList: true});\n",
       "}}\n",
       "\n",
       "// Listen for the clearing of the current output cell\n",
       "var outputEl = gd.closest('.output');\n",
       "if (outputEl) {{\n",
       "    x.observe(outputEl, {childList: true});\n",
       "}}\n",
       "\n",
       "                        })                };                });            </script>        </div>"
      ]
     },
     "metadata": {},
     "output_type": "display_data"
    },
    {
     "data": {
      "application/vnd.plotly.v1+json": {
       "config": {
        "plotlyServerURL": "https://plot.ly"
       },
       "data": [
        {
         "fillpattern": {
          "shape": ""
         },
         "hovertemplate": "Year=%{x}<br>GDP per capita (constant 2015 US$)=%{y}<extra></extra>",
         "legendgroup": "",
         "line": {
          "color": "#636EFA"
         },
         "marker": {
          "symbol": "circle"
         },
         "mode": "lines",
         "name": "",
         "orientation": "v",
         "showlegend": false,
         "stackgroup": "1",
         "type": "scatter",
         "x": [
          1973,
          1974,
          1975,
          1976,
          1977,
          1978,
          1979,
          1980,
          1981,
          1982,
          1983,
          1984,
          1985,
          1986,
          1987,
          1988,
          1989,
          1990,
          1991,
          1992,
          1993,
          1994,
          1995,
          1996,
          1997,
          1998,
          1999,
          2000,
          2001,
          2002,
          2003,
          2004,
          2005,
          2006,
          2007,
          2008,
          2009,
          2010,
          2011,
          2012,
          2013,
          2014,
          2015,
          2016,
          2017,
          2018,
          2019
         ],
         "xaxis": "x",
         "y": [
          22471.18488976378,
          21899.09612355238,
          21577.981948465425,
          22211.42283674667,
          22764.806640605602,
          23720.62696982432,
          24587.84496558398,
          24059.60283721686,
          23861.764281442804,
          24346.50542314216,
          25365.728367106967,
          25900.28070289348,
          26913.323358859445,
          27696.96135757873,
          29128.581884052135,
          30730.036537210766,
          31440.185800106017,
          31576.347332067257,
          31131.5989518774,
          31172.04917830968,
          31871.67796254642,
          33013.3111100521,
          33759.67063590621,
          34316.21971460043,
          35776.446332350126,
          36798.6217253133,
          37781.58187941544,
          39187.58308174357,
          39879.20578478292,
          40413.9231510367,
          41482.46170649633,
          42214.35341773356,
          43044.21152981169,
          43652.09467240625,
          44423.83525115498,
          44007.549276714395,
          41705.939123468335,
          42385.86022403495,
          42504.89635299314,
          42821.76128380628,
          43310.02055740705,
          44367.85299791053,
          45071.07432348728,
          45699.29696318884,
          46499.01354562641,
          47006.14292676832,
          47491.59456300587
         ],
         "yaxis": "y"
        }
       ],
       "layout": {
        "legend": {
         "tracegroupgap": 0
        },
        "template": {
         "data": {
          "bar": [
           {
            "error_x": {
             "color": "#f2f5fa"
            },
            "error_y": {
             "color": "#f2f5fa"
            },
            "marker": {
             "line": {
              "color": "rgb(17,17,17)",
              "width": 0.5
             },
             "pattern": {
              "fillmode": "overlay",
              "size": 10,
              "solidity": 0.2
             }
            },
            "type": "bar"
           }
          ],
          "barpolar": [
           {
            "marker": {
             "line": {
              "color": "rgb(17,17,17)",
              "width": 0.5
             },
             "pattern": {
              "fillmode": "overlay",
              "size": 10,
              "solidity": 0.2
             }
            },
            "type": "barpolar"
           }
          ],
          "carpet": [
           {
            "aaxis": {
             "endlinecolor": "#A2B1C6",
             "gridcolor": "#506784",
             "linecolor": "#506784",
             "minorgridcolor": "#506784",
             "startlinecolor": "#A2B1C6"
            },
            "baxis": {
             "endlinecolor": "#A2B1C6",
             "gridcolor": "#506784",
             "linecolor": "#506784",
             "minorgridcolor": "#506784",
             "startlinecolor": "#A2B1C6"
            },
            "type": "carpet"
           }
          ],
          "choropleth": [
           {
            "colorbar": {
             "outlinewidth": 0,
             "ticks": ""
            },
            "type": "choropleth"
           }
          ],
          "contour": [
           {
            "colorbar": {
             "outlinewidth": 0,
             "ticks": ""
            },
            "colorscale": [
             [
              0,
              "#0d0887"
             ],
             [
              0.1111111111111111,
              "#46039f"
             ],
             [
              0.2222222222222222,
              "#7201a8"
             ],
             [
              0.3333333333333333,
              "#9c179e"
             ],
             [
              0.4444444444444444,
              "#bd3786"
             ],
             [
              0.5555555555555556,
              "#d8576b"
             ],
             [
              0.6666666666666666,
              "#ed7953"
             ],
             [
              0.7777777777777778,
              "#fb9f3a"
             ],
             [
              0.8888888888888888,
              "#fdca26"
             ],
             [
              1,
              "#f0f921"
             ]
            ],
            "type": "contour"
           }
          ],
          "contourcarpet": [
           {
            "colorbar": {
             "outlinewidth": 0,
             "ticks": ""
            },
            "type": "contourcarpet"
           }
          ],
          "heatmap": [
           {
            "colorbar": {
             "outlinewidth": 0,
             "ticks": ""
            },
            "colorscale": [
             [
              0,
              "#0d0887"
             ],
             [
              0.1111111111111111,
              "#46039f"
             ],
             [
              0.2222222222222222,
              "#7201a8"
             ],
             [
              0.3333333333333333,
              "#9c179e"
             ],
             [
              0.4444444444444444,
              "#bd3786"
             ],
             [
              0.5555555555555556,
              "#d8576b"
             ],
             [
              0.6666666666666666,
              "#ed7953"
             ],
             [
              0.7777777777777778,
              "#fb9f3a"
             ],
             [
              0.8888888888888888,
              "#fdca26"
             ],
             [
              1,
              "#f0f921"
             ]
            ],
            "type": "heatmap"
           }
          ],
          "heatmapgl": [
           {
            "colorbar": {
             "outlinewidth": 0,
             "ticks": ""
            },
            "colorscale": [
             [
              0,
              "#0d0887"
             ],
             [
              0.1111111111111111,
              "#46039f"
             ],
             [
              0.2222222222222222,
              "#7201a8"
             ],
             [
              0.3333333333333333,
              "#9c179e"
             ],
             [
              0.4444444444444444,
              "#bd3786"
             ],
             [
              0.5555555555555556,
              "#d8576b"
             ],
             [
              0.6666666666666666,
              "#ed7953"
             ],
             [
              0.7777777777777778,
              "#fb9f3a"
             ],
             [
              0.8888888888888888,
              "#fdca26"
             ],
             [
              1,
              "#f0f921"
             ]
            ],
            "type": "heatmapgl"
           }
          ],
          "histogram": [
           {
            "marker": {
             "pattern": {
              "fillmode": "overlay",
              "size": 10,
              "solidity": 0.2
             }
            },
            "type": "histogram"
           }
          ],
          "histogram2d": [
           {
            "colorbar": {
             "outlinewidth": 0,
             "ticks": ""
            },
            "colorscale": [
             [
              0,
              "#0d0887"
             ],
             [
              0.1111111111111111,
              "#46039f"
             ],
             [
              0.2222222222222222,
              "#7201a8"
             ],
             [
              0.3333333333333333,
              "#9c179e"
             ],
             [
              0.4444444444444444,
              "#bd3786"
             ],
             [
              0.5555555555555556,
              "#d8576b"
             ],
             [
              0.6666666666666666,
              "#ed7953"
             ],
             [
              0.7777777777777778,
              "#fb9f3a"
             ],
             [
              0.8888888888888888,
              "#fdca26"
             ],
             [
              1,
              "#f0f921"
             ]
            ],
            "type": "histogram2d"
           }
          ],
          "histogram2dcontour": [
           {
            "colorbar": {
             "outlinewidth": 0,
             "ticks": ""
            },
            "colorscale": [
             [
              0,
              "#0d0887"
             ],
             [
              0.1111111111111111,
              "#46039f"
             ],
             [
              0.2222222222222222,
              "#7201a8"
             ],
             [
              0.3333333333333333,
              "#9c179e"
             ],
             [
              0.4444444444444444,
              "#bd3786"
             ],
             [
              0.5555555555555556,
              "#d8576b"
             ],
             [
              0.6666666666666666,
              "#ed7953"
             ],
             [
              0.7777777777777778,
              "#fb9f3a"
             ],
             [
              0.8888888888888888,
              "#fdca26"
             ],
             [
              1,
              "#f0f921"
             ]
            ],
            "type": "histogram2dcontour"
           }
          ],
          "mesh3d": [
           {
            "colorbar": {
             "outlinewidth": 0,
             "ticks": ""
            },
            "type": "mesh3d"
           }
          ],
          "parcoords": [
           {
            "line": {
             "colorbar": {
              "outlinewidth": 0,
              "ticks": ""
             }
            },
            "type": "parcoords"
           }
          ],
          "pie": [
           {
            "automargin": true,
            "type": "pie"
           }
          ],
          "scatter": [
           {
            "marker": {
             "line": {
              "color": "#283442"
             }
            },
            "type": "scatter"
           }
          ],
          "scatter3d": [
           {
            "line": {
             "colorbar": {
              "outlinewidth": 0,
              "ticks": ""
             }
            },
            "marker": {
             "colorbar": {
              "outlinewidth": 0,
              "ticks": ""
             }
            },
            "type": "scatter3d"
           }
          ],
          "scattercarpet": [
           {
            "marker": {
             "colorbar": {
              "outlinewidth": 0,
              "ticks": ""
             }
            },
            "type": "scattercarpet"
           }
          ],
          "scattergeo": [
           {
            "marker": {
             "colorbar": {
              "outlinewidth": 0,
              "ticks": ""
             }
            },
            "type": "scattergeo"
           }
          ],
          "scattergl": [
           {
            "marker": {
             "line": {
              "color": "#283442"
             }
            },
            "type": "scattergl"
           }
          ],
          "scattermapbox": [
           {
            "marker": {
             "colorbar": {
              "outlinewidth": 0,
              "ticks": ""
             }
            },
            "type": "scattermapbox"
           }
          ],
          "scatterpolar": [
           {
            "marker": {
             "colorbar": {
              "outlinewidth": 0,
              "ticks": ""
             }
            },
            "type": "scatterpolar"
           }
          ],
          "scatterpolargl": [
           {
            "marker": {
             "colorbar": {
              "outlinewidth": 0,
              "ticks": ""
             }
            },
            "type": "scatterpolargl"
           }
          ],
          "scatterternary": [
           {
            "marker": {
             "colorbar": {
              "outlinewidth": 0,
              "ticks": ""
             }
            },
            "type": "scatterternary"
           }
          ],
          "surface": [
           {
            "colorbar": {
             "outlinewidth": 0,
             "ticks": ""
            },
            "colorscale": [
             [
              0,
              "#0d0887"
             ],
             [
              0.1111111111111111,
              "#46039f"
             ],
             [
              0.2222222222222222,
              "#7201a8"
             ],
             [
              0.3333333333333333,
              "#9c179e"
             ],
             [
              0.4444444444444444,
              "#bd3786"
             ],
             [
              0.5555555555555556,
              "#d8576b"
             ],
             [
              0.6666666666666666,
              "#ed7953"
             ],
             [
              0.7777777777777778,
              "#fb9f3a"
             ],
             [
              0.8888888888888888,
              "#fdca26"
             ],
             [
              1,
              "#f0f921"
             ]
            ],
            "type": "surface"
           }
          ],
          "table": [
           {
            "cells": {
             "fill": {
              "color": "#506784"
             },
             "line": {
              "color": "rgb(17,17,17)"
             }
            },
            "header": {
             "fill": {
              "color": "#2a3f5f"
             },
             "line": {
              "color": "rgb(17,17,17)"
             }
            },
            "type": "table"
           }
          ]
         },
         "layout": {
          "annotationdefaults": {
           "arrowcolor": "#f2f5fa",
           "arrowhead": 0,
           "arrowwidth": 1
          },
          "autotypenumbers": "strict",
          "coloraxis": {
           "colorbar": {
            "outlinewidth": 0,
            "ticks": ""
           }
          },
          "colorscale": {
           "diverging": [
            [
             0,
             "#8e0152"
            ],
            [
             0.1,
             "#c51b7d"
            ],
            [
             0.2,
             "#de77ae"
            ],
            [
             0.3,
             "#f1b6da"
            ],
            [
             0.4,
             "#fde0ef"
            ],
            [
             0.5,
             "#f7f7f7"
            ],
            [
             0.6,
             "#e6f5d0"
            ],
            [
             0.7,
             "#b8e186"
            ],
            [
             0.8,
             "#7fbc41"
            ],
            [
             0.9,
             "#4d9221"
            ],
            [
             1,
             "#276419"
            ]
           ],
           "sequential": [
            [
             0,
             "#0d0887"
            ],
            [
             0.1111111111111111,
             "#46039f"
            ],
            [
             0.2222222222222222,
             "#7201a8"
            ],
            [
             0.3333333333333333,
             "#9c179e"
            ],
            [
             0.4444444444444444,
             "#bd3786"
            ],
            [
             0.5555555555555556,
             "#d8576b"
            ],
            [
             0.6666666666666666,
             "#ed7953"
            ],
            [
             0.7777777777777778,
             "#fb9f3a"
            ],
            [
             0.8888888888888888,
             "#fdca26"
            ],
            [
             1,
             "#f0f921"
            ]
           ],
           "sequentialminus": [
            [
             0,
             "#0d0887"
            ],
            [
             0.1111111111111111,
             "#46039f"
            ],
            [
             0.2222222222222222,
             "#7201a8"
            ],
            [
             0.3333333333333333,
             "#9c179e"
            ],
            [
             0.4444444444444444,
             "#bd3786"
            ],
            [
             0.5555555555555556,
             "#d8576b"
            ],
            [
             0.6666666666666666,
             "#ed7953"
            ],
            [
             0.7777777777777778,
             "#fb9f3a"
            ],
            [
             0.8888888888888888,
             "#fdca26"
            ],
            [
             1,
             "#f0f921"
            ]
           ]
          },
          "colorway": [
           "#636efa",
           "#EF553B",
           "#00cc96",
           "#ab63fa",
           "#FFA15A",
           "#19d3f3",
           "#FF6692",
           "#B6E880",
           "#FF97FF",
           "#FECB52"
          ],
          "font": {
           "color": "#f2f5fa"
          },
          "geo": {
           "bgcolor": "rgb(17,17,17)",
           "lakecolor": "rgb(17,17,17)",
           "landcolor": "rgb(17,17,17)",
           "showlakes": true,
           "showland": true,
           "subunitcolor": "#506784"
          },
          "hoverlabel": {
           "align": "left"
          },
          "hovermode": "closest",
          "mapbox": {
           "style": "dark"
          },
          "paper_bgcolor": "rgb(17,17,17)",
          "plot_bgcolor": "rgb(17,17,17)",
          "polar": {
           "angularaxis": {
            "gridcolor": "#506784",
            "linecolor": "#506784",
            "ticks": ""
           },
           "bgcolor": "rgb(17,17,17)",
           "radialaxis": {
            "gridcolor": "#506784",
            "linecolor": "#506784",
            "ticks": ""
           }
          },
          "scene": {
           "xaxis": {
            "backgroundcolor": "rgb(17,17,17)",
            "gridcolor": "#506784",
            "gridwidth": 2,
            "linecolor": "#506784",
            "showbackground": true,
            "ticks": "",
            "zerolinecolor": "#C8D4E3"
           },
           "yaxis": {
            "backgroundcolor": "rgb(17,17,17)",
            "gridcolor": "#506784",
            "gridwidth": 2,
            "linecolor": "#506784",
            "showbackground": true,
            "ticks": "",
            "zerolinecolor": "#C8D4E3"
           },
           "zaxis": {
            "backgroundcolor": "rgb(17,17,17)",
            "gridcolor": "#506784",
            "gridwidth": 2,
            "linecolor": "#506784",
            "showbackground": true,
            "ticks": "",
            "zerolinecolor": "#C8D4E3"
           }
          },
          "shapedefaults": {
           "line": {
            "color": "#f2f5fa"
           }
          },
          "sliderdefaults": {
           "bgcolor": "#C8D4E3",
           "bordercolor": "rgb(17,17,17)",
           "borderwidth": 1,
           "tickwidth": 0
          },
          "ternary": {
           "aaxis": {
            "gridcolor": "#506784",
            "linecolor": "#506784",
            "ticks": ""
           },
           "baxis": {
            "gridcolor": "#506784",
            "linecolor": "#506784",
            "ticks": ""
           },
           "bgcolor": "rgb(17,17,17)",
           "caxis": {
            "gridcolor": "#506784",
            "linecolor": "#506784",
            "ticks": ""
           }
          },
          "title": {
           "x": 0.05
          },
          "updatemenudefaults": {
           "bgcolor": "#506784",
           "borderwidth": 0
          },
          "xaxis": {
           "automargin": true,
           "gridcolor": "#283442",
           "linecolor": "#506784",
           "ticks": "",
           "title": {
            "standoff": 15
           },
           "zerolinecolor": "#283442",
           "zerolinewidth": 2
          },
          "yaxis": {
           "automargin": true,
           "gridcolor": "#283442",
           "linecolor": "#506784",
           "ticks": "",
           "title": {
            "standoff": 15
           },
           "zerolinecolor": "#283442",
           "zerolinewidth": 2
          }
         }
        },
        "title": {
         "text": "Area Plot of GDP per capita (constant 2015 US$) Over Years"
        },
        "xaxis": {
         "anchor": "y",
         "domain": [
          0,
          1
         ],
         "title": {
          "text": "Year"
         }
        },
        "yaxis": {
         "anchor": "x",
         "domain": [
          0,
          1
         ],
         "title": {
          "text": "GDP per capita (constant 2015 US$)"
         }
        }
       }
      },
      "text/html": [
       "<div>                            <div id=\"4edb5d36-f350-438c-9082-48c81406d35d\" class=\"plotly-graph-div\" style=\"height:525px; width:100%;\"></div>            <script type=\"text/javascript\">                require([\"plotly\"], function(Plotly) {                    window.PLOTLYENV=window.PLOTLYENV || {};                                    if (document.getElementById(\"4edb5d36-f350-438c-9082-48c81406d35d\")) {                    Plotly.newPlot(                        \"4edb5d36-f350-438c-9082-48c81406d35d\",                        [{\"fillpattern\":{\"shape\":\"\"},\"hovertemplate\":\"Year=%{x}<br>GDP per capita (constant 2015 US$)=%{y}<extra></extra>\",\"legendgroup\":\"\",\"line\":{\"color\":\"#636EFA\"},\"marker\":{\"symbol\":\"circle\"},\"mode\":\"lines\",\"name\":\"\",\"orientation\":\"v\",\"showlegend\":false,\"stackgroup\":\"1\",\"x\":[1973,1974,1975,1976,1977,1978,1979,1980,1981,1982,1983,1984,1985,1986,1987,1988,1989,1990,1991,1992,1993,1994,1995,1996,1997,1998,1999,2000,2001,2002,2003,2004,2005,2006,2007,2008,2009,2010,2011,2012,2013,2014,2015,2016,2017,2018,2019],\"xaxis\":\"x\",\"y\":[22471.18488976378,21899.09612355238,21577.981948465425,22211.42283674667,22764.806640605602,23720.62696982432,24587.84496558398,24059.60283721686,23861.764281442804,24346.50542314216,25365.728367106967,25900.28070289348,26913.323358859445,27696.96135757873,29128.581884052135,30730.036537210766,31440.185800106017,31576.347332067257,31131.5989518774,31172.04917830968,31871.67796254642,33013.3111100521,33759.67063590621,34316.21971460043,35776.446332350126,36798.6217253133,37781.58187941544,39187.58308174357,39879.20578478292,40413.9231510367,41482.46170649633,42214.35341773356,43044.21152981169,43652.09467240625,44423.83525115498,44007.549276714395,41705.939123468335,42385.86022403495,42504.89635299314,42821.76128380628,43310.02055740705,44367.85299791053,45071.07432348728,45699.29696318884,46499.01354562641,47006.14292676832,47491.59456300587],\"yaxis\":\"y\",\"type\":\"scatter\"}],                        {\"template\":{\"data\":{\"barpolar\":[{\"marker\":{\"line\":{\"color\":\"rgb(17,17,17)\",\"width\":0.5},\"pattern\":{\"fillmode\":\"overlay\",\"size\":10,\"solidity\":0.2}},\"type\":\"barpolar\"}],\"bar\":[{\"error_x\":{\"color\":\"#f2f5fa\"},\"error_y\":{\"color\":\"#f2f5fa\"},\"marker\":{\"line\":{\"color\":\"rgb(17,17,17)\",\"width\":0.5},\"pattern\":{\"fillmode\":\"overlay\",\"size\":10,\"solidity\":0.2}},\"type\":\"bar\"}],\"carpet\":[{\"aaxis\":{\"endlinecolor\":\"#A2B1C6\",\"gridcolor\":\"#506784\",\"linecolor\":\"#506784\",\"minorgridcolor\":\"#506784\",\"startlinecolor\":\"#A2B1C6\"},\"baxis\":{\"endlinecolor\":\"#A2B1C6\",\"gridcolor\":\"#506784\",\"linecolor\":\"#506784\",\"minorgridcolor\":\"#506784\",\"startlinecolor\":\"#A2B1C6\"},\"type\":\"carpet\"}],\"choropleth\":[{\"colorbar\":{\"outlinewidth\":0,\"ticks\":\"\"},\"type\":\"choropleth\"}],\"contourcarpet\":[{\"colorbar\":{\"outlinewidth\":0,\"ticks\":\"\"},\"type\":\"contourcarpet\"}],\"contour\":[{\"colorbar\":{\"outlinewidth\":0,\"ticks\":\"\"},\"colorscale\":[[0.0,\"#0d0887\"],[0.1111111111111111,\"#46039f\"],[0.2222222222222222,\"#7201a8\"],[0.3333333333333333,\"#9c179e\"],[0.4444444444444444,\"#bd3786\"],[0.5555555555555556,\"#d8576b\"],[0.6666666666666666,\"#ed7953\"],[0.7777777777777778,\"#fb9f3a\"],[0.8888888888888888,\"#fdca26\"],[1.0,\"#f0f921\"]],\"type\":\"contour\"}],\"heatmapgl\":[{\"colorbar\":{\"outlinewidth\":0,\"ticks\":\"\"},\"colorscale\":[[0.0,\"#0d0887\"],[0.1111111111111111,\"#46039f\"],[0.2222222222222222,\"#7201a8\"],[0.3333333333333333,\"#9c179e\"],[0.4444444444444444,\"#bd3786\"],[0.5555555555555556,\"#d8576b\"],[0.6666666666666666,\"#ed7953\"],[0.7777777777777778,\"#fb9f3a\"],[0.8888888888888888,\"#fdca26\"],[1.0,\"#f0f921\"]],\"type\":\"heatmapgl\"}],\"heatmap\":[{\"colorbar\":{\"outlinewidth\":0,\"ticks\":\"\"},\"colorscale\":[[0.0,\"#0d0887\"],[0.1111111111111111,\"#46039f\"],[0.2222222222222222,\"#7201a8\"],[0.3333333333333333,\"#9c179e\"],[0.4444444444444444,\"#bd3786\"],[0.5555555555555556,\"#d8576b\"],[0.6666666666666666,\"#ed7953\"],[0.7777777777777778,\"#fb9f3a\"],[0.8888888888888888,\"#fdca26\"],[1.0,\"#f0f921\"]],\"type\":\"heatmap\"}],\"histogram2dcontour\":[{\"colorbar\":{\"outlinewidth\":0,\"ticks\":\"\"},\"colorscale\":[[0.0,\"#0d0887\"],[0.1111111111111111,\"#46039f\"],[0.2222222222222222,\"#7201a8\"],[0.3333333333333333,\"#9c179e\"],[0.4444444444444444,\"#bd3786\"],[0.5555555555555556,\"#d8576b\"],[0.6666666666666666,\"#ed7953\"],[0.7777777777777778,\"#fb9f3a\"],[0.8888888888888888,\"#fdca26\"],[1.0,\"#f0f921\"]],\"type\":\"histogram2dcontour\"}],\"histogram2d\":[{\"colorbar\":{\"outlinewidth\":0,\"ticks\":\"\"},\"colorscale\":[[0.0,\"#0d0887\"],[0.1111111111111111,\"#46039f\"],[0.2222222222222222,\"#7201a8\"],[0.3333333333333333,\"#9c179e\"],[0.4444444444444444,\"#bd3786\"],[0.5555555555555556,\"#d8576b\"],[0.6666666666666666,\"#ed7953\"],[0.7777777777777778,\"#fb9f3a\"],[0.8888888888888888,\"#fdca26\"],[1.0,\"#f0f921\"]],\"type\":\"histogram2d\"}],\"histogram\":[{\"marker\":{\"pattern\":{\"fillmode\":\"overlay\",\"size\":10,\"solidity\":0.2}},\"type\":\"histogram\"}],\"mesh3d\":[{\"colorbar\":{\"outlinewidth\":0,\"ticks\":\"\"},\"type\":\"mesh3d\"}],\"parcoords\":[{\"line\":{\"colorbar\":{\"outlinewidth\":0,\"ticks\":\"\"}},\"type\":\"parcoords\"}],\"pie\":[{\"automargin\":true,\"type\":\"pie\"}],\"scatter3d\":[{\"line\":{\"colorbar\":{\"outlinewidth\":0,\"ticks\":\"\"}},\"marker\":{\"colorbar\":{\"outlinewidth\":0,\"ticks\":\"\"}},\"type\":\"scatter3d\"}],\"scattercarpet\":[{\"marker\":{\"colorbar\":{\"outlinewidth\":0,\"ticks\":\"\"}},\"type\":\"scattercarpet\"}],\"scattergeo\":[{\"marker\":{\"colorbar\":{\"outlinewidth\":0,\"ticks\":\"\"}},\"type\":\"scattergeo\"}],\"scattergl\":[{\"marker\":{\"line\":{\"color\":\"#283442\"}},\"type\":\"scattergl\"}],\"scattermapbox\":[{\"marker\":{\"colorbar\":{\"outlinewidth\":0,\"ticks\":\"\"}},\"type\":\"scattermapbox\"}],\"scatterpolargl\":[{\"marker\":{\"colorbar\":{\"outlinewidth\":0,\"ticks\":\"\"}},\"type\":\"scatterpolargl\"}],\"scatterpolar\":[{\"marker\":{\"colorbar\":{\"outlinewidth\":0,\"ticks\":\"\"}},\"type\":\"scatterpolar\"}],\"scatter\":[{\"marker\":{\"line\":{\"color\":\"#283442\"}},\"type\":\"scatter\"}],\"scatterternary\":[{\"marker\":{\"colorbar\":{\"outlinewidth\":0,\"ticks\":\"\"}},\"type\":\"scatterternary\"}],\"surface\":[{\"colorbar\":{\"outlinewidth\":0,\"ticks\":\"\"},\"colorscale\":[[0.0,\"#0d0887\"],[0.1111111111111111,\"#46039f\"],[0.2222222222222222,\"#7201a8\"],[0.3333333333333333,\"#9c179e\"],[0.4444444444444444,\"#bd3786\"],[0.5555555555555556,\"#d8576b\"],[0.6666666666666666,\"#ed7953\"],[0.7777777777777778,\"#fb9f3a\"],[0.8888888888888888,\"#fdca26\"],[1.0,\"#f0f921\"]],\"type\":\"surface\"}],\"table\":[{\"cells\":{\"fill\":{\"color\":\"#506784\"},\"line\":{\"color\":\"rgb(17,17,17)\"}},\"header\":{\"fill\":{\"color\":\"#2a3f5f\"},\"line\":{\"color\":\"rgb(17,17,17)\"}},\"type\":\"table\"}]},\"layout\":{\"annotationdefaults\":{\"arrowcolor\":\"#f2f5fa\",\"arrowhead\":0,\"arrowwidth\":1},\"autotypenumbers\":\"strict\",\"coloraxis\":{\"colorbar\":{\"outlinewidth\":0,\"ticks\":\"\"}},\"colorscale\":{\"diverging\":[[0,\"#8e0152\"],[0.1,\"#c51b7d\"],[0.2,\"#de77ae\"],[0.3,\"#f1b6da\"],[0.4,\"#fde0ef\"],[0.5,\"#f7f7f7\"],[0.6,\"#e6f5d0\"],[0.7,\"#b8e186\"],[0.8,\"#7fbc41\"],[0.9,\"#4d9221\"],[1,\"#276419\"]],\"sequential\":[[0.0,\"#0d0887\"],[0.1111111111111111,\"#46039f\"],[0.2222222222222222,\"#7201a8\"],[0.3333333333333333,\"#9c179e\"],[0.4444444444444444,\"#bd3786\"],[0.5555555555555556,\"#d8576b\"],[0.6666666666666666,\"#ed7953\"],[0.7777777777777778,\"#fb9f3a\"],[0.8888888888888888,\"#fdca26\"],[1.0,\"#f0f921\"]],\"sequentialminus\":[[0.0,\"#0d0887\"],[0.1111111111111111,\"#46039f\"],[0.2222222222222222,\"#7201a8\"],[0.3333333333333333,\"#9c179e\"],[0.4444444444444444,\"#bd3786\"],[0.5555555555555556,\"#d8576b\"],[0.6666666666666666,\"#ed7953\"],[0.7777777777777778,\"#fb9f3a\"],[0.8888888888888888,\"#fdca26\"],[1.0,\"#f0f921\"]]},\"colorway\":[\"#636efa\",\"#EF553B\",\"#00cc96\",\"#ab63fa\",\"#FFA15A\",\"#19d3f3\",\"#FF6692\",\"#B6E880\",\"#FF97FF\",\"#FECB52\"],\"font\":{\"color\":\"#f2f5fa\"},\"geo\":{\"bgcolor\":\"rgb(17,17,17)\",\"lakecolor\":\"rgb(17,17,17)\",\"landcolor\":\"rgb(17,17,17)\",\"showlakes\":true,\"showland\":true,\"subunitcolor\":\"#506784\"},\"hoverlabel\":{\"align\":\"left\"},\"hovermode\":\"closest\",\"mapbox\":{\"style\":\"dark\"},\"paper_bgcolor\":\"rgb(17,17,17)\",\"plot_bgcolor\":\"rgb(17,17,17)\",\"polar\":{\"angularaxis\":{\"gridcolor\":\"#506784\",\"linecolor\":\"#506784\",\"ticks\":\"\"},\"bgcolor\":\"rgb(17,17,17)\",\"radialaxis\":{\"gridcolor\":\"#506784\",\"linecolor\":\"#506784\",\"ticks\":\"\"}},\"scene\":{\"xaxis\":{\"backgroundcolor\":\"rgb(17,17,17)\",\"gridcolor\":\"#506784\",\"gridwidth\":2,\"linecolor\":\"#506784\",\"showbackground\":true,\"ticks\":\"\",\"zerolinecolor\":\"#C8D4E3\"},\"yaxis\":{\"backgroundcolor\":\"rgb(17,17,17)\",\"gridcolor\":\"#506784\",\"gridwidth\":2,\"linecolor\":\"#506784\",\"showbackground\":true,\"ticks\":\"\",\"zerolinecolor\":\"#C8D4E3\"},\"zaxis\":{\"backgroundcolor\":\"rgb(17,17,17)\",\"gridcolor\":\"#506784\",\"gridwidth\":2,\"linecolor\":\"#506784\",\"showbackground\":true,\"ticks\":\"\",\"zerolinecolor\":\"#C8D4E3\"}},\"shapedefaults\":{\"line\":{\"color\":\"#f2f5fa\"}},\"sliderdefaults\":{\"bgcolor\":\"#C8D4E3\",\"bordercolor\":\"rgb(17,17,17)\",\"borderwidth\":1,\"tickwidth\":0},\"ternary\":{\"aaxis\":{\"gridcolor\":\"#506784\",\"linecolor\":\"#506784\",\"ticks\":\"\"},\"baxis\":{\"gridcolor\":\"#506784\",\"linecolor\":\"#506784\",\"ticks\":\"\"},\"bgcolor\":\"rgb(17,17,17)\",\"caxis\":{\"gridcolor\":\"#506784\",\"linecolor\":\"#506784\",\"ticks\":\"\"}},\"title\":{\"x\":0.05},\"updatemenudefaults\":{\"bgcolor\":\"#506784\",\"borderwidth\":0},\"xaxis\":{\"automargin\":true,\"gridcolor\":\"#283442\",\"linecolor\":\"#506784\",\"ticks\":\"\",\"title\":{\"standoff\":15},\"zerolinecolor\":\"#283442\",\"zerolinewidth\":2},\"yaxis\":{\"automargin\":true,\"gridcolor\":\"#283442\",\"linecolor\":\"#506784\",\"ticks\":\"\",\"title\":{\"standoff\":15},\"zerolinecolor\":\"#283442\",\"zerolinewidth\":2}}},\"xaxis\":{\"anchor\":\"y\",\"domain\":[0.0,1.0],\"title\":{\"text\":\"Year\"}},\"yaxis\":{\"anchor\":\"x\",\"domain\":[0.0,1.0],\"title\":{\"text\":\"GDP per capita (constant 2015 US$)\"}},\"legend\":{\"tracegroupgap\":0},\"title\":{\"text\":\"Area Plot of GDP per capita (constant 2015 US$) Over Years\"}},                        {\"responsive\": true}                    ).then(function(){\n",
       "                            \n",
       "var gd = document.getElementById('4edb5d36-f350-438c-9082-48c81406d35d');\n",
       "var x = new MutationObserver(function (mutations, observer) {{\n",
       "        var display = window.getComputedStyle(gd).display;\n",
       "        if (!display || display === 'none') {{\n",
       "            console.log([gd, 'removed!']);\n",
       "            Plotly.purge(gd);\n",
       "            observer.disconnect();\n",
       "        }}\n",
       "}});\n",
       "\n",
       "// Listen for the removal of the full notebook cells\n",
       "var notebookContainer = gd.closest('#notebook-container');\n",
       "if (notebookContainer) {{\n",
       "    x.observe(notebookContainer, {childList: true});\n",
       "}}\n",
       "\n",
       "// Listen for the clearing of the current output cell\n",
       "var outputEl = gd.closest('.output');\n",
       "if (outputEl) {{\n",
       "    x.observe(outputEl, {childList: true});\n",
       "}}\n",
       "\n",
       "                        })                };                });            </script>        </div>"
      ]
     },
     "metadata": {},
     "output_type": "display_data"
    },
    {
     "data": {
      "application/vnd.plotly.v1+json": {
       "config": {
        "plotlyServerURL": "https://plot.ly"
       },
       "data": [
        {
         "hovertemplate": "Year=%{marker.color}<br>GNI growth (annual %)=%{z}<extra></extra>",
         "legendgroup": "",
         "marker": {
          "color": [
           1973,
           1974,
           1975,
           1976,
           1977,
           1978,
           1979,
           1980,
           1981,
           1982,
           1983,
           1984,
           1985,
           1986,
           1987,
           1988,
           1989,
           1990,
           1991,
           1992,
           1993,
           1994,
           1995,
           1996,
           1997,
           1998,
           1999,
           2000,
           2001,
           2002,
           2003,
           2004,
           2005,
           2006,
           2007,
           2008,
           2009,
           2010,
           2011,
           2012,
           2013,
           2014,
           2015,
           2016,
           2017,
           2018,
           2019
          ],
          "coloraxis": "coloraxis",
          "symbol": "circle"
         },
         "mode": "markers",
         "name": "",
         "scene": "scene",
         "showlegend": false,
         "type": "scatter3d",
         "x": [
          1973,
          1974,
          1975,
          1976,
          1977,
          1978,
          1979,
          1980,
          1981,
          1982,
          1983,
          1984,
          1985,
          1986,
          1987,
          1988,
          1989,
          1990,
          1991,
          1992,
          1993,
          1994,
          1995,
          1996,
          1997,
          1998,
          1999,
          2000,
          2001,
          2002,
          2003,
          2004,
          2005,
          2006,
          2007,
          2008,
          2009,
          2010,
          2011,
          2012,
          2013,
          2014,
          2015,
          2016,
          2017,
          2018,
          2019
         ],
         "y": [
          6.759535457666203,
          -2.495103555459849,
          -1.7757626704006242,
          2.976297552093655,
          1.941189362916674,
          4.3305182556948125,
          3.536750177405196,
          -2.2889418585724854,
          -0.7332916939077023,
          1.8925860293791885,
          4.5564371903604695,
          2.388937381464089,
          3.843562310092949,
          3.4469619166251704,
          5.269484219706214,
          5.805481729824606,
          2.4312505145700243,
          0.5345748557298293,
          -1.0375796998431497,
          0.6730227818040788,
          2.388763517251462,
          4.199302910761787,
          2.296757345335493,
          1.9663841389800893,
          4.66801599213818,
          3.708723032245146,
          2.32402950303387,
          4.7117461940985805,
          2.4203211943192997,
          2.382347470963225,
          3.1148797650569264,
          2.030896933175214,
          2.885514878104644,
          0.7390152552509903,
          2.0386241789813795,
          -0.544563660374223,
          -4.065060966107154,
          3.327454205198663,
          1.4409656677985652,
          0.11327265361673255,
          0.9569660240125017,
          3.1747909410377417,
          1.9765638367831713,
          1.9957766300656914,
          3.770810587824755,
          1.4119860541397316,
          2.958999946344278
         ],
         "z": [
          6.759535457666203,
          -2.495103555459849,
          -1.7757626704006242,
          2.976297552093655,
          1.941189362916674,
          4.3305182556948125,
          3.536750177405196,
          -2.2889418585724854,
          -0.7332916939077023,
          1.8925860293791885,
          4.5564371903604695,
          2.388937381464089,
          3.843562310092949,
          3.4469619166251704,
          5.269484219706214,
          5.805481729824606,
          2.4312505145700243,
          0.5345748557298293,
          -1.0375796998431497,
          0.6730227818040788,
          2.388763517251462,
          4.199302910761787,
          2.296757345335493,
          1.9663841389800893,
          4.66801599213818,
          3.708723032245146,
          2.32402950303387,
          4.7117461940985805,
          2.4203211943192997,
          2.382347470963225,
          3.1148797650569264,
          2.030896933175214,
          2.885514878104644,
          0.7390152552509903,
          2.0386241789813795,
          -0.544563660374223,
          -4.065060966107154,
          3.327454205198663,
          1.4409656677985652,
          0.11327265361673255,
          0.9569660240125017,
          3.1747909410377417,
          1.9765638367831713,
          1.9957766300656914,
          3.770810587824755,
          1.4119860541397316,
          2.958999946344278
         ]
        }
       ],
       "layout": {
        "coloraxis": {
         "colorbar": {
          "title": {
           "text": "Year"
          }
         },
         "colorscale": [
          [
           0,
           "#440154"
          ],
          [
           0.1111111111111111,
           "#482878"
          ],
          [
           0.2222222222222222,
           "#3e4989"
          ],
          [
           0.3333333333333333,
           "#31688e"
          ],
          [
           0.4444444444444444,
           "#26828e"
          ],
          [
           0.5555555555555556,
           "#1f9e89"
          ],
          [
           0.6666666666666666,
           "#35b779"
          ],
          [
           0.7777777777777778,
           "#6ece58"
          ],
          [
           0.8888888888888888,
           "#b5de2b"
          ],
          [
           1,
           "#fde725"
          ]
         ]
        },
        "legend": {
         "tracegroupgap": 0
        },
        "scene": {
         "domain": {
          "x": [
           0,
           1
          ],
          "y": [
           0,
           1
          ]
         },
         "xaxis": {
          "title": {
           "text": "Year"
          }
         },
         "yaxis": {
          "title": {
           "text": "GNI growth (annual %)"
          }
         },
         "zaxis": {
          "title": {
           "text": "GNI growth (annual %)"
          }
         }
        },
        "template": {
         "data": {
          "bar": [
           {
            "error_x": {
             "color": "#f2f5fa"
            },
            "error_y": {
             "color": "#f2f5fa"
            },
            "marker": {
             "line": {
              "color": "rgb(17,17,17)",
              "width": 0.5
             },
             "pattern": {
              "fillmode": "overlay",
              "size": 10,
              "solidity": 0.2
             }
            },
            "type": "bar"
           }
          ],
          "barpolar": [
           {
            "marker": {
             "line": {
              "color": "rgb(17,17,17)",
              "width": 0.5
             },
             "pattern": {
              "fillmode": "overlay",
              "size": 10,
              "solidity": 0.2
             }
            },
            "type": "barpolar"
           }
          ],
          "carpet": [
           {
            "aaxis": {
             "endlinecolor": "#A2B1C6",
             "gridcolor": "#506784",
             "linecolor": "#506784",
             "minorgridcolor": "#506784",
             "startlinecolor": "#A2B1C6"
            },
            "baxis": {
             "endlinecolor": "#A2B1C6",
             "gridcolor": "#506784",
             "linecolor": "#506784",
             "minorgridcolor": "#506784",
             "startlinecolor": "#A2B1C6"
            },
            "type": "carpet"
           }
          ],
          "choropleth": [
           {
            "colorbar": {
             "outlinewidth": 0,
             "ticks": ""
            },
            "type": "choropleth"
           }
          ],
          "contour": [
           {
            "colorbar": {
             "outlinewidth": 0,
             "ticks": ""
            },
            "colorscale": [
             [
              0,
              "#0d0887"
             ],
             [
              0.1111111111111111,
              "#46039f"
             ],
             [
              0.2222222222222222,
              "#7201a8"
             ],
             [
              0.3333333333333333,
              "#9c179e"
             ],
             [
              0.4444444444444444,
              "#bd3786"
             ],
             [
              0.5555555555555556,
              "#d8576b"
             ],
             [
              0.6666666666666666,
              "#ed7953"
             ],
             [
              0.7777777777777778,
              "#fb9f3a"
             ],
             [
              0.8888888888888888,
              "#fdca26"
             ],
             [
              1,
              "#f0f921"
             ]
            ],
            "type": "contour"
           }
          ],
          "contourcarpet": [
           {
            "colorbar": {
             "outlinewidth": 0,
             "ticks": ""
            },
            "type": "contourcarpet"
           }
          ],
          "heatmap": [
           {
            "colorbar": {
             "outlinewidth": 0,
             "ticks": ""
            },
            "colorscale": [
             [
              0,
              "#0d0887"
             ],
             [
              0.1111111111111111,
              "#46039f"
             ],
             [
              0.2222222222222222,
              "#7201a8"
             ],
             [
              0.3333333333333333,
              "#9c179e"
             ],
             [
              0.4444444444444444,
              "#bd3786"
             ],
             [
              0.5555555555555556,
              "#d8576b"
             ],
             [
              0.6666666666666666,
              "#ed7953"
             ],
             [
              0.7777777777777778,
              "#fb9f3a"
             ],
             [
              0.8888888888888888,
              "#fdca26"
             ],
             [
              1,
              "#f0f921"
             ]
            ],
            "type": "heatmap"
           }
          ],
          "heatmapgl": [
           {
            "colorbar": {
             "outlinewidth": 0,
             "ticks": ""
            },
            "colorscale": [
             [
              0,
              "#0d0887"
             ],
             [
              0.1111111111111111,
              "#46039f"
             ],
             [
              0.2222222222222222,
              "#7201a8"
             ],
             [
              0.3333333333333333,
              "#9c179e"
             ],
             [
              0.4444444444444444,
              "#bd3786"
             ],
             [
              0.5555555555555556,
              "#d8576b"
             ],
             [
              0.6666666666666666,
              "#ed7953"
             ],
             [
              0.7777777777777778,
              "#fb9f3a"
             ],
             [
              0.8888888888888888,
              "#fdca26"
             ],
             [
              1,
              "#f0f921"
             ]
            ],
            "type": "heatmapgl"
           }
          ],
          "histogram": [
           {
            "marker": {
             "pattern": {
              "fillmode": "overlay",
              "size": 10,
              "solidity": 0.2
             }
            },
            "type": "histogram"
           }
          ],
          "histogram2d": [
           {
            "colorbar": {
             "outlinewidth": 0,
             "ticks": ""
            },
            "colorscale": [
             [
              0,
              "#0d0887"
             ],
             [
              0.1111111111111111,
              "#46039f"
             ],
             [
              0.2222222222222222,
              "#7201a8"
             ],
             [
              0.3333333333333333,
              "#9c179e"
             ],
             [
              0.4444444444444444,
              "#bd3786"
             ],
             [
              0.5555555555555556,
              "#d8576b"
             ],
             [
              0.6666666666666666,
              "#ed7953"
             ],
             [
              0.7777777777777778,
              "#fb9f3a"
             ],
             [
              0.8888888888888888,
              "#fdca26"
             ],
             [
              1,
              "#f0f921"
             ]
            ],
            "type": "histogram2d"
           }
          ],
          "histogram2dcontour": [
           {
            "colorbar": {
             "outlinewidth": 0,
             "ticks": ""
            },
            "colorscale": [
             [
              0,
              "#0d0887"
             ],
             [
              0.1111111111111111,
              "#46039f"
             ],
             [
              0.2222222222222222,
              "#7201a8"
             ],
             [
              0.3333333333333333,
              "#9c179e"
             ],
             [
              0.4444444444444444,
              "#bd3786"
             ],
             [
              0.5555555555555556,
              "#d8576b"
             ],
             [
              0.6666666666666666,
              "#ed7953"
             ],
             [
              0.7777777777777778,
              "#fb9f3a"
             ],
             [
              0.8888888888888888,
              "#fdca26"
             ],
             [
              1,
              "#f0f921"
             ]
            ],
            "type": "histogram2dcontour"
           }
          ],
          "mesh3d": [
           {
            "colorbar": {
             "outlinewidth": 0,
             "ticks": ""
            },
            "type": "mesh3d"
           }
          ],
          "parcoords": [
           {
            "line": {
             "colorbar": {
              "outlinewidth": 0,
              "ticks": ""
             }
            },
            "type": "parcoords"
           }
          ],
          "pie": [
           {
            "automargin": true,
            "type": "pie"
           }
          ],
          "scatter": [
           {
            "marker": {
             "line": {
              "color": "#283442"
             }
            },
            "type": "scatter"
           }
          ],
          "scatter3d": [
           {
            "line": {
             "colorbar": {
              "outlinewidth": 0,
              "ticks": ""
             }
            },
            "marker": {
             "colorbar": {
              "outlinewidth": 0,
              "ticks": ""
             }
            },
            "type": "scatter3d"
           }
          ],
          "scattercarpet": [
           {
            "marker": {
             "colorbar": {
              "outlinewidth": 0,
              "ticks": ""
             }
            },
            "type": "scattercarpet"
           }
          ],
          "scattergeo": [
           {
            "marker": {
             "colorbar": {
              "outlinewidth": 0,
              "ticks": ""
             }
            },
            "type": "scattergeo"
           }
          ],
          "scattergl": [
           {
            "marker": {
             "line": {
              "color": "#283442"
             }
            },
            "type": "scattergl"
           }
          ],
          "scattermapbox": [
           {
            "marker": {
             "colorbar": {
              "outlinewidth": 0,
              "ticks": ""
             }
            },
            "type": "scattermapbox"
           }
          ],
          "scatterpolar": [
           {
            "marker": {
             "colorbar": {
              "outlinewidth": 0,
              "ticks": ""
             }
            },
            "type": "scatterpolar"
           }
          ],
          "scatterpolargl": [
           {
            "marker": {
             "colorbar": {
              "outlinewidth": 0,
              "ticks": ""
             }
            },
            "type": "scatterpolargl"
           }
          ],
          "scatterternary": [
           {
            "marker": {
             "colorbar": {
              "outlinewidth": 0,
              "ticks": ""
             }
            },
            "type": "scatterternary"
           }
          ],
          "surface": [
           {
            "colorbar": {
             "outlinewidth": 0,
             "ticks": ""
            },
            "colorscale": [
             [
              0,
              "#0d0887"
             ],
             [
              0.1111111111111111,
              "#46039f"
             ],
             [
              0.2222222222222222,
              "#7201a8"
             ],
             [
              0.3333333333333333,
              "#9c179e"
             ],
             [
              0.4444444444444444,
              "#bd3786"
             ],
             [
              0.5555555555555556,
              "#d8576b"
             ],
             [
              0.6666666666666666,
              "#ed7953"
             ],
             [
              0.7777777777777778,
              "#fb9f3a"
             ],
             [
              0.8888888888888888,
              "#fdca26"
             ],
             [
              1,
              "#f0f921"
             ]
            ],
            "type": "surface"
           }
          ],
          "table": [
           {
            "cells": {
             "fill": {
              "color": "#506784"
             },
             "line": {
              "color": "rgb(17,17,17)"
             }
            },
            "header": {
             "fill": {
              "color": "#2a3f5f"
             },
             "line": {
              "color": "rgb(17,17,17)"
             }
            },
            "type": "table"
           }
          ]
         },
         "layout": {
          "annotationdefaults": {
           "arrowcolor": "#f2f5fa",
           "arrowhead": 0,
           "arrowwidth": 1
          },
          "autotypenumbers": "strict",
          "coloraxis": {
           "colorbar": {
            "outlinewidth": 0,
            "ticks": ""
           }
          },
          "colorscale": {
           "diverging": [
            [
             0,
             "#8e0152"
            ],
            [
             0.1,
             "#c51b7d"
            ],
            [
             0.2,
             "#de77ae"
            ],
            [
             0.3,
             "#f1b6da"
            ],
            [
             0.4,
             "#fde0ef"
            ],
            [
             0.5,
             "#f7f7f7"
            ],
            [
             0.6,
             "#e6f5d0"
            ],
            [
             0.7,
             "#b8e186"
            ],
            [
             0.8,
             "#7fbc41"
            ],
            [
             0.9,
             "#4d9221"
            ],
            [
             1,
             "#276419"
            ]
           ],
           "sequential": [
            [
             0,
             "#0d0887"
            ],
            [
             0.1111111111111111,
             "#46039f"
            ],
            [
             0.2222222222222222,
             "#7201a8"
            ],
            [
             0.3333333333333333,
             "#9c179e"
            ],
            [
             0.4444444444444444,
             "#bd3786"
            ],
            [
             0.5555555555555556,
             "#d8576b"
            ],
            [
             0.6666666666666666,
             "#ed7953"
            ],
            [
             0.7777777777777778,
             "#fb9f3a"
            ],
            [
             0.8888888888888888,
             "#fdca26"
            ],
            [
             1,
             "#f0f921"
            ]
           ],
           "sequentialminus": [
            [
             0,
             "#0d0887"
            ],
            [
             0.1111111111111111,
             "#46039f"
            ],
            [
             0.2222222222222222,
             "#7201a8"
            ],
            [
             0.3333333333333333,
             "#9c179e"
            ],
            [
             0.4444444444444444,
             "#bd3786"
            ],
            [
             0.5555555555555556,
             "#d8576b"
            ],
            [
             0.6666666666666666,
             "#ed7953"
            ],
            [
             0.7777777777777778,
             "#fb9f3a"
            ],
            [
             0.8888888888888888,
             "#fdca26"
            ],
            [
             1,
             "#f0f921"
            ]
           ]
          },
          "colorway": [
           "#636efa",
           "#EF553B",
           "#00cc96",
           "#ab63fa",
           "#FFA15A",
           "#19d3f3",
           "#FF6692",
           "#B6E880",
           "#FF97FF",
           "#FECB52"
          ],
          "font": {
           "color": "#f2f5fa"
          },
          "geo": {
           "bgcolor": "rgb(17,17,17)",
           "lakecolor": "rgb(17,17,17)",
           "landcolor": "rgb(17,17,17)",
           "showlakes": true,
           "showland": true,
           "subunitcolor": "#506784"
          },
          "hoverlabel": {
           "align": "left"
          },
          "hovermode": "closest",
          "mapbox": {
           "style": "dark"
          },
          "paper_bgcolor": "rgb(17,17,17)",
          "plot_bgcolor": "rgb(17,17,17)",
          "polar": {
           "angularaxis": {
            "gridcolor": "#506784",
            "linecolor": "#506784",
            "ticks": ""
           },
           "bgcolor": "rgb(17,17,17)",
           "radialaxis": {
            "gridcolor": "#506784",
            "linecolor": "#506784",
            "ticks": ""
           }
          },
          "scene": {
           "xaxis": {
            "backgroundcolor": "rgb(17,17,17)",
            "gridcolor": "#506784",
            "gridwidth": 2,
            "linecolor": "#506784",
            "showbackground": true,
            "ticks": "",
            "zerolinecolor": "#C8D4E3"
           },
           "yaxis": {
            "backgroundcolor": "rgb(17,17,17)",
            "gridcolor": "#506784",
            "gridwidth": 2,
            "linecolor": "#506784",
            "showbackground": true,
            "ticks": "",
            "zerolinecolor": "#C8D4E3"
           },
           "zaxis": {
            "backgroundcolor": "rgb(17,17,17)",
            "gridcolor": "#506784",
            "gridwidth": 2,
            "linecolor": "#506784",
            "showbackground": true,
            "ticks": "",
            "zerolinecolor": "#C8D4E3"
           }
          },
          "shapedefaults": {
           "line": {
            "color": "#f2f5fa"
           }
          },
          "sliderdefaults": {
           "bgcolor": "#C8D4E3",
           "bordercolor": "rgb(17,17,17)",
           "borderwidth": 1,
           "tickwidth": 0
          },
          "ternary": {
           "aaxis": {
            "gridcolor": "#506784",
            "linecolor": "#506784",
            "ticks": ""
           },
           "baxis": {
            "gridcolor": "#506784",
            "linecolor": "#506784",
            "ticks": ""
           },
           "bgcolor": "rgb(17,17,17)",
           "caxis": {
            "gridcolor": "#506784",
            "linecolor": "#506784",
            "ticks": ""
           }
          },
          "title": {
           "x": 0.05
          },
          "updatemenudefaults": {
           "bgcolor": "#506784",
           "borderwidth": 0
          },
          "xaxis": {
           "automargin": true,
           "gridcolor": "#283442",
           "linecolor": "#506784",
           "ticks": "",
           "title": {
            "standoff": 15
           },
           "zerolinecolor": "#283442",
           "zerolinewidth": 2
          },
          "yaxis": {
           "automargin": true,
           "gridcolor": "#283442",
           "linecolor": "#506784",
           "ticks": "",
           "title": {
            "standoff": 15
           },
           "zerolinecolor": "#283442",
           "zerolinewidth": 2
          }
         }
        },
        "title": {
         "text": "3D Scatter Plot of GNI growth (annual %) Over Years"
        }
       }
      },
      "text/html": [
       "<div>                            <div id=\"4850aa11-06ae-46bb-870a-4110015a94c3\" class=\"plotly-graph-div\" style=\"height:525px; width:100%;\"></div>            <script type=\"text/javascript\">                require([\"plotly\"], function(Plotly) {                    window.PLOTLYENV=window.PLOTLYENV || {};                                    if (document.getElementById(\"4850aa11-06ae-46bb-870a-4110015a94c3\")) {                    Plotly.newPlot(                        \"4850aa11-06ae-46bb-870a-4110015a94c3\",                        [{\"hovertemplate\":\"Year=%{marker.color}<br>GNI growth (annual %)=%{z}<extra></extra>\",\"legendgroup\":\"\",\"marker\":{\"color\":[1973,1974,1975,1976,1977,1978,1979,1980,1981,1982,1983,1984,1985,1986,1987,1988,1989,1990,1991,1992,1993,1994,1995,1996,1997,1998,1999,2000,2001,2002,2003,2004,2005,2006,2007,2008,2009,2010,2011,2012,2013,2014,2015,2016,2017,2018,2019],\"coloraxis\":\"coloraxis\",\"symbol\":\"circle\"},\"mode\":\"markers\",\"name\":\"\",\"scene\":\"scene\",\"showlegend\":false,\"x\":[1973,1974,1975,1976,1977,1978,1979,1980,1981,1982,1983,1984,1985,1986,1987,1988,1989,1990,1991,1992,1993,1994,1995,1996,1997,1998,1999,2000,2001,2002,2003,2004,2005,2006,2007,2008,2009,2010,2011,2012,2013,2014,2015,2016,2017,2018,2019],\"y\":[6.759535457666203,-2.495103555459849,-1.7757626704006242,2.976297552093655,1.941189362916674,4.3305182556948125,3.536750177405196,-2.2889418585724854,-0.7332916939077023,1.8925860293791885,4.5564371903604695,2.388937381464089,3.843562310092949,3.4469619166251704,5.269484219706214,5.805481729824606,2.4312505145700243,0.5345748557298293,-1.0375796998431497,0.6730227818040788,2.388763517251462,4.199302910761787,2.296757345335493,1.9663841389800893,4.66801599213818,3.708723032245146,2.32402950303387,4.7117461940985805,2.4203211943192997,2.382347470963225,3.1148797650569264,2.030896933175214,2.885514878104644,0.7390152552509903,2.0386241789813795,-0.544563660374223,-4.065060966107154,3.327454205198663,1.4409656677985652,0.11327265361673255,0.9569660240125017,3.1747909410377417,1.9765638367831713,1.9957766300656914,3.770810587824755,1.4119860541397316,2.958999946344278],\"z\":[6.759535457666203,-2.495103555459849,-1.7757626704006242,2.976297552093655,1.941189362916674,4.3305182556948125,3.536750177405196,-2.2889418585724854,-0.7332916939077023,1.8925860293791885,4.5564371903604695,2.388937381464089,3.843562310092949,3.4469619166251704,5.269484219706214,5.805481729824606,2.4312505145700243,0.5345748557298293,-1.0375796998431497,0.6730227818040788,2.388763517251462,4.199302910761787,2.296757345335493,1.9663841389800893,4.66801599213818,3.708723032245146,2.32402950303387,4.7117461940985805,2.4203211943192997,2.382347470963225,3.1148797650569264,2.030896933175214,2.885514878104644,0.7390152552509903,2.0386241789813795,-0.544563660374223,-4.065060966107154,3.327454205198663,1.4409656677985652,0.11327265361673255,0.9569660240125017,3.1747909410377417,1.9765638367831713,1.9957766300656914,3.770810587824755,1.4119860541397316,2.958999946344278],\"type\":\"scatter3d\"}],                        {\"template\":{\"data\":{\"barpolar\":[{\"marker\":{\"line\":{\"color\":\"rgb(17,17,17)\",\"width\":0.5},\"pattern\":{\"fillmode\":\"overlay\",\"size\":10,\"solidity\":0.2}},\"type\":\"barpolar\"}],\"bar\":[{\"error_x\":{\"color\":\"#f2f5fa\"},\"error_y\":{\"color\":\"#f2f5fa\"},\"marker\":{\"line\":{\"color\":\"rgb(17,17,17)\",\"width\":0.5},\"pattern\":{\"fillmode\":\"overlay\",\"size\":10,\"solidity\":0.2}},\"type\":\"bar\"}],\"carpet\":[{\"aaxis\":{\"endlinecolor\":\"#A2B1C6\",\"gridcolor\":\"#506784\",\"linecolor\":\"#506784\",\"minorgridcolor\":\"#506784\",\"startlinecolor\":\"#A2B1C6\"},\"baxis\":{\"endlinecolor\":\"#A2B1C6\",\"gridcolor\":\"#506784\",\"linecolor\":\"#506784\",\"minorgridcolor\":\"#506784\",\"startlinecolor\":\"#A2B1C6\"},\"type\":\"carpet\"}],\"choropleth\":[{\"colorbar\":{\"outlinewidth\":0,\"ticks\":\"\"},\"type\":\"choropleth\"}],\"contourcarpet\":[{\"colorbar\":{\"outlinewidth\":0,\"ticks\":\"\"},\"type\":\"contourcarpet\"}],\"contour\":[{\"colorbar\":{\"outlinewidth\":0,\"ticks\":\"\"},\"colorscale\":[[0.0,\"#0d0887\"],[0.1111111111111111,\"#46039f\"],[0.2222222222222222,\"#7201a8\"],[0.3333333333333333,\"#9c179e\"],[0.4444444444444444,\"#bd3786\"],[0.5555555555555556,\"#d8576b\"],[0.6666666666666666,\"#ed7953\"],[0.7777777777777778,\"#fb9f3a\"],[0.8888888888888888,\"#fdca26\"],[1.0,\"#f0f921\"]],\"type\":\"contour\"}],\"heatmapgl\":[{\"colorbar\":{\"outlinewidth\":0,\"ticks\":\"\"},\"colorscale\":[[0.0,\"#0d0887\"],[0.1111111111111111,\"#46039f\"],[0.2222222222222222,\"#7201a8\"],[0.3333333333333333,\"#9c179e\"],[0.4444444444444444,\"#bd3786\"],[0.5555555555555556,\"#d8576b\"],[0.6666666666666666,\"#ed7953\"],[0.7777777777777778,\"#fb9f3a\"],[0.8888888888888888,\"#fdca26\"],[1.0,\"#f0f921\"]],\"type\":\"heatmapgl\"}],\"heatmap\":[{\"colorbar\":{\"outlinewidth\":0,\"ticks\":\"\"},\"colorscale\":[[0.0,\"#0d0887\"],[0.1111111111111111,\"#46039f\"],[0.2222222222222222,\"#7201a8\"],[0.3333333333333333,\"#9c179e\"],[0.4444444444444444,\"#bd3786\"],[0.5555555555555556,\"#d8576b\"],[0.6666666666666666,\"#ed7953\"],[0.7777777777777778,\"#fb9f3a\"],[0.8888888888888888,\"#fdca26\"],[1.0,\"#f0f921\"]],\"type\":\"heatmap\"}],\"histogram2dcontour\":[{\"colorbar\":{\"outlinewidth\":0,\"ticks\":\"\"},\"colorscale\":[[0.0,\"#0d0887\"],[0.1111111111111111,\"#46039f\"],[0.2222222222222222,\"#7201a8\"],[0.3333333333333333,\"#9c179e\"],[0.4444444444444444,\"#bd3786\"],[0.5555555555555556,\"#d8576b\"],[0.6666666666666666,\"#ed7953\"],[0.7777777777777778,\"#fb9f3a\"],[0.8888888888888888,\"#fdca26\"],[1.0,\"#f0f921\"]],\"type\":\"histogram2dcontour\"}],\"histogram2d\":[{\"colorbar\":{\"outlinewidth\":0,\"ticks\":\"\"},\"colorscale\":[[0.0,\"#0d0887\"],[0.1111111111111111,\"#46039f\"],[0.2222222222222222,\"#7201a8\"],[0.3333333333333333,\"#9c179e\"],[0.4444444444444444,\"#bd3786\"],[0.5555555555555556,\"#d8576b\"],[0.6666666666666666,\"#ed7953\"],[0.7777777777777778,\"#fb9f3a\"],[0.8888888888888888,\"#fdca26\"],[1.0,\"#f0f921\"]],\"type\":\"histogram2d\"}],\"histogram\":[{\"marker\":{\"pattern\":{\"fillmode\":\"overlay\",\"size\":10,\"solidity\":0.2}},\"type\":\"histogram\"}],\"mesh3d\":[{\"colorbar\":{\"outlinewidth\":0,\"ticks\":\"\"},\"type\":\"mesh3d\"}],\"parcoords\":[{\"line\":{\"colorbar\":{\"outlinewidth\":0,\"ticks\":\"\"}},\"type\":\"parcoords\"}],\"pie\":[{\"automargin\":true,\"type\":\"pie\"}],\"scatter3d\":[{\"line\":{\"colorbar\":{\"outlinewidth\":0,\"ticks\":\"\"}},\"marker\":{\"colorbar\":{\"outlinewidth\":0,\"ticks\":\"\"}},\"type\":\"scatter3d\"}],\"scattercarpet\":[{\"marker\":{\"colorbar\":{\"outlinewidth\":0,\"ticks\":\"\"}},\"type\":\"scattercarpet\"}],\"scattergeo\":[{\"marker\":{\"colorbar\":{\"outlinewidth\":0,\"ticks\":\"\"}},\"type\":\"scattergeo\"}],\"scattergl\":[{\"marker\":{\"line\":{\"color\":\"#283442\"}},\"type\":\"scattergl\"}],\"scattermapbox\":[{\"marker\":{\"colorbar\":{\"outlinewidth\":0,\"ticks\":\"\"}},\"type\":\"scattermapbox\"}],\"scatterpolargl\":[{\"marker\":{\"colorbar\":{\"outlinewidth\":0,\"ticks\":\"\"}},\"type\":\"scatterpolargl\"}],\"scatterpolar\":[{\"marker\":{\"colorbar\":{\"outlinewidth\":0,\"ticks\":\"\"}},\"type\":\"scatterpolar\"}],\"scatter\":[{\"marker\":{\"line\":{\"color\":\"#283442\"}},\"type\":\"scatter\"}],\"scatterternary\":[{\"marker\":{\"colorbar\":{\"outlinewidth\":0,\"ticks\":\"\"}},\"type\":\"scatterternary\"}],\"surface\":[{\"colorbar\":{\"outlinewidth\":0,\"ticks\":\"\"},\"colorscale\":[[0.0,\"#0d0887\"],[0.1111111111111111,\"#46039f\"],[0.2222222222222222,\"#7201a8\"],[0.3333333333333333,\"#9c179e\"],[0.4444444444444444,\"#bd3786\"],[0.5555555555555556,\"#d8576b\"],[0.6666666666666666,\"#ed7953\"],[0.7777777777777778,\"#fb9f3a\"],[0.8888888888888888,\"#fdca26\"],[1.0,\"#f0f921\"]],\"type\":\"surface\"}],\"table\":[{\"cells\":{\"fill\":{\"color\":\"#506784\"},\"line\":{\"color\":\"rgb(17,17,17)\"}},\"header\":{\"fill\":{\"color\":\"#2a3f5f\"},\"line\":{\"color\":\"rgb(17,17,17)\"}},\"type\":\"table\"}]},\"layout\":{\"annotationdefaults\":{\"arrowcolor\":\"#f2f5fa\",\"arrowhead\":0,\"arrowwidth\":1},\"autotypenumbers\":\"strict\",\"coloraxis\":{\"colorbar\":{\"outlinewidth\":0,\"ticks\":\"\"}},\"colorscale\":{\"diverging\":[[0,\"#8e0152\"],[0.1,\"#c51b7d\"],[0.2,\"#de77ae\"],[0.3,\"#f1b6da\"],[0.4,\"#fde0ef\"],[0.5,\"#f7f7f7\"],[0.6,\"#e6f5d0\"],[0.7,\"#b8e186\"],[0.8,\"#7fbc41\"],[0.9,\"#4d9221\"],[1,\"#276419\"]],\"sequential\":[[0.0,\"#0d0887\"],[0.1111111111111111,\"#46039f\"],[0.2222222222222222,\"#7201a8\"],[0.3333333333333333,\"#9c179e\"],[0.4444444444444444,\"#bd3786\"],[0.5555555555555556,\"#d8576b\"],[0.6666666666666666,\"#ed7953\"],[0.7777777777777778,\"#fb9f3a\"],[0.8888888888888888,\"#fdca26\"],[1.0,\"#f0f921\"]],\"sequentialminus\":[[0.0,\"#0d0887\"],[0.1111111111111111,\"#46039f\"],[0.2222222222222222,\"#7201a8\"],[0.3333333333333333,\"#9c179e\"],[0.4444444444444444,\"#bd3786\"],[0.5555555555555556,\"#d8576b\"],[0.6666666666666666,\"#ed7953\"],[0.7777777777777778,\"#fb9f3a\"],[0.8888888888888888,\"#fdca26\"],[1.0,\"#f0f921\"]]},\"colorway\":[\"#636efa\",\"#EF553B\",\"#00cc96\",\"#ab63fa\",\"#FFA15A\",\"#19d3f3\",\"#FF6692\",\"#B6E880\",\"#FF97FF\",\"#FECB52\"],\"font\":{\"color\":\"#f2f5fa\"},\"geo\":{\"bgcolor\":\"rgb(17,17,17)\",\"lakecolor\":\"rgb(17,17,17)\",\"landcolor\":\"rgb(17,17,17)\",\"showlakes\":true,\"showland\":true,\"subunitcolor\":\"#506784\"},\"hoverlabel\":{\"align\":\"left\"},\"hovermode\":\"closest\",\"mapbox\":{\"style\":\"dark\"},\"paper_bgcolor\":\"rgb(17,17,17)\",\"plot_bgcolor\":\"rgb(17,17,17)\",\"polar\":{\"angularaxis\":{\"gridcolor\":\"#506784\",\"linecolor\":\"#506784\",\"ticks\":\"\"},\"bgcolor\":\"rgb(17,17,17)\",\"radialaxis\":{\"gridcolor\":\"#506784\",\"linecolor\":\"#506784\",\"ticks\":\"\"}},\"scene\":{\"xaxis\":{\"backgroundcolor\":\"rgb(17,17,17)\",\"gridcolor\":\"#506784\",\"gridwidth\":2,\"linecolor\":\"#506784\",\"showbackground\":true,\"ticks\":\"\",\"zerolinecolor\":\"#C8D4E3\"},\"yaxis\":{\"backgroundcolor\":\"rgb(17,17,17)\",\"gridcolor\":\"#506784\",\"gridwidth\":2,\"linecolor\":\"#506784\",\"showbackground\":true,\"ticks\":\"\",\"zerolinecolor\":\"#C8D4E3\"},\"zaxis\":{\"backgroundcolor\":\"rgb(17,17,17)\",\"gridcolor\":\"#506784\",\"gridwidth\":2,\"linecolor\":\"#506784\",\"showbackground\":true,\"ticks\":\"\",\"zerolinecolor\":\"#C8D4E3\"}},\"shapedefaults\":{\"line\":{\"color\":\"#f2f5fa\"}},\"sliderdefaults\":{\"bgcolor\":\"#C8D4E3\",\"bordercolor\":\"rgb(17,17,17)\",\"borderwidth\":1,\"tickwidth\":0},\"ternary\":{\"aaxis\":{\"gridcolor\":\"#506784\",\"linecolor\":\"#506784\",\"ticks\":\"\"},\"baxis\":{\"gridcolor\":\"#506784\",\"linecolor\":\"#506784\",\"ticks\":\"\"},\"bgcolor\":\"rgb(17,17,17)\",\"caxis\":{\"gridcolor\":\"#506784\",\"linecolor\":\"#506784\",\"ticks\":\"\"}},\"title\":{\"x\":0.05},\"updatemenudefaults\":{\"bgcolor\":\"#506784\",\"borderwidth\":0},\"xaxis\":{\"automargin\":true,\"gridcolor\":\"#283442\",\"linecolor\":\"#506784\",\"ticks\":\"\",\"title\":{\"standoff\":15},\"zerolinecolor\":\"#283442\",\"zerolinewidth\":2},\"yaxis\":{\"automargin\":true,\"gridcolor\":\"#283442\",\"linecolor\":\"#506784\",\"ticks\":\"\",\"title\":{\"standoff\":15},\"zerolinecolor\":\"#283442\",\"zerolinewidth\":2}}},\"scene\":{\"domain\":{\"x\":[0.0,1.0],\"y\":[0.0,1.0]},\"xaxis\":{\"title\":{\"text\":\"Year\"}},\"yaxis\":{\"title\":{\"text\":\"GNI growth (annual %)\"}},\"zaxis\":{\"title\":{\"text\":\"GNI growth (annual %)\"}}},\"coloraxis\":{\"colorbar\":{\"title\":{\"text\":\"Year\"}},\"colorscale\":[[0.0,\"#440154\"],[0.1111111111111111,\"#482878\"],[0.2222222222222222,\"#3e4989\"],[0.3333333333333333,\"#31688e\"],[0.4444444444444444,\"#26828e\"],[0.5555555555555556,\"#1f9e89\"],[0.6666666666666666,\"#35b779\"],[0.7777777777777778,\"#6ece58\"],[0.8888888888888888,\"#b5de2b\"],[1.0,\"#fde725\"]]},\"legend\":{\"tracegroupgap\":0},\"title\":{\"text\":\"3D Scatter Plot of GNI growth (annual %) Over Years\"}},                        {\"responsive\": true}                    ).then(function(){\n",
       "                            \n",
       "var gd = document.getElementById('4850aa11-06ae-46bb-870a-4110015a94c3');\n",
       "var x = new MutationObserver(function (mutations, observer) {{\n",
       "        var display = window.getComputedStyle(gd).display;\n",
       "        if (!display || display === 'none') {{\n",
       "            console.log([gd, 'removed!']);\n",
       "            Plotly.purge(gd);\n",
       "            observer.disconnect();\n",
       "        }}\n",
       "}});\n",
       "\n",
       "// Listen for the removal of the full notebook cells\n",
       "var notebookContainer = gd.closest('#notebook-container');\n",
       "if (notebookContainer) {{\n",
       "    x.observe(notebookContainer, {childList: true});\n",
       "}}\n",
       "\n",
       "// Listen for the clearing of the current output cell\n",
       "var outputEl = gd.closest('.output');\n",
       "if (outputEl) {{\n",
       "    x.observe(outputEl, {childList: true});\n",
       "}}\n",
       "\n",
       "                        })                };                });            </script>        </div>"
      ]
     },
     "metadata": {},
     "output_type": "display_data"
    },
    {
     "data": {
      "application/vnd.plotly.v1+json": {
       "config": {
        "plotlyServerURL": "https://plot.ly"
       },
       "data": [
        {
         "hovertemplate": "General government final consumption expenditure (% of GDP)=%{r}<br>Year=%{theta}<extra></extra>",
         "legendgroup": "",
         "marker": {
          "color": "#440154",
          "pattern": {
           "shape": ""
          }
         },
         "name": "",
         "r": [
          18.271000330814058,
          20.162522254856377,
          22.441843439427494,
          22.183646195442254,
          20.79083386378103,
          20.27923705348732,
          19.873143810934284,
          21.31375952808961,
          21.75547875206719,
          21.62508055926788,
          21.399092572468817,
          21.10088025225828,
          20.313763373735412,
          20.286231907016873,
          19.578573136095972,
          18.79847343312402,
          18.375068842319315,
          18.577507215681052,
          19.434030797912236,
          19.912831129029858,
          19.220958156595557,
          18.868319878260216,
          17.048871321111694,
          16.606603179341086,
          16.070619905404048,
          16.0743341011842,
          16.49312838193746,
          16.683210082614156,
          17.322536961189115,
          18.178957042085074,
          18.86812074543037,
          19.453612609753517,
          19.656798197826163,
          19.855693467776813,
          19.714360017389144,
          20.40223560373905,
          21.990782804362702,
          21.535480757959814,
          20.943858681381148,
          20.795147909721983,
          20.135039297625084,
          19.88032168311926,
          19.505850604737745,
          19.133456466517725,
          18.609520922701495,
          18.464640471676685,
          19.013084649929326
         ],
         "showlegend": false,
         "subplot": "polar",
         "theta": [
          1973,
          1974,
          1975,
          1976,
          1977,
          1978,
          1979,
          1980,
          1981,
          1982,
          1983,
          1984,
          1985,
          1986,
          1987,
          1988,
          1989,
          1990,
          1991,
          1992,
          1993,
          1994,
          1995,
          1996,
          1997,
          1998,
          1999,
          2000,
          2001,
          2002,
          2003,
          2004,
          2005,
          2006,
          2007,
          2008,
          2009,
          2010,
          2011,
          2012,
          2013,
          2014,
          2015,
          2016,
          2017,
          2018,
          2019
         ],
         "type": "barpolar"
        }
       ],
       "layout": {
        "barmode": "relative",
        "legend": {
         "tracegroupgap": 0
        },
        "polar": {
         "angularaxis": {
          "direction": "clockwise",
          "rotation": 90
         },
         "bgcolor": "green",
         "domain": {
          "x": [
           0,
           1
          ],
          "y": [
           0,
           1
          ]
         }
        },
        "template": {
         "data": {
          "bar": [
           {
            "error_x": {
             "color": "#f2f5fa"
            },
            "error_y": {
             "color": "#f2f5fa"
            },
            "marker": {
             "line": {
              "color": "rgb(17,17,17)",
              "width": 0.5
             },
             "pattern": {
              "fillmode": "overlay",
              "size": 10,
              "solidity": 0.2
             }
            },
            "type": "bar"
           }
          ],
          "barpolar": [
           {
            "marker": {
             "line": {
              "color": "rgb(17,17,17)",
              "width": 0.5
             },
             "pattern": {
              "fillmode": "overlay",
              "size": 10,
              "solidity": 0.2
             }
            },
            "type": "barpolar"
           }
          ],
          "carpet": [
           {
            "aaxis": {
             "endlinecolor": "#A2B1C6",
             "gridcolor": "#506784",
             "linecolor": "#506784",
             "minorgridcolor": "#506784",
             "startlinecolor": "#A2B1C6"
            },
            "baxis": {
             "endlinecolor": "#A2B1C6",
             "gridcolor": "#506784",
             "linecolor": "#506784",
             "minorgridcolor": "#506784",
             "startlinecolor": "#A2B1C6"
            },
            "type": "carpet"
           }
          ],
          "choropleth": [
           {
            "colorbar": {
             "outlinewidth": 0,
             "ticks": ""
            },
            "type": "choropleth"
           }
          ],
          "contour": [
           {
            "colorbar": {
             "outlinewidth": 0,
             "ticks": ""
            },
            "colorscale": [
             [
              0,
              "#0d0887"
             ],
             [
              0.1111111111111111,
              "#46039f"
             ],
             [
              0.2222222222222222,
              "#7201a8"
             ],
             [
              0.3333333333333333,
              "#9c179e"
             ],
             [
              0.4444444444444444,
              "#bd3786"
             ],
             [
              0.5555555555555556,
              "#d8576b"
             ],
             [
              0.6666666666666666,
              "#ed7953"
             ],
             [
              0.7777777777777778,
              "#fb9f3a"
             ],
             [
              0.8888888888888888,
              "#fdca26"
             ],
             [
              1,
              "#f0f921"
             ]
            ],
            "type": "contour"
           }
          ],
          "contourcarpet": [
           {
            "colorbar": {
             "outlinewidth": 0,
             "ticks": ""
            },
            "type": "contourcarpet"
           }
          ],
          "heatmap": [
           {
            "colorbar": {
             "outlinewidth": 0,
             "ticks": ""
            },
            "colorscale": [
             [
              0,
              "#0d0887"
             ],
             [
              0.1111111111111111,
              "#46039f"
             ],
             [
              0.2222222222222222,
              "#7201a8"
             ],
             [
              0.3333333333333333,
              "#9c179e"
             ],
             [
              0.4444444444444444,
              "#bd3786"
             ],
             [
              0.5555555555555556,
              "#d8576b"
             ],
             [
              0.6666666666666666,
              "#ed7953"
             ],
             [
              0.7777777777777778,
              "#fb9f3a"
             ],
             [
              0.8888888888888888,
              "#fdca26"
             ],
             [
              1,
              "#f0f921"
             ]
            ],
            "type": "heatmap"
           }
          ],
          "heatmapgl": [
           {
            "colorbar": {
             "outlinewidth": 0,
             "ticks": ""
            },
            "colorscale": [
             [
              0,
              "#0d0887"
             ],
             [
              0.1111111111111111,
              "#46039f"
             ],
             [
              0.2222222222222222,
              "#7201a8"
             ],
             [
              0.3333333333333333,
              "#9c179e"
             ],
             [
              0.4444444444444444,
              "#bd3786"
             ],
             [
              0.5555555555555556,
              "#d8576b"
             ],
             [
              0.6666666666666666,
              "#ed7953"
             ],
             [
              0.7777777777777778,
              "#fb9f3a"
             ],
             [
              0.8888888888888888,
              "#fdca26"
             ],
             [
              1,
              "#f0f921"
             ]
            ],
            "type": "heatmapgl"
           }
          ],
          "histogram": [
           {
            "marker": {
             "pattern": {
              "fillmode": "overlay",
              "size": 10,
              "solidity": 0.2
             }
            },
            "type": "histogram"
           }
          ],
          "histogram2d": [
           {
            "colorbar": {
             "outlinewidth": 0,
             "ticks": ""
            },
            "colorscale": [
             [
              0,
              "#0d0887"
             ],
             [
              0.1111111111111111,
              "#46039f"
             ],
             [
              0.2222222222222222,
              "#7201a8"
             ],
             [
              0.3333333333333333,
              "#9c179e"
             ],
             [
              0.4444444444444444,
              "#bd3786"
             ],
             [
              0.5555555555555556,
              "#d8576b"
             ],
             [
              0.6666666666666666,
              "#ed7953"
             ],
             [
              0.7777777777777778,
              "#fb9f3a"
             ],
             [
              0.8888888888888888,
              "#fdca26"
             ],
             [
              1,
              "#f0f921"
             ]
            ],
            "type": "histogram2d"
           }
          ],
          "histogram2dcontour": [
           {
            "colorbar": {
             "outlinewidth": 0,
             "ticks": ""
            },
            "colorscale": [
             [
              0,
              "#0d0887"
             ],
             [
              0.1111111111111111,
              "#46039f"
             ],
             [
              0.2222222222222222,
              "#7201a8"
             ],
             [
              0.3333333333333333,
              "#9c179e"
             ],
             [
              0.4444444444444444,
              "#bd3786"
             ],
             [
              0.5555555555555556,
              "#d8576b"
             ],
             [
              0.6666666666666666,
              "#ed7953"
             ],
             [
              0.7777777777777778,
              "#fb9f3a"
             ],
             [
              0.8888888888888888,
              "#fdca26"
             ],
             [
              1,
              "#f0f921"
             ]
            ],
            "type": "histogram2dcontour"
           }
          ],
          "mesh3d": [
           {
            "colorbar": {
             "outlinewidth": 0,
             "ticks": ""
            },
            "type": "mesh3d"
           }
          ],
          "parcoords": [
           {
            "line": {
             "colorbar": {
              "outlinewidth": 0,
              "ticks": ""
             }
            },
            "type": "parcoords"
           }
          ],
          "pie": [
           {
            "automargin": true,
            "type": "pie"
           }
          ],
          "scatter": [
           {
            "marker": {
             "line": {
              "color": "#283442"
             }
            },
            "type": "scatter"
           }
          ],
          "scatter3d": [
           {
            "line": {
             "colorbar": {
              "outlinewidth": 0,
              "ticks": ""
             }
            },
            "marker": {
             "colorbar": {
              "outlinewidth": 0,
              "ticks": ""
             }
            },
            "type": "scatter3d"
           }
          ],
          "scattercarpet": [
           {
            "marker": {
             "colorbar": {
              "outlinewidth": 0,
              "ticks": ""
             }
            },
            "type": "scattercarpet"
           }
          ],
          "scattergeo": [
           {
            "marker": {
             "colorbar": {
              "outlinewidth": 0,
              "ticks": ""
             }
            },
            "type": "scattergeo"
           }
          ],
          "scattergl": [
           {
            "marker": {
             "line": {
              "color": "#283442"
             }
            },
            "type": "scattergl"
           }
          ],
          "scattermapbox": [
           {
            "marker": {
             "colorbar": {
              "outlinewidth": 0,
              "ticks": ""
             }
            },
            "type": "scattermapbox"
           }
          ],
          "scatterpolar": [
           {
            "marker": {
             "colorbar": {
              "outlinewidth": 0,
              "ticks": ""
             }
            },
            "type": "scatterpolar"
           }
          ],
          "scatterpolargl": [
           {
            "marker": {
             "colorbar": {
              "outlinewidth": 0,
              "ticks": ""
             }
            },
            "type": "scatterpolargl"
           }
          ],
          "scatterternary": [
           {
            "marker": {
             "colorbar": {
              "outlinewidth": 0,
              "ticks": ""
             }
            },
            "type": "scatterternary"
           }
          ],
          "surface": [
           {
            "colorbar": {
             "outlinewidth": 0,
             "ticks": ""
            },
            "colorscale": [
             [
              0,
              "#0d0887"
             ],
             [
              0.1111111111111111,
              "#46039f"
             ],
             [
              0.2222222222222222,
              "#7201a8"
             ],
             [
              0.3333333333333333,
              "#9c179e"
             ],
             [
              0.4444444444444444,
              "#bd3786"
             ],
             [
              0.5555555555555556,
              "#d8576b"
             ],
             [
              0.6666666666666666,
              "#ed7953"
             ],
             [
              0.7777777777777778,
              "#fb9f3a"
             ],
             [
              0.8888888888888888,
              "#fdca26"
             ],
             [
              1,
              "#f0f921"
             ]
            ],
            "type": "surface"
           }
          ],
          "table": [
           {
            "cells": {
             "fill": {
              "color": "#506784"
             },
             "line": {
              "color": "rgb(17,17,17)"
             }
            },
            "header": {
             "fill": {
              "color": "#2a3f5f"
             },
             "line": {
              "color": "rgb(17,17,17)"
             }
            },
            "type": "table"
           }
          ]
         },
         "layout": {
          "annotationdefaults": {
           "arrowcolor": "#f2f5fa",
           "arrowhead": 0,
           "arrowwidth": 1
          },
          "autotypenumbers": "strict",
          "coloraxis": {
           "colorbar": {
            "outlinewidth": 0,
            "ticks": ""
           }
          },
          "colorscale": {
           "diverging": [
            [
             0,
             "#8e0152"
            ],
            [
             0.1,
             "#c51b7d"
            ],
            [
             0.2,
             "#de77ae"
            ],
            [
             0.3,
             "#f1b6da"
            ],
            [
             0.4,
             "#fde0ef"
            ],
            [
             0.5,
             "#f7f7f7"
            ],
            [
             0.6,
             "#e6f5d0"
            ],
            [
             0.7,
             "#b8e186"
            ],
            [
             0.8,
             "#7fbc41"
            ],
            [
             0.9,
             "#4d9221"
            ],
            [
             1,
             "#276419"
            ]
           ],
           "sequential": [
            [
             0,
             "#0d0887"
            ],
            [
             0.1111111111111111,
             "#46039f"
            ],
            [
             0.2222222222222222,
             "#7201a8"
            ],
            [
             0.3333333333333333,
             "#9c179e"
            ],
            [
             0.4444444444444444,
             "#bd3786"
            ],
            [
             0.5555555555555556,
             "#d8576b"
            ],
            [
             0.6666666666666666,
             "#ed7953"
            ],
            [
             0.7777777777777778,
             "#fb9f3a"
            ],
            [
             0.8888888888888888,
             "#fdca26"
            ],
            [
             1,
             "#f0f921"
            ]
           ],
           "sequentialminus": [
            [
             0,
             "#0d0887"
            ],
            [
             0.1111111111111111,
             "#46039f"
            ],
            [
             0.2222222222222222,
             "#7201a8"
            ],
            [
             0.3333333333333333,
             "#9c179e"
            ],
            [
             0.4444444444444444,
             "#bd3786"
            ],
            [
             0.5555555555555556,
             "#d8576b"
            ],
            [
             0.6666666666666666,
             "#ed7953"
            ],
            [
             0.7777777777777778,
             "#fb9f3a"
            ],
            [
             0.8888888888888888,
             "#fdca26"
            ],
            [
             1,
             "#f0f921"
            ]
           ]
          },
          "colorway": [
           "#636efa",
           "#EF553B",
           "#00cc96",
           "#ab63fa",
           "#FFA15A",
           "#19d3f3",
           "#FF6692",
           "#B6E880",
           "#FF97FF",
           "#FECB52"
          ],
          "font": {
           "color": "#f2f5fa"
          },
          "geo": {
           "bgcolor": "rgb(17,17,17)",
           "lakecolor": "rgb(17,17,17)",
           "landcolor": "rgb(17,17,17)",
           "showlakes": true,
           "showland": true,
           "subunitcolor": "#506784"
          },
          "hoverlabel": {
           "align": "left"
          },
          "hovermode": "closest",
          "mapbox": {
           "style": "dark"
          },
          "paper_bgcolor": "rgb(17,17,17)",
          "plot_bgcolor": "rgb(17,17,17)",
          "polar": {
           "angularaxis": {
            "gridcolor": "#506784",
            "linecolor": "#506784",
            "ticks": ""
           },
           "bgcolor": "rgb(17,17,17)",
           "radialaxis": {
            "gridcolor": "#506784",
            "linecolor": "#506784",
            "ticks": ""
           }
          },
          "scene": {
           "xaxis": {
            "backgroundcolor": "rgb(17,17,17)",
            "gridcolor": "#506784",
            "gridwidth": 2,
            "linecolor": "#506784",
            "showbackground": true,
            "ticks": "",
            "zerolinecolor": "#C8D4E3"
           },
           "yaxis": {
            "backgroundcolor": "rgb(17,17,17)",
            "gridcolor": "#506784",
            "gridwidth": 2,
            "linecolor": "#506784",
            "showbackground": true,
            "ticks": "",
            "zerolinecolor": "#C8D4E3"
           },
           "zaxis": {
            "backgroundcolor": "rgb(17,17,17)",
            "gridcolor": "#506784",
            "gridwidth": 2,
            "linecolor": "#506784",
            "showbackground": true,
            "ticks": "",
            "zerolinecolor": "#C8D4E3"
           }
          },
          "shapedefaults": {
           "line": {
            "color": "#f2f5fa"
           }
          },
          "sliderdefaults": {
           "bgcolor": "#C8D4E3",
           "bordercolor": "rgb(17,17,17)",
           "borderwidth": 1,
           "tickwidth": 0
          },
          "ternary": {
           "aaxis": {
            "gridcolor": "#506784",
            "linecolor": "#506784",
            "ticks": ""
           },
           "baxis": {
            "gridcolor": "#506784",
            "linecolor": "#506784",
            "ticks": ""
           },
           "bgcolor": "rgb(17,17,17)",
           "caxis": {
            "gridcolor": "#506784",
            "linecolor": "#506784",
            "ticks": ""
           }
          },
          "title": {
           "x": 0.05
          },
          "updatemenudefaults": {
           "bgcolor": "#506784",
           "borderwidth": 0
          },
          "xaxis": {
           "automargin": true,
           "gridcolor": "#283442",
           "linecolor": "#506784",
           "ticks": "",
           "title": {
            "standoff": 15
           },
           "zerolinecolor": "#283442",
           "zerolinewidth": 2
          },
          "yaxis": {
           "automargin": true,
           "gridcolor": "#283442",
           "linecolor": "#506784",
           "ticks": "",
           "title": {
            "standoff": 15
           },
           "zerolinecolor": "#283442",
           "zerolinewidth": 2
          }
         }
        },
        "title": {
         "text": "Polar Bar Plot of General government final consumption expenditure (% of GDP) Over Years"
        }
       }
      },
      "text/html": [
       "<div>                            <div id=\"4dd9fe39-fbae-4128-8d4f-b342995596a5\" class=\"plotly-graph-div\" style=\"height:525px; width:100%;\"></div>            <script type=\"text/javascript\">                require([\"plotly\"], function(Plotly) {                    window.PLOTLYENV=window.PLOTLYENV || {};                                    if (document.getElementById(\"4dd9fe39-fbae-4128-8d4f-b342995596a5\")) {                    Plotly.newPlot(                        \"4dd9fe39-fbae-4128-8d4f-b342995596a5\",                        [{\"hovertemplate\":\"General government final consumption expenditure (% of GDP)=%{r}<br>Year=%{theta}<extra></extra>\",\"legendgroup\":\"\",\"marker\":{\"color\":\"#440154\",\"pattern\":{\"shape\":\"\"}},\"name\":\"\",\"r\":[18.271000330814058,20.162522254856377,22.441843439427494,22.183646195442254,20.79083386378103,20.27923705348732,19.873143810934284,21.31375952808961,21.75547875206719,21.62508055926788,21.399092572468817,21.10088025225828,20.313763373735412,20.286231907016873,19.578573136095972,18.79847343312402,18.375068842319315,18.577507215681052,19.434030797912236,19.912831129029858,19.220958156595557,18.868319878260216,17.048871321111694,16.606603179341086,16.070619905404048,16.0743341011842,16.49312838193746,16.683210082614156,17.322536961189115,18.178957042085074,18.86812074543037,19.453612609753517,19.656798197826163,19.855693467776813,19.714360017389144,20.40223560373905,21.990782804362702,21.535480757959814,20.943858681381148,20.795147909721983,20.135039297625084,19.88032168311926,19.505850604737745,19.133456466517725,18.609520922701495,18.464640471676685,19.013084649929326],\"showlegend\":false,\"subplot\":\"polar\",\"theta\":[1973,1974,1975,1976,1977,1978,1979,1980,1981,1982,1983,1984,1985,1986,1987,1988,1989,1990,1991,1992,1993,1994,1995,1996,1997,1998,1999,2000,2001,2002,2003,2004,2005,2006,2007,2008,2009,2010,2011,2012,2013,2014,2015,2016,2017,2018,2019],\"type\":\"barpolar\"}],                        {\"template\":{\"data\":{\"barpolar\":[{\"marker\":{\"line\":{\"color\":\"rgb(17,17,17)\",\"width\":0.5},\"pattern\":{\"fillmode\":\"overlay\",\"size\":10,\"solidity\":0.2}},\"type\":\"barpolar\"}],\"bar\":[{\"error_x\":{\"color\":\"#f2f5fa\"},\"error_y\":{\"color\":\"#f2f5fa\"},\"marker\":{\"line\":{\"color\":\"rgb(17,17,17)\",\"width\":0.5},\"pattern\":{\"fillmode\":\"overlay\",\"size\":10,\"solidity\":0.2}},\"type\":\"bar\"}],\"carpet\":[{\"aaxis\":{\"endlinecolor\":\"#A2B1C6\",\"gridcolor\":\"#506784\",\"linecolor\":\"#506784\",\"minorgridcolor\":\"#506784\",\"startlinecolor\":\"#A2B1C6\"},\"baxis\":{\"endlinecolor\":\"#A2B1C6\",\"gridcolor\":\"#506784\",\"linecolor\":\"#506784\",\"minorgridcolor\":\"#506784\",\"startlinecolor\":\"#A2B1C6\"},\"type\":\"carpet\"}],\"choropleth\":[{\"colorbar\":{\"outlinewidth\":0,\"ticks\":\"\"},\"type\":\"choropleth\"}],\"contourcarpet\":[{\"colorbar\":{\"outlinewidth\":0,\"ticks\":\"\"},\"type\":\"contourcarpet\"}],\"contour\":[{\"colorbar\":{\"outlinewidth\":0,\"ticks\":\"\"},\"colorscale\":[[0.0,\"#0d0887\"],[0.1111111111111111,\"#46039f\"],[0.2222222222222222,\"#7201a8\"],[0.3333333333333333,\"#9c179e\"],[0.4444444444444444,\"#bd3786\"],[0.5555555555555556,\"#d8576b\"],[0.6666666666666666,\"#ed7953\"],[0.7777777777777778,\"#fb9f3a\"],[0.8888888888888888,\"#fdca26\"],[1.0,\"#f0f921\"]],\"type\":\"contour\"}],\"heatmapgl\":[{\"colorbar\":{\"outlinewidth\":0,\"ticks\":\"\"},\"colorscale\":[[0.0,\"#0d0887\"],[0.1111111111111111,\"#46039f\"],[0.2222222222222222,\"#7201a8\"],[0.3333333333333333,\"#9c179e\"],[0.4444444444444444,\"#bd3786\"],[0.5555555555555556,\"#d8576b\"],[0.6666666666666666,\"#ed7953\"],[0.7777777777777778,\"#fb9f3a\"],[0.8888888888888888,\"#fdca26\"],[1.0,\"#f0f921\"]],\"type\":\"heatmapgl\"}],\"heatmap\":[{\"colorbar\":{\"outlinewidth\":0,\"ticks\":\"\"},\"colorscale\":[[0.0,\"#0d0887\"],[0.1111111111111111,\"#46039f\"],[0.2222222222222222,\"#7201a8\"],[0.3333333333333333,\"#9c179e\"],[0.4444444444444444,\"#bd3786\"],[0.5555555555555556,\"#d8576b\"],[0.6666666666666666,\"#ed7953\"],[0.7777777777777778,\"#fb9f3a\"],[0.8888888888888888,\"#fdca26\"],[1.0,\"#f0f921\"]],\"type\":\"heatmap\"}],\"histogram2dcontour\":[{\"colorbar\":{\"outlinewidth\":0,\"ticks\":\"\"},\"colorscale\":[[0.0,\"#0d0887\"],[0.1111111111111111,\"#46039f\"],[0.2222222222222222,\"#7201a8\"],[0.3333333333333333,\"#9c179e\"],[0.4444444444444444,\"#bd3786\"],[0.5555555555555556,\"#d8576b\"],[0.6666666666666666,\"#ed7953\"],[0.7777777777777778,\"#fb9f3a\"],[0.8888888888888888,\"#fdca26\"],[1.0,\"#f0f921\"]],\"type\":\"histogram2dcontour\"}],\"histogram2d\":[{\"colorbar\":{\"outlinewidth\":0,\"ticks\":\"\"},\"colorscale\":[[0.0,\"#0d0887\"],[0.1111111111111111,\"#46039f\"],[0.2222222222222222,\"#7201a8\"],[0.3333333333333333,\"#9c179e\"],[0.4444444444444444,\"#bd3786\"],[0.5555555555555556,\"#d8576b\"],[0.6666666666666666,\"#ed7953\"],[0.7777777777777778,\"#fb9f3a\"],[0.8888888888888888,\"#fdca26\"],[1.0,\"#f0f921\"]],\"type\":\"histogram2d\"}],\"histogram\":[{\"marker\":{\"pattern\":{\"fillmode\":\"overlay\",\"size\":10,\"solidity\":0.2}},\"type\":\"histogram\"}],\"mesh3d\":[{\"colorbar\":{\"outlinewidth\":0,\"ticks\":\"\"},\"type\":\"mesh3d\"}],\"parcoords\":[{\"line\":{\"colorbar\":{\"outlinewidth\":0,\"ticks\":\"\"}},\"type\":\"parcoords\"}],\"pie\":[{\"automargin\":true,\"type\":\"pie\"}],\"scatter3d\":[{\"line\":{\"colorbar\":{\"outlinewidth\":0,\"ticks\":\"\"}},\"marker\":{\"colorbar\":{\"outlinewidth\":0,\"ticks\":\"\"}},\"type\":\"scatter3d\"}],\"scattercarpet\":[{\"marker\":{\"colorbar\":{\"outlinewidth\":0,\"ticks\":\"\"}},\"type\":\"scattercarpet\"}],\"scattergeo\":[{\"marker\":{\"colorbar\":{\"outlinewidth\":0,\"ticks\":\"\"}},\"type\":\"scattergeo\"}],\"scattergl\":[{\"marker\":{\"line\":{\"color\":\"#283442\"}},\"type\":\"scattergl\"}],\"scattermapbox\":[{\"marker\":{\"colorbar\":{\"outlinewidth\":0,\"ticks\":\"\"}},\"type\":\"scattermapbox\"}],\"scatterpolargl\":[{\"marker\":{\"colorbar\":{\"outlinewidth\":0,\"ticks\":\"\"}},\"type\":\"scatterpolargl\"}],\"scatterpolar\":[{\"marker\":{\"colorbar\":{\"outlinewidth\":0,\"ticks\":\"\"}},\"type\":\"scatterpolar\"}],\"scatter\":[{\"marker\":{\"line\":{\"color\":\"#283442\"}},\"type\":\"scatter\"}],\"scatterternary\":[{\"marker\":{\"colorbar\":{\"outlinewidth\":0,\"ticks\":\"\"}},\"type\":\"scatterternary\"}],\"surface\":[{\"colorbar\":{\"outlinewidth\":0,\"ticks\":\"\"},\"colorscale\":[[0.0,\"#0d0887\"],[0.1111111111111111,\"#46039f\"],[0.2222222222222222,\"#7201a8\"],[0.3333333333333333,\"#9c179e\"],[0.4444444444444444,\"#bd3786\"],[0.5555555555555556,\"#d8576b\"],[0.6666666666666666,\"#ed7953\"],[0.7777777777777778,\"#fb9f3a\"],[0.8888888888888888,\"#fdca26\"],[1.0,\"#f0f921\"]],\"type\":\"surface\"}],\"table\":[{\"cells\":{\"fill\":{\"color\":\"#506784\"},\"line\":{\"color\":\"rgb(17,17,17)\"}},\"header\":{\"fill\":{\"color\":\"#2a3f5f\"},\"line\":{\"color\":\"rgb(17,17,17)\"}},\"type\":\"table\"}]},\"layout\":{\"annotationdefaults\":{\"arrowcolor\":\"#f2f5fa\",\"arrowhead\":0,\"arrowwidth\":1},\"autotypenumbers\":\"strict\",\"coloraxis\":{\"colorbar\":{\"outlinewidth\":0,\"ticks\":\"\"}},\"colorscale\":{\"diverging\":[[0,\"#8e0152\"],[0.1,\"#c51b7d\"],[0.2,\"#de77ae\"],[0.3,\"#f1b6da\"],[0.4,\"#fde0ef\"],[0.5,\"#f7f7f7\"],[0.6,\"#e6f5d0\"],[0.7,\"#b8e186\"],[0.8,\"#7fbc41\"],[0.9,\"#4d9221\"],[1,\"#276419\"]],\"sequential\":[[0.0,\"#0d0887\"],[0.1111111111111111,\"#46039f\"],[0.2222222222222222,\"#7201a8\"],[0.3333333333333333,\"#9c179e\"],[0.4444444444444444,\"#bd3786\"],[0.5555555555555556,\"#d8576b\"],[0.6666666666666666,\"#ed7953\"],[0.7777777777777778,\"#fb9f3a\"],[0.8888888888888888,\"#fdca26\"],[1.0,\"#f0f921\"]],\"sequentialminus\":[[0.0,\"#0d0887\"],[0.1111111111111111,\"#46039f\"],[0.2222222222222222,\"#7201a8\"],[0.3333333333333333,\"#9c179e\"],[0.4444444444444444,\"#bd3786\"],[0.5555555555555556,\"#d8576b\"],[0.6666666666666666,\"#ed7953\"],[0.7777777777777778,\"#fb9f3a\"],[0.8888888888888888,\"#fdca26\"],[1.0,\"#f0f921\"]]},\"colorway\":[\"#636efa\",\"#EF553B\",\"#00cc96\",\"#ab63fa\",\"#FFA15A\",\"#19d3f3\",\"#FF6692\",\"#B6E880\",\"#FF97FF\",\"#FECB52\"],\"font\":{\"color\":\"#f2f5fa\"},\"geo\":{\"bgcolor\":\"rgb(17,17,17)\",\"lakecolor\":\"rgb(17,17,17)\",\"landcolor\":\"rgb(17,17,17)\",\"showlakes\":true,\"showland\":true,\"subunitcolor\":\"#506784\"},\"hoverlabel\":{\"align\":\"left\"},\"hovermode\":\"closest\",\"mapbox\":{\"style\":\"dark\"},\"paper_bgcolor\":\"rgb(17,17,17)\",\"plot_bgcolor\":\"rgb(17,17,17)\",\"polar\":{\"angularaxis\":{\"gridcolor\":\"#506784\",\"linecolor\":\"#506784\",\"ticks\":\"\"},\"bgcolor\":\"rgb(17,17,17)\",\"radialaxis\":{\"gridcolor\":\"#506784\",\"linecolor\":\"#506784\",\"ticks\":\"\"}},\"scene\":{\"xaxis\":{\"backgroundcolor\":\"rgb(17,17,17)\",\"gridcolor\":\"#506784\",\"gridwidth\":2,\"linecolor\":\"#506784\",\"showbackground\":true,\"ticks\":\"\",\"zerolinecolor\":\"#C8D4E3\"},\"yaxis\":{\"backgroundcolor\":\"rgb(17,17,17)\",\"gridcolor\":\"#506784\",\"gridwidth\":2,\"linecolor\":\"#506784\",\"showbackground\":true,\"ticks\":\"\",\"zerolinecolor\":\"#C8D4E3\"},\"zaxis\":{\"backgroundcolor\":\"rgb(17,17,17)\",\"gridcolor\":\"#506784\",\"gridwidth\":2,\"linecolor\":\"#506784\",\"showbackground\":true,\"ticks\":\"\",\"zerolinecolor\":\"#C8D4E3\"}},\"shapedefaults\":{\"line\":{\"color\":\"#f2f5fa\"}},\"sliderdefaults\":{\"bgcolor\":\"#C8D4E3\",\"bordercolor\":\"rgb(17,17,17)\",\"borderwidth\":1,\"tickwidth\":0},\"ternary\":{\"aaxis\":{\"gridcolor\":\"#506784\",\"linecolor\":\"#506784\",\"ticks\":\"\"},\"baxis\":{\"gridcolor\":\"#506784\",\"linecolor\":\"#506784\",\"ticks\":\"\"},\"bgcolor\":\"rgb(17,17,17)\",\"caxis\":{\"gridcolor\":\"#506784\",\"linecolor\":\"#506784\",\"ticks\":\"\"}},\"title\":{\"x\":0.05},\"updatemenudefaults\":{\"bgcolor\":\"#506784\",\"borderwidth\":0},\"xaxis\":{\"automargin\":true,\"gridcolor\":\"#283442\",\"linecolor\":\"#506784\",\"ticks\":\"\",\"title\":{\"standoff\":15},\"zerolinecolor\":\"#283442\",\"zerolinewidth\":2},\"yaxis\":{\"automargin\":true,\"gridcolor\":\"#283442\",\"linecolor\":\"#506784\",\"ticks\":\"\",\"title\":{\"standoff\":15},\"zerolinecolor\":\"#283442\",\"zerolinewidth\":2}}},\"polar\":{\"domain\":{\"x\":[0.0,1.0],\"y\":[0.0,1.0]},\"angularaxis\":{\"direction\":\"clockwise\",\"rotation\":90},\"bgcolor\":\"green\"},\"legend\":{\"tracegroupgap\":0},\"title\":{\"text\":\"Polar Bar Plot of General government final consumption expenditure (% of GDP) Over Years\"},\"barmode\":\"relative\"},                        {\"responsive\": true}                    ).then(function(){\n",
       "                            \n",
       "var gd = document.getElementById('4dd9fe39-fbae-4128-8d4f-b342995596a5');\n",
       "var x = new MutationObserver(function (mutations, observer) {{\n",
       "        var display = window.getComputedStyle(gd).display;\n",
       "        if (!display || display === 'none') {{\n",
       "            console.log([gd, 'removed!']);\n",
       "            Plotly.purge(gd);\n",
       "            observer.disconnect();\n",
       "        }}\n",
       "}});\n",
       "\n",
       "// Listen for the removal of the full notebook cells\n",
       "var notebookContainer = gd.closest('#notebook-container');\n",
       "if (notebookContainer) {{\n",
       "    x.observe(notebookContainer, {childList: true});\n",
       "}}\n",
       "\n",
       "// Listen for the clearing of the current output cell\n",
       "var outputEl = gd.closest('.output');\n",
       "if (outputEl) {{\n",
       "    x.observe(outputEl, {childList: true});\n",
       "}}\n",
       "\n",
       "                        })                };                });            </script>        </div>"
      ]
     },
     "metadata": {},
     "output_type": "display_data"
    },
    {
     "data": {
      "application/vnd.plotly.v1+json": {
       "config": {
        "plotlyServerURL": "https://plot.ly"
       },
       "data": [
        {
         "hovertemplate": "General government final consumption expenditure (constant 2015 US$)=%{r}<br>Year=%{theta}<extra></extra>",
         "legendgroup": "",
         "marker": {
          "color": "#636EFA",
          "symbol": "circle"
         },
         "mode": "markers",
         "name": "",
         "r": [
          289433772133.4221,
          295221264556.6902,
          312046373513.18146,
          317664594276.0893,
          313217842913.9812,
          318854872148.4105,
          324010953900.75824,
          329062248434.78766,
          329795737574.1272,
          332184378318.4685,
          338021573934.3293,
          342182494890.4197,
          341059219237.8244,
          345997792803.8312,
          345704013370.3319,
          346243569461.3411,
          349561554337.72516,
          357224792663.33203,
          367980392123.7288,
          370699856327.96704,
          368165346422.3936,
          372043130444.5882,
          376898982485.8991,
          379457878779.4528,
          378635732698.97186,
          393124296603.6253,
          406914464423.1874,
          420294980035.7894,
          438360879779.3867,
          456307299666.3243,
          476738650016.2379,
          496858497183.31256,
          508827992431.8174,
          519450473563.8404,
          526433034970.36237,
          537143705543.5442,
          544658243735.80225,
          545501726759.9327,
          546498829361.6732,
          554019058525.9414,
          553772982423.9982,
          565731098784.038,
          572469006449.6748,
          576901204201.214,
          579344887721.2825,
          581228144178.897,
          605343512030.4465
         ],
         "showlegend": false,
         "subplot": "polar",
         "theta": [
          1973,
          1974,
          1975,
          1976,
          1977,
          1978,
          1979,
          1980,
          1981,
          1982,
          1983,
          1984,
          1985,
          1986,
          1987,
          1988,
          1989,
          1990,
          1991,
          1992,
          1993,
          1994,
          1995,
          1996,
          1997,
          1998,
          1999,
          2000,
          2001,
          2002,
          2003,
          2004,
          2005,
          2006,
          2007,
          2008,
          2009,
          2010,
          2011,
          2012,
          2013,
          2014,
          2015,
          2016,
          2017,
          2018,
          2019
         ],
         "type": "scatterpolar"
        }
       ],
       "layout": {
        "legend": {
         "tracegroupgap": 0
        },
        "polar": {
         "angularaxis": {
          "direction": "clockwise",
          "rotation": 90
         },
         "domain": {
          "x": [
           0,
           1
          ],
          "y": [
           0,
           1
          ]
         }
        },
        "template": {
         "data": {
          "bar": [
           {
            "error_x": {
             "color": "#f2f5fa"
            },
            "error_y": {
             "color": "#f2f5fa"
            },
            "marker": {
             "line": {
              "color": "rgb(17,17,17)",
              "width": 0.5
             },
             "pattern": {
              "fillmode": "overlay",
              "size": 10,
              "solidity": 0.2
             }
            },
            "type": "bar"
           }
          ],
          "barpolar": [
           {
            "marker": {
             "line": {
              "color": "rgb(17,17,17)",
              "width": 0.5
             },
             "pattern": {
              "fillmode": "overlay",
              "size": 10,
              "solidity": 0.2
             }
            },
            "type": "barpolar"
           }
          ],
          "carpet": [
           {
            "aaxis": {
             "endlinecolor": "#A2B1C6",
             "gridcolor": "#506784",
             "linecolor": "#506784",
             "minorgridcolor": "#506784",
             "startlinecolor": "#A2B1C6"
            },
            "baxis": {
             "endlinecolor": "#A2B1C6",
             "gridcolor": "#506784",
             "linecolor": "#506784",
             "minorgridcolor": "#506784",
             "startlinecolor": "#A2B1C6"
            },
            "type": "carpet"
           }
          ],
          "choropleth": [
           {
            "colorbar": {
             "outlinewidth": 0,
             "ticks": ""
            },
            "type": "choropleth"
           }
          ],
          "contour": [
           {
            "colorbar": {
             "outlinewidth": 0,
             "ticks": ""
            },
            "colorscale": [
             [
              0,
              "#0d0887"
             ],
             [
              0.1111111111111111,
              "#46039f"
             ],
             [
              0.2222222222222222,
              "#7201a8"
             ],
             [
              0.3333333333333333,
              "#9c179e"
             ],
             [
              0.4444444444444444,
              "#bd3786"
             ],
             [
              0.5555555555555556,
              "#d8576b"
             ],
             [
              0.6666666666666666,
              "#ed7953"
             ],
             [
              0.7777777777777778,
              "#fb9f3a"
             ],
             [
              0.8888888888888888,
              "#fdca26"
             ],
             [
              1,
              "#f0f921"
             ]
            ],
            "type": "contour"
           }
          ],
          "contourcarpet": [
           {
            "colorbar": {
             "outlinewidth": 0,
             "ticks": ""
            },
            "type": "contourcarpet"
           }
          ],
          "heatmap": [
           {
            "colorbar": {
             "outlinewidth": 0,
             "ticks": ""
            },
            "colorscale": [
             [
              0,
              "#0d0887"
             ],
             [
              0.1111111111111111,
              "#46039f"
             ],
             [
              0.2222222222222222,
              "#7201a8"
             ],
             [
              0.3333333333333333,
              "#9c179e"
             ],
             [
              0.4444444444444444,
              "#bd3786"
             ],
             [
              0.5555555555555556,
              "#d8576b"
             ],
             [
              0.6666666666666666,
              "#ed7953"
             ],
             [
              0.7777777777777778,
              "#fb9f3a"
             ],
             [
              0.8888888888888888,
              "#fdca26"
             ],
             [
              1,
              "#f0f921"
             ]
            ],
            "type": "heatmap"
           }
          ],
          "heatmapgl": [
           {
            "colorbar": {
             "outlinewidth": 0,
             "ticks": ""
            },
            "colorscale": [
             [
              0,
              "#0d0887"
             ],
             [
              0.1111111111111111,
              "#46039f"
             ],
             [
              0.2222222222222222,
              "#7201a8"
             ],
             [
              0.3333333333333333,
              "#9c179e"
             ],
             [
              0.4444444444444444,
              "#bd3786"
             ],
             [
              0.5555555555555556,
              "#d8576b"
             ],
             [
              0.6666666666666666,
              "#ed7953"
             ],
             [
              0.7777777777777778,
              "#fb9f3a"
             ],
             [
              0.8888888888888888,
              "#fdca26"
             ],
             [
              1,
              "#f0f921"
             ]
            ],
            "type": "heatmapgl"
           }
          ],
          "histogram": [
           {
            "marker": {
             "pattern": {
              "fillmode": "overlay",
              "size": 10,
              "solidity": 0.2
             }
            },
            "type": "histogram"
           }
          ],
          "histogram2d": [
           {
            "colorbar": {
             "outlinewidth": 0,
             "ticks": ""
            },
            "colorscale": [
             [
              0,
              "#0d0887"
             ],
             [
              0.1111111111111111,
              "#46039f"
             ],
             [
              0.2222222222222222,
              "#7201a8"
             ],
             [
              0.3333333333333333,
              "#9c179e"
             ],
             [
              0.4444444444444444,
              "#bd3786"
             ],
             [
              0.5555555555555556,
              "#d8576b"
             ],
             [
              0.6666666666666666,
              "#ed7953"
             ],
             [
              0.7777777777777778,
              "#fb9f3a"
             ],
             [
              0.8888888888888888,
              "#fdca26"
             ],
             [
              1,
              "#f0f921"
             ]
            ],
            "type": "histogram2d"
           }
          ],
          "histogram2dcontour": [
           {
            "colorbar": {
             "outlinewidth": 0,
             "ticks": ""
            },
            "colorscale": [
             [
              0,
              "#0d0887"
             ],
             [
              0.1111111111111111,
              "#46039f"
             ],
             [
              0.2222222222222222,
              "#7201a8"
             ],
             [
              0.3333333333333333,
              "#9c179e"
             ],
             [
              0.4444444444444444,
              "#bd3786"
             ],
             [
              0.5555555555555556,
              "#d8576b"
             ],
             [
              0.6666666666666666,
              "#ed7953"
             ],
             [
              0.7777777777777778,
              "#fb9f3a"
             ],
             [
              0.8888888888888888,
              "#fdca26"
             ],
             [
              1,
              "#f0f921"
             ]
            ],
            "type": "histogram2dcontour"
           }
          ],
          "mesh3d": [
           {
            "colorbar": {
             "outlinewidth": 0,
             "ticks": ""
            },
            "type": "mesh3d"
           }
          ],
          "parcoords": [
           {
            "line": {
             "colorbar": {
              "outlinewidth": 0,
              "ticks": ""
             }
            },
            "type": "parcoords"
           }
          ],
          "pie": [
           {
            "automargin": true,
            "type": "pie"
           }
          ],
          "scatter": [
           {
            "marker": {
             "line": {
              "color": "#283442"
             }
            },
            "type": "scatter"
           }
          ],
          "scatter3d": [
           {
            "line": {
             "colorbar": {
              "outlinewidth": 0,
              "ticks": ""
             }
            },
            "marker": {
             "colorbar": {
              "outlinewidth": 0,
              "ticks": ""
             }
            },
            "type": "scatter3d"
           }
          ],
          "scattercarpet": [
           {
            "marker": {
             "colorbar": {
              "outlinewidth": 0,
              "ticks": ""
             }
            },
            "type": "scattercarpet"
           }
          ],
          "scattergeo": [
           {
            "marker": {
             "colorbar": {
              "outlinewidth": 0,
              "ticks": ""
             }
            },
            "type": "scattergeo"
           }
          ],
          "scattergl": [
           {
            "marker": {
             "line": {
              "color": "#283442"
             }
            },
            "type": "scattergl"
           }
          ],
          "scattermapbox": [
           {
            "marker": {
             "colorbar": {
              "outlinewidth": 0,
              "ticks": ""
             }
            },
            "type": "scattermapbox"
           }
          ],
          "scatterpolar": [
           {
            "marker": {
             "colorbar": {
              "outlinewidth": 0,
              "ticks": ""
             }
            },
            "type": "scatterpolar"
           }
          ],
          "scatterpolargl": [
           {
            "marker": {
             "colorbar": {
              "outlinewidth": 0,
              "ticks": ""
             }
            },
            "type": "scatterpolargl"
           }
          ],
          "scatterternary": [
           {
            "marker": {
             "colorbar": {
              "outlinewidth": 0,
              "ticks": ""
             }
            },
            "type": "scatterternary"
           }
          ],
          "surface": [
           {
            "colorbar": {
             "outlinewidth": 0,
             "ticks": ""
            },
            "colorscale": [
             [
              0,
              "#0d0887"
             ],
             [
              0.1111111111111111,
              "#46039f"
             ],
             [
              0.2222222222222222,
              "#7201a8"
             ],
             [
              0.3333333333333333,
              "#9c179e"
             ],
             [
              0.4444444444444444,
              "#bd3786"
             ],
             [
              0.5555555555555556,
              "#d8576b"
             ],
             [
              0.6666666666666666,
              "#ed7953"
             ],
             [
              0.7777777777777778,
              "#fb9f3a"
             ],
             [
              0.8888888888888888,
              "#fdca26"
             ],
             [
              1,
              "#f0f921"
             ]
            ],
            "type": "surface"
           }
          ],
          "table": [
           {
            "cells": {
             "fill": {
              "color": "#506784"
             },
             "line": {
              "color": "rgb(17,17,17)"
             }
            },
            "header": {
             "fill": {
              "color": "#2a3f5f"
             },
             "line": {
              "color": "rgb(17,17,17)"
             }
            },
            "type": "table"
           }
          ]
         },
         "layout": {
          "annotationdefaults": {
           "arrowcolor": "#f2f5fa",
           "arrowhead": 0,
           "arrowwidth": 1
          },
          "autotypenumbers": "strict",
          "coloraxis": {
           "colorbar": {
            "outlinewidth": 0,
            "ticks": ""
           }
          },
          "colorscale": {
           "diverging": [
            [
             0,
             "#8e0152"
            ],
            [
             0.1,
             "#c51b7d"
            ],
            [
             0.2,
             "#de77ae"
            ],
            [
             0.3,
             "#f1b6da"
            ],
            [
             0.4,
             "#fde0ef"
            ],
            [
             0.5,
             "#f7f7f7"
            ],
            [
             0.6,
             "#e6f5d0"
            ],
            [
             0.7,
             "#b8e186"
            ],
            [
             0.8,
             "#7fbc41"
            ],
            [
             0.9,
             "#4d9221"
            ],
            [
             1,
             "#276419"
            ]
           ],
           "sequential": [
            [
             0,
             "#0d0887"
            ],
            [
             0.1111111111111111,
             "#46039f"
            ],
            [
             0.2222222222222222,
             "#7201a8"
            ],
            [
             0.3333333333333333,
             "#9c179e"
            ],
            [
             0.4444444444444444,
             "#bd3786"
            ],
            [
             0.5555555555555556,
             "#d8576b"
            ],
            [
             0.6666666666666666,
             "#ed7953"
            ],
            [
             0.7777777777777778,
             "#fb9f3a"
            ],
            [
             0.8888888888888888,
             "#fdca26"
            ],
            [
             1,
             "#f0f921"
            ]
           ],
           "sequentialminus": [
            [
             0,
             "#0d0887"
            ],
            [
             0.1111111111111111,
             "#46039f"
            ],
            [
             0.2222222222222222,
             "#7201a8"
            ],
            [
             0.3333333333333333,
             "#9c179e"
            ],
            [
             0.4444444444444444,
             "#bd3786"
            ],
            [
             0.5555555555555556,
             "#d8576b"
            ],
            [
             0.6666666666666666,
             "#ed7953"
            ],
            [
             0.7777777777777778,
             "#fb9f3a"
            ],
            [
             0.8888888888888888,
             "#fdca26"
            ],
            [
             1,
             "#f0f921"
            ]
           ]
          },
          "colorway": [
           "#636efa",
           "#EF553B",
           "#00cc96",
           "#ab63fa",
           "#FFA15A",
           "#19d3f3",
           "#FF6692",
           "#B6E880",
           "#FF97FF",
           "#FECB52"
          ],
          "font": {
           "color": "#f2f5fa"
          },
          "geo": {
           "bgcolor": "rgb(17,17,17)",
           "lakecolor": "rgb(17,17,17)",
           "landcolor": "rgb(17,17,17)",
           "showlakes": true,
           "showland": true,
           "subunitcolor": "#506784"
          },
          "hoverlabel": {
           "align": "left"
          },
          "hovermode": "closest",
          "mapbox": {
           "style": "dark"
          },
          "paper_bgcolor": "rgb(17,17,17)",
          "plot_bgcolor": "rgb(17,17,17)",
          "polar": {
           "angularaxis": {
            "gridcolor": "#506784",
            "linecolor": "#506784",
            "ticks": ""
           },
           "bgcolor": "rgb(17,17,17)",
           "radialaxis": {
            "gridcolor": "#506784",
            "linecolor": "#506784",
            "ticks": ""
           }
          },
          "scene": {
           "xaxis": {
            "backgroundcolor": "rgb(17,17,17)",
            "gridcolor": "#506784",
            "gridwidth": 2,
            "linecolor": "#506784",
            "showbackground": true,
            "ticks": "",
            "zerolinecolor": "#C8D4E3"
           },
           "yaxis": {
            "backgroundcolor": "rgb(17,17,17)",
            "gridcolor": "#506784",
            "gridwidth": 2,
            "linecolor": "#506784",
            "showbackground": true,
            "ticks": "",
            "zerolinecolor": "#C8D4E3"
           },
           "zaxis": {
            "backgroundcolor": "rgb(17,17,17)",
            "gridcolor": "#506784",
            "gridwidth": 2,
            "linecolor": "#506784",
            "showbackground": true,
            "ticks": "",
            "zerolinecolor": "#C8D4E3"
           }
          },
          "shapedefaults": {
           "line": {
            "color": "#f2f5fa"
           }
          },
          "sliderdefaults": {
           "bgcolor": "#C8D4E3",
           "bordercolor": "rgb(17,17,17)",
           "borderwidth": 1,
           "tickwidth": 0
          },
          "ternary": {
           "aaxis": {
            "gridcolor": "#506784",
            "linecolor": "#506784",
            "ticks": ""
           },
           "baxis": {
            "gridcolor": "#506784",
            "linecolor": "#506784",
            "ticks": ""
           },
           "bgcolor": "rgb(17,17,17)",
           "caxis": {
            "gridcolor": "#506784",
            "linecolor": "#506784",
            "ticks": ""
           }
          },
          "title": {
           "x": 0.05
          },
          "updatemenudefaults": {
           "bgcolor": "#506784",
           "borderwidth": 0
          },
          "xaxis": {
           "automargin": true,
           "gridcolor": "#283442",
           "linecolor": "#506784",
           "ticks": "",
           "title": {
            "standoff": 15
           },
           "zerolinecolor": "#283442",
           "zerolinewidth": 2
          },
          "yaxis": {
           "automargin": true,
           "gridcolor": "#283442",
           "linecolor": "#506784",
           "ticks": "",
           "title": {
            "standoff": 15
           },
           "zerolinecolor": "#283442",
           "zerolinewidth": 2
          }
         }
        },
        "title": {
         "text": "Polar Scatter Plot of General government final consumption expenditure (constant 2015 US$) Over Years"
        }
       }
      },
      "text/html": [
       "<div>                            <div id=\"04b953b5-6969-495a-badf-d8a081f60c80\" class=\"plotly-graph-div\" style=\"height:525px; width:100%;\"></div>            <script type=\"text/javascript\">                require([\"plotly\"], function(Plotly) {                    window.PLOTLYENV=window.PLOTLYENV || {};                                    if (document.getElementById(\"04b953b5-6969-495a-badf-d8a081f60c80\")) {                    Plotly.newPlot(                        \"04b953b5-6969-495a-badf-d8a081f60c80\",                        [{\"hovertemplate\":\"General government final consumption expenditure (constant 2015 US$)=%{r}<br>Year=%{theta}<extra></extra>\",\"legendgroup\":\"\",\"marker\":{\"color\":\"#636EFA\",\"symbol\":\"circle\"},\"mode\":\"markers\",\"name\":\"\",\"r\":[289433772133.4221,295221264556.6902,312046373513.18146,317664594276.0893,313217842913.9812,318854872148.4105,324010953900.75824,329062248434.78766,329795737574.1272,332184378318.4685,338021573934.3293,342182494890.4197,341059219237.8244,345997792803.8312,345704013370.3319,346243569461.3411,349561554337.72516,357224792663.33203,367980392123.7288,370699856327.96704,368165346422.3936,372043130444.5882,376898982485.8991,379457878779.4528,378635732698.97186,393124296603.6253,406914464423.1874,420294980035.7894,438360879779.3867,456307299666.3243,476738650016.2379,496858497183.31256,508827992431.8174,519450473563.8404,526433034970.36237,537143705543.5442,544658243735.80225,545501726759.9327,546498829361.6732,554019058525.9414,553772982423.9982,565731098784.038,572469006449.6748,576901204201.214,579344887721.2825,581228144178.897,605343512030.4465],\"showlegend\":false,\"subplot\":\"polar\",\"theta\":[1973,1974,1975,1976,1977,1978,1979,1980,1981,1982,1983,1984,1985,1986,1987,1988,1989,1990,1991,1992,1993,1994,1995,1996,1997,1998,1999,2000,2001,2002,2003,2004,2005,2006,2007,2008,2009,2010,2011,2012,2013,2014,2015,2016,2017,2018,2019],\"type\":\"scatterpolar\"}],                        {\"template\":{\"data\":{\"barpolar\":[{\"marker\":{\"line\":{\"color\":\"rgb(17,17,17)\",\"width\":0.5},\"pattern\":{\"fillmode\":\"overlay\",\"size\":10,\"solidity\":0.2}},\"type\":\"barpolar\"}],\"bar\":[{\"error_x\":{\"color\":\"#f2f5fa\"},\"error_y\":{\"color\":\"#f2f5fa\"},\"marker\":{\"line\":{\"color\":\"rgb(17,17,17)\",\"width\":0.5},\"pattern\":{\"fillmode\":\"overlay\",\"size\":10,\"solidity\":0.2}},\"type\":\"bar\"}],\"carpet\":[{\"aaxis\":{\"endlinecolor\":\"#A2B1C6\",\"gridcolor\":\"#506784\",\"linecolor\":\"#506784\",\"minorgridcolor\":\"#506784\",\"startlinecolor\":\"#A2B1C6\"},\"baxis\":{\"endlinecolor\":\"#A2B1C6\",\"gridcolor\":\"#506784\",\"linecolor\":\"#506784\",\"minorgridcolor\":\"#506784\",\"startlinecolor\":\"#A2B1C6\"},\"type\":\"carpet\"}],\"choropleth\":[{\"colorbar\":{\"outlinewidth\":0,\"ticks\":\"\"},\"type\":\"choropleth\"}],\"contourcarpet\":[{\"colorbar\":{\"outlinewidth\":0,\"ticks\":\"\"},\"type\":\"contourcarpet\"}],\"contour\":[{\"colorbar\":{\"outlinewidth\":0,\"ticks\":\"\"},\"colorscale\":[[0.0,\"#0d0887\"],[0.1111111111111111,\"#46039f\"],[0.2222222222222222,\"#7201a8\"],[0.3333333333333333,\"#9c179e\"],[0.4444444444444444,\"#bd3786\"],[0.5555555555555556,\"#d8576b\"],[0.6666666666666666,\"#ed7953\"],[0.7777777777777778,\"#fb9f3a\"],[0.8888888888888888,\"#fdca26\"],[1.0,\"#f0f921\"]],\"type\":\"contour\"}],\"heatmapgl\":[{\"colorbar\":{\"outlinewidth\":0,\"ticks\":\"\"},\"colorscale\":[[0.0,\"#0d0887\"],[0.1111111111111111,\"#46039f\"],[0.2222222222222222,\"#7201a8\"],[0.3333333333333333,\"#9c179e\"],[0.4444444444444444,\"#bd3786\"],[0.5555555555555556,\"#d8576b\"],[0.6666666666666666,\"#ed7953\"],[0.7777777777777778,\"#fb9f3a\"],[0.8888888888888888,\"#fdca26\"],[1.0,\"#f0f921\"]],\"type\":\"heatmapgl\"}],\"heatmap\":[{\"colorbar\":{\"outlinewidth\":0,\"ticks\":\"\"},\"colorscale\":[[0.0,\"#0d0887\"],[0.1111111111111111,\"#46039f\"],[0.2222222222222222,\"#7201a8\"],[0.3333333333333333,\"#9c179e\"],[0.4444444444444444,\"#bd3786\"],[0.5555555555555556,\"#d8576b\"],[0.6666666666666666,\"#ed7953\"],[0.7777777777777778,\"#fb9f3a\"],[0.8888888888888888,\"#fdca26\"],[1.0,\"#f0f921\"]],\"type\":\"heatmap\"}],\"histogram2dcontour\":[{\"colorbar\":{\"outlinewidth\":0,\"ticks\":\"\"},\"colorscale\":[[0.0,\"#0d0887\"],[0.1111111111111111,\"#46039f\"],[0.2222222222222222,\"#7201a8\"],[0.3333333333333333,\"#9c179e\"],[0.4444444444444444,\"#bd3786\"],[0.5555555555555556,\"#d8576b\"],[0.6666666666666666,\"#ed7953\"],[0.7777777777777778,\"#fb9f3a\"],[0.8888888888888888,\"#fdca26\"],[1.0,\"#f0f921\"]],\"type\":\"histogram2dcontour\"}],\"histogram2d\":[{\"colorbar\":{\"outlinewidth\":0,\"ticks\":\"\"},\"colorscale\":[[0.0,\"#0d0887\"],[0.1111111111111111,\"#46039f\"],[0.2222222222222222,\"#7201a8\"],[0.3333333333333333,\"#9c179e\"],[0.4444444444444444,\"#bd3786\"],[0.5555555555555556,\"#d8576b\"],[0.6666666666666666,\"#ed7953\"],[0.7777777777777778,\"#fb9f3a\"],[0.8888888888888888,\"#fdca26\"],[1.0,\"#f0f921\"]],\"type\":\"histogram2d\"}],\"histogram\":[{\"marker\":{\"pattern\":{\"fillmode\":\"overlay\",\"size\":10,\"solidity\":0.2}},\"type\":\"histogram\"}],\"mesh3d\":[{\"colorbar\":{\"outlinewidth\":0,\"ticks\":\"\"},\"type\":\"mesh3d\"}],\"parcoords\":[{\"line\":{\"colorbar\":{\"outlinewidth\":0,\"ticks\":\"\"}},\"type\":\"parcoords\"}],\"pie\":[{\"automargin\":true,\"type\":\"pie\"}],\"scatter3d\":[{\"line\":{\"colorbar\":{\"outlinewidth\":0,\"ticks\":\"\"}},\"marker\":{\"colorbar\":{\"outlinewidth\":0,\"ticks\":\"\"}},\"type\":\"scatter3d\"}],\"scattercarpet\":[{\"marker\":{\"colorbar\":{\"outlinewidth\":0,\"ticks\":\"\"}},\"type\":\"scattercarpet\"}],\"scattergeo\":[{\"marker\":{\"colorbar\":{\"outlinewidth\":0,\"ticks\":\"\"}},\"type\":\"scattergeo\"}],\"scattergl\":[{\"marker\":{\"line\":{\"color\":\"#283442\"}},\"type\":\"scattergl\"}],\"scattermapbox\":[{\"marker\":{\"colorbar\":{\"outlinewidth\":0,\"ticks\":\"\"}},\"type\":\"scattermapbox\"}],\"scatterpolargl\":[{\"marker\":{\"colorbar\":{\"outlinewidth\":0,\"ticks\":\"\"}},\"type\":\"scatterpolargl\"}],\"scatterpolar\":[{\"marker\":{\"colorbar\":{\"outlinewidth\":0,\"ticks\":\"\"}},\"type\":\"scatterpolar\"}],\"scatter\":[{\"marker\":{\"line\":{\"color\":\"#283442\"}},\"type\":\"scatter\"}],\"scatterternary\":[{\"marker\":{\"colorbar\":{\"outlinewidth\":0,\"ticks\":\"\"}},\"type\":\"scatterternary\"}],\"surface\":[{\"colorbar\":{\"outlinewidth\":0,\"ticks\":\"\"},\"colorscale\":[[0.0,\"#0d0887\"],[0.1111111111111111,\"#46039f\"],[0.2222222222222222,\"#7201a8\"],[0.3333333333333333,\"#9c179e\"],[0.4444444444444444,\"#bd3786\"],[0.5555555555555556,\"#d8576b\"],[0.6666666666666666,\"#ed7953\"],[0.7777777777777778,\"#fb9f3a\"],[0.8888888888888888,\"#fdca26\"],[1.0,\"#f0f921\"]],\"type\":\"surface\"}],\"table\":[{\"cells\":{\"fill\":{\"color\":\"#506784\"},\"line\":{\"color\":\"rgb(17,17,17)\"}},\"header\":{\"fill\":{\"color\":\"#2a3f5f\"},\"line\":{\"color\":\"rgb(17,17,17)\"}},\"type\":\"table\"}]},\"layout\":{\"annotationdefaults\":{\"arrowcolor\":\"#f2f5fa\",\"arrowhead\":0,\"arrowwidth\":1},\"autotypenumbers\":\"strict\",\"coloraxis\":{\"colorbar\":{\"outlinewidth\":0,\"ticks\":\"\"}},\"colorscale\":{\"diverging\":[[0,\"#8e0152\"],[0.1,\"#c51b7d\"],[0.2,\"#de77ae\"],[0.3,\"#f1b6da\"],[0.4,\"#fde0ef\"],[0.5,\"#f7f7f7\"],[0.6,\"#e6f5d0\"],[0.7,\"#b8e186\"],[0.8,\"#7fbc41\"],[0.9,\"#4d9221\"],[1,\"#276419\"]],\"sequential\":[[0.0,\"#0d0887\"],[0.1111111111111111,\"#46039f\"],[0.2222222222222222,\"#7201a8\"],[0.3333333333333333,\"#9c179e\"],[0.4444444444444444,\"#bd3786\"],[0.5555555555555556,\"#d8576b\"],[0.6666666666666666,\"#ed7953\"],[0.7777777777777778,\"#fb9f3a\"],[0.8888888888888888,\"#fdca26\"],[1.0,\"#f0f921\"]],\"sequentialminus\":[[0.0,\"#0d0887\"],[0.1111111111111111,\"#46039f\"],[0.2222222222222222,\"#7201a8\"],[0.3333333333333333,\"#9c179e\"],[0.4444444444444444,\"#bd3786\"],[0.5555555555555556,\"#d8576b\"],[0.6666666666666666,\"#ed7953\"],[0.7777777777777778,\"#fb9f3a\"],[0.8888888888888888,\"#fdca26\"],[1.0,\"#f0f921\"]]},\"colorway\":[\"#636efa\",\"#EF553B\",\"#00cc96\",\"#ab63fa\",\"#FFA15A\",\"#19d3f3\",\"#FF6692\",\"#B6E880\",\"#FF97FF\",\"#FECB52\"],\"font\":{\"color\":\"#f2f5fa\"},\"geo\":{\"bgcolor\":\"rgb(17,17,17)\",\"lakecolor\":\"rgb(17,17,17)\",\"landcolor\":\"rgb(17,17,17)\",\"showlakes\":true,\"showland\":true,\"subunitcolor\":\"#506784\"},\"hoverlabel\":{\"align\":\"left\"},\"hovermode\":\"closest\",\"mapbox\":{\"style\":\"dark\"},\"paper_bgcolor\":\"rgb(17,17,17)\",\"plot_bgcolor\":\"rgb(17,17,17)\",\"polar\":{\"angularaxis\":{\"gridcolor\":\"#506784\",\"linecolor\":\"#506784\",\"ticks\":\"\"},\"bgcolor\":\"rgb(17,17,17)\",\"radialaxis\":{\"gridcolor\":\"#506784\",\"linecolor\":\"#506784\",\"ticks\":\"\"}},\"scene\":{\"xaxis\":{\"backgroundcolor\":\"rgb(17,17,17)\",\"gridcolor\":\"#506784\",\"gridwidth\":2,\"linecolor\":\"#506784\",\"showbackground\":true,\"ticks\":\"\",\"zerolinecolor\":\"#C8D4E3\"},\"yaxis\":{\"backgroundcolor\":\"rgb(17,17,17)\",\"gridcolor\":\"#506784\",\"gridwidth\":2,\"linecolor\":\"#506784\",\"showbackground\":true,\"ticks\":\"\",\"zerolinecolor\":\"#C8D4E3\"},\"zaxis\":{\"backgroundcolor\":\"rgb(17,17,17)\",\"gridcolor\":\"#506784\",\"gridwidth\":2,\"linecolor\":\"#506784\",\"showbackground\":true,\"ticks\":\"\",\"zerolinecolor\":\"#C8D4E3\"}},\"shapedefaults\":{\"line\":{\"color\":\"#f2f5fa\"}},\"sliderdefaults\":{\"bgcolor\":\"#C8D4E3\",\"bordercolor\":\"rgb(17,17,17)\",\"borderwidth\":1,\"tickwidth\":0},\"ternary\":{\"aaxis\":{\"gridcolor\":\"#506784\",\"linecolor\":\"#506784\",\"ticks\":\"\"},\"baxis\":{\"gridcolor\":\"#506784\",\"linecolor\":\"#506784\",\"ticks\":\"\"},\"bgcolor\":\"rgb(17,17,17)\",\"caxis\":{\"gridcolor\":\"#506784\",\"linecolor\":\"#506784\",\"ticks\":\"\"}},\"title\":{\"x\":0.05},\"updatemenudefaults\":{\"bgcolor\":\"#506784\",\"borderwidth\":0},\"xaxis\":{\"automargin\":true,\"gridcolor\":\"#283442\",\"linecolor\":\"#506784\",\"ticks\":\"\",\"title\":{\"standoff\":15},\"zerolinecolor\":\"#283442\",\"zerolinewidth\":2},\"yaxis\":{\"automargin\":true,\"gridcolor\":\"#283442\",\"linecolor\":\"#506784\",\"ticks\":\"\",\"title\":{\"standoff\":15},\"zerolinecolor\":\"#283442\",\"zerolinewidth\":2}}},\"polar\":{\"domain\":{\"x\":[0.0,1.0],\"y\":[0.0,1.0]},\"angularaxis\":{\"direction\":\"clockwise\",\"rotation\":90}},\"legend\":{\"tracegroupgap\":0},\"title\":{\"text\":\"Polar Scatter Plot of General government final consumption expenditure (constant 2015 US$) Over Years\"}},                        {\"responsive\": true}                    ).then(function(){\n",
       "                            \n",
       "var gd = document.getElementById('04b953b5-6969-495a-badf-d8a081f60c80');\n",
       "var x = new MutationObserver(function (mutations, observer) {{\n",
       "        var display = window.getComputedStyle(gd).display;\n",
       "        if (!display || display === 'none') {{\n",
       "            console.log([gd, 'removed!']);\n",
       "            Plotly.purge(gd);\n",
       "            observer.disconnect();\n",
       "        }}\n",
       "}});\n",
       "\n",
       "// Listen for the removal of the full notebook cells\n",
       "var notebookContainer = gd.closest('#notebook-container');\n",
       "if (notebookContainer) {{\n",
       "    x.observe(notebookContainer, {childList: true});\n",
       "}}\n",
       "\n",
       "// Listen for the clearing of the current output cell\n",
       "var outputEl = gd.closest('.output');\n",
       "if (outputEl) {{\n",
       "    x.observe(outputEl, {childList: true});\n",
       "}}\n",
       "\n",
       "                        })                };                });            </script>        </div>"
      ]
     },
     "metadata": {},
     "output_type": "display_data"
    },
    {
     "data": {
      "application/vnd.plotly.v1+json": {
       "config": {
        "plotlyServerURL": "https://plot.ly"
       },
       "data": [
        {
         "hovertemplate": "Government expenditure on education, total (% of GDP)=%{r}<br>Year=%{theta}<extra></extra>",
         "legendgroup": "",
         "line": {
          "color": "#636EFA",
          "dash": "solid"
         },
         "marker": {
          "symbol": "circle"
         },
         "mode": "lines",
         "name": "",
         "r": [
          5.44860982894897,
          5.39099979400635,
          6.26878023147583,
          6.42422008514404,
          6.06335020065308,
          4.9594973298006275,
          4.9594973298006275,
          5.07011985778809,
          5.2884202003479,
          5.1887001991272,
          5.06150007247925,
          4.89905977249146,
          4.5940899848938,
          4.38083982467651,
          4.37180995941162,
          4.26831007003784,
          4.12511014938354,
          4.05552005767822,
          4.1224799156189,
          4.3344898223877,
          4.9594973298006275,
          4.850830078125,
          4.83926010131836,
          4.37116003036499,
          4.9594973298006275,
          4.21070003509521,
          3.98918008804321,
          4.0231499671936,
          4.10855007171631,
          4.6285400390625,
          4.80573987960815,
          4.72940015792847,
          4.92918014526367,
          4.97325992584229,
          4.90883016586304,
          4.88497018814087,
          5.04631996154785,
          5.66824007034302,
          5.55959987640381,
          5.6596040725708,
          5.50078010559082,
          5.56450986862183,
          5.51411008834839,
          5.37532997131348,
          5.38499021530151,
          5.16799020767212,
          5.20774984359741
         ],
         "showlegend": false,
         "subplot": "polar",
         "theta": [
          1973,
          1974,
          1975,
          1976,
          1977,
          1978,
          1979,
          1980,
          1981,
          1982,
          1983,
          1984,
          1985,
          1986,
          1987,
          1988,
          1989,
          1990,
          1991,
          1992,
          1993,
          1994,
          1995,
          1996,
          1997,
          1998,
          1999,
          2000,
          2001,
          2002,
          2003,
          2004,
          2005,
          2006,
          2007,
          2008,
          2009,
          2010,
          2011,
          2012,
          2013,
          2014,
          2015,
          2016,
          2017,
          2018,
          2019
         ],
         "type": "scatterpolar"
        }
       ],
       "layout": {
        "legend": {
         "tracegroupgap": 0
        },
        "polar": {
         "angularaxis": {
          "direction": "clockwise",
          "rotation": 90
         },
         "domain": {
          "x": [
           0,
           1
          ],
          "y": [
           0,
           1
          ]
         }
        },
        "template": {
         "data": {
          "bar": [
           {
            "error_x": {
             "color": "#f2f5fa"
            },
            "error_y": {
             "color": "#f2f5fa"
            },
            "marker": {
             "line": {
              "color": "rgb(17,17,17)",
              "width": 0.5
             },
             "pattern": {
              "fillmode": "overlay",
              "size": 10,
              "solidity": 0.2
             }
            },
            "type": "bar"
           }
          ],
          "barpolar": [
           {
            "marker": {
             "line": {
              "color": "rgb(17,17,17)",
              "width": 0.5
             },
             "pattern": {
              "fillmode": "overlay",
              "size": 10,
              "solidity": 0.2
             }
            },
            "type": "barpolar"
           }
          ],
          "carpet": [
           {
            "aaxis": {
             "endlinecolor": "#A2B1C6",
             "gridcolor": "#506784",
             "linecolor": "#506784",
             "minorgridcolor": "#506784",
             "startlinecolor": "#A2B1C6"
            },
            "baxis": {
             "endlinecolor": "#A2B1C6",
             "gridcolor": "#506784",
             "linecolor": "#506784",
             "minorgridcolor": "#506784",
             "startlinecolor": "#A2B1C6"
            },
            "type": "carpet"
           }
          ],
          "choropleth": [
           {
            "colorbar": {
             "outlinewidth": 0,
             "ticks": ""
            },
            "type": "choropleth"
           }
          ],
          "contour": [
           {
            "colorbar": {
             "outlinewidth": 0,
             "ticks": ""
            },
            "colorscale": [
             [
              0,
              "#0d0887"
             ],
             [
              0.1111111111111111,
              "#46039f"
             ],
             [
              0.2222222222222222,
              "#7201a8"
             ],
             [
              0.3333333333333333,
              "#9c179e"
             ],
             [
              0.4444444444444444,
              "#bd3786"
             ],
             [
              0.5555555555555556,
              "#d8576b"
             ],
             [
              0.6666666666666666,
              "#ed7953"
             ],
             [
              0.7777777777777778,
              "#fb9f3a"
             ],
             [
              0.8888888888888888,
              "#fdca26"
             ],
             [
              1,
              "#f0f921"
             ]
            ],
            "type": "contour"
           }
          ],
          "contourcarpet": [
           {
            "colorbar": {
             "outlinewidth": 0,
             "ticks": ""
            },
            "type": "contourcarpet"
           }
          ],
          "heatmap": [
           {
            "colorbar": {
             "outlinewidth": 0,
             "ticks": ""
            },
            "colorscale": [
             [
              0,
              "#0d0887"
             ],
             [
              0.1111111111111111,
              "#46039f"
             ],
             [
              0.2222222222222222,
              "#7201a8"
             ],
             [
              0.3333333333333333,
              "#9c179e"
             ],
             [
              0.4444444444444444,
              "#bd3786"
             ],
             [
              0.5555555555555556,
              "#d8576b"
             ],
             [
              0.6666666666666666,
              "#ed7953"
             ],
             [
              0.7777777777777778,
              "#fb9f3a"
             ],
             [
              0.8888888888888888,
              "#fdca26"
             ],
             [
              1,
              "#f0f921"
             ]
            ],
            "type": "heatmap"
           }
          ],
          "heatmapgl": [
           {
            "colorbar": {
             "outlinewidth": 0,
             "ticks": ""
            },
            "colorscale": [
             [
              0,
              "#0d0887"
             ],
             [
              0.1111111111111111,
              "#46039f"
             ],
             [
              0.2222222222222222,
              "#7201a8"
             ],
             [
              0.3333333333333333,
              "#9c179e"
             ],
             [
              0.4444444444444444,
              "#bd3786"
             ],
             [
              0.5555555555555556,
              "#d8576b"
             ],
             [
              0.6666666666666666,
              "#ed7953"
             ],
             [
              0.7777777777777778,
              "#fb9f3a"
             ],
             [
              0.8888888888888888,
              "#fdca26"
             ],
             [
              1,
              "#f0f921"
             ]
            ],
            "type": "heatmapgl"
           }
          ],
          "histogram": [
           {
            "marker": {
             "pattern": {
              "fillmode": "overlay",
              "size": 10,
              "solidity": 0.2
             }
            },
            "type": "histogram"
           }
          ],
          "histogram2d": [
           {
            "colorbar": {
             "outlinewidth": 0,
             "ticks": ""
            },
            "colorscale": [
             [
              0,
              "#0d0887"
             ],
             [
              0.1111111111111111,
              "#46039f"
             ],
             [
              0.2222222222222222,
              "#7201a8"
             ],
             [
              0.3333333333333333,
              "#9c179e"
             ],
             [
              0.4444444444444444,
              "#bd3786"
             ],
             [
              0.5555555555555556,
              "#d8576b"
             ],
             [
              0.6666666666666666,
              "#ed7953"
             ],
             [
              0.7777777777777778,
              "#fb9f3a"
             ],
             [
              0.8888888888888888,
              "#fdca26"
             ],
             [
              1,
              "#f0f921"
             ]
            ],
            "type": "histogram2d"
           }
          ],
          "histogram2dcontour": [
           {
            "colorbar": {
             "outlinewidth": 0,
             "ticks": ""
            },
            "colorscale": [
             [
              0,
              "#0d0887"
             ],
             [
              0.1111111111111111,
              "#46039f"
             ],
             [
              0.2222222222222222,
              "#7201a8"
             ],
             [
              0.3333333333333333,
              "#9c179e"
             ],
             [
              0.4444444444444444,
              "#bd3786"
             ],
             [
              0.5555555555555556,
              "#d8576b"
             ],
             [
              0.6666666666666666,
              "#ed7953"
             ],
             [
              0.7777777777777778,
              "#fb9f3a"
             ],
             [
              0.8888888888888888,
              "#fdca26"
             ],
             [
              1,
              "#f0f921"
             ]
            ],
            "type": "histogram2dcontour"
           }
          ],
          "mesh3d": [
           {
            "colorbar": {
             "outlinewidth": 0,
             "ticks": ""
            },
            "type": "mesh3d"
           }
          ],
          "parcoords": [
           {
            "line": {
             "colorbar": {
              "outlinewidth": 0,
              "ticks": ""
             }
            },
            "type": "parcoords"
           }
          ],
          "pie": [
           {
            "automargin": true,
            "type": "pie"
           }
          ],
          "scatter": [
           {
            "marker": {
             "line": {
              "color": "#283442"
             }
            },
            "type": "scatter"
           }
          ],
          "scatter3d": [
           {
            "line": {
             "colorbar": {
              "outlinewidth": 0,
              "ticks": ""
             }
            },
            "marker": {
             "colorbar": {
              "outlinewidth": 0,
              "ticks": ""
             }
            },
            "type": "scatter3d"
           }
          ],
          "scattercarpet": [
           {
            "marker": {
             "colorbar": {
              "outlinewidth": 0,
              "ticks": ""
             }
            },
            "type": "scattercarpet"
           }
          ],
          "scattergeo": [
           {
            "marker": {
             "colorbar": {
              "outlinewidth": 0,
              "ticks": ""
             }
            },
            "type": "scattergeo"
           }
          ],
          "scattergl": [
           {
            "marker": {
             "line": {
              "color": "#283442"
             }
            },
            "type": "scattergl"
           }
          ],
          "scattermapbox": [
           {
            "marker": {
             "colorbar": {
              "outlinewidth": 0,
              "ticks": ""
             }
            },
            "type": "scattermapbox"
           }
          ],
          "scatterpolar": [
           {
            "marker": {
             "colorbar": {
              "outlinewidth": 0,
              "ticks": ""
             }
            },
            "type": "scatterpolar"
           }
          ],
          "scatterpolargl": [
           {
            "marker": {
             "colorbar": {
              "outlinewidth": 0,
              "ticks": ""
             }
            },
            "type": "scatterpolargl"
           }
          ],
          "scatterternary": [
           {
            "marker": {
             "colorbar": {
              "outlinewidth": 0,
              "ticks": ""
             }
            },
            "type": "scatterternary"
           }
          ],
          "surface": [
           {
            "colorbar": {
             "outlinewidth": 0,
             "ticks": ""
            },
            "colorscale": [
             [
              0,
              "#0d0887"
             ],
             [
              0.1111111111111111,
              "#46039f"
             ],
             [
              0.2222222222222222,
              "#7201a8"
             ],
             [
              0.3333333333333333,
              "#9c179e"
             ],
             [
              0.4444444444444444,
              "#bd3786"
             ],
             [
              0.5555555555555556,
              "#d8576b"
             ],
             [
              0.6666666666666666,
              "#ed7953"
             ],
             [
              0.7777777777777778,
              "#fb9f3a"
             ],
             [
              0.8888888888888888,
              "#fdca26"
             ],
             [
              1,
              "#f0f921"
             ]
            ],
            "type": "surface"
           }
          ],
          "table": [
           {
            "cells": {
             "fill": {
              "color": "#506784"
             },
             "line": {
              "color": "rgb(17,17,17)"
             }
            },
            "header": {
             "fill": {
              "color": "#2a3f5f"
             },
             "line": {
              "color": "rgb(17,17,17)"
             }
            },
            "type": "table"
           }
          ]
         },
         "layout": {
          "annotationdefaults": {
           "arrowcolor": "#f2f5fa",
           "arrowhead": 0,
           "arrowwidth": 1
          },
          "autotypenumbers": "strict",
          "coloraxis": {
           "colorbar": {
            "outlinewidth": 0,
            "ticks": ""
           }
          },
          "colorscale": {
           "diverging": [
            [
             0,
             "#8e0152"
            ],
            [
             0.1,
             "#c51b7d"
            ],
            [
             0.2,
             "#de77ae"
            ],
            [
             0.3,
             "#f1b6da"
            ],
            [
             0.4,
             "#fde0ef"
            ],
            [
             0.5,
             "#f7f7f7"
            ],
            [
             0.6,
             "#e6f5d0"
            ],
            [
             0.7,
             "#b8e186"
            ],
            [
             0.8,
             "#7fbc41"
            ],
            [
             0.9,
             "#4d9221"
            ],
            [
             1,
             "#276419"
            ]
           ],
           "sequential": [
            [
             0,
             "#0d0887"
            ],
            [
             0.1111111111111111,
             "#46039f"
            ],
            [
             0.2222222222222222,
             "#7201a8"
            ],
            [
             0.3333333333333333,
             "#9c179e"
            ],
            [
             0.4444444444444444,
             "#bd3786"
            ],
            [
             0.5555555555555556,
             "#d8576b"
            ],
            [
             0.6666666666666666,
             "#ed7953"
            ],
            [
             0.7777777777777778,
             "#fb9f3a"
            ],
            [
             0.8888888888888888,
             "#fdca26"
            ],
            [
             1,
             "#f0f921"
            ]
           ],
           "sequentialminus": [
            [
             0,
             "#0d0887"
            ],
            [
             0.1111111111111111,
             "#46039f"
            ],
            [
             0.2222222222222222,
             "#7201a8"
            ],
            [
             0.3333333333333333,
             "#9c179e"
            ],
            [
             0.4444444444444444,
             "#bd3786"
            ],
            [
             0.5555555555555556,
             "#d8576b"
            ],
            [
             0.6666666666666666,
             "#ed7953"
            ],
            [
             0.7777777777777778,
             "#fb9f3a"
            ],
            [
             0.8888888888888888,
             "#fdca26"
            ],
            [
             1,
             "#f0f921"
            ]
           ]
          },
          "colorway": [
           "#636efa",
           "#EF553B",
           "#00cc96",
           "#ab63fa",
           "#FFA15A",
           "#19d3f3",
           "#FF6692",
           "#B6E880",
           "#FF97FF",
           "#FECB52"
          ],
          "font": {
           "color": "#f2f5fa"
          },
          "geo": {
           "bgcolor": "rgb(17,17,17)",
           "lakecolor": "rgb(17,17,17)",
           "landcolor": "rgb(17,17,17)",
           "showlakes": true,
           "showland": true,
           "subunitcolor": "#506784"
          },
          "hoverlabel": {
           "align": "left"
          },
          "hovermode": "closest",
          "mapbox": {
           "style": "dark"
          },
          "paper_bgcolor": "rgb(17,17,17)",
          "plot_bgcolor": "rgb(17,17,17)",
          "polar": {
           "angularaxis": {
            "gridcolor": "#506784",
            "linecolor": "#506784",
            "ticks": ""
           },
           "bgcolor": "rgb(17,17,17)",
           "radialaxis": {
            "gridcolor": "#506784",
            "linecolor": "#506784",
            "ticks": ""
           }
          },
          "scene": {
           "xaxis": {
            "backgroundcolor": "rgb(17,17,17)",
            "gridcolor": "#506784",
            "gridwidth": 2,
            "linecolor": "#506784",
            "showbackground": true,
            "ticks": "",
            "zerolinecolor": "#C8D4E3"
           },
           "yaxis": {
            "backgroundcolor": "rgb(17,17,17)",
            "gridcolor": "#506784",
            "gridwidth": 2,
            "linecolor": "#506784",
            "showbackground": true,
            "ticks": "",
            "zerolinecolor": "#C8D4E3"
           },
           "zaxis": {
            "backgroundcolor": "rgb(17,17,17)",
            "gridcolor": "#506784",
            "gridwidth": 2,
            "linecolor": "#506784",
            "showbackground": true,
            "ticks": "",
            "zerolinecolor": "#C8D4E3"
           }
          },
          "shapedefaults": {
           "line": {
            "color": "#f2f5fa"
           }
          },
          "sliderdefaults": {
           "bgcolor": "#C8D4E3",
           "bordercolor": "rgb(17,17,17)",
           "borderwidth": 1,
           "tickwidth": 0
          },
          "ternary": {
           "aaxis": {
            "gridcolor": "#506784",
            "linecolor": "#506784",
            "ticks": ""
           },
           "baxis": {
            "gridcolor": "#506784",
            "linecolor": "#506784",
            "ticks": ""
           },
           "bgcolor": "rgb(17,17,17)",
           "caxis": {
            "gridcolor": "#506784",
            "linecolor": "#506784",
            "ticks": ""
           }
          },
          "title": {
           "x": 0.05
          },
          "updatemenudefaults": {
           "bgcolor": "#506784",
           "borderwidth": 0
          },
          "xaxis": {
           "automargin": true,
           "gridcolor": "#283442",
           "linecolor": "#506784",
           "ticks": "",
           "title": {
            "standoff": 15
           },
           "zerolinecolor": "#283442",
           "zerolinewidth": 2
          },
          "yaxis": {
           "automargin": true,
           "gridcolor": "#283442",
           "linecolor": "#506784",
           "ticks": "",
           "title": {
            "standoff": 15
           },
           "zerolinecolor": "#283442",
           "zerolinewidth": 2
          }
         }
        },
        "title": {
         "text": "Polar Line Plot of Government expenditure on education, total (% of GDP) Over Years"
        }
       }
      },
      "text/html": [
       "<div>                            <div id=\"162a9c0c-46d4-4365-8daa-3d3506392bd1\" class=\"plotly-graph-div\" style=\"height:525px; width:100%;\"></div>            <script type=\"text/javascript\">                require([\"plotly\"], function(Plotly) {                    window.PLOTLYENV=window.PLOTLYENV || {};                                    if (document.getElementById(\"162a9c0c-46d4-4365-8daa-3d3506392bd1\")) {                    Plotly.newPlot(                        \"162a9c0c-46d4-4365-8daa-3d3506392bd1\",                        [{\"hovertemplate\":\"Government expenditure on education, total (% of GDP)=%{r}<br>Year=%{theta}<extra></extra>\",\"legendgroup\":\"\",\"line\":{\"color\":\"#636EFA\",\"dash\":\"solid\"},\"marker\":{\"symbol\":\"circle\"},\"mode\":\"lines\",\"name\":\"\",\"r\":[5.44860982894897,5.39099979400635,6.26878023147583,6.42422008514404,6.06335020065308,4.9594973298006275,4.9594973298006275,5.07011985778809,5.2884202003479,5.1887001991272,5.06150007247925,4.89905977249146,4.5940899848938,4.38083982467651,4.37180995941162,4.26831007003784,4.12511014938354,4.05552005767822,4.1224799156189,4.3344898223877,4.9594973298006275,4.850830078125,4.83926010131836,4.37116003036499,4.9594973298006275,4.21070003509521,3.98918008804321,4.0231499671936,4.10855007171631,4.6285400390625,4.80573987960815,4.72940015792847,4.92918014526367,4.97325992584229,4.90883016586304,4.88497018814087,5.04631996154785,5.66824007034302,5.55959987640381,5.6596040725708,5.50078010559082,5.56450986862183,5.51411008834839,5.37532997131348,5.38499021530151,5.16799020767212,5.20774984359741],\"showlegend\":false,\"subplot\":\"polar\",\"theta\":[1973,1974,1975,1976,1977,1978,1979,1980,1981,1982,1983,1984,1985,1986,1987,1988,1989,1990,1991,1992,1993,1994,1995,1996,1997,1998,1999,2000,2001,2002,2003,2004,2005,2006,2007,2008,2009,2010,2011,2012,2013,2014,2015,2016,2017,2018,2019],\"type\":\"scatterpolar\"}],                        {\"template\":{\"data\":{\"barpolar\":[{\"marker\":{\"line\":{\"color\":\"rgb(17,17,17)\",\"width\":0.5},\"pattern\":{\"fillmode\":\"overlay\",\"size\":10,\"solidity\":0.2}},\"type\":\"barpolar\"}],\"bar\":[{\"error_x\":{\"color\":\"#f2f5fa\"},\"error_y\":{\"color\":\"#f2f5fa\"},\"marker\":{\"line\":{\"color\":\"rgb(17,17,17)\",\"width\":0.5},\"pattern\":{\"fillmode\":\"overlay\",\"size\":10,\"solidity\":0.2}},\"type\":\"bar\"}],\"carpet\":[{\"aaxis\":{\"endlinecolor\":\"#A2B1C6\",\"gridcolor\":\"#506784\",\"linecolor\":\"#506784\",\"minorgridcolor\":\"#506784\",\"startlinecolor\":\"#A2B1C6\"},\"baxis\":{\"endlinecolor\":\"#A2B1C6\",\"gridcolor\":\"#506784\",\"linecolor\":\"#506784\",\"minorgridcolor\":\"#506784\",\"startlinecolor\":\"#A2B1C6\"},\"type\":\"carpet\"}],\"choropleth\":[{\"colorbar\":{\"outlinewidth\":0,\"ticks\":\"\"},\"type\":\"choropleth\"}],\"contourcarpet\":[{\"colorbar\":{\"outlinewidth\":0,\"ticks\":\"\"},\"type\":\"contourcarpet\"}],\"contour\":[{\"colorbar\":{\"outlinewidth\":0,\"ticks\":\"\"},\"colorscale\":[[0.0,\"#0d0887\"],[0.1111111111111111,\"#46039f\"],[0.2222222222222222,\"#7201a8\"],[0.3333333333333333,\"#9c179e\"],[0.4444444444444444,\"#bd3786\"],[0.5555555555555556,\"#d8576b\"],[0.6666666666666666,\"#ed7953\"],[0.7777777777777778,\"#fb9f3a\"],[0.8888888888888888,\"#fdca26\"],[1.0,\"#f0f921\"]],\"type\":\"contour\"}],\"heatmapgl\":[{\"colorbar\":{\"outlinewidth\":0,\"ticks\":\"\"},\"colorscale\":[[0.0,\"#0d0887\"],[0.1111111111111111,\"#46039f\"],[0.2222222222222222,\"#7201a8\"],[0.3333333333333333,\"#9c179e\"],[0.4444444444444444,\"#bd3786\"],[0.5555555555555556,\"#d8576b\"],[0.6666666666666666,\"#ed7953\"],[0.7777777777777778,\"#fb9f3a\"],[0.8888888888888888,\"#fdca26\"],[1.0,\"#f0f921\"]],\"type\":\"heatmapgl\"}],\"heatmap\":[{\"colorbar\":{\"outlinewidth\":0,\"ticks\":\"\"},\"colorscale\":[[0.0,\"#0d0887\"],[0.1111111111111111,\"#46039f\"],[0.2222222222222222,\"#7201a8\"],[0.3333333333333333,\"#9c179e\"],[0.4444444444444444,\"#bd3786\"],[0.5555555555555556,\"#d8576b\"],[0.6666666666666666,\"#ed7953\"],[0.7777777777777778,\"#fb9f3a\"],[0.8888888888888888,\"#fdca26\"],[1.0,\"#f0f921\"]],\"type\":\"heatmap\"}],\"histogram2dcontour\":[{\"colorbar\":{\"outlinewidth\":0,\"ticks\":\"\"},\"colorscale\":[[0.0,\"#0d0887\"],[0.1111111111111111,\"#46039f\"],[0.2222222222222222,\"#7201a8\"],[0.3333333333333333,\"#9c179e\"],[0.4444444444444444,\"#bd3786\"],[0.5555555555555556,\"#d8576b\"],[0.6666666666666666,\"#ed7953\"],[0.7777777777777778,\"#fb9f3a\"],[0.8888888888888888,\"#fdca26\"],[1.0,\"#f0f921\"]],\"type\":\"histogram2dcontour\"}],\"histogram2d\":[{\"colorbar\":{\"outlinewidth\":0,\"ticks\":\"\"},\"colorscale\":[[0.0,\"#0d0887\"],[0.1111111111111111,\"#46039f\"],[0.2222222222222222,\"#7201a8\"],[0.3333333333333333,\"#9c179e\"],[0.4444444444444444,\"#bd3786\"],[0.5555555555555556,\"#d8576b\"],[0.6666666666666666,\"#ed7953\"],[0.7777777777777778,\"#fb9f3a\"],[0.8888888888888888,\"#fdca26\"],[1.0,\"#f0f921\"]],\"type\":\"histogram2d\"}],\"histogram\":[{\"marker\":{\"pattern\":{\"fillmode\":\"overlay\",\"size\":10,\"solidity\":0.2}},\"type\":\"histogram\"}],\"mesh3d\":[{\"colorbar\":{\"outlinewidth\":0,\"ticks\":\"\"},\"type\":\"mesh3d\"}],\"parcoords\":[{\"line\":{\"colorbar\":{\"outlinewidth\":0,\"ticks\":\"\"}},\"type\":\"parcoords\"}],\"pie\":[{\"automargin\":true,\"type\":\"pie\"}],\"scatter3d\":[{\"line\":{\"colorbar\":{\"outlinewidth\":0,\"ticks\":\"\"}},\"marker\":{\"colorbar\":{\"outlinewidth\":0,\"ticks\":\"\"}},\"type\":\"scatter3d\"}],\"scattercarpet\":[{\"marker\":{\"colorbar\":{\"outlinewidth\":0,\"ticks\":\"\"}},\"type\":\"scattercarpet\"}],\"scattergeo\":[{\"marker\":{\"colorbar\":{\"outlinewidth\":0,\"ticks\":\"\"}},\"type\":\"scattergeo\"}],\"scattergl\":[{\"marker\":{\"line\":{\"color\":\"#283442\"}},\"type\":\"scattergl\"}],\"scattermapbox\":[{\"marker\":{\"colorbar\":{\"outlinewidth\":0,\"ticks\":\"\"}},\"type\":\"scattermapbox\"}],\"scatterpolargl\":[{\"marker\":{\"colorbar\":{\"outlinewidth\":0,\"ticks\":\"\"}},\"type\":\"scatterpolargl\"}],\"scatterpolar\":[{\"marker\":{\"colorbar\":{\"outlinewidth\":0,\"ticks\":\"\"}},\"type\":\"scatterpolar\"}],\"scatter\":[{\"marker\":{\"line\":{\"color\":\"#283442\"}},\"type\":\"scatter\"}],\"scatterternary\":[{\"marker\":{\"colorbar\":{\"outlinewidth\":0,\"ticks\":\"\"}},\"type\":\"scatterternary\"}],\"surface\":[{\"colorbar\":{\"outlinewidth\":0,\"ticks\":\"\"},\"colorscale\":[[0.0,\"#0d0887\"],[0.1111111111111111,\"#46039f\"],[0.2222222222222222,\"#7201a8\"],[0.3333333333333333,\"#9c179e\"],[0.4444444444444444,\"#bd3786\"],[0.5555555555555556,\"#d8576b\"],[0.6666666666666666,\"#ed7953\"],[0.7777777777777778,\"#fb9f3a\"],[0.8888888888888888,\"#fdca26\"],[1.0,\"#f0f921\"]],\"type\":\"surface\"}],\"table\":[{\"cells\":{\"fill\":{\"color\":\"#506784\"},\"line\":{\"color\":\"rgb(17,17,17)\"}},\"header\":{\"fill\":{\"color\":\"#2a3f5f\"},\"line\":{\"color\":\"rgb(17,17,17)\"}},\"type\":\"table\"}]},\"layout\":{\"annotationdefaults\":{\"arrowcolor\":\"#f2f5fa\",\"arrowhead\":0,\"arrowwidth\":1},\"autotypenumbers\":\"strict\",\"coloraxis\":{\"colorbar\":{\"outlinewidth\":0,\"ticks\":\"\"}},\"colorscale\":{\"diverging\":[[0,\"#8e0152\"],[0.1,\"#c51b7d\"],[0.2,\"#de77ae\"],[0.3,\"#f1b6da\"],[0.4,\"#fde0ef\"],[0.5,\"#f7f7f7\"],[0.6,\"#e6f5d0\"],[0.7,\"#b8e186\"],[0.8,\"#7fbc41\"],[0.9,\"#4d9221\"],[1,\"#276419\"]],\"sequential\":[[0.0,\"#0d0887\"],[0.1111111111111111,\"#46039f\"],[0.2222222222222222,\"#7201a8\"],[0.3333333333333333,\"#9c179e\"],[0.4444444444444444,\"#bd3786\"],[0.5555555555555556,\"#d8576b\"],[0.6666666666666666,\"#ed7953\"],[0.7777777777777778,\"#fb9f3a\"],[0.8888888888888888,\"#fdca26\"],[1.0,\"#f0f921\"]],\"sequentialminus\":[[0.0,\"#0d0887\"],[0.1111111111111111,\"#46039f\"],[0.2222222222222222,\"#7201a8\"],[0.3333333333333333,\"#9c179e\"],[0.4444444444444444,\"#bd3786\"],[0.5555555555555556,\"#d8576b\"],[0.6666666666666666,\"#ed7953\"],[0.7777777777777778,\"#fb9f3a\"],[0.8888888888888888,\"#fdca26\"],[1.0,\"#f0f921\"]]},\"colorway\":[\"#636efa\",\"#EF553B\",\"#00cc96\",\"#ab63fa\",\"#FFA15A\",\"#19d3f3\",\"#FF6692\",\"#B6E880\",\"#FF97FF\",\"#FECB52\"],\"font\":{\"color\":\"#f2f5fa\"},\"geo\":{\"bgcolor\":\"rgb(17,17,17)\",\"lakecolor\":\"rgb(17,17,17)\",\"landcolor\":\"rgb(17,17,17)\",\"showlakes\":true,\"showland\":true,\"subunitcolor\":\"#506784\"},\"hoverlabel\":{\"align\":\"left\"},\"hovermode\":\"closest\",\"mapbox\":{\"style\":\"dark\"},\"paper_bgcolor\":\"rgb(17,17,17)\",\"plot_bgcolor\":\"rgb(17,17,17)\",\"polar\":{\"angularaxis\":{\"gridcolor\":\"#506784\",\"linecolor\":\"#506784\",\"ticks\":\"\"},\"bgcolor\":\"rgb(17,17,17)\",\"radialaxis\":{\"gridcolor\":\"#506784\",\"linecolor\":\"#506784\",\"ticks\":\"\"}},\"scene\":{\"xaxis\":{\"backgroundcolor\":\"rgb(17,17,17)\",\"gridcolor\":\"#506784\",\"gridwidth\":2,\"linecolor\":\"#506784\",\"showbackground\":true,\"ticks\":\"\",\"zerolinecolor\":\"#C8D4E3\"},\"yaxis\":{\"backgroundcolor\":\"rgb(17,17,17)\",\"gridcolor\":\"#506784\",\"gridwidth\":2,\"linecolor\":\"#506784\",\"showbackground\":true,\"ticks\":\"\",\"zerolinecolor\":\"#C8D4E3\"},\"zaxis\":{\"backgroundcolor\":\"rgb(17,17,17)\",\"gridcolor\":\"#506784\",\"gridwidth\":2,\"linecolor\":\"#506784\",\"showbackground\":true,\"ticks\":\"\",\"zerolinecolor\":\"#C8D4E3\"}},\"shapedefaults\":{\"line\":{\"color\":\"#f2f5fa\"}},\"sliderdefaults\":{\"bgcolor\":\"#C8D4E3\",\"bordercolor\":\"rgb(17,17,17)\",\"borderwidth\":1,\"tickwidth\":0},\"ternary\":{\"aaxis\":{\"gridcolor\":\"#506784\",\"linecolor\":\"#506784\",\"ticks\":\"\"},\"baxis\":{\"gridcolor\":\"#506784\",\"linecolor\":\"#506784\",\"ticks\":\"\"},\"bgcolor\":\"rgb(17,17,17)\",\"caxis\":{\"gridcolor\":\"#506784\",\"linecolor\":\"#506784\",\"ticks\":\"\"}},\"title\":{\"x\":0.05},\"updatemenudefaults\":{\"bgcolor\":\"#506784\",\"borderwidth\":0},\"xaxis\":{\"automargin\":true,\"gridcolor\":\"#283442\",\"linecolor\":\"#506784\",\"ticks\":\"\",\"title\":{\"standoff\":15},\"zerolinecolor\":\"#283442\",\"zerolinewidth\":2},\"yaxis\":{\"automargin\":true,\"gridcolor\":\"#283442\",\"linecolor\":\"#506784\",\"ticks\":\"\",\"title\":{\"standoff\":15},\"zerolinecolor\":\"#283442\",\"zerolinewidth\":2}}},\"polar\":{\"domain\":{\"x\":[0.0,1.0],\"y\":[0.0,1.0]},\"angularaxis\":{\"direction\":\"clockwise\",\"rotation\":90}},\"legend\":{\"tracegroupgap\":0},\"title\":{\"text\":\"Polar Line Plot of Government expenditure on education, total (% of GDP) Over Years\"}},                        {\"responsive\": true}                    ).then(function(){\n",
       "                            \n",
       "var gd = document.getElementById('162a9c0c-46d4-4365-8daa-3d3506392bd1');\n",
       "var x = new MutationObserver(function (mutations, observer) {{\n",
       "        var display = window.getComputedStyle(gd).display;\n",
       "        if (!display || display === 'none') {{\n",
       "            console.log([gd, 'removed!']);\n",
       "            Plotly.purge(gd);\n",
       "            observer.disconnect();\n",
       "        }}\n",
       "}});\n",
       "\n",
       "// Listen for the removal of the full notebook cells\n",
       "var notebookContainer = gd.closest('#notebook-container');\n",
       "if (notebookContainer) {{\n",
       "    x.observe(notebookContainer, {childList: true});\n",
       "}}\n",
       "\n",
       "// Listen for the clearing of the current output cell\n",
       "var outputEl = gd.closest('.output');\n",
       "if (outputEl) {{\n",
       "    x.observe(outputEl, {childList: true});\n",
       "}}\n",
       "\n",
       "                        })                };                });            </script>        </div>"
      ]
     },
     "metadata": {},
     "output_type": "display_data"
    },
    {
     "data": {
      "application/vnd.plotly.v1+json": {
       "config": {
        "plotlyServerURL": "https://plot.ly"
       },
       "data": [
        {
         "a": [
          55209037596.96748,
          74529618928.4073,
          76413998999.8175,
          78001440947.444,
          88886296514.0658,
          106985589647.5927,
          150111781262.5292,
          189683207044.255,
          193847916210.42908,
          194105811517.1411,
          177682884463.3778,
          186221473452.5254,
          191704512585.0161,
          211054614234.3338,
          259217621684.4192,
          319834102568.5055,
          354195194102.19995,
          409080295492.66504,
          390306883806.702,
          384215950732.251,
          364933529770.413,
          392958128532.992,
          462585966608.45996,
          498908791526.167,
          532805772467.73,
          548359979520.196,
          609363902554.312,
          653850298557.562,
          649237179855.6809,
          654411730429.33,
          731378364817.22,
          890638892739.131,
          1032967765772.557,
          1281443229817.023,
          1516706417863.8281,
          1462651369475.7642,
          985216774690.9551,
          1033295861497.395,
          1177170406483.799,
          1157443476903.075,
          1186895179827.759,
          1233344333285.413,
          1132717849930.192,
          1080488648831.1019,
          1137495737490.018,
          1274343476727.654,
          1231813737502.5781
         ],
         "b": [
          1973,
          1974,
          1975,
          1976,
          1977,
          1978,
          1979,
          1980,
          1981,
          1982,
          1983,
          1984,
          1985,
          1986,
          1987,
          1988,
          1989,
          1990,
          1991,
          1992,
          1993,
          1994,
          1995,
          1996,
          1997,
          1998,
          1999,
          2000,
          2001,
          2002,
          2003,
          2004,
          2005,
          2006,
          2007,
          2008,
          2009,
          2010,
          2011,
          2012,
          2013,
          2014,
          2015,
          2016,
          2017,
          2018,
          2019
         ],
         "c": [
          1973,
          1974,
          1975,
          1976,
          1977,
          1978,
          1979,
          1980,
          1981,
          1982,
          1983,
          1984,
          1985,
          1986,
          1987,
          1988,
          1989,
          1990,
          1991,
          1992,
          1993,
          1994,
          1995,
          1996,
          1997,
          1998,
          1999,
          2000,
          2001,
          2002,
          2003,
          2004,
          2005,
          2006,
          2007,
          2008,
          2009,
          2010,
          2011,
          2012,
          2013,
          2014,
          2015,
          2016,
          2017,
          2018,
          2019
         ],
         "hovertemplate": "Imports of goods, services and primary income (BoP, current US$)=%{a}<br>Year=%{marker.color}<extra></extra>",
         "legendgroup": "",
         "marker": {
          "color": [
           1973,
           1974,
           1975,
           1976,
           1977,
           1978,
           1979,
           1980,
           1981,
           1982,
           1983,
           1984,
           1985,
           1986,
           1987,
           1988,
           1989,
           1990,
           1991,
           1992,
           1993,
           1994,
           1995,
           1996,
           1997,
           1998,
           1999,
           2000,
           2001,
           2002,
           2003,
           2004,
           2005,
           2006,
           2007,
           2008,
           2009,
           2010,
           2011,
           2012,
           2013,
           2014,
           2015,
           2016,
           2017,
           2018,
           2019
          ],
          "coloraxis": "coloraxis",
          "symbol": "circle"
         },
         "mode": "markers",
         "name": "",
         "showlegend": false,
         "subplot": "ternary",
         "type": "scatterternary"
        }
       ],
       "layout": {
        "coloraxis": {
         "colorbar": {
          "title": {
           "text": "Year"
          }
         },
         "colorscale": [
          [
           0,
           "#440154"
          ],
          [
           0.1111111111111111,
           "#482878"
          ],
          [
           0.2222222222222222,
           "#3e4989"
          ],
          [
           0.3333333333333333,
           "#31688e"
          ],
          [
           0.4444444444444444,
           "#26828e"
          ],
          [
           0.5555555555555556,
           "#1f9e89"
          ],
          [
           0.6666666666666666,
           "#35b779"
          ],
          [
           0.7777777777777778,
           "#6ece58"
          ],
          [
           0.8888888888888888,
           "#b5de2b"
          ],
          [
           1,
           "#fde725"
          ]
         ]
        },
        "legend": {
         "tracegroupgap": 0
        },
        "template": {
         "data": {
          "bar": [
           {
            "error_x": {
             "color": "#f2f5fa"
            },
            "error_y": {
             "color": "#f2f5fa"
            },
            "marker": {
             "line": {
              "color": "rgb(17,17,17)",
              "width": 0.5
             },
             "pattern": {
              "fillmode": "overlay",
              "size": 10,
              "solidity": 0.2
             }
            },
            "type": "bar"
           }
          ],
          "barpolar": [
           {
            "marker": {
             "line": {
              "color": "rgb(17,17,17)",
              "width": 0.5
             },
             "pattern": {
              "fillmode": "overlay",
              "size": 10,
              "solidity": 0.2
             }
            },
            "type": "barpolar"
           }
          ],
          "carpet": [
           {
            "aaxis": {
             "endlinecolor": "#A2B1C6",
             "gridcolor": "#506784",
             "linecolor": "#506784",
             "minorgridcolor": "#506784",
             "startlinecolor": "#A2B1C6"
            },
            "baxis": {
             "endlinecolor": "#A2B1C6",
             "gridcolor": "#506784",
             "linecolor": "#506784",
             "minorgridcolor": "#506784",
             "startlinecolor": "#A2B1C6"
            },
            "type": "carpet"
           }
          ],
          "choropleth": [
           {
            "colorbar": {
             "outlinewidth": 0,
             "ticks": ""
            },
            "type": "choropleth"
           }
          ],
          "contour": [
           {
            "colorbar": {
             "outlinewidth": 0,
             "ticks": ""
            },
            "colorscale": [
             [
              0,
              "#0d0887"
             ],
             [
              0.1111111111111111,
              "#46039f"
             ],
             [
              0.2222222222222222,
              "#7201a8"
             ],
             [
              0.3333333333333333,
              "#9c179e"
             ],
             [
              0.4444444444444444,
              "#bd3786"
             ],
             [
              0.5555555555555556,
              "#d8576b"
             ],
             [
              0.6666666666666666,
              "#ed7953"
             ],
             [
              0.7777777777777778,
              "#fb9f3a"
             ],
             [
              0.8888888888888888,
              "#fdca26"
             ],
             [
              1,
              "#f0f921"
             ]
            ],
            "type": "contour"
           }
          ],
          "contourcarpet": [
           {
            "colorbar": {
             "outlinewidth": 0,
             "ticks": ""
            },
            "type": "contourcarpet"
           }
          ],
          "heatmap": [
           {
            "colorbar": {
             "outlinewidth": 0,
             "ticks": ""
            },
            "colorscale": [
             [
              0,
              "#0d0887"
             ],
             [
              0.1111111111111111,
              "#46039f"
             ],
             [
              0.2222222222222222,
              "#7201a8"
             ],
             [
              0.3333333333333333,
              "#9c179e"
             ],
             [
              0.4444444444444444,
              "#bd3786"
             ],
             [
              0.5555555555555556,
              "#d8576b"
             ],
             [
              0.6666666666666666,
              "#ed7953"
             ],
             [
              0.7777777777777778,
              "#fb9f3a"
             ],
             [
              0.8888888888888888,
              "#fdca26"
             ],
             [
              1,
              "#f0f921"
             ]
            ],
            "type": "heatmap"
           }
          ],
          "heatmapgl": [
           {
            "colorbar": {
             "outlinewidth": 0,
             "ticks": ""
            },
            "colorscale": [
             [
              0,
              "#0d0887"
             ],
             [
              0.1111111111111111,
              "#46039f"
             ],
             [
              0.2222222222222222,
              "#7201a8"
             ],
             [
              0.3333333333333333,
              "#9c179e"
             ],
             [
              0.4444444444444444,
              "#bd3786"
             ],
             [
              0.5555555555555556,
              "#d8576b"
             ],
             [
              0.6666666666666666,
              "#ed7953"
             ],
             [
              0.7777777777777778,
              "#fb9f3a"
             ],
             [
              0.8888888888888888,
              "#fdca26"
             ],
             [
              1,
              "#f0f921"
             ]
            ],
            "type": "heatmapgl"
           }
          ],
          "histogram": [
           {
            "marker": {
             "pattern": {
              "fillmode": "overlay",
              "size": 10,
              "solidity": 0.2
             }
            },
            "type": "histogram"
           }
          ],
          "histogram2d": [
           {
            "colorbar": {
             "outlinewidth": 0,
             "ticks": ""
            },
            "colorscale": [
             [
              0,
              "#0d0887"
             ],
             [
              0.1111111111111111,
              "#46039f"
             ],
             [
              0.2222222222222222,
              "#7201a8"
             ],
             [
              0.3333333333333333,
              "#9c179e"
             ],
             [
              0.4444444444444444,
              "#bd3786"
             ],
             [
              0.5555555555555556,
              "#d8576b"
             ],
             [
              0.6666666666666666,
              "#ed7953"
             ],
             [
              0.7777777777777778,
              "#fb9f3a"
             ],
             [
              0.8888888888888888,
              "#fdca26"
             ],
             [
              1,
              "#f0f921"
             ]
            ],
            "type": "histogram2d"
           }
          ],
          "histogram2dcontour": [
           {
            "colorbar": {
             "outlinewidth": 0,
             "ticks": ""
            },
            "colorscale": [
             [
              0,
              "#0d0887"
             ],
             [
              0.1111111111111111,
              "#46039f"
             ],
             [
              0.2222222222222222,
              "#7201a8"
             ],
             [
              0.3333333333333333,
              "#9c179e"
             ],
             [
              0.4444444444444444,
              "#bd3786"
             ],
             [
              0.5555555555555556,
              "#d8576b"
             ],
             [
              0.6666666666666666,
              "#ed7953"
             ],
             [
              0.7777777777777778,
              "#fb9f3a"
             ],
             [
              0.8888888888888888,
              "#fdca26"
             ],
             [
              1,
              "#f0f921"
             ]
            ],
            "type": "histogram2dcontour"
           }
          ],
          "mesh3d": [
           {
            "colorbar": {
             "outlinewidth": 0,
             "ticks": ""
            },
            "type": "mesh3d"
           }
          ],
          "parcoords": [
           {
            "line": {
             "colorbar": {
              "outlinewidth": 0,
              "ticks": ""
             }
            },
            "type": "parcoords"
           }
          ],
          "pie": [
           {
            "automargin": true,
            "type": "pie"
           }
          ],
          "scatter": [
           {
            "marker": {
             "line": {
              "color": "#283442"
             }
            },
            "type": "scatter"
           }
          ],
          "scatter3d": [
           {
            "line": {
             "colorbar": {
              "outlinewidth": 0,
              "ticks": ""
             }
            },
            "marker": {
             "colorbar": {
              "outlinewidth": 0,
              "ticks": ""
             }
            },
            "type": "scatter3d"
           }
          ],
          "scattercarpet": [
           {
            "marker": {
             "colorbar": {
              "outlinewidth": 0,
              "ticks": ""
             }
            },
            "type": "scattercarpet"
           }
          ],
          "scattergeo": [
           {
            "marker": {
             "colorbar": {
              "outlinewidth": 0,
              "ticks": ""
             }
            },
            "type": "scattergeo"
           }
          ],
          "scattergl": [
           {
            "marker": {
             "line": {
              "color": "#283442"
             }
            },
            "type": "scattergl"
           }
          ],
          "scattermapbox": [
           {
            "marker": {
             "colorbar": {
              "outlinewidth": 0,
              "ticks": ""
             }
            },
            "type": "scattermapbox"
           }
          ],
          "scatterpolar": [
           {
            "marker": {
             "colorbar": {
              "outlinewidth": 0,
              "ticks": ""
             }
            },
            "type": "scatterpolar"
           }
          ],
          "scatterpolargl": [
           {
            "marker": {
             "colorbar": {
              "outlinewidth": 0,
              "ticks": ""
             }
            },
            "type": "scatterpolargl"
           }
          ],
          "scatterternary": [
           {
            "marker": {
             "colorbar": {
              "outlinewidth": 0,
              "ticks": ""
             }
            },
            "type": "scatterternary"
           }
          ],
          "surface": [
           {
            "colorbar": {
             "outlinewidth": 0,
             "ticks": ""
            },
            "colorscale": [
             [
              0,
              "#0d0887"
             ],
             [
              0.1111111111111111,
              "#46039f"
             ],
             [
              0.2222222222222222,
              "#7201a8"
             ],
             [
              0.3333333333333333,
              "#9c179e"
             ],
             [
              0.4444444444444444,
              "#bd3786"
             ],
             [
              0.5555555555555556,
              "#d8576b"
             ],
             [
              0.6666666666666666,
              "#ed7953"
             ],
             [
              0.7777777777777778,
              "#fb9f3a"
             ],
             [
              0.8888888888888888,
              "#fdca26"
             ],
             [
              1,
              "#f0f921"
             ]
            ],
            "type": "surface"
           }
          ],
          "table": [
           {
            "cells": {
             "fill": {
              "color": "#506784"
             },
             "line": {
              "color": "rgb(17,17,17)"
             }
            },
            "header": {
             "fill": {
              "color": "#2a3f5f"
             },
             "line": {
              "color": "rgb(17,17,17)"
             }
            },
            "type": "table"
           }
          ]
         },
         "layout": {
          "annotationdefaults": {
           "arrowcolor": "#f2f5fa",
           "arrowhead": 0,
           "arrowwidth": 1
          },
          "autotypenumbers": "strict",
          "coloraxis": {
           "colorbar": {
            "outlinewidth": 0,
            "ticks": ""
           }
          },
          "colorscale": {
           "diverging": [
            [
             0,
             "#8e0152"
            ],
            [
             0.1,
             "#c51b7d"
            ],
            [
             0.2,
             "#de77ae"
            ],
            [
             0.3,
             "#f1b6da"
            ],
            [
             0.4,
             "#fde0ef"
            ],
            [
             0.5,
             "#f7f7f7"
            ],
            [
             0.6,
             "#e6f5d0"
            ],
            [
             0.7,
             "#b8e186"
            ],
            [
             0.8,
             "#7fbc41"
            ],
            [
             0.9,
             "#4d9221"
            ],
            [
             1,
             "#276419"
            ]
           ],
           "sequential": [
            [
             0,
             "#0d0887"
            ],
            [
             0.1111111111111111,
             "#46039f"
            ],
            [
             0.2222222222222222,
             "#7201a8"
            ],
            [
             0.3333333333333333,
             "#9c179e"
            ],
            [
             0.4444444444444444,
             "#bd3786"
            ],
            [
             0.5555555555555556,
             "#d8576b"
            ],
            [
             0.6666666666666666,
             "#ed7953"
            ],
            [
             0.7777777777777778,
             "#fb9f3a"
            ],
            [
             0.8888888888888888,
             "#fdca26"
            ],
            [
             1,
             "#f0f921"
            ]
           ],
           "sequentialminus": [
            [
             0,
             "#0d0887"
            ],
            [
             0.1111111111111111,
             "#46039f"
            ],
            [
             0.2222222222222222,
             "#7201a8"
            ],
            [
             0.3333333333333333,
             "#9c179e"
            ],
            [
             0.4444444444444444,
             "#bd3786"
            ],
            [
             0.5555555555555556,
             "#d8576b"
            ],
            [
             0.6666666666666666,
             "#ed7953"
            ],
            [
             0.7777777777777778,
             "#fb9f3a"
            ],
            [
             0.8888888888888888,
             "#fdca26"
            ],
            [
             1,
             "#f0f921"
            ]
           ]
          },
          "colorway": [
           "#636efa",
           "#EF553B",
           "#00cc96",
           "#ab63fa",
           "#FFA15A",
           "#19d3f3",
           "#FF6692",
           "#B6E880",
           "#FF97FF",
           "#FECB52"
          ],
          "font": {
           "color": "#f2f5fa"
          },
          "geo": {
           "bgcolor": "rgb(17,17,17)",
           "lakecolor": "rgb(17,17,17)",
           "landcolor": "rgb(17,17,17)",
           "showlakes": true,
           "showland": true,
           "subunitcolor": "#506784"
          },
          "hoverlabel": {
           "align": "left"
          },
          "hovermode": "closest",
          "mapbox": {
           "style": "dark"
          },
          "paper_bgcolor": "rgb(17,17,17)",
          "plot_bgcolor": "rgb(17,17,17)",
          "polar": {
           "angularaxis": {
            "gridcolor": "#506784",
            "linecolor": "#506784",
            "ticks": ""
           },
           "bgcolor": "rgb(17,17,17)",
           "radialaxis": {
            "gridcolor": "#506784",
            "linecolor": "#506784",
            "ticks": ""
           }
          },
          "scene": {
           "xaxis": {
            "backgroundcolor": "rgb(17,17,17)",
            "gridcolor": "#506784",
            "gridwidth": 2,
            "linecolor": "#506784",
            "showbackground": true,
            "ticks": "",
            "zerolinecolor": "#C8D4E3"
           },
           "yaxis": {
            "backgroundcolor": "rgb(17,17,17)",
            "gridcolor": "#506784",
            "gridwidth": 2,
            "linecolor": "#506784",
            "showbackground": true,
            "ticks": "",
            "zerolinecolor": "#C8D4E3"
           },
           "zaxis": {
            "backgroundcolor": "rgb(17,17,17)",
            "gridcolor": "#506784",
            "gridwidth": 2,
            "linecolor": "#506784",
            "showbackground": true,
            "ticks": "",
            "zerolinecolor": "#C8D4E3"
           }
          },
          "shapedefaults": {
           "line": {
            "color": "#f2f5fa"
           }
          },
          "sliderdefaults": {
           "bgcolor": "#C8D4E3",
           "bordercolor": "rgb(17,17,17)",
           "borderwidth": 1,
           "tickwidth": 0
          },
          "ternary": {
           "aaxis": {
            "gridcolor": "#506784",
            "linecolor": "#506784",
            "ticks": ""
           },
           "baxis": {
            "gridcolor": "#506784",
            "linecolor": "#506784",
            "ticks": ""
           },
           "bgcolor": "rgb(17,17,17)",
           "caxis": {
            "gridcolor": "#506784",
            "linecolor": "#506784",
            "ticks": ""
           }
          },
          "title": {
           "x": 0.05
          },
          "updatemenudefaults": {
           "bgcolor": "#506784",
           "borderwidth": 0
          },
          "xaxis": {
           "automargin": true,
           "gridcolor": "#283442",
           "linecolor": "#506784",
           "ticks": "",
           "title": {
            "standoff": 15
           },
           "zerolinecolor": "#283442",
           "zerolinewidth": 2
          },
          "yaxis": {
           "automargin": true,
           "gridcolor": "#283442",
           "linecolor": "#506784",
           "ticks": "",
           "title": {
            "standoff": 15
           },
           "zerolinecolor": "#283442",
           "zerolinewidth": 2
          }
         }
        },
        "ternary": {
         "aaxis": {
          "title": {
           "text": "Imports of goods, services and primary income (BoP, current US$)"
          }
         },
         "baxis": {
          "title": {
           "text": "Year"
          }
         },
         "caxis": {
          "title": {
           "text": "Year"
          }
         },
         "domain": {
          "x": [
           0,
           1
          ],
          "y": [
           0,
           1
          ]
         }
        },
        "title": {
         "text": "Ternary Scatter Plot of Imports of goods, services and primary income (BoP, current US$) Over Years"
        }
       }
      },
      "text/html": [
       "<div>                            <div id=\"1be7a0b9-ff0b-452b-ab32-d1955f9c1cf4\" class=\"plotly-graph-div\" style=\"height:525px; width:100%;\"></div>            <script type=\"text/javascript\">                require([\"plotly\"], function(Plotly) {                    window.PLOTLYENV=window.PLOTLYENV || {};                                    if (document.getElementById(\"1be7a0b9-ff0b-452b-ab32-d1955f9c1cf4\")) {                    Plotly.newPlot(                        \"1be7a0b9-ff0b-452b-ab32-d1955f9c1cf4\",                        [{\"a\":[55209037596.96748,74529618928.4073,76413998999.8175,78001440947.444,88886296514.0658,106985589647.5927,150111781262.5292,189683207044.255,193847916210.42908,194105811517.1411,177682884463.3778,186221473452.5254,191704512585.0161,211054614234.3338,259217621684.4192,319834102568.5055,354195194102.19995,409080295492.66504,390306883806.702,384215950732.251,364933529770.413,392958128532.992,462585966608.45996,498908791526.167,532805772467.73,548359979520.196,609363902554.312,653850298557.562,649237179855.6809,654411730429.33,731378364817.22,890638892739.131,1032967765772.557,1281443229817.023,1516706417863.8281,1462651369475.7642,985216774690.9551,1033295861497.395,1177170406483.799,1157443476903.075,1186895179827.759,1233344333285.413,1132717849930.192,1080488648831.1019,1137495737490.018,1274343476727.654,1231813737502.5781],\"b\":[1973,1974,1975,1976,1977,1978,1979,1980,1981,1982,1983,1984,1985,1986,1987,1988,1989,1990,1991,1992,1993,1994,1995,1996,1997,1998,1999,2000,2001,2002,2003,2004,2005,2006,2007,2008,2009,2010,2011,2012,2013,2014,2015,2016,2017,2018,2019],\"c\":[1973,1974,1975,1976,1977,1978,1979,1980,1981,1982,1983,1984,1985,1986,1987,1988,1989,1990,1991,1992,1993,1994,1995,1996,1997,1998,1999,2000,2001,2002,2003,2004,2005,2006,2007,2008,2009,2010,2011,2012,2013,2014,2015,2016,2017,2018,2019],\"hovertemplate\":\"Imports of goods, services and primary income (BoP, current US$)=%{a}<br>Year=%{marker.color}<extra></extra>\",\"legendgroup\":\"\",\"marker\":{\"color\":[1973,1974,1975,1976,1977,1978,1979,1980,1981,1982,1983,1984,1985,1986,1987,1988,1989,1990,1991,1992,1993,1994,1995,1996,1997,1998,1999,2000,2001,2002,2003,2004,2005,2006,2007,2008,2009,2010,2011,2012,2013,2014,2015,2016,2017,2018,2019],\"coloraxis\":\"coloraxis\",\"symbol\":\"circle\"},\"mode\":\"markers\",\"name\":\"\",\"showlegend\":false,\"subplot\":\"ternary\",\"type\":\"scatterternary\"}],                        {\"template\":{\"data\":{\"barpolar\":[{\"marker\":{\"line\":{\"color\":\"rgb(17,17,17)\",\"width\":0.5},\"pattern\":{\"fillmode\":\"overlay\",\"size\":10,\"solidity\":0.2}},\"type\":\"barpolar\"}],\"bar\":[{\"error_x\":{\"color\":\"#f2f5fa\"},\"error_y\":{\"color\":\"#f2f5fa\"},\"marker\":{\"line\":{\"color\":\"rgb(17,17,17)\",\"width\":0.5},\"pattern\":{\"fillmode\":\"overlay\",\"size\":10,\"solidity\":0.2}},\"type\":\"bar\"}],\"carpet\":[{\"aaxis\":{\"endlinecolor\":\"#A2B1C6\",\"gridcolor\":\"#506784\",\"linecolor\":\"#506784\",\"minorgridcolor\":\"#506784\",\"startlinecolor\":\"#A2B1C6\"},\"baxis\":{\"endlinecolor\":\"#A2B1C6\",\"gridcolor\":\"#506784\",\"linecolor\":\"#506784\",\"minorgridcolor\":\"#506784\",\"startlinecolor\":\"#A2B1C6\"},\"type\":\"carpet\"}],\"choropleth\":[{\"colorbar\":{\"outlinewidth\":0,\"ticks\":\"\"},\"type\":\"choropleth\"}],\"contourcarpet\":[{\"colorbar\":{\"outlinewidth\":0,\"ticks\":\"\"},\"type\":\"contourcarpet\"}],\"contour\":[{\"colorbar\":{\"outlinewidth\":0,\"ticks\":\"\"},\"colorscale\":[[0.0,\"#0d0887\"],[0.1111111111111111,\"#46039f\"],[0.2222222222222222,\"#7201a8\"],[0.3333333333333333,\"#9c179e\"],[0.4444444444444444,\"#bd3786\"],[0.5555555555555556,\"#d8576b\"],[0.6666666666666666,\"#ed7953\"],[0.7777777777777778,\"#fb9f3a\"],[0.8888888888888888,\"#fdca26\"],[1.0,\"#f0f921\"]],\"type\":\"contour\"}],\"heatmapgl\":[{\"colorbar\":{\"outlinewidth\":0,\"ticks\":\"\"},\"colorscale\":[[0.0,\"#0d0887\"],[0.1111111111111111,\"#46039f\"],[0.2222222222222222,\"#7201a8\"],[0.3333333333333333,\"#9c179e\"],[0.4444444444444444,\"#bd3786\"],[0.5555555555555556,\"#d8576b\"],[0.6666666666666666,\"#ed7953\"],[0.7777777777777778,\"#fb9f3a\"],[0.8888888888888888,\"#fdca26\"],[1.0,\"#f0f921\"]],\"type\":\"heatmapgl\"}],\"heatmap\":[{\"colorbar\":{\"outlinewidth\":0,\"ticks\":\"\"},\"colorscale\":[[0.0,\"#0d0887\"],[0.1111111111111111,\"#46039f\"],[0.2222222222222222,\"#7201a8\"],[0.3333333333333333,\"#9c179e\"],[0.4444444444444444,\"#bd3786\"],[0.5555555555555556,\"#d8576b\"],[0.6666666666666666,\"#ed7953\"],[0.7777777777777778,\"#fb9f3a\"],[0.8888888888888888,\"#fdca26\"],[1.0,\"#f0f921\"]],\"type\":\"heatmap\"}],\"histogram2dcontour\":[{\"colorbar\":{\"outlinewidth\":0,\"ticks\":\"\"},\"colorscale\":[[0.0,\"#0d0887\"],[0.1111111111111111,\"#46039f\"],[0.2222222222222222,\"#7201a8\"],[0.3333333333333333,\"#9c179e\"],[0.4444444444444444,\"#bd3786\"],[0.5555555555555556,\"#d8576b\"],[0.6666666666666666,\"#ed7953\"],[0.7777777777777778,\"#fb9f3a\"],[0.8888888888888888,\"#fdca26\"],[1.0,\"#f0f921\"]],\"type\":\"histogram2dcontour\"}],\"histogram2d\":[{\"colorbar\":{\"outlinewidth\":0,\"ticks\":\"\"},\"colorscale\":[[0.0,\"#0d0887\"],[0.1111111111111111,\"#46039f\"],[0.2222222222222222,\"#7201a8\"],[0.3333333333333333,\"#9c179e\"],[0.4444444444444444,\"#bd3786\"],[0.5555555555555556,\"#d8576b\"],[0.6666666666666666,\"#ed7953\"],[0.7777777777777778,\"#fb9f3a\"],[0.8888888888888888,\"#fdca26\"],[1.0,\"#f0f921\"]],\"type\":\"histogram2d\"}],\"histogram\":[{\"marker\":{\"pattern\":{\"fillmode\":\"overlay\",\"size\":10,\"solidity\":0.2}},\"type\":\"histogram\"}],\"mesh3d\":[{\"colorbar\":{\"outlinewidth\":0,\"ticks\":\"\"},\"type\":\"mesh3d\"}],\"parcoords\":[{\"line\":{\"colorbar\":{\"outlinewidth\":0,\"ticks\":\"\"}},\"type\":\"parcoords\"}],\"pie\":[{\"automargin\":true,\"type\":\"pie\"}],\"scatter3d\":[{\"line\":{\"colorbar\":{\"outlinewidth\":0,\"ticks\":\"\"}},\"marker\":{\"colorbar\":{\"outlinewidth\":0,\"ticks\":\"\"}},\"type\":\"scatter3d\"}],\"scattercarpet\":[{\"marker\":{\"colorbar\":{\"outlinewidth\":0,\"ticks\":\"\"}},\"type\":\"scattercarpet\"}],\"scattergeo\":[{\"marker\":{\"colorbar\":{\"outlinewidth\":0,\"ticks\":\"\"}},\"type\":\"scattergeo\"}],\"scattergl\":[{\"marker\":{\"line\":{\"color\":\"#283442\"}},\"type\":\"scattergl\"}],\"scattermapbox\":[{\"marker\":{\"colorbar\":{\"outlinewidth\":0,\"ticks\":\"\"}},\"type\":\"scattermapbox\"}],\"scatterpolargl\":[{\"marker\":{\"colorbar\":{\"outlinewidth\":0,\"ticks\":\"\"}},\"type\":\"scatterpolargl\"}],\"scatterpolar\":[{\"marker\":{\"colorbar\":{\"outlinewidth\":0,\"ticks\":\"\"}},\"type\":\"scatterpolar\"}],\"scatter\":[{\"marker\":{\"line\":{\"color\":\"#283442\"}},\"type\":\"scatter\"}],\"scatterternary\":[{\"marker\":{\"colorbar\":{\"outlinewidth\":0,\"ticks\":\"\"}},\"type\":\"scatterternary\"}],\"surface\":[{\"colorbar\":{\"outlinewidth\":0,\"ticks\":\"\"},\"colorscale\":[[0.0,\"#0d0887\"],[0.1111111111111111,\"#46039f\"],[0.2222222222222222,\"#7201a8\"],[0.3333333333333333,\"#9c179e\"],[0.4444444444444444,\"#bd3786\"],[0.5555555555555556,\"#d8576b\"],[0.6666666666666666,\"#ed7953\"],[0.7777777777777778,\"#fb9f3a\"],[0.8888888888888888,\"#fdca26\"],[1.0,\"#f0f921\"]],\"type\":\"surface\"}],\"table\":[{\"cells\":{\"fill\":{\"color\":\"#506784\"},\"line\":{\"color\":\"rgb(17,17,17)\"}},\"header\":{\"fill\":{\"color\":\"#2a3f5f\"},\"line\":{\"color\":\"rgb(17,17,17)\"}},\"type\":\"table\"}]},\"layout\":{\"annotationdefaults\":{\"arrowcolor\":\"#f2f5fa\",\"arrowhead\":0,\"arrowwidth\":1},\"autotypenumbers\":\"strict\",\"coloraxis\":{\"colorbar\":{\"outlinewidth\":0,\"ticks\":\"\"}},\"colorscale\":{\"diverging\":[[0,\"#8e0152\"],[0.1,\"#c51b7d\"],[0.2,\"#de77ae\"],[0.3,\"#f1b6da\"],[0.4,\"#fde0ef\"],[0.5,\"#f7f7f7\"],[0.6,\"#e6f5d0\"],[0.7,\"#b8e186\"],[0.8,\"#7fbc41\"],[0.9,\"#4d9221\"],[1,\"#276419\"]],\"sequential\":[[0.0,\"#0d0887\"],[0.1111111111111111,\"#46039f\"],[0.2222222222222222,\"#7201a8\"],[0.3333333333333333,\"#9c179e\"],[0.4444444444444444,\"#bd3786\"],[0.5555555555555556,\"#d8576b\"],[0.6666666666666666,\"#ed7953\"],[0.7777777777777778,\"#fb9f3a\"],[0.8888888888888888,\"#fdca26\"],[1.0,\"#f0f921\"]],\"sequentialminus\":[[0.0,\"#0d0887\"],[0.1111111111111111,\"#46039f\"],[0.2222222222222222,\"#7201a8\"],[0.3333333333333333,\"#9c179e\"],[0.4444444444444444,\"#bd3786\"],[0.5555555555555556,\"#d8576b\"],[0.6666666666666666,\"#ed7953\"],[0.7777777777777778,\"#fb9f3a\"],[0.8888888888888888,\"#fdca26\"],[1.0,\"#f0f921\"]]},\"colorway\":[\"#636efa\",\"#EF553B\",\"#00cc96\",\"#ab63fa\",\"#FFA15A\",\"#19d3f3\",\"#FF6692\",\"#B6E880\",\"#FF97FF\",\"#FECB52\"],\"font\":{\"color\":\"#f2f5fa\"},\"geo\":{\"bgcolor\":\"rgb(17,17,17)\",\"lakecolor\":\"rgb(17,17,17)\",\"landcolor\":\"rgb(17,17,17)\",\"showlakes\":true,\"showland\":true,\"subunitcolor\":\"#506784\"},\"hoverlabel\":{\"align\":\"left\"},\"hovermode\":\"closest\",\"mapbox\":{\"style\":\"dark\"},\"paper_bgcolor\":\"rgb(17,17,17)\",\"plot_bgcolor\":\"rgb(17,17,17)\",\"polar\":{\"angularaxis\":{\"gridcolor\":\"#506784\",\"linecolor\":\"#506784\",\"ticks\":\"\"},\"bgcolor\":\"rgb(17,17,17)\",\"radialaxis\":{\"gridcolor\":\"#506784\",\"linecolor\":\"#506784\",\"ticks\":\"\"}},\"scene\":{\"xaxis\":{\"backgroundcolor\":\"rgb(17,17,17)\",\"gridcolor\":\"#506784\",\"gridwidth\":2,\"linecolor\":\"#506784\",\"showbackground\":true,\"ticks\":\"\",\"zerolinecolor\":\"#C8D4E3\"},\"yaxis\":{\"backgroundcolor\":\"rgb(17,17,17)\",\"gridcolor\":\"#506784\",\"gridwidth\":2,\"linecolor\":\"#506784\",\"showbackground\":true,\"ticks\":\"\",\"zerolinecolor\":\"#C8D4E3\"},\"zaxis\":{\"backgroundcolor\":\"rgb(17,17,17)\",\"gridcolor\":\"#506784\",\"gridwidth\":2,\"linecolor\":\"#506784\",\"showbackground\":true,\"ticks\":\"\",\"zerolinecolor\":\"#C8D4E3\"}},\"shapedefaults\":{\"line\":{\"color\":\"#f2f5fa\"}},\"sliderdefaults\":{\"bgcolor\":\"#C8D4E3\",\"bordercolor\":\"rgb(17,17,17)\",\"borderwidth\":1,\"tickwidth\":0},\"ternary\":{\"aaxis\":{\"gridcolor\":\"#506784\",\"linecolor\":\"#506784\",\"ticks\":\"\"},\"baxis\":{\"gridcolor\":\"#506784\",\"linecolor\":\"#506784\",\"ticks\":\"\"},\"bgcolor\":\"rgb(17,17,17)\",\"caxis\":{\"gridcolor\":\"#506784\",\"linecolor\":\"#506784\",\"ticks\":\"\"}},\"title\":{\"x\":0.05},\"updatemenudefaults\":{\"bgcolor\":\"#506784\",\"borderwidth\":0},\"xaxis\":{\"automargin\":true,\"gridcolor\":\"#283442\",\"linecolor\":\"#506784\",\"ticks\":\"\",\"title\":{\"standoff\":15},\"zerolinecolor\":\"#283442\",\"zerolinewidth\":2},\"yaxis\":{\"automargin\":true,\"gridcolor\":\"#283442\",\"linecolor\":\"#506784\",\"ticks\":\"\",\"title\":{\"standoff\":15},\"zerolinecolor\":\"#283442\",\"zerolinewidth\":2}}},\"ternary\":{\"domain\":{\"x\":[0.0,1.0],\"y\":[0.0,1.0]},\"aaxis\":{\"title\":{\"text\":\"Imports of goods, services and primary income (BoP, current US$)\"}},\"baxis\":{\"title\":{\"text\":\"Year\"}},\"caxis\":{\"title\":{\"text\":\"Year\"}}},\"coloraxis\":{\"colorbar\":{\"title\":{\"text\":\"Year\"}},\"colorscale\":[[0.0,\"#440154\"],[0.1111111111111111,\"#482878\"],[0.2222222222222222,\"#3e4989\"],[0.3333333333333333,\"#31688e\"],[0.4444444444444444,\"#26828e\"],[0.5555555555555556,\"#1f9e89\"],[0.6666666666666666,\"#35b779\"],[0.7777777777777778,\"#6ece58\"],[0.8888888888888888,\"#b5de2b\"],[1.0,\"#fde725\"]]},\"legend\":{\"tracegroupgap\":0},\"title\":{\"text\":\"Ternary Scatter Plot of Imports of goods, services and primary income (BoP, current US$) Over Years\"}},                        {\"responsive\": true}                    ).then(function(){\n",
       "                            \n",
       "var gd = document.getElementById('1be7a0b9-ff0b-452b-ab32-d1955f9c1cf4');\n",
       "var x = new MutationObserver(function (mutations, observer) {{\n",
       "        var display = window.getComputedStyle(gd).display;\n",
       "        if (!display || display === 'none') {{\n",
       "            console.log([gd, 'removed!']);\n",
       "            Plotly.purge(gd);\n",
       "            observer.disconnect();\n",
       "        }}\n",
       "}});\n",
       "\n",
       "// Listen for the removal of the full notebook cells\n",
       "var notebookContainer = gd.closest('#notebook-container');\n",
       "if (notebookContainer) {{\n",
       "    x.observe(notebookContainer, {childList: true});\n",
       "}}\n",
       "\n",
       "// Listen for the clearing of the current output cell\n",
       "var outputEl = gd.closest('.output');\n",
       "if (outputEl) {{\n",
       "    x.observe(outputEl, {childList: true});\n",
       "}}\n",
       "\n",
       "                        })                };                });            </script>        </div>"
      ]
     },
     "metadata": {},
     "output_type": "display_data"
    }
   ],
   "source": [
    "import plotly.express as px\n",
    "\n",
    "# Get all numeric column names except for the first two\n",
    "numeric_columns = selected_uk_df_copy.columns[2:]\n",
    "\n",
    "# Create different types of plots for each column\n",
    "for idx, col in enumerate(numeric_columns[:9]):  # Only include the first 10 columns\n",
    "    if idx == 0:\n",
    "        # Scatter plot with color by 'Year'\n",
    "        fig = px.scatter(selected_uk_df_copy, x='Year', y=col, size=col, title=f'Scatter Plot of {col} Over Years',\n",
    "                         color='Year', color_continuous_scale=px.colors.sequential.Viridis,\n",
    "                         template='plotly_dark')\n",
    "    elif idx == 1:\n",
    "        # Box plot with pink color\n",
    "        fig = px.box(selected_uk_df_copy, x='Year', y=col, title=f'Box Plot of {col} Over Years',\n",
    "                     color_discrete_sequence=['pink'], template='plotly_dark')\n",
    "    elif idx == 2:\n",
    "        # Violin plot\n",
    "        fig = px.violin(selected_uk_df_copy, x='Year', y=col, title=f'Violin Plot of {col} Over Years',\n",
    "                        color_discrete_sequence=['yellow'], template='plotly_dark')\n",
    "    elif idx == 3:\n",
    "        # Area plot\n",
    "        fig = px.area(selected_uk_df_copy, x='Year', y=col, title=f'Area Plot of {col} Over Years',\n",
    "                      color_discrete_sequence=px.colors.qualitative.Plotly, template='plotly_dark')\n",
    "    elif idx == 4:\n",
    "        # 3D Scatter plot with color by 'Year'\n",
    "        fig = px.scatter_3d(selected_uk_df_copy, x='Year', y=col, z=col, title=f'3D Scatter Plot of {col} Over Years',\n",
    "                            color='Year', color_continuous_scale=px.colors.sequential.Viridis,\n",
    "                            template='plotly_dark')\n",
    "    elif idx == 5:\n",
    "        # Polar Bar plot\n",
    "        fig = px.bar_polar(selected_uk_df_copy, r=col, theta='Year', title=f'Polar Bar Plot of {col} Over Years',\n",
    "                           color_discrete_sequence=px.colors.sequential.Viridis,  # Use the \"Viridis\" color scale\n",
    "                           template='plotly_dark')  # Use the 'plotly_dark' template with black paper color\n",
    "        fig.update_layout(polar=dict(bgcolor='green'))  # Set green background color for the polar plot\n",
    "    elif idx == 6:\n",
    "        # Polar Scatter plot\n",
    "        fig = px.scatter_polar(selected_uk_df_copy, r=col, theta='Year', title=f'Polar Scatter Plot of {col} Over Years',\n",
    "                               color_discrete_sequence=px.colors.qualitative.Plotly, template='plotly_dark')\n",
    "    elif idx == 7:\n",
    "        # Polar Line plot\n",
    "        fig = px.line_polar(selected_uk_df_copy, r=col, theta='Year', title=f'Polar Line Plot of {col} Over Years',\n",
    "                            color_discrete_sequence=px.colors.qualitative.Plotly, template='plotly_dark')\n",
    "    elif idx == 8:\n",
    "        # Ternary Scatter plot with color by 'Year'\n",
    "        fig = px.scatter_ternary(selected_uk_df_copy, a=col, b='Year', c='Year',\n",
    "                                 title=f'Ternary Scatter Plot of {col} Over Years',\n",
    "                                 color='Year', color_continuous_scale=px.colors.sequential.Viridis,\n",
    "                                 template='plotly_dark')\n",
    "\n",
    "    fig.show()\n",
    "\n"
   ]
  },
  {
   "cell_type": "markdown",
   "id": "c250f8b6",
   "metadata": {},
   "source": [
    "# Machine Learning"
   ]
  },
  {
   "cell_type": "code",
   "execution_count": 47,
   "id": "0470c0b0",
   "metadata": {},
   "outputs": [
    {
     "data": {
      "text/html": [
       "<div>\n",
       "<style scoped>\n",
       "    .dataframe tbody tr th:only-of-type {\n",
       "        vertical-align: middle;\n",
       "    }\n",
       "\n",
       "    .dataframe tbody tr th {\n",
       "        vertical-align: top;\n",
       "    }\n",
       "\n",
       "    .dataframe thead th {\n",
       "        text-align: right;\n",
       "    }\n",
       "</style>\n",
       "<table border=\"1\" class=\"dataframe\">\n",
       "  <thead>\n",
       "    <tr style=\"text-align: right;\">\n",
       "      <th></th>\n",
       "      <th>Country Name</th>\n",
       "      <th>Year</th>\n",
       "      <th>Consumer price index (2010 = 100)</th>\n",
       "      <th>GDP (constant 2015 US$)</th>\n",
       "      <th>GDP growth (annual %)</th>\n",
       "      <th>GDP per capita (constant 2015 US$)</th>\n",
       "      <th>GNI growth (annual %)</th>\n",
       "      <th>General government final consumption expenditure (% of GDP)</th>\n",
       "      <th>General government final consumption expenditure (constant 2015 US$)</th>\n",
       "      <th>Government expenditure on education, total (% of GDP)</th>\n",
       "      <th>Imports of goods, services and primary income (BoP, current US$)</th>\n",
       "      <th>Income share held by fourth 20%</th>\n",
       "      <th>Income share held by highest 10%</th>\n",
       "      <th>Income share held by highest 20%</th>\n",
       "      <th>Income share held by lowest 10%</th>\n",
       "      <th>Income share held by lowest 20%</th>\n",
       "      <th>Income share held by second 20%</th>\n",
       "      <th>Income share held by third 20%</th>\n",
       "      <th>Lending interest rate (%)</th>\n",
       "      <th>Life expectancy at birth, total (years)</th>\n",
       "      <th>Number of neonatal deaths</th>\n",
       "      <th>Number of under-five deaths</th>\n",
       "      <th>Poverty headcount ratio at $6.85 a day (2017 PPP) (% of population)</th>\n",
       "      <th>Proportion of people living below 50 percent of median income (%)</th>\n",
       "      <th>Subsidies and other transfers (% of expense)</th>\n",
       "      <th>Tax revenue (% of GDP)</th>\n",
       "    </tr>\n",
       "  </thead>\n",
       "  <tbody>\n",
       "    <tr>\n",
       "      <th>1200</th>\n",
       "      <td>United Kingdom</td>\n",
       "      <td>1973</td>\n",
       "      <td>0.000000</td>\n",
       "      <td>0.025253</td>\n",
       "      <td>1.000000</td>\n",
       "      <td>0.034468</td>\n",
       "      <td>1.000000</td>\n",
       "      <td>0.345362</td>\n",
       "      <td>0.000000</td>\n",
       "      <td>0.599345</td>\n",
       "      <td>0.000000</td>\n",
       "      <td>0.705882</td>\n",
       "      <td>0.152174</td>\n",
       "      <td>0.173913</td>\n",
       "      <td>1.000000</td>\n",
       "      <td>0.928571</td>\n",
       "      <td>0.807692</td>\n",
       "      <td>0.739130</td>\n",
       "      <td>0.474303</td>\n",
       "      <td>0.000000</td>\n",
       "      <td>1.000000</td>\n",
       "      <td>1.000000</td>\n",
       "      <td>0.285714</td>\n",
       "      <td>0.000000</td>\n",
       "      <td>0.066284</td>\n",
       "      <td>0.000000</td>\n",
       "    </tr>\n",
       "    <tr>\n",
       "      <th>1201</th>\n",
       "      <td>United Kingdom</td>\n",
       "      <td>1974</td>\n",
       "      <td>0.017798</td>\n",
       "      <td>0.009254</td>\n",
       "      <td>0.183616</td>\n",
       "      <td>0.012392</td>\n",
       "      <td>0.145036</td>\n",
       "      <td>0.642247</td>\n",
       "      <td>0.018320</td>\n",
       "      <td>0.575687</td>\n",
       "      <td>0.013220</td>\n",
       "      <td>0.705882</td>\n",
       "      <td>0.173913</td>\n",
       "      <td>0.173913</td>\n",
       "      <td>0.857143</td>\n",
       "      <td>0.857143</td>\n",
       "      <td>0.884615</td>\n",
       "      <td>0.782609</td>\n",
       "      <td>0.537543</td>\n",
       "      <td>0.022025</td>\n",
       "      <td>0.899245</td>\n",
       "      <td>0.889379</td>\n",
       "      <td>1.000000</td>\n",
       "      <td>0.121951</td>\n",
       "      <td>0.023222</td>\n",
       "      <td>0.498280</td>\n",
       "    </tr>\n",
       "    <tr>\n",
       "      <th>1202</th>\n",
       "      <td>United Kingdom</td>\n",
       "      <td>1975</td>\n",
       "      <td>0.048959</td>\n",
       "      <td>0.000000</td>\n",
       "      <td>0.275217</td>\n",
       "      <td>0.000000</td>\n",
       "      <td>0.211490</td>\n",
       "      <td>1.000000</td>\n",
       "      <td>0.071579</td>\n",
       "      <td>0.936165</td>\n",
       "      <td>0.014509</td>\n",
       "      <td>0.764706</td>\n",
       "      <td>0.076087</td>\n",
       "      <td>0.076087</td>\n",
       "      <td>0.928571</td>\n",
       "      <td>0.928571</td>\n",
       "      <td>0.961538</td>\n",
       "      <td>0.913043</td>\n",
       "      <td>0.630361</td>\n",
       "      <td>0.044050</td>\n",
       "      <td>0.798055</td>\n",
       "      <td>0.789080</td>\n",
       "      <td>1.000000</td>\n",
       "      <td>0.085366</td>\n",
       "      <td>0.000000</td>\n",
       "      <td>0.595073</td>\n",
       "    </tr>\n",
       "    <tr>\n",
       "      <th>1203</th>\n",
       "      <td>United Kingdom</td>\n",
       "      <td>1976</td>\n",
       "      <td>0.075436</td>\n",
       "      <td>0.018006</td>\n",
       "      <td>0.672515</td>\n",
       "      <td>0.024444</td>\n",
       "      <td>0.650496</td>\n",
       "      <td>0.959474</td>\n",
       "      <td>0.089364</td>\n",
       "      <td>1.000000</td>\n",
       "      <td>0.015595</td>\n",
       "      <td>0.882353</td>\n",
       "      <td>0.032609</td>\n",
       "      <td>0.054348</td>\n",
       "      <td>1.000000</td>\n",
       "      <td>0.964286</td>\n",
       "      <td>0.923077</td>\n",
       "      <td>0.913043</td>\n",
       "      <td>0.670408</td>\n",
       "      <td>0.049691</td>\n",
       "      <td>0.712979</td>\n",
       "      <td>0.699811</td>\n",
       "      <td>0.285714</td>\n",
       "      <td>0.060976</td>\n",
       "      <td>0.035685</td>\n",
       "      <td>0.508456</td>\n",
       "    </tr>\n",
       "    <tr>\n",
       "      <th>1204</th>\n",
       "      <td>United Kingdom</td>\n",
       "      <td>1977</td>\n",
       "      <td>0.104957</td>\n",
       "      <td>0.033655</td>\n",
       "      <td>0.631505</td>\n",
       "      <td>0.045799</td>\n",
       "      <td>0.554871</td>\n",
       "      <td>0.740865</td>\n",
       "      <td>0.075288</td>\n",
       "      <td>0.851801</td>\n",
       "      <td>0.023043</td>\n",
       "      <td>0.823529</td>\n",
       "      <td>0.010870</td>\n",
       "      <td>0.010870</td>\n",
       "      <td>1.000000</td>\n",
       "      <td>1.000000</td>\n",
       "      <td>1.000000</td>\n",
       "      <td>0.956522</td>\n",
       "      <td>0.531970</td>\n",
       "      <td>0.099114</td>\n",
       "      <td>0.625290</td>\n",
       "      <td>0.628506</td>\n",
       "      <td>1.000000</td>\n",
       "      <td>0.060976</td>\n",
       "      <td>0.089845</td>\n",
       "      <td>0.419975</td>\n",
       "    </tr>\n",
       "    <tr>\n",
       "      <th>1205</th>\n",
       "      <td>United Kingdom</td>\n",
       "      <td>1978</td>\n",
       "      <td>0.122796</td>\n",
       "      <td>0.061082</td>\n",
       "      <td>0.789785</td>\n",
       "      <td>0.082684</td>\n",
       "      <td>0.775602</td>\n",
       "      <td>0.660567</td>\n",
       "      <td>0.093131</td>\n",
       "      <td>0.398481</td>\n",
       "      <td>0.035427</td>\n",
       "      <td>0.941176</td>\n",
       "      <td>0.000000</td>\n",
       "      <td>0.000000</td>\n",
       "      <td>0.928571</td>\n",
       "      <td>0.928571</td>\n",
       "      <td>1.000000</td>\n",
       "      <td>1.000000</td>\n",
       "      <td>0.543434</td>\n",
       "      <td>0.093742</td>\n",
       "      <td>0.587108</td>\n",
       "      <td>0.589742</td>\n",
       "      <td>0.285714</td>\n",
       "      <td>0.182927</td>\n",
       "      <td>0.110801</td>\n",
       "      <td>0.201705</td>\n",
       "    </tr>\n",
       "    <tr>\n",
       "      <th>1206</th>\n",
       "      <td>United Kingdom</td>\n",
       "      <td>1979</td>\n",
       "      <td>0.154164</td>\n",
       "      <td>0.086567</td>\n",
       "      <td>0.748527</td>\n",
       "      <td>0.116150</td>\n",
       "      <td>0.702272</td>\n",
       "      <td>0.596828</td>\n",
       "      <td>0.109453</td>\n",
       "      <td>0.398481</td>\n",
       "      <td>0.064935</td>\n",
       "      <td>0.882353</td>\n",
       "      <td>0.010870</td>\n",
       "      <td>0.043478</td>\n",
       "      <td>1.000000</td>\n",
       "      <td>0.964286</td>\n",
       "      <td>0.961538</td>\n",
       "      <td>0.913043</td>\n",
       "      <td>0.834445</td>\n",
       "      <td>0.104754</td>\n",
       "      <td>0.566928</td>\n",
       "      <td>0.582650</td>\n",
       "      <td>0.285714</td>\n",
       "      <td>0.060976</td>\n",
       "      <td>0.128804</td>\n",
       "      <td>0.155045</td>\n",
       "    </tr>\n",
       "    <tr>\n",
       "      <th>1207</th>\n",
       "      <td>United Kingdom</td>\n",
       "      <td>1980</td>\n",
       "      <td>0.201791</td>\n",
       "      <td>0.072241</td>\n",
       "      <td>0.224673</td>\n",
       "      <td>0.095765</td>\n",
       "      <td>0.164082</td>\n",
       "      <td>0.822941</td>\n",
       "      <td>0.125442</td>\n",
       "      <td>0.443910</td>\n",
       "      <td>0.092011</td>\n",
       "      <td>0.764706</td>\n",
       "      <td>0.108696</td>\n",
       "      <td>0.130435</td>\n",
       "      <td>0.857143</td>\n",
       "      <td>0.857143</td>\n",
       "      <td>0.923077</td>\n",
       "      <td>0.826087</td>\n",
       "      <td>1.000000</td>\n",
       "      <td>0.148805</td>\n",
       "      <td>0.520906</td>\n",
       "      <td>0.568862</td>\n",
       "      <td>0.714286</td>\n",
       "      <td>0.182927</td>\n",
       "      <td>0.263364</td>\n",
       "      <td>0.522498</td>\n",
       "    </tr>\n",
       "    <tr>\n",
       "      <th>1208</th>\n",
       "      <td>United Kingdom</td>\n",
       "      <td>1981</td>\n",
       "      <td>0.238932</td>\n",
       "      <td>0.066798</td>\n",
       "      <td>0.337378</td>\n",
       "      <td>0.088131</td>\n",
       "      <td>0.307796</td>\n",
       "      <td>0.892271</td>\n",
       "      <td>0.127764</td>\n",
       "      <td>0.533560</td>\n",
       "      <td>0.094861</td>\n",
       "      <td>0.764706</td>\n",
       "      <td>0.184783</td>\n",
       "      <td>0.217391</td>\n",
       "      <td>0.714286</td>\n",
       "      <td>0.714286</td>\n",
       "      <td>0.807692</td>\n",
       "      <td>0.826087</td>\n",
       "      <td>0.806631</td>\n",
       "      <td>0.187483</td>\n",
       "      <td>0.440621</td>\n",
       "      <td>0.525607</td>\n",
       "      <td>0.714286</td>\n",
       "      <td>0.329268</td>\n",
       "      <td>0.310799</td>\n",
       "      <td>0.664719</td>\n",
       "    </tr>\n",
       "    <tr>\n",
       "      <th>1209</th>\n",
       "      <td>United Kingdom</td>\n",
       "      <td>1982</td>\n",
       "      <td>0.269016</td>\n",
       "      <td>0.080473</td>\n",
       "      <td>0.589558</td>\n",
       "      <td>0.106837</td>\n",
       "      <td>0.550381</td>\n",
       "      <td>0.871804</td>\n",
       "      <td>0.135325</td>\n",
       "      <td>0.492608</td>\n",
       "      <td>0.095037</td>\n",
       "      <td>0.764706</td>\n",
       "      <td>0.195652</td>\n",
       "      <td>0.239130</td>\n",
       "      <td>0.714286</td>\n",
       "      <td>0.678571</td>\n",
       "      <td>0.769231</td>\n",
       "      <td>0.782609</td>\n",
       "      <td>0.722899</td>\n",
       "      <td>0.204136</td>\n",
       "      <td>0.383566</td>\n",
       "      <td>0.477387</td>\n",
       "      <td>0.000000</td>\n",
       "      <td>0.365854</td>\n",
       "      <td>0.338128</td>\n",
       "      <td>0.893266</td>\n",
       "    </tr>\n",
       "    <tr>\n",
       "      <th>1210</th>\n",
       "      <td>United Kingdom</td>\n",
       "      <td>1983</td>\n",
       "      <td>0.286529</td>\n",
       "      <td>0.109991</td>\n",
       "      <td>0.791379</td>\n",
       "      <td>0.146168</td>\n",
       "      <td>0.796473</td>\n",
       "      <td>0.836334</td>\n",
       "      <td>0.153803</td>\n",
       "      <td>0.440371</td>\n",
       "      <td>0.083800</td>\n",
       "      <td>0.764706</td>\n",
       "      <td>0.184783</td>\n",
       "      <td>0.228261</td>\n",
       "      <td>0.714286</td>\n",
       "      <td>0.714286</td>\n",
       "      <td>0.769231</td>\n",
       "      <td>0.782609</td>\n",
       "      <td>0.589733</td>\n",
       "      <td>0.226162</td>\n",
       "      <td>0.344367</td>\n",
       "      <td>0.445793</td>\n",
       "      <td>0.000000</td>\n",
       "      <td>0.365854</td>\n",
       "      <td>0.283695</td>\n",
       "      <td>0.666415</td>\n",
       "    </tr>\n",
       "    <tr>\n",
       "      <th>1211</th>\n",
       "      <td>United Kingdom</td>\n",
       "      <td>1984</td>\n",
       "      <td>0.306245</td>\n",
       "      <td>0.126526</td>\n",
       "      <td>0.614409</td>\n",
       "      <td>0.166796</td>\n",
       "      <td>0.596235</td>\n",
       "      <td>0.789528</td>\n",
       "      <td>0.166974</td>\n",
       "      <td>0.373661</td>\n",
       "      <td>0.089643</td>\n",
       "      <td>0.882353</td>\n",
       "      <td>0.141304</td>\n",
       "      <td>0.152174</td>\n",
       "      <td>0.714286</td>\n",
       "      <td>0.714286</td>\n",
       "      <td>0.846154</td>\n",
       "      <td>0.869565</td>\n",
       "      <td>0.580553</td>\n",
       "      <td>0.270212</td>\n",
       "      <td>0.317509</td>\n",
       "      <td>0.425859</td>\n",
       "      <td>0.285714</td>\n",
       "      <td>0.390244</td>\n",
       "      <td>0.285028</td>\n",
       "      <td>0.690468</td>\n",
       "    </tr>\n",
       "    <tr>\n",
       "      <th>1212</th>\n",
       "      <td>United Kingdom</td>\n",
       "      <td>1985</td>\n",
       "      <td>0.331574</td>\n",
       "      <td>0.157434</td>\n",
       "      <td>0.784633</td>\n",
       "      <td>0.205890</td>\n",
       "      <td>0.730616</td>\n",
       "      <td>0.665986</td>\n",
       "      <td>0.163418</td>\n",
       "      <td>0.248419</td>\n",
       "      <td>0.093394</td>\n",
       "      <td>0.882353</td>\n",
       "      <td>0.206522</td>\n",
       "      <td>0.271739</td>\n",
       "      <td>0.642857</td>\n",
       "      <td>0.642857</td>\n",
       "      <td>0.692308</td>\n",
       "      <td>0.739130</td>\n",
       "      <td>0.743263</td>\n",
       "      <td>0.253828</td>\n",
       "      <td>0.305023</td>\n",
       "      <td>0.416640</td>\n",
       "      <td>0.285714</td>\n",
       "      <td>0.451220</td>\n",
       "      <td>0.318032</td>\n",
       "      <td>0.756783</td>\n",
       "    </tr>\n",
       "    <tr>\n",
       "      <th>1213</th>\n",
       "      <td>United Kingdom</td>\n",
       "      <td>1986</td>\n",
       "      <td>0.346741</td>\n",
       "      <td>0.181885</td>\n",
       "      <td>0.694272</td>\n",
       "      <td>0.236130</td>\n",
       "      <td>0.693977</td>\n",
       "      <td>0.661664</td>\n",
       "      <td>0.179051</td>\n",
       "      <td>0.160843</td>\n",
       "      <td>0.106634</td>\n",
       "      <td>0.705882</td>\n",
       "      <td>0.369565</td>\n",
       "      <td>0.391304</td>\n",
       "      <td>0.500000</td>\n",
       "      <td>0.500000</td>\n",
       "      <td>0.576923</td>\n",
       "      <td>0.652174</td>\n",
       "      <td>0.657786</td>\n",
       "      <td>0.286865</td>\n",
       "      <td>0.284117</td>\n",
       "      <td>0.407816</td>\n",
       "      <td>0.714286</td>\n",
       "      <td>0.573171</td>\n",
       "      <td>0.325546</td>\n",
       "      <td>0.638870</td>\n",
       "    </tr>\n",
       "    <tr>\n",
       "      <th>1214</th>\n",
       "      <td>United Kingdom</td>\n",
       "      <td>1987</td>\n",
       "      <td>0.365729</td>\n",
       "      <td>0.225059</td>\n",
       "      <td>0.897492</td>\n",
       "      <td>0.291376</td>\n",
       "      <td>0.862346</td>\n",
       "      <td>0.550593</td>\n",
       "      <td>0.178121</td>\n",
       "      <td>0.157135</td>\n",
       "      <td>0.139589</td>\n",
       "      <td>0.529412</td>\n",
       "      <td>0.521739</td>\n",
       "      <td>0.576087</td>\n",
       "      <td>0.428571</td>\n",
       "      <td>0.357143</td>\n",
       "      <td>0.384615</td>\n",
       "      <td>0.391304</td>\n",
       "      <td>0.584056</td>\n",
       "      <td>0.325544</td>\n",
       "      <td>0.271196</td>\n",
       "      <td>0.398046</td>\n",
       "      <td>0.000000</td>\n",
       "      <td>0.634146</td>\n",
       "      <td>0.318470</td>\n",
       "      <td>0.388865</td>\n",
       "    </tr>\n",
       "    <tr>\n",
       "      <th>1215</th>\n",
       "      <td>United Kingdom</td>\n",
       "      <td>1988</td>\n",
       "      <td>0.385536</td>\n",
       "      <td>0.273427</td>\n",
       "      <td>0.928275</td>\n",
       "      <td>0.353176</td>\n",
       "      <td>0.911862</td>\n",
       "      <td>0.428152</td>\n",
       "      <td>0.179829</td>\n",
       "      <td>0.114631</td>\n",
       "      <td>0.181064</td>\n",
       "      <td>0.529412</td>\n",
       "      <td>0.543478</td>\n",
       "      <td>0.608696</td>\n",
       "      <td>0.357143</td>\n",
       "      <td>0.357143</td>\n",
       "      <td>0.346154</td>\n",
       "      <td>0.347826</td>\n",
       "      <td>0.606836</td>\n",
       "      <td>0.336557</td>\n",
       "      <td>0.252758</td>\n",
       "      <td>0.385755</td>\n",
       "      <td>0.000000</td>\n",
       "      <td>0.573171</td>\n",
       "      <td>0.289628</td>\n",
       "      <td>0.357557</td>\n",
       "    </tr>\n",
       "    <tr>\n",
       "      <th>1216</th>\n",
       "      <td>United Kingdom</td>\n",
       "      <td>1989</td>\n",
       "      <td>0.414134</td>\n",
       "      <td>0.296423</td>\n",
       "      <td>0.642367</td>\n",
       "      <td>0.380580</td>\n",
       "      <td>0.600144</td>\n",
       "      <td>0.361696</td>\n",
       "      <td>0.190332</td>\n",
       "      <td>0.055823</td>\n",
       "      <td>0.204575</td>\n",
       "      <td>0.941176</td>\n",
       "      <td>0.413043</td>\n",
       "      <td>0.489130</td>\n",
       "      <td>0.285714</td>\n",
       "      <td>0.321429</td>\n",
       "      <td>0.423077</td>\n",
       "      <td>0.521739</td>\n",
       "      <td>0.843741</td>\n",
       "      <td>0.358850</td>\n",
       "      <td>0.227787</td>\n",
       "      <td>0.358021</td>\n",
       "      <td>0.285714</td>\n",
       "      <td>0.695122</td>\n",
       "      <td>0.262011</td>\n",
       "      <td>0.314989</td>\n",
       "    </tr>\n",
       "    <tr>\n",
       "      <th>1217</th>\n",
       "      <td>United Kingdom</td>\n",
       "      <td>1990</td>\n",
       "      <td>0.456472</td>\n",
       "      <td>0.303138</td>\n",
       "      <td>0.475266</td>\n",
       "      <td>0.385834</td>\n",
       "      <td>0.424924</td>\n",
       "      <td>0.393470</td>\n",
       "      <td>0.214590</td>\n",
       "      <td>0.027244</td>\n",
       "      <td>0.242129</td>\n",
       "      <td>0.823529</td>\n",
       "      <td>0.608696</td>\n",
       "      <td>0.684783</td>\n",
       "      <td>0.142857</td>\n",
       "      <td>0.142857</td>\n",
       "      <td>0.192308</td>\n",
       "      <td>0.304348</td>\n",
       "      <td>0.902321</td>\n",
       "      <td>0.391620</td>\n",
       "      <td>0.224448</td>\n",
       "      <td>0.326426</td>\n",
       "      <td>0.285714</td>\n",
       "      <td>0.792683</td>\n",
       "      <td>0.781847</td>\n",
       "      <td>0.573776</td>\n",
       "    </tr>\n",
       "    <tr>\n",
       "      <th>1218</th>\n",
       "      <td>United Kingdom</td>\n",
       "      <td>1991</td>\n",
       "      <td>0.498811</td>\n",
       "      <td>0.292969</td>\n",
       "      <td>0.308797</td>\n",
       "      <td>0.368672</td>\n",
       "      <td>0.279685</td>\n",
       "      <td>0.527907</td>\n",
       "      <td>0.248636</td>\n",
       "      <td>0.054742</td>\n",
       "      <td>0.229284</td>\n",
       "      <td>0.823529</td>\n",
       "      <td>0.521739</td>\n",
       "      <td>0.619565</td>\n",
       "      <td>0.142857</td>\n",
       "      <td>0.178571</td>\n",
       "      <td>0.269231</td>\n",
       "      <td>0.391304</td>\n",
       "      <td>0.707975</td>\n",
       "      <td>0.413914</td>\n",
       "      <td>0.212544</td>\n",
       "      <td>0.293807</td>\n",
       "      <td>0.285714</td>\n",
       "      <td>0.817073</td>\n",
       "      <td>0.941141</td>\n",
       "      <td>0.703417</td>\n",
       "    </tr>\n",
       "    <tr>\n",
       "      <th>1219</th>\n",
       "      <td>United Kingdom</td>\n",
       "      <td>1992</td>\n",
       "      <td>0.526807</td>\n",
       "      <td>0.296625</td>\n",
       "      <td>0.445117</td>\n",
       "      <td>0.370233</td>\n",
       "      <td>0.437715</td>\n",
       "      <td>0.603057</td>\n",
       "      <td>0.257245</td>\n",
       "      <td>0.141809</td>\n",
       "      <td>0.225116</td>\n",
       "      <td>0.823529</td>\n",
       "      <td>0.510870</td>\n",
       "      <td>0.619565</td>\n",
       "      <td>0.142857</td>\n",
       "      <td>0.142857</td>\n",
       "      <td>0.269231</td>\n",
       "      <td>0.434783</td>\n",
       "      <td>0.573178</td>\n",
       "      <td>0.452592</td>\n",
       "      <td>0.199623</td>\n",
       "      <td>0.256934</td>\n",
       "      <td>0.714286</td>\n",
       "      <td>0.939024</td>\n",
       "      <td>1.000000</td>\n",
       "      <td>0.597814</td>\n",
       "    </tr>\n",
       "    <tr>\n",
       "      <th>1220</th>\n",
       "      <td>United Kingdom</td>\n",
       "      <td>1993</td>\n",
       "      <td>0.543124</td>\n",
       "      <td>0.319416</td>\n",
       "      <td>0.634412</td>\n",
       "      <td>0.397231</td>\n",
       "      <td>0.596218</td>\n",
       "      <td>0.494464</td>\n",
       "      <td>0.249222</td>\n",
       "      <td>0.398481</td>\n",
       "      <td>0.211923</td>\n",
       "      <td>0.882353</td>\n",
       "      <td>0.532609</td>\n",
       "      <td>0.619565</td>\n",
       "      <td>0.142857</td>\n",
       "      <td>0.107143</td>\n",
       "      <td>0.269231</td>\n",
       "      <td>0.434783</td>\n",
       "      <td>0.348684</td>\n",
       "      <td>0.447220</td>\n",
       "      <td>0.182782</td>\n",
       "      <td>0.222581</td>\n",
       "      <td>0.714286</td>\n",
       "      <td>1.000000</td>\n",
       "      <td>0.959872</td>\n",
       "      <td>0.355757</td>\n",
       "    </tr>\n",
       "    <tr>\n",
       "      <th>1221</th>\n",
       "      <td>United Kingdom</td>\n",
       "      <td>1994</td>\n",
       "      <td>0.557638</td>\n",
       "      <td>0.355496</td>\n",
       "      <td>0.757318</td>\n",
       "      <td>0.441287</td>\n",
       "      <td>0.763480</td>\n",
       "      <td>0.439115</td>\n",
       "      <td>0.261497</td>\n",
       "      <td>0.353855</td>\n",
       "      <td>0.231098</td>\n",
       "      <td>0.647059</td>\n",
       "      <td>0.641304</td>\n",
       "      <td>0.717391</td>\n",
       "      <td>0.142857</td>\n",
       "      <td>0.107143</td>\n",
       "      <td>0.192308</td>\n",
       "      <td>0.347826</td>\n",
       "      <td>0.313848</td>\n",
       "      <td>0.502283</td>\n",
       "      <td>0.165070</td>\n",
       "      <td>0.195005</td>\n",
       "      <td>0.714286</td>\n",
       "      <td>0.878049</td>\n",
       "      <td>0.933514</td>\n",
       "      <td>0.507786</td>\n",
       "    </tr>\n",
       "    <tr>\n",
       "      <th>1222</th>\n",
       "      <td>United Kingdom</td>\n",
       "      <td>1995</td>\n",
       "      <td>0.575672</td>\n",
       "      <td>0.380159</td>\n",
       "      <td>0.638204</td>\n",
       "      <td>0.470088</td>\n",
       "      <td>0.587719</td>\n",
       "      <td>0.153542</td>\n",
       "      <td>0.276868</td>\n",
       "      <td>0.349103</td>\n",
       "      <td>0.278739</td>\n",
       "      <td>0.705882</td>\n",
       "      <td>0.586957</td>\n",
       "      <td>0.673913</td>\n",
       "      <td>0.142857</td>\n",
       "      <td>0.142857</td>\n",
       "      <td>0.192308</td>\n",
       "      <td>0.391304</td>\n",
       "      <td>0.391690</td>\n",
       "      <td>0.496911</td>\n",
       "      <td>0.141551</td>\n",
       "      <td>0.173810</td>\n",
       "      <td>0.714286</td>\n",
       "      <td>0.853659</td>\n",
       "      <td>0.769423</td>\n",
       "      <td>0.396173</td>\n",
       "    </tr>\n",
       "    <tr>\n",
       "      <th>1223</th>\n",
       "      <td>United Kingdom</td>\n",
       "      <td>1996</td>\n",
       "      <td>0.595253</td>\n",
       "      <td>0.399215</td>\n",
       "      <td>0.581657</td>\n",
       "      <td>0.491565</td>\n",
       "      <td>0.557198</td>\n",
       "      <td>0.084126</td>\n",
       "      <td>0.284968</td>\n",
       "      <td>0.156868</td>\n",
       "      <td>0.303593</td>\n",
       "      <td>0.705882</td>\n",
       "      <td>0.576087</td>\n",
       "      <td>0.652174</td>\n",
       "      <td>0.142857</td>\n",
       "      <td>0.142857</td>\n",
       "      <td>0.230769</td>\n",
       "      <td>0.434783</td>\n",
       "      <td>0.345200</td>\n",
       "      <td>0.524577</td>\n",
       "      <td>0.128194</td>\n",
       "      <td>0.159313</td>\n",
       "      <td>0.285714</td>\n",
       "      <td>0.878049</td>\n",
       "      <td>0.759632</td>\n",
       "      <td>0.365427</td>\n",
       "    </tr>\n",
       "    <tr>\n",
       "      <th>1224</th>\n",
       "      <td>United Kingdom</td>\n",
       "      <td>1997</td>\n",
       "      <td>0.610797</td>\n",
       "      <td>0.445267</td>\n",
       "      <td>0.818767</td>\n",
       "      <td>0.547915</td>\n",
       "      <td>0.806781</td>\n",
       "      <td>0.000000</td>\n",
       "      <td>0.282365</td>\n",
       "      <td>0.398481</td>\n",
       "      <td>0.326786</td>\n",
       "      <td>0.705882</td>\n",
       "      <td>0.619565</td>\n",
       "      <td>0.684783</td>\n",
       "      <td>0.142857</td>\n",
       "      <td>0.107143</td>\n",
       "      <td>0.230769</td>\n",
       "      <td>0.391304</td>\n",
       "      <td>0.383452</td>\n",
       "      <td>0.538141</td>\n",
       "      <td>0.117305</td>\n",
       "      <td>0.148755</td>\n",
       "      <td>0.285714</td>\n",
       "      <td>0.939024</td>\n",
       "      <td>0.744761</td>\n",
       "      <td>0.494078</td>\n",
       "    </tr>\n",
       "    <tr>\n",
       "      <th>1225</th>\n",
       "      <td>United Kingdom</td>\n",
       "      <td>1998</td>\n",
       "      <td>0.623936</td>\n",
       "      <td>0.478859</td>\n",
       "      <td>0.694901</td>\n",
       "      <td>0.587361</td>\n",
       "      <td>0.718159</td>\n",
       "      <td>0.000583</td>\n",
       "      <td>0.328228</td>\n",
       "      <td>0.090972</td>\n",
       "      <td>0.337429</td>\n",
       "      <td>0.529412</td>\n",
       "      <td>0.717391</td>\n",
       "      <td>0.771739</td>\n",
       "      <td>0.071429</td>\n",
       "      <td>0.071429</td>\n",
       "      <td>0.153846</td>\n",
       "      <td>0.260870</td>\n",
       "      <td>0.425737</td>\n",
       "      <td>0.535858</td>\n",
       "      <td>0.108304</td>\n",
       "      <td>0.137331</td>\n",
       "      <td>0.285714</td>\n",
       "      <td>0.914634</td>\n",
       "      <td>0.740917</td>\n",
       "      <td>0.732726</td>\n",
       "    </tr>\n",
       "    <tr>\n",
       "      <th>1226</th>\n",
       "      <td>United Kingdom</td>\n",
       "      <td>1999</td>\n",
       "      <td>0.636818</td>\n",
       "      <td>0.511941</td>\n",
       "      <td>0.681922</td>\n",
       "      <td>0.625293</td>\n",
       "      <td>0.590238</td>\n",
       "      <td>0.066315</td>\n",
       "      <td>0.371881</td>\n",
       "      <td>0.000000</td>\n",
       "      <td>0.379169</td>\n",
       "      <td>0.529412</td>\n",
       "      <td>0.739130</td>\n",
       "      <td>0.782609</td>\n",
       "      <td>0.071429</td>\n",
       "      <td>0.035714</td>\n",
       "      <td>0.153846</td>\n",
       "      <td>0.260870</td>\n",
       "      <td>0.306362</td>\n",
       "      <td>0.557883</td>\n",
       "      <td>0.095383</td>\n",
       "      <td>0.124330</td>\n",
       "      <td>0.285714</td>\n",
       "      <td>0.939024</td>\n",
       "      <td>0.747105</td>\n",
       "      <td>0.817534</td>\n",
       "    </tr>\n",
       "    <tr>\n",
       "      <th>1227</th>\n",
       "      <td>United Kingdom</td>\n",
       "      <td>2000</td>\n",
       "      <td>0.645664</td>\n",
       "      <td>0.558214</td>\n",
       "      <td>0.779670</td>\n",
       "      <td>0.679550</td>\n",
       "      <td>0.810821</td>\n",
       "      <td>0.096150</td>\n",
       "      <td>0.414236</td>\n",
       "      <td>0.013950</td>\n",
       "      <td>0.409608</td>\n",
       "      <td>0.000000</td>\n",
       "      <td>1.000000</td>\n",
       "      <td>1.000000</td>\n",
       "      <td>0.000000</td>\n",
       "      <td>0.000000</td>\n",
       "      <td>0.000000</td>\n",
       "      <td>0.000000</td>\n",
       "      <td>0.345539</td>\n",
       "      <td>0.596562</td>\n",
       "      <td>0.078107</td>\n",
       "      <td>0.109439</td>\n",
       "      <td>0.285714</td>\n",
       "      <td>0.853659</td>\n",
       "      <td>0.755693</td>\n",
       "      <td>0.933091</td>\n",
       "    </tr>\n",
       "    <tr>\n",
       "      <th>1228</th>\n",
       "      <td>United Kingdom</td>\n",
       "      <td>2001</td>\n",
       "      <td>0.657257</td>\n",
       "      <td>0.583606</td>\n",
       "      <td>0.604288</td>\n",
       "      <td>0.706240</td>\n",
       "      <td>0.599134</td>\n",
       "      <td>0.196496</td>\n",
       "      <td>0.471423</td>\n",
       "      <td>0.049022</td>\n",
       "      <td>0.406452</td>\n",
       "      <td>0.294118</td>\n",
       "      <td>0.804348</td>\n",
       "      <td>0.836957</td>\n",
       "      <td>0.071429</td>\n",
       "      <td>0.071429</td>\n",
       "      <td>0.115385</td>\n",
       "      <td>0.173913</td>\n",
       "      <td>0.292321</td>\n",
       "      <td>0.624228</td>\n",
       "      <td>0.065767</td>\n",
       "      <td>0.096439</td>\n",
       "      <td>0.285714</td>\n",
       "      <td>0.817073</td>\n",
       "      <td>0.740960</td>\n",
       "      <td>0.873439</td>\n",
       "    </tr>\n",
       "    <tr>\n",
       "      <th>1229</th>\n",
       "      <td>United Kingdom</td>\n",
       "      <td>2002</td>\n",
       "      <td>0.668937</td>\n",
       "      <td>0.604896</td>\n",
       "      <td>0.569246</td>\n",
       "      <td>0.726874</td>\n",
       "      <td>0.595626</td>\n",
       "      <td>0.330916</td>\n",
       "      <td>0.528232</td>\n",
       "      <td>0.262567</td>\n",
       "      <td>0.409992</td>\n",
       "      <td>0.470588</td>\n",
       "      <td>0.630435</td>\n",
       "      <td>0.663043</td>\n",
       "      <td>0.142857</td>\n",
       "      <td>0.178571</td>\n",
       "      <td>0.307692</td>\n",
       "      <td>0.434783</td>\n",
       "      <td>0.221341</td>\n",
       "      <td>0.640881</td>\n",
       "      <td>0.059379</td>\n",
       "      <td>0.088481</td>\n",
       "      <td>0.285714</td>\n",
       "      <td>0.792683</td>\n",
       "      <td>0.760090</td>\n",
       "      <td>0.724442</td>\n",
       "    </tr>\n",
       "    <tr>\n",
       "      <th>1230</th>\n",
       "      <td>United Kingdom</td>\n",
       "      <td>2003</td>\n",
       "      <td>0.679672</td>\n",
       "      <td>0.643109</td>\n",
       "      <td>0.691799</td>\n",
       "      <td>0.768109</td>\n",
       "      <td>0.663299</td>\n",
       "      <td>0.439084</td>\n",
       "      <td>0.592906</td>\n",
       "      <td>0.335337</td>\n",
       "      <td>0.462655</td>\n",
       "      <td>0.588235</td>\n",
       "      <td>0.586957</td>\n",
       "      <td>0.619565</td>\n",
       "      <td>0.214286</td>\n",
       "      <td>0.214286</td>\n",
       "      <td>0.307692</td>\n",
       "      <td>0.478261</td>\n",
       "      <td>0.202103</td>\n",
       "      <td>0.674187</td>\n",
       "      <td>0.066057</td>\n",
       "      <td>0.088008</td>\n",
       "      <td>0.285714</td>\n",
       "      <td>0.817073</td>\n",
       "      <td>0.780985</td>\n",
       "      <td>0.644195</td>\n",
       "    </tr>\n",
       "    <tr>\n",
       "      <th>1231</th>\n",
       "      <td>United Kingdom</td>\n",
       "      <td>2004</td>\n",
       "      <td>0.690664</td>\n",
       "      <td>0.672699</td>\n",
       "      <td>0.621284</td>\n",
       "      <td>0.796353</td>\n",
       "      <td>0.563158</td>\n",
       "      <td>0.530980</td>\n",
       "      <td>0.656595</td>\n",
       "      <td>0.303987</td>\n",
       "      <td>0.571626</td>\n",
       "      <td>0.588235</td>\n",
       "      <td>0.586957</td>\n",
       "      <td>0.630435</td>\n",
       "      <td>0.214286</td>\n",
       "      <td>0.214286</td>\n",
       "      <td>0.307692</td>\n",
       "      <td>0.434783</td>\n",
       "      <td>0.245361</td>\n",
       "      <td>0.707225</td>\n",
       "      <td>0.070703</td>\n",
       "      <td>0.091396</td>\n",
       "      <td>0.000000</td>\n",
       "      <td>0.756098</td>\n",
       "      <td>0.777443</td>\n",
       "      <td>0.757504</td>\n",
       "    </tr>\n",
       "    <tr>\n",
       "      <th>1232</th>\n",
       "      <td>United Kingdom</td>\n",
       "      <td>2005</td>\n",
       "      <td>0.707411</td>\n",
       "      <td>0.707158</td>\n",
       "      <td>0.650590</td>\n",
       "      <td>0.828377</td>\n",
       "      <td>0.642109</td>\n",
       "      <td>0.562871</td>\n",
       "      <td>0.694484</td>\n",
       "      <td>0.386031</td>\n",
       "      <td>0.669012</td>\n",
       "      <td>0.529412</td>\n",
       "      <td>0.641304</td>\n",
       "      <td>0.673913</td>\n",
       "      <td>0.142857</td>\n",
       "      <td>0.142857</td>\n",
       "      <td>0.269231</td>\n",
       "      <td>0.434783</td>\n",
       "      <td>0.262364</td>\n",
       "      <td>0.740532</td>\n",
       "      <td>0.068961</td>\n",
       "      <td>0.090451</td>\n",
       "      <td>0.285714</td>\n",
       "      <td>0.878049</td>\n",
       "      <td>0.761301</td>\n",
       "      <td>0.819807</td>\n",
       "    </tr>\n",
       "    <tr>\n",
       "      <th>1233</th>\n",
       "      <td>United Kingdom</td>\n",
       "      <td>2006</td>\n",
       "      <td>0.727506</td>\n",
       "      <td>0.735802</td>\n",
       "      <td>0.604558</td>\n",
       "      <td>0.851835</td>\n",
       "      <td>0.443811</td>\n",
       "      <td>0.594089</td>\n",
       "      <td>0.728109</td>\n",
       "      <td>0.404133</td>\n",
       "      <td>0.839026</td>\n",
       "      <td>0.411765</td>\n",
       "      <td>0.695652</td>\n",
       "      <td>0.728261</td>\n",
       "      <td>0.142857</td>\n",
       "      <td>0.142857</td>\n",
       "      <td>0.269231</td>\n",
       "      <td>0.347826</td>\n",
       "      <td>0.261705</td>\n",
       "      <td>0.762557</td>\n",
       "      <td>0.073897</td>\n",
       "      <td>0.089584</td>\n",
       "      <td>0.285714</td>\n",
       "      <td>0.853659</td>\n",
       "      <td>0.758113</td>\n",
       "      <td>0.872823</td>\n",
       "    </tr>\n",
       "    <tr>\n",
       "      <th>1234</th>\n",
       "      <td>United Kingdom</td>\n",
       "      <td>2007</td>\n",
       "      <td>0.747516</td>\n",
       "      <td>0.770524</td>\n",
       "      <td>0.641085</td>\n",
       "      <td>0.881616</td>\n",
       "      <td>0.563872</td>\n",
       "      <td>0.571906</td>\n",
       "      <td>0.750212</td>\n",
       "      <td>0.377673</td>\n",
       "      <td>1.000000</td>\n",
       "      <td>0.764706</td>\n",
       "      <td>0.500000</td>\n",
       "      <td>0.565217</td>\n",
       "      <td>0.142857</td>\n",
       "      <td>0.178571</td>\n",
       "      <td>0.346154</td>\n",
       "      <td>0.565217</td>\n",
       "      <td>0.316753</td>\n",
       "      <td>0.784582</td>\n",
       "      <td>0.076800</td>\n",
       "      <td>0.090923</td>\n",
       "      <td>0.285714</td>\n",
       "      <td>0.914634</td>\n",
       "      <td>0.742431</td>\n",
       "      <td>0.913602</td>\n",
       "    </tr>\n",
       "    <tr>\n",
       "      <th>1235</th>\n",
       "      <td>United Kingdom</td>\n",
       "      <td>2008</td>\n",
       "      <td>0.777745</td>\n",
       "      <td>0.768380</td>\n",
       "      <td>0.394781</td>\n",
       "      <td>0.865552</td>\n",
       "      <td>0.325231</td>\n",
       "      <td>0.679872</td>\n",
       "      <td>0.784116</td>\n",
       "      <td>0.367875</td>\n",
       "      <td>0.963014</td>\n",
       "      <td>0.588235</td>\n",
       "      <td>0.619565</td>\n",
       "      <td>0.663043</td>\n",
       "      <td>0.142857</td>\n",
       "      <td>0.142857</td>\n",
       "      <td>0.269231</td>\n",
       "      <td>0.434783</td>\n",
       "      <td>0.264048</td>\n",
       "      <td>0.801236</td>\n",
       "      <td>0.075203</td>\n",
       "      <td>0.089978</td>\n",
       "      <td>0.285714</td>\n",
       "      <td>0.878049</td>\n",
       "      <td>0.682396</td>\n",
       "      <td>1.000000</td>\n",
       "    </tr>\n",
       "    <tr>\n",
       "      <th>1236</th>\n",
       "      <td>United Kingdom</td>\n",
       "      <td>2009</td>\n",
       "      <td>0.795179</td>\n",
       "      <td>0.705816</td>\n",
       "      <td>0.000000</td>\n",
       "      <td>0.776733</td>\n",
       "      <td>0.000000</td>\n",
       "      <td>0.929203</td>\n",
       "      <td>0.807903</td>\n",
       "      <td>0.434137</td>\n",
       "      <td>0.636339</td>\n",
       "      <td>0.588235</td>\n",
       "      <td>0.597826</td>\n",
       "      <td>0.641304</td>\n",
       "      <td>0.142857</td>\n",
       "      <td>0.178571</td>\n",
       "      <td>0.307692</td>\n",
       "      <td>0.434783</td>\n",
       "      <td>0.009161</td>\n",
       "      <td>0.850927</td>\n",
       "      <td>0.064024</td>\n",
       "      <td>0.082650</td>\n",
       "      <td>0.285714</td>\n",
       "      <td>0.792683</td>\n",
       "      <td>0.743097</td>\n",
       "      <td>0.568859</td>\n",
       "    </tr>\n",
       "    <tr>\n",
       "      <th>1237</th>\n",
       "      <td>United Kingdom</td>\n",
       "      <td>2010</td>\n",
       "      <td>0.817765</td>\n",
       "      <td>0.738002</td>\n",
       "      <td>0.628997</td>\n",
       "      <td>0.802971</td>\n",
       "      <td>0.682937</td>\n",
       "      <td>0.857741</td>\n",
       "      <td>0.810573</td>\n",
       "      <td>0.689541</td>\n",
       "      <td>0.669236</td>\n",
       "      <td>0.647059</td>\n",
       "      <td>0.489130</td>\n",
       "      <td>0.532609</td>\n",
       "      <td>0.285714</td>\n",
       "      <td>0.285714</td>\n",
       "      <td>0.423077</td>\n",
       "      <td>0.565217</td>\n",
       "      <td>0.000000</td>\n",
       "      <td>0.889605</td>\n",
       "      <td>0.060685</td>\n",
       "      <td>0.073747</td>\n",
       "      <td>0.285714</td>\n",
       "      <td>0.695122</td>\n",
       "      <td>0.749386</td>\n",
       "      <td>0.771631</td>\n",
       "    </tr>\n",
       "    <tr>\n",
       "      <th>1238</th>\n",
       "      <td>United Kingdom</td>\n",
       "      <td>2011</td>\n",
       "      <td>0.853576</td>\n",
       "      <td>0.752487</td>\n",
       "      <td>0.505522</td>\n",
       "      <td>0.807565</td>\n",
       "      <td>0.508659</td>\n",
       "      <td>0.764883</td>\n",
       "      <td>0.813729</td>\n",
       "      <td>0.644926</td>\n",
       "      <td>0.767679</td>\n",
       "      <td>0.764706</td>\n",
       "      <td>0.434783</td>\n",
       "      <td>0.478261</td>\n",
       "      <td>0.357143</td>\n",
       "      <td>0.321429</td>\n",
       "      <td>0.461538</td>\n",
       "      <td>0.608696</td>\n",
       "      <td>0.000000</td>\n",
       "      <td>0.950040</td>\n",
       "      <td>0.052120</td>\n",
       "      <td>0.065474</td>\n",
       "      <td>0.285714</td>\n",
       "      <td>0.731707</td>\n",
       "      <td>0.750685</td>\n",
       "      <td>0.880771</td>\n",
       "    </tr>\n",
       "    <tr>\n",
       "      <th>1239</th>\n",
       "      <td>United Kingdom</td>\n",
       "      <td>2012</td>\n",
       "      <td>0.878395</td>\n",
       "      <td>0.772348</td>\n",
       "      <td>0.540036</td>\n",
       "      <td>0.819792</td>\n",
       "      <td>0.386004</td>\n",
       "      <td>0.741542</td>\n",
       "      <td>0.837534</td>\n",
       "      <td>0.685994</td>\n",
       "      <td>0.754182</td>\n",
       "      <td>0.764706</td>\n",
       "      <td>0.402174</td>\n",
       "      <td>0.467391</td>\n",
       "      <td>0.285714</td>\n",
       "      <td>0.321429</td>\n",
       "      <td>0.461538</td>\n",
       "      <td>0.608696</td>\n",
       "      <td>0.000000</td>\n",
       "      <td>0.944937</td>\n",
       "      <td>0.043554</td>\n",
       "      <td>0.056413</td>\n",
       "      <td>0.285714</td>\n",
       "      <td>0.695122</td>\n",
       "      <td>0.750170</td>\n",
       "      <td>0.749435</td>\n",
       "    </tr>\n",
       "    <tr>\n",
       "      <th>1240</th>\n",
       "      <td>United Kingdom</td>\n",
       "      <td>2013</td>\n",
       "      <td>0.901067</td>\n",
       "      <td>0.797663</td>\n",
       "      <td>0.573696</td>\n",
       "      <td>0.838634</td>\n",
       "      <td>0.463946</td>\n",
       "      <td>0.637934</td>\n",
       "      <td>0.836755</td>\n",
       "      <td>0.620770</td>\n",
       "      <td>0.774333</td>\n",
       "      <td>0.941176</td>\n",
       "      <td>0.369565</td>\n",
       "      <td>0.423913</td>\n",
       "      <td>0.357143</td>\n",
       "      <td>0.357143</td>\n",
       "      <td>0.461538</td>\n",
       "      <td>0.652174</td>\n",
       "      <td>0.000000</td>\n",
       "      <td>0.955950</td>\n",
       "      <td>0.023084</td>\n",
       "      <td>0.043728</td>\n",
       "      <td>0.000000</td>\n",
       "      <td>0.695122</td>\n",
       "      <td>0.775892</td>\n",
       "      <td>0.751821</td>\n",
       "    </tr>\n",
       "    <tr>\n",
       "      <th>1241</th>\n",
       "      <td>United Kingdom</td>\n",
       "      <td>2014</td>\n",
       "      <td>0.915753</td>\n",
       "      <td>0.842983</td>\n",
       "      <td>0.698745</td>\n",
       "      <td>0.879456</td>\n",
       "      <td>0.668833</td>\n",
       "      <td>0.597954</td>\n",
       "      <td>0.874608</td>\n",
       "      <td>0.646942</td>\n",
       "      <td>0.806115</td>\n",
       "      <td>0.882353</td>\n",
       "      <td>0.402174</td>\n",
       "      <td>0.456522</td>\n",
       "      <td>0.285714</td>\n",
       "      <td>0.285714</td>\n",
       "      <td>0.461538</td>\n",
       "      <td>0.652174</td>\n",
       "      <td>0.000000</td>\n",
       "      <td>0.988987</td>\n",
       "      <td>0.016260</td>\n",
       "      <td>0.032540</td>\n",
       "      <td>0.000000</td>\n",
       "      <td>0.792683</td>\n",
       "      <td>0.767169</td>\n",
       "      <td>0.706006</td>\n",
       "    </tr>\n",
       "    <tr>\n",
       "      <th>1242</th>\n",
       "      <td>United Kingdom</td>\n",
       "      <td>2015</td>\n",
       "      <td>0.919531</td>\n",
       "      <td>0.877963</td>\n",
       "      <td>0.625646</td>\n",
       "      <td>0.906593</td>\n",
       "      <td>0.558139</td>\n",
       "      <td>0.539179</td>\n",
       "      <td>0.895937</td>\n",
       "      <td>0.626244</td>\n",
       "      <td>0.737264</td>\n",
       "      <td>0.941176</td>\n",
       "      <td>0.413043</td>\n",
       "      <td>0.456522</td>\n",
       "      <td>0.285714</td>\n",
       "      <td>0.285714</td>\n",
       "      <td>0.423077</td>\n",
       "      <td>0.652174</td>\n",
       "      <td>0.439931</td>\n",
       "      <td>0.950577</td>\n",
       "      <td>0.016841</td>\n",
       "      <td>0.028207</td>\n",
       "      <td>0.285714</td>\n",
       "      <td>0.792683</td>\n",
       "      <td>0.784368</td>\n",
       "      <td>0.730010</td>\n",
       "    </tr>\n",
       "    <tr>\n",
       "      <th>1243</th>\n",
       "      <td>United Kingdom</td>\n",
       "      <td>2016</td>\n",
       "      <td>0.929923</td>\n",
       "      <td>0.910369</td>\n",
       "      <td>0.604993</td>\n",
       "      <td>0.930836</td>\n",
       "      <td>0.559913</td>\n",
       "      <td>0.480730</td>\n",
       "      <td>0.909967</td>\n",
       "      <td>0.569251</td>\n",
       "      <td>0.701527</td>\n",
       "      <td>0.882353</td>\n",
       "      <td>0.391304</td>\n",
       "      <td>0.434783</td>\n",
       "      <td>0.214286</td>\n",
       "      <td>0.250000</td>\n",
       "      <td>0.461538</td>\n",
       "      <td>0.739130</td>\n",
       "      <td>0.439931</td>\n",
       "      <td>0.972603</td>\n",
       "      <td>0.018728</td>\n",
       "      <td>0.025292</td>\n",
       "      <td>0.285714</td>\n",
       "      <td>0.817073</td>\n",
       "      <td>0.761199</td>\n",
       "      <td>0.795340</td>\n",
       "    </tr>\n",
       "    <tr>\n",
       "      <th>1244</th>\n",
       "      <td>United Kingdom</td>\n",
       "      <td>2017</td>\n",
       "      <td>0.956545</td>\n",
       "      <td>0.947733</td>\n",
       "      <td>0.630220</td>\n",
       "      <td>0.961697</td>\n",
       "      <td>0.723895</td>\n",
       "      <td>0.398495</td>\n",
       "      <td>0.917702</td>\n",
       "      <td>0.573219</td>\n",
       "      <td>0.740533</td>\n",
       "      <td>1.000000</td>\n",
       "      <td>0.326087</td>\n",
       "      <td>0.391304</td>\n",
       "      <td>0.214286</td>\n",
       "      <td>0.285714</td>\n",
       "      <td>0.538462</td>\n",
       "      <td>0.782609</td>\n",
       "      <td>0.439931</td>\n",
       "      <td>0.983615</td>\n",
       "      <td>0.014518</td>\n",
       "      <td>0.019382</td>\n",
       "      <td>0.285714</td>\n",
       "      <td>0.853659</td>\n",
       "      <td>0.709286</td>\n",
       "      <td>0.834603</td>\n",
       "    </tr>\n",
       "    <tr>\n",
       "      <th>1245</th>\n",
       "      <td>United Kingdom</td>\n",
       "      <td>2018</td>\n",
       "      <td>0.981021</td>\n",
       "      <td>0.974441</td>\n",
       "      <td>0.563288</td>\n",
       "      <td>0.981267</td>\n",
       "      <td>0.505982</td>\n",
       "      <td>0.375755</td>\n",
       "      <td>0.923664</td>\n",
       "      <td>0.484103</td>\n",
       "      <td>0.834168</td>\n",
       "      <td>0.882353</td>\n",
       "      <td>0.423913</td>\n",
       "      <td>0.489130</td>\n",
       "      <td>0.142857</td>\n",
       "      <td>0.214286</td>\n",
       "      <td>0.423077</td>\n",
       "      <td>0.652174</td>\n",
       "      <td>0.439931</td>\n",
       "      <td>0.983615</td>\n",
       "      <td>0.007695</td>\n",
       "      <td>0.010006</td>\n",
       "      <td>0.285714</td>\n",
       "      <td>0.817073</td>\n",
       "      <td>0.686079</td>\n",
       "      <td>0.819554</td>\n",
       "    </tr>\n",
       "    <tr>\n",
       "      <th>1246</th>\n",
       "      <td>United Kingdom</td>\n",
       "      <td>2019</td>\n",
       "      <td>1.000000</td>\n",
       "      <td>1.000000</td>\n",
       "      <td>0.554161</td>\n",
       "      <td>1.000000</td>\n",
       "      <td>0.648898</td>\n",
       "      <td>0.461837</td>\n",
       "      <td>1.000000</td>\n",
       "      <td>0.500431</td>\n",
       "      <td>0.805068</td>\n",
       "      <td>1.000000</td>\n",
       "      <td>0.347826</td>\n",
       "      <td>0.391304</td>\n",
       "      <td>0.142857</td>\n",
       "      <td>0.214286</td>\n",
       "      <td>0.500000</td>\n",
       "      <td>0.826087</td>\n",
       "      <td>0.439931</td>\n",
       "      <td>1.000000</td>\n",
       "      <td>0.000000</td>\n",
       "      <td>0.000000</td>\n",
       "      <td>0.285714</td>\n",
       "      <td>0.914634</td>\n",
       "      <td>0.697819</td>\n",
       "      <td>0.739221</td>\n",
       "    </tr>\n",
       "  </tbody>\n",
       "</table>\n",
       "</div>"
      ],
      "text/plain": [
       "        Country Name  Year  Consumer price index (2010 = 100)  \\\n",
       "1200  United Kingdom  1973                           0.000000   \n",
       "1201  United Kingdom  1974                           0.017798   \n",
       "1202  United Kingdom  1975                           0.048959   \n",
       "1203  United Kingdom  1976                           0.075436   \n",
       "1204  United Kingdom  1977                           0.104957   \n",
       "1205  United Kingdom  1978                           0.122796   \n",
       "1206  United Kingdom  1979                           0.154164   \n",
       "1207  United Kingdom  1980                           0.201791   \n",
       "1208  United Kingdom  1981                           0.238932   \n",
       "1209  United Kingdom  1982                           0.269016   \n",
       "1210  United Kingdom  1983                           0.286529   \n",
       "1211  United Kingdom  1984                           0.306245   \n",
       "1212  United Kingdom  1985                           0.331574   \n",
       "1213  United Kingdom  1986                           0.346741   \n",
       "1214  United Kingdom  1987                           0.365729   \n",
       "1215  United Kingdom  1988                           0.385536   \n",
       "1216  United Kingdom  1989                           0.414134   \n",
       "1217  United Kingdom  1990                           0.456472   \n",
       "1218  United Kingdom  1991                           0.498811   \n",
       "1219  United Kingdom  1992                           0.526807   \n",
       "1220  United Kingdom  1993                           0.543124   \n",
       "1221  United Kingdom  1994                           0.557638   \n",
       "1222  United Kingdom  1995                           0.575672   \n",
       "1223  United Kingdom  1996                           0.595253   \n",
       "1224  United Kingdom  1997                           0.610797   \n",
       "1225  United Kingdom  1998                           0.623936   \n",
       "1226  United Kingdom  1999                           0.636818   \n",
       "1227  United Kingdom  2000                           0.645664   \n",
       "1228  United Kingdom  2001                           0.657257   \n",
       "1229  United Kingdom  2002                           0.668937   \n",
       "1230  United Kingdom  2003                           0.679672   \n",
       "1231  United Kingdom  2004                           0.690664   \n",
       "1232  United Kingdom  2005                           0.707411   \n",
       "1233  United Kingdom  2006                           0.727506   \n",
       "1234  United Kingdom  2007                           0.747516   \n",
       "1235  United Kingdom  2008                           0.777745   \n",
       "1236  United Kingdom  2009                           0.795179   \n",
       "1237  United Kingdom  2010                           0.817765   \n",
       "1238  United Kingdom  2011                           0.853576   \n",
       "1239  United Kingdom  2012                           0.878395   \n",
       "1240  United Kingdom  2013                           0.901067   \n",
       "1241  United Kingdom  2014                           0.915753   \n",
       "1242  United Kingdom  2015                           0.919531   \n",
       "1243  United Kingdom  2016                           0.929923   \n",
       "1244  United Kingdom  2017                           0.956545   \n",
       "1245  United Kingdom  2018                           0.981021   \n",
       "1246  United Kingdom  2019                           1.000000   \n",
       "\n",
       "      GDP (constant 2015 US$)  GDP growth (annual %)  \\\n",
       "1200                 0.025253               1.000000   \n",
       "1201                 0.009254               0.183616   \n",
       "1202                 0.000000               0.275217   \n",
       "1203                 0.018006               0.672515   \n",
       "1204                 0.033655               0.631505   \n",
       "1205                 0.061082               0.789785   \n",
       "1206                 0.086567               0.748527   \n",
       "1207                 0.072241               0.224673   \n",
       "1208                 0.066798               0.337378   \n",
       "1209                 0.080473               0.589558   \n",
       "1210                 0.109991               0.791379   \n",
       "1211                 0.126526               0.614409   \n",
       "1212                 0.157434               0.784633   \n",
       "1213                 0.181885               0.694272   \n",
       "1214                 0.225059               0.897492   \n",
       "1215                 0.273427               0.928275   \n",
       "1216                 0.296423               0.642367   \n",
       "1217                 0.303138               0.475266   \n",
       "1218                 0.292969               0.308797   \n",
       "1219                 0.296625               0.445117   \n",
       "1220                 0.319416               0.634412   \n",
       "1221                 0.355496               0.757318   \n",
       "1222                 0.380159               0.638204   \n",
       "1223                 0.399215               0.581657   \n",
       "1224                 0.445267               0.818767   \n",
       "1225                 0.478859               0.694901   \n",
       "1226                 0.511941               0.681922   \n",
       "1227                 0.558214               0.779670   \n",
       "1228                 0.583606               0.604288   \n",
       "1229                 0.604896               0.569246   \n",
       "1230                 0.643109               0.691799   \n",
       "1231                 0.672699               0.621284   \n",
       "1232                 0.707158               0.650590   \n",
       "1233                 0.735802               0.604558   \n",
       "1234                 0.770524               0.641085   \n",
       "1235                 0.768380               0.394781   \n",
       "1236                 0.705816               0.000000   \n",
       "1237                 0.738002               0.628997   \n",
       "1238                 0.752487               0.505522   \n",
       "1239                 0.772348               0.540036   \n",
       "1240                 0.797663               0.573696   \n",
       "1241                 0.842983               0.698745   \n",
       "1242                 0.877963               0.625646   \n",
       "1243                 0.910369               0.604993   \n",
       "1244                 0.947733               0.630220   \n",
       "1245                 0.974441               0.563288   \n",
       "1246                 1.000000               0.554161   \n",
       "\n",
       "      GDP per capita (constant 2015 US$)  GNI growth (annual %)  \\\n",
       "1200                            0.034468               1.000000   \n",
       "1201                            0.012392               0.145036   \n",
       "1202                            0.000000               0.211490   \n",
       "1203                            0.024444               0.650496   \n",
       "1204                            0.045799               0.554871   \n",
       "1205                            0.082684               0.775602   \n",
       "1206                            0.116150               0.702272   \n",
       "1207                            0.095765               0.164082   \n",
       "1208                            0.088131               0.307796   \n",
       "1209                            0.106837               0.550381   \n",
       "1210                            0.146168               0.796473   \n",
       "1211                            0.166796               0.596235   \n",
       "1212                            0.205890               0.730616   \n",
       "1213                            0.236130               0.693977   \n",
       "1214                            0.291376               0.862346   \n",
       "1215                            0.353176               0.911862   \n",
       "1216                            0.380580               0.600144   \n",
       "1217                            0.385834               0.424924   \n",
       "1218                            0.368672               0.279685   \n",
       "1219                            0.370233               0.437715   \n",
       "1220                            0.397231               0.596218   \n",
       "1221                            0.441287               0.763480   \n",
       "1222                            0.470088               0.587719   \n",
       "1223                            0.491565               0.557198   \n",
       "1224                            0.547915               0.806781   \n",
       "1225                            0.587361               0.718159   \n",
       "1226                            0.625293               0.590238   \n",
       "1227                            0.679550               0.810821   \n",
       "1228                            0.706240               0.599134   \n",
       "1229                            0.726874               0.595626   \n",
       "1230                            0.768109               0.663299   \n",
       "1231                            0.796353               0.563158   \n",
       "1232                            0.828377               0.642109   \n",
       "1233                            0.851835               0.443811   \n",
       "1234                            0.881616               0.563872   \n",
       "1235                            0.865552               0.325231   \n",
       "1236                            0.776733               0.000000   \n",
       "1237                            0.802971               0.682937   \n",
       "1238                            0.807565               0.508659   \n",
       "1239                            0.819792               0.386004   \n",
       "1240                            0.838634               0.463946   \n",
       "1241                            0.879456               0.668833   \n",
       "1242                            0.906593               0.558139   \n",
       "1243                            0.930836               0.559913   \n",
       "1244                            0.961697               0.723895   \n",
       "1245                            0.981267               0.505982   \n",
       "1246                            1.000000               0.648898   \n",
       "\n",
       "      General government final consumption expenditure (% of GDP)  \\\n",
       "1200                                           0.345362             \n",
       "1201                                           0.642247             \n",
       "1202                                           1.000000             \n",
       "1203                                           0.959474             \n",
       "1204                                           0.740865             \n",
       "1205                                           0.660567             \n",
       "1206                                           0.596828             \n",
       "1207                                           0.822941             \n",
       "1208                                           0.892271             \n",
       "1209                                           0.871804             \n",
       "1210                                           0.836334             \n",
       "1211                                           0.789528             \n",
       "1212                                           0.665986             \n",
       "1213                                           0.661664             \n",
       "1214                                           0.550593             \n",
       "1215                                           0.428152             \n",
       "1216                                           0.361696             \n",
       "1217                                           0.393470             \n",
       "1218                                           0.527907             \n",
       "1219                                           0.603057             \n",
       "1220                                           0.494464             \n",
       "1221                                           0.439115             \n",
       "1222                                           0.153542             \n",
       "1223                                           0.084126             \n",
       "1224                                           0.000000             \n",
       "1225                                           0.000583             \n",
       "1226                                           0.066315             \n",
       "1227                                           0.096150             \n",
       "1228                                           0.196496             \n",
       "1229                                           0.330916             \n",
       "1230                                           0.439084             \n",
       "1231                                           0.530980             \n",
       "1232                                           0.562871             \n",
       "1233                                           0.594089             \n",
       "1234                                           0.571906             \n",
       "1235                                           0.679872             \n",
       "1236                                           0.929203             \n",
       "1237                                           0.857741             \n",
       "1238                                           0.764883             \n",
       "1239                                           0.741542             \n",
       "1240                                           0.637934             \n",
       "1241                                           0.597954             \n",
       "1242                                           0.539179             \n",
       "1243                                           0.480730             \n",
       "1244                                           0.398495             \n",
       "1245                                           0.375755             \n",
       "1246                                           0.461837             \n",
       "\n",
       "      General government final consumption expenditure (constant 2015 US$)  \\\n",
       "1200                                           0.000000                      \n",
       "1201                                           0.018320                      \n",
       "1202                                           0.071579                      \n",
       "1203                                           0.089364                      \n",
       "1204                                           0.075288                      \n",
       "1205                                           0.093131                      \n",
       "1206                                           0.109453                      \n",
       "1207                                           0.125442                      \n",
       "1208                                           0.127764                      \n",
       "1209                                           0.135325                      \n",
       "1210                                           0.153803                      \n",
       "1211                                           0.166974                      \n",
       "1212                                           0.163418                      \n",
       "1213                                           0.179051                      \n",
       "1214                                           0.178121                      \n",
       "1215                                           0.179829                      \n",
       "1216                                           0.190332                      \n",
       "1217                                           0.214590                      \n",
       "1218                                           0.248636                      \n",
       "1219                                           0.257245                      \n",
       "1220                                           0.249222                      \n",
       "1221                                           0.261497                      \n",
       "1222                                           0.276868                      \n",
       "1223                                           0.284968                      \n",
       "1224                                           0.282365                      \n",
       "1225                                           0.328228                      \n",
       "1226                                           0.371881                      \n",
       "1227                                           0.414236                      \n",
       "1228                                           0.471423                      \n",
       "1229                                           0.528232                      \n",
       "1230                                           0.592906                      \n",
       "1231                                           0.656595                      \n",
       "1232                                           0.694484                      \n",
       "1233                                           0.728109                      \n",
       "1234                                           0.750212                      \n",
       "1235                                           0.784116                      \n",
       "1236                                           0.807903                      \n",
       "1237                                           0.810573                      \n",
       "1238                                           0.813729                      \n",
       "1239                                           0.837534                      \n",
       "1240                                           0.836755                      \n",
       "1241                                           0.874608                      \n",
       "1242                                           0.895937                      \n",
       "1243                                           0.909967                      \n",
       "1244                                           0.917702                      \n",
       "1245                                           0.923664                      \n",
       "1246                                           1.000000                      \n",
       "\n",
       "      Government expenditure on education, total (% of GDP)  \\\n",
       "1200                                           0.599345       \n",
       "1201                                           0.575687       \n",
       "1202                                           0.936165       \n",
       "1203                                           1.000000       \n",
       "1204                                           0.851801       \n",
       "1205                                           0.398481       \n",
       "1206                                           0.398481       \n",
       "1207                                           0.443910       \n",
       "1208                                           0.533560       \n",
       "1209                                           0.492608       \n",
       "1210                                           0.440371       \n",
       "1211                                           0.373661       \n",
       "1212                                           0.248419       \n",
       "1213                                           0.160843       \n",
       "1214                                           0.157135       \n",
       "1215                                           0.114631       \n",
       "1216                                           0.055823       \n",
       "1217                                           0.027244       \n",
       "1218                                           0.054742       \n",
       "1219                                           0.141809       \n",
       "1220                                           0.398481       \n",
       "1221                                           0.353855       \n",
       "1222                                           0.349103       \n",
       "1223                                           0.156868       \n",
       "1224                                           0.398481       \n",
       "1225                                           0.090972       \n",
       "1226                                           0.000000       \n",
       "1227                                           0.013950       \n",
       "1228                                           0.049022       \n",
       "1229                                           0.262567       \n",
       "1230                                           0.335337       \n",
       "1231                                           0.303987       \n",
       "1232                                           0.386031       \n",
       "1233                                           0.404133       \n",
       "1234                                           0.377673       \n",
       "1235                                           0.367875       \n",
       "1236                                           0.434137       \n",
       "1237                                           0.689541       \n",
       "1238                                           0.644926       \n",
       "1239                                           0.685994       \n",
       "1240                                           0.620770       \n",
       "1241                                           0.646942       \n",
       "1242                                           0.626244       \n",
       "1243                                           0.569251       \n",
       "1244                                           0.573219       \n",
       "1245                                           0.484103       \n",
       "1246                                           0.500431       \n",
       "\n",
       "      Imports of goods, services and primary income (BoP, current US$)  \\\n",
       "1200                                           0.000000                  \n",
       "1201                                           0.013220                  \n",
       "1202                                           0.014509                  \n",
       "1203                                           0.015595                  \n",
       "1204                                           0.023043                  \n",
       "1205                                           0.035427                  \n",
       "1206                                           0.064935                  \n",
       "1207                                           0.092011                  \n",
       "1208                                           0.094861                  \n",
       "1209                                           0.095037                  \n",
       "1210                                           0.083800                  \n",
       "1211                                           0.089643                  \n",
       "1212                                           0.093394                  \n",
       "1213                                           0.106634                  \n",
       "1214                                           0.139589                  \n",
       "1215                                           0.181064                  \n",
       "1216                                           0.204575                  \n",
       "1217                                           0.242129                  \n",
       "1218                                           0.229284                  \n",
       "1219                                           0.225116                  \n",
       "1220                                           0.211923                  \n",
       "1221                                           0.231098                  \n",
       "1222                                           0.278739                  \n",
       "1223                                           0.303593                  \n",
       "1224                                           0.326786                  \n",
       "1225                                           0.337429                  \n",
       "1226                                           0.379169                  \n",
       "1227                                           0.409608                  \n",
       "1228                                           0.406452                  \n",
       "1229                                           0.409992                  \n",
       "1230                                           0.462655                  \n",
       "1231                                           0.571626                  \n",
       "1232                                           0.669012                  \n",
       "1233                                           0.839026                  \n",
       "1234                                           1.000000                  \n",
       "1235                                           0.963014                  \n",
       "1236                                           0.636339                  \n",
       "1237                                           0.669236                  \n",
       "1238                                           0.767679                  \n",
       "1239                                           0.754182                  \n",
       "1240                                           0.774333                  \n",
       "1241                                           0.806115                  \n",
       "1242                                           0.737264                  \n",
       "1243                                           0.701527                  \n",
       "1244                                           0.740533                  \n",
       "1245                                           0.834168                  \n",
       "1246                                           0.805068                  \n",
       "\n",
       "      Income share held by fourth 20%  Income share held by highest 10%  \\\n",
       "1200                         0.705882                          0.152174   \n",
       "1201                         0.705882                          0.173913   \n",
       "1202                         0.764706                          0.076087   \n",
       "1203                         0.882353                          0.032609   \n",
       "1204                         0.823529                          0.010870   \n",
       "1205                         0.941176                          0.000000   \n",
       "1206                         0.882353                          0.010870   \n",
       "1207                         0.764706                          0.108696   \n",
       "1208                         0.764706                          0.184783   \n",
       "1209                         0.764706                          0.195652   \n",
       "1210                         0.764706                          0.184783   \n",
       "1211                         0.882353                          0.141304   \n",
       "1212                         0.882353                          0.206522   \n",
       "1213                         0.705882                          0.369565   \n",
       "1214                         0.529412                          0.521739   \n",
       "1215                         0.529412                          0.543478   \n",
       "1216                         0.941176                          0.413043   \n",
       "1217                         0.823529                          0.608696   \n",
       "1218                         0.823529                          0.521739   \n",
       "1219                         0.823529                          0.510870   \n",
       "1220                         0.882353                          0.532609   \n",
       "1221                         0.647059                          0.641304   \n",
       "1222                         0.705882                          0.586957   \n",
       "1223                         0.705882                          0.576087   \n",
       "1224                         0.705882                          0.619565   \n",
       "1225                         0.529412                          0.717391   \n",
       "1226                         0.529412                          0.739130   \n",
       "1227                         0.000000                          1.000000   \n",
       "1228                         0.294118                          0.804348   \n",
       "1229                         0.470588                          0.630435   \n",
       "1230                         0.588235                          0.586957   \n",
       "1231                         0.588235                          0.586957   \n",
       "1232                         0.529412                          0.641304   \n",
       "1233                         0.411765                          0.695652   \n",
       "1234                         0.764706                          0.500000   \n",
       "1235                         0.588235                          0.619565   \n",
       "1236                         0.588235                          0.597826   \n",
       "1237                         0.647059                          0.489130   \n",
       "1238                         0.764706                          0.434783   \n",
       "1239                         0.764706                          0.402174   \n",
       "1240                         0.941176                          0.369565   \n",
       "1241                         0.882353                          0.402174   \n",
       "1242                         0.941176                          0.413043   \n",
       "1243                         0.882353                          0.391304   \n",
       "1244                         1.000000                          0.326087   \n",
       "1245                         0.882353                          0.423913   \n",
       "1246                         1.000000                          0.347826   \n",
       "\n",
       "      Income share held by highest 20%  Income share held by lowest 10%  \\\n",
       "1200                          0.173913                         1.000000   \n",
       "1201                          0.173913                         0.857143   \n",
       "1202                          0.076087                         0.928571   \n",
       "1203                          0.054348                         1.000000   \n",
       "1204                          0.010870                         1.000000   \n",
       "1205                          0.000000                         0.928571   \n",
       "1206                          0.043478                         1.000000   \n",
       "1207                          0.130435                         0.857143   \n",
       "1208                          0.217391                         0.714286   \n",
       "1209                          0.239130                         0.714286   \n",
       "1210                          0.228261                         0.714286   \n",
       "1211                          0.152174                         0.714286   \n",
       "1212                          0.271739                         0.642857   \n",
       "1213                          0.391304                         0.500000   \n",
       "1214                          0.576087                         0.428571   \n",
       "1215                          0.608696                         0.357143   \n",
       "1216                          0.489130                         0.285714   \n",
       "1217                          0.684783                         0.142857   \n",
       "1218                          0.619565                         0.142857   \n",
       "1219                          0.619565                         0.142857   \n",
       "1220                          0.619565                         0.142857   \n",
       "1221                          0.717391                         0.142857   \n",
       "1222                          0.673913                         0.142857   \n",
       "1223                          0.652174                         0.142857   \n",
       "1224                          0.684783                         0.142857   \n",
       "1225                          0.771739                         0.071429   \n",
       "1226                          0.782609                         0.071429   \n",
       "1227                          1.000000                         0.000000   \n",
       "1228                          0.836957                         0.071429   \n",
       "1229                          0.663043                         0.142857   \n",
       "1230                          0.619565                         0.214286   \n",
       "1231                          0.630435                         0.214286   \n",
       "1232                          0.673913                         0.142857   \n",
       "1233                          0.728261                         0.142857   \n",
       "1234                          0.565217                         0.142857   \n",
       "1235                          0.663043                         0.142857   \n",
       "1236                          0.641304                         0.142857   \n",
       "1237                          0.532609                         0.285714   \n",
       "1238                          0.478261                         0.357143   \n",
       "1239                          0.467391                         0.285714   \n",
       "1240                          0.423913                         0.357143   \n",
       "1241                          0.456522                         0.285714   \n",
       "1242                          0.456522                         0.285714   \n",
       "1243                          0.434783                         0.214286   \n",
       "1244                          0.391304                         0.214286   \n",
       "1245                          0.489130                         0.142857   \n",
       "1246                          0.391304                         0.142857   \n",
       "\n",
       "      Income share held by lowest 20%  Income share held by second 20%  \\\n",
       "1200                         0.928571                         0.807692   \n",
       "1201                         0.857143                         0.884615   \n",
       "1202                         0.928571                         0.961538   \n",
       "1203                         0.964286                         0.923077   \n",
       "1204                         1.000000                         1.000000   \n",
       "1205                         0.928571                         1.000000   \n",
       "1206                         0.964286                         0.961538   \n",
       "1207                         0.857143                         0.923077   \n",
       "1208                         0.714286                         0.807692   \n",
       "1209                         0.678571                         0.769231   \n",
       "1210                         0.714286                         0.769231   \n",
       "1211                         0.714286                         0.846154   \n",
       "1212                         0.642857                         0.692308   \n",
       "1213                         0.500000                         0.576923   \n",
       "1214                         0.357143                         0.384615   \n",
       "1215                         0.357143                         0.346154   \n",
       "1216                         0.321429                         0.423077   \n",
       "1217                         0.142857                         0.192308   \n",
       "1218                         0.178571                         0.269231   \n",
       "1219                         0.142857                         0.269231   \n",
       "1220                         0.107143                         0.269231   \n",
       "1221                         0.107143                         0.192308   \n",
       "1222                         0.142857                         0.192308   \n",
       "1223                         0.142857                         0.230769   \n",
       "1224                         0.107143                         0.230769   \n",
       "1225                         0.071429                         0.153846   \n",
       "1226                         0.035714                         0.153846   \n",
       "1227                         0.000000                         0.000000   \n",
       "1228                         0.071429                         0.115385   \n",
       "1229                         0.178571                         0.307692   \n",
       "1230                         0.214286                         0.307692   \n",
       "1231                         0.214286                         0.307692   \n",
       "1232                         0.142857                         0.269231   \n",
       "1233                         0.142857                         0.269231   \n",
       "1234                         0.178571                         0.346154   \n",
       "1235                         0.142857                         0.269231   \n",
       "1236                         0.178571                         0.307692   \n",
       "1237                         0.285714                         0.423077   \n",
       "1238                         0.321429                         0.461538   \n",
       "1239                         0.321429                         0.461538   \n",
       "1240                         0.357143                         0.461538   \n",
       "1241                         0.285714                         0.461538   \n",
       "1242                         0.285714                         0.423077   \n",
       "1243                         0.250000                         0.461538   \n",
       "1244                         0.285714                         0.538462   \n",
       "1245                         0.214286                         0.423077   \n",
       "1246                         0.214286                         0.500000   \n",
       "\n",
       "      Income share held by third 20%  Lending interest rate (%)  \\\n",
       "1200                        0.739130                   0.474303   \n",
       "1201                        0.782609                   0.537543   \n",
       "1202                        0.913043                   0.630361   \n",
       "1203                        0.913043                   0.670408   \n",
       "1204                        0.956522                   0.531970   \n",
       "1205                        1.000000                   0.543434   \n",
       "1206                        0.913043                   0.834445   \n",
       "1207                        0.826087                   1.000000   \n",
       "1208                        0.826087                   0.806631   \n",
       "1209                        0.782609                   0.722899   \n",
       "1210                        0.782609                   0.589733   \n",
       "1211                        0.869565                   0.580553   \n",
       "1212                        0.739130                   0.743263   \n",
       "1213                        0.652174                   0.657786   \n",
       "1214                        0.391304                   0.584056   \n",
       "1215                        0.347826                   0.606836   \n",
       "1216                        0.521739                   0.843741   \n",
       "1217                        0.304348                   0.902321   \n",
       "1218                        0.391304                   0.707975   \n",
       "1219                        0.434783                   0.573178   \n",
       "1220                        0.434783                   0.348684   \n",
       "1221                        0.347826                   0.313848   \n",
       "1222                        0.391304                   0.391690   \n",
       "1223                        0.434783                   0.345200   \n",
       "1224                        0.391304                   0.383452   \n",
       "1225                        0.260870                   0.425737   \n",
       "1226                        0.260870                   0.306362   \n",
       "1227                        0.000000                   0.345539   \n",
       "1228                        0.173913                   0.292321   \n",
       "1229                        0.434783                   0.221341   \n",
       "1230                        0.478261                   0.202103   \n",
       "1231                        0.434783                   0.245361   \n",
       "1232                        0.434783                   0.262364   \n",
       "1233                        0.347826                   0.261705   \n",
       "1234                        0.565217                   0.316753   \n",
       "1235                        0.434783                   0.264048   \n",
       "1236                        0.434783                   0.009161   \n",
       "1237                        0.565217                   0.000000   \n",
       "1238                        0.608696                   0.000000   \n",
       "1239                        0.608696                   0.000000   \n",
       "1240                        0.652174                   0.000000   \n",
       "1241                        0.652174                   0.000000   \n",
       "1242                        0.652174                   0.439931   \n",
       "1243                        0.739130                   0.439931   \n",
       "1244                        0.782609                   0.439931   \n",
       "1245                        0.652174                   0.439931   \n",
       "1246                        0.826087                   0.439931   \n",
       "\n",
       "      Life expectancy at birth, total (years)  Number of neonatal deaths  \\\n",
       "1200                                 0.000000                   1.000000   \n",
       "1201                                 0.022025                   0.899245   \n",
       "1202                                 0.044050                   0.798055   \n",
       "1203                                 0.049691                   0.712979   \n",
       "1204                                 0.099114                   0.625290   \n",
       "1205                                 0.093742                   0.587108   \n",
       "1206                                 0.104754                   0.566928   \n",
       "1207                                 0.148805                   0.520906   \n",
       "1208                                 0.187483                   0.440621   \n",
       "1209                                 0.204136                   0.383566   \n",
       "1210                                 0.226162                   0.344367   \n",
       "1211                                 0.270212                   0.317509   \n",
       "1212                                 0.253828                   0.305023   \n",
       "1213                                 0.286865                   0.284117   \n",
       "1214                                 0.325544                   0.271196   \n",
       "1215                                 0.336557                   0.252758   \n",
       "1216                                 0.358850                   0.227787   \n",
       "1217                                 0.391620                   0.224448   \n",
       "1218                                 0.413914                   0.212544   \n",
       "1219                                 0.452592                   0.199623   \n",
       "1220                                 0.447220                   0.182782   \n",
       "1221                                 0.502283                   0.165070   \n",
       "1222                                 0.496911                   0.141551   \n",
       "1223                                 0.524577                   0.128194   \n",
       "1224                                 0.538141                   0.117305   \n",
       "1225                                 0.535858                   0.108304   \n",
       "1226                                 0.557883                   0.095383   \n",
       "1227                                 0.596562                   0.078107   \n",
       "1228                                 0.624228                   0.065767   \n",
       "1229                                 0.640881                   0.059379   \n",
       "1230                                 0.674187                   0.066057   \n",
       "1231                                 0.707225                   0.070703   \n",
       "1232                                 0.740532                   0.068961   \n",
       "1233                                 0.762557                   0.073897   \n",
       "1234                                 0.784582                   0.076800   \n",
       "1235                                 0.801236                   0.075203   \n",
       "1236                                 0.850927                   0.064024   \n",
       "1237                                 0.889605                   0.060685   \n",
       "1238                                 0.950040                   0.052120   \n",
       "1239                                 0.944937                   0.043554   \n",
       "1240                                 0.955950                   0.023084   \n",
       "1241                                 0.988987                   0.016260   \n",
       "1242                                 0.950577                   0.016841   \n",
       "1243                                 0.972603                   0.018728   \n",
       "1244                                 0.983615                   0.014518   \n",
       "1245                                 0.983615                   0.007695   \n",
       "1246                                 1.000000                   0.000000   \n",
       "\n",
       "      Number of under-five deaths  \\\n",
       "1200                     1.000000   \n",
       "1201                     0.889379   \n",
       "1202                     0.789080   \n",
       "1203                     0.699811   \n",
       "1204                     0.628506   \n",
       "1205                     0.589742   \n",
       "1206                     0.582650   \n",
       "1207                     0.568862   \n",
       "1208                     0.525607   \n",
       "1209                     0.477387   \n",
       "1210                     0.445793   \n",
       "1211                     0.425859   \n",
       "1212                     0.416640   \n",
       "1213                     0.407816   \n",
       "1214                     0.398046   \n",
       "1215                     0.385755   \n",
       "1216                     0.358021   \n",
       "1217                     0.326426   \n",
       "1218                     0.293807   \n",
       "1219                     0.256934   \n",
       "1220                     0.222581   \n",
       "1221                     0.195005   \n",
       "1222                     0.173810   \n",
       "1223                     0.159313   \n",
       "1224                     0.148755   \n",
       "1225                     0.137331   \n",
       "1226                     0.124330   \n",
       "1227                     0.109439   \n",
       "1228                     0.096439   \n",
       "1229                     0.088481   \n",
       "1230                     0.088008   \n",
       "1231                     0.091396   \n",
       "1232                     0.090451   \n",
       "1233                     0.089584   \n",
       "1234                     0.090923   \n",
       "1235                     0.089978   \n",
       "1236                     0.082650   \n",
       "1237                     0.073747   \n",
       "1238                     0.065474   \n",
       "1239                     0.056413   \n",
       "1240                     0.043728   \n",
       "1241                     0.032540   \n",
       "1242                     0.028207   \n",
       "1243                     0.025292   \n",
       "1244                     0.019382   \n",
       "1245                     0.010006   \n",
       "1246                     0.000000   \n",
       "\n",
       "      Poverty headcount ratio at $6.85 a day (2017 PPP) (% of population)  \\\n",
       "1200                                           0.285714                     \n",
       "1201                                           1.000000                     \n",
       "1202                                           1.000000                     \n",
       "1203                                           0.285714                     \n",
       "1204                                           1.000000                     \n",
       "1205                                           0.285714                     \n",
       "1206                                           0.285714                     \n",
       "1207                                           0.714286                     \n",
       "1208                                           0.714286                     \n",
       "1209                                           0.000000                     \n",
       "1210                                           0.000000                     \n",
       "1211                                           0.285714                     \n",
       "1212                                           0.285714                     \n",
       "1213                                           0.714286                     \n",
       "1214                                           0.000000                     \n",
       "1215                                           0.000000                     \n",
       "1216                                           0.285714                     \n",
       "1217                                           0.285714                     \n",
       "1218                                           0.285714                     \n",
       "1219                                           0.714286                     \n",
       "1220                                           0.714286                     \n",
       "1221                                           0.714286                     \n",
       "1222                                           0.714286                     \n",
       "1223                                           0.285714                     \n",
       "1224                                           0.285714                     \n",
       "1225                                           0.285714                     \n",
       "1226                                           0.285714                     \n",
       "1227                                           0.285714                     \n",
       "1228                                           0.285714                     \n",
       "1229                                           0.285714                     \n",
       "1230                                           0.285714                     \n",
       "1231                                           0.000000                     \n",
       "1232                                           0.285714                     \n",
       "1233                                           0.285714                     \n",
       "1234                                           0.285714                     \n",
       "1235                                           0.285714                     \n",
       "1236                                           0.285714                     \n",
       "1237                                           0.285714                     \n",
       "1238                                           0.285714                     \n",
       "1239                                           0.285714                     \n",
       "1240                                           0.000000                     \n",
       "1241                                           0.000000                     \n",
       "1242                                           0.285714                     \n",
       "1243                                           0.285714                     \n",
       "1244                                           0.285714                     \n",
       "1245                                           0.285714                     \n",
       "1246                                           0.285714                     \n",
       "\n",
       "      Proportion of people living below 50 percent of median income (%)  \\\n",
       "1200                                           0.000000                   \n",
       "1201                                           0.121951                   \n",
       "1202                                           0.085366                   \n",
       "1203                                           0.060976                   \n",
       "1204                                           0.060976                   \n",
       "1205                                           0.182927                   \n",
       "1206                                           0.060976                   \n",
       "1207                                           0.182927                   \n",
       "1208                                           0.329268                   \n",
       "1209                                           0.365854                   \n",
       "1210                                           0.365854                   \n",
       "1211                                           0.390244                   \n",
       "1212                                           0.451220                   \n",
       "1213                                           0.573171                   \n",
       "1214                                           0.634146                   \n",
       "1215                                           0.573171                   \n",
       "1216                                           0.695122                   \n",
       "1217                                           0.792683                   \n",
       "1218                                           0.817073                   \n",
       "1219                                           0.939024                   \n",
       "1220                                           1.000000                   \n",
       "1221                                           0.878049                   \n",
       "1222                                           0.853659                   \n",
       "1223                                           0.878049                   \n",
       "1224                                           0.939024                   \n",
       "1225                                           0.914634                   \n",
       "1226                                           0.939024                   \n",
       "1227                                           0.853659                   \n",
       "1228                                           0.817073                   \n",
       "1229                                           0.792683                   \n",
       "1230                                           0.817073                   \n",
       "1231                                           0.756098                   \n",
       "1232                                           0.878049                   \n",
       "1233                                           0.853659                   \n",
       "1234                                           0.914634                   \n",
       "1235                                           0.878049                   \n",
       "1236                                           0.792683                   \n",
       "1237                                           0.695122                   \n",
       "1238                                           0.731707                   \n",
       "1239                                           0.695122                   \n",
       "1240                                           0.695122                   \n",
       "1241                                           0.792683                   \n",
       "1242                                           0.792683                   \n",
       "1243                                           0.817073                   \n",
       "1244                                           0.853659                   \n",
       "1245                                           0.817073                   \n",
       "1246                                           0.914634                   \n",
       "\n",
       "      Subsidies and other transfers (% of expense)  Tax revenue (% of GDP)  \n",
       "1200                                      0.066284                0.000000  \n",
       "1201                                      0.023222                0.498280  \n",
       "1202                                      0.000000                0.595073  \n",
       "1203                                      0.035685                0.508456  \n",
       "1204                                      0.089845                0.419975  \n",
       "1205                                      0.110801                0.201705  \n",
       "1206                                      0.128804                0.155045  \n",
       "1207                                      0.263364                0.522498  \n",
       "1208                                      0.310799                0.664719  \n",
       "1209                                      0.338128                0.893266  \n",
       "1210                                      0.283695                0.666415  \n",
       "1211                                      0.285028                0.690468  \n",
       "1212                                      0.318032                0.756783  \n",
       "1213                                      0.325546                0.638870  \n",
       "1214                                      0.318470                0.388865  \n",
       "1215                                      0.289628                0.357557  \n",
       "1216                                      0.262011                0.314989  \n",
       "1217                                      0.781847                0.573776  \n",
       "1218                                      0.941141                0.703417  \n",
       "1219                                      1.000000                0.597814  \n",
       "1220                                      0.959872                0.355757  \n",
       "1221                                      0.933514                0.507786  \n",
       "1222                                      0.769423                0.396173  \n",
       "1223                                      0.759632                0.365427  \n",
       "1224                                      0.744761                0.494078  \n",
       "1225                                      0.740917                0.732726  \n",
       "1226                                      0.747105                0.817534  \n",
       "1227                                      0.755693                0.933091  \n",
       "1228                                      0.740960                0.873439  \n",
       "1229                                      0.760090                0.724442  \n",
       "1230                                      0.780985                0.644195  \n",
       "1231                                      0.777443                0.757504  \n",
       "1232                                      0.761301                0.819807  \n",
       "1233                                      0.758113                0.872823  \n",
       "1234                                      0.742431                0.913602  \n",
       "1235                                      0.682396                1.000000  \n",
       "1236                                      0.743097                0.568859  \n",
       "1237                                      0.749386                0.771631  \n",
       "1238                                      0.750685                0.880771  \n",
       "1239                                      0.750170                0.749435  \n",
       "1240                                      0.775892                0.751821  \n",
       "1241                                      0.767169                0.706006  \n",
       "1242                                      0.784368                0.730010  \n",
       "1243                                      0.761199                0.795340  \n",
       "1244                                      0.709286                0.834603  \n",
       "1245                                      0.686079                0.819554  \n",
       "1246                                      0.697819                0.739221  "
      ]
     },
     "execution_count": 47,
     "metadata": {},
     "output_type": "execute_result"
    }
   ],
   "source": [
    "# Normalise data\n",
    "\n",
    "from sklearn.preprocessing import MinMaxScaler\n",
    "import pandas as pd\n",
    "\n",
    "# Create a copy of the original data frame\n",
    "selected_uk_df_copy_normalized = selected_uk_df_copy.copy()\n",
    "\n",
    "# Specify the columns to normalize\n",
    "columns_to_normalize = ['Consumer price index (2010 = 100)', 'GDP (constant 2015 US$)', 'GDP growth (annual %)', 'GDP per capita (constant 2015 US$)', 'GNI growth (annual %)', 'General government final consumption expenditure (% of GDP)', 'General government final consumption expenditure (constant 2015 US$)', 'Government expenditure on education, total (% of GDP)', 'Imports of goods, services and primary income (BoP, current US$)', 'Income share held by fourth 20%', 'Income share held by highest 10%', 'Income share held by highest 20%', 'Income share held by lowest 10%', 'Income share held by lowest 20%', 'Income share held by second 20%', 'Income share held by third 20%', 'Lending interest rate (%)', 'Life expectancy at birth, total (years)', 'Number of neonatal deaths', 'Number of under-five deaths', 'Poverty headcount ratio at $6.85 a day (2017 PPP) (% of population)', 'Proportion of people living below 50 percent of median income (%)', 'Subsidies and other transfers (% of expense)', 'Tax revenue (% of GDP)']\n",
    "\n",
    "# Apply Min-Max normalization to the specified columns\n",
    "scaler = MinMaxScaler()\n",
    "selected_uk_df_copy_normalized[columns_to_normalize] = scaler.fit_transform(selected_uk_df_copy_normalized[columns_to_normalize])\n",
    "\n",
    "# Print the normalized data frame\n",
    "selected_uk_df_copy_normalized\n"
   ]
  },
  {
   "cell_type": "markdown",
   "id": "771cd19f",
   "metadata": {},
   "source": [
    "#### Exporting Normalized Data to Excel for Dashboard Building"
   ]
  },
  {
   "cell_type": "code",
   "execution_count": 24,
   "id": "154c0fa9",
   "metadata": {},
   "outputs": [],
   "source": [
    "# Save the normalized data to Excel for dashboard creation\n",
    "selected_uk_df_copy_normalized.to_excel('uk_normalised_data.xlsx', index=False)"
   ]
  },
  {
   "cell_type": "code",
   "execution_count": 48,
   "id": "64244f1a",
   "metadata": {
    "scrolled": true
   },
   "outputs": [
    {
     "data": {
      "text/html": [
       "<style type=\"text/css\">\n",
       "#T_58551_row0_col0, #T_58551_row1_col1, #T_58551_row1_col3, #T_58551_row2_col2, #T_58551_row3_col1, #T_58551_row3_col3, #T_58551_row4_col4, #T_58551_row5_col5, #T_58551_row6_col6, #T_58551_row7_col7, #T_58551_row8_col8, #T_58551_row9_col9, #T_58551_row10_col10, #T_58551_row10_col11, #T_58551_row11_col10, #T_58551_row11_col11, #T_58551_row12_col12, #T_58551_row12_col13, #T_58551_row13_col12, #T_58551_row13_col13, #T_58551_row14_col14, #T_58551_row15_col15, #T_58551_row16_col16, #T_58551_row17_col17, #T_58551_row18_col18, #T_58551_row19_col19, #T_58551_row20_col20, #T_58551_row21_col21, #T_58551_row22_col22, #T_58551_row23_col23 {\n",
       "  background-color: #b40426;\n",
       "  color: #f1f1f1;\n",
       "}\n",
       "#T_58551_row0_col1, #T_58551_row0_col3, #T_58551_row1_col0, #T_58551_row1_col6, #T_58551_row3_col0, #T_58551_row6_col1, #T_58551_row13_col14, #T_58551_row14_col13 {\n",
       "  background-color: #b8122a;\n",
       "  color: #f1f1f1;\n",
       "}\n",
       "#T_58551_row0_col2, #T_58551_row1_col2, #T_58551_row23_col9 {\n",
       "  background-color: #8fb1fe;\n",
       "  color: #000000;\n",
       "}\n",
       "#T_58551_row0_col4, #T_58551_row1_col4, #T_58551_row3_col2, #T_58551_row16_col7, #T_58551_row18_col4 {\n",
       "  background-color: #94b6ff;\n",
       "  color: #000000;\n",
       "}\n",
       "#T_58551_row0_col5 {\n",
       "  background-color: #80a3fa;\n",
       "  color: #f1f1f1;\n",
       "}\n",
       "#T_58551_row0_col6, #T_58551_row6_col0, #T_58551_row14_col15, #T_58551_row15_col14 {\n",
       "  background-color: #c0282f;\n",
       "  color: #f1f1f1;\n",
       "}\n",
       "#T_58551_row0_col7 {\n",
       "  background-color: #adc9fd;\n",
       "  color: #000000;\n",
       "}\n",
       "#T_58551_row0_col8 {\n",
       "  background-color: #c53334;\n",
       "  color: #f1f1f1;\n",
       "}\n",
       "#T_58551_row0_col9, #T_58551_row5_col17, #T_58551_row23_col7 {\n",
       "  background-color: #b7cff9;\n",
       "  color: #000000;\n",
       "}\n",
       "#T_58551_row0_col10, #T_58551_row10_col0, #T_58551_row14_col5, #T_58551_row23_col1, #T_58551_row23_col6 {\n",
       "  background-color: #ee8669;\n",
       "  color: #f1f1f1;\n",
       "}\n",
       "#T_58551_row0_col11, #T_58551_row3_col10, #T_58551_row6_col21, #T_58551_row7_col14, #T_58551_row23_col8 {\n",
       "  background-color: #ec8165;\n",
       "  color: #f1f1f1;\n",
       "}\n",
       "#T_58551_row0_col12, #T_58551_row12_col23, #T_58551_row13_col3 {\n",
       "  background-color: #5470de;\n",
       "  color: #f1f1f1;\n",
       "}\n",
       "#T_58551_row0_col13, #T_58551_row12_col8, #T_58551_row13_col23, #T_58551_row16_col17 {\n",
       "  background-color: #5977e3;\n",
       "  color: #f1f1f1;\n",
       "}\n",
       "#T_58551_row0_col14, #T_58551_row23_col18 {\n",
       "  background-color: #6e90f2;\n",
       "  color: #f1f1f1;\n",
       "}\n",
       "#T_58551_row0_col15, #T_58551_row2_col7, #T_58551_row3_col4, #T_58551_row6_col14 {\n",
       "  background-color: #98b9ff;\n",
       "  color: #000000;\n",
       "}\n",
       "#T_58551_row0_col16, #T_58551_row3_col18, #T_58551_row10_col13, #T_58551_row11_col12, #T_58551_row18_col3, #T_58551_row18_col17 {\n",
       "  background-color: #4257c9;\n",
       "  color: #f1f1f1;\n",
       "}\n",
       "#T_58551_row0_col17, #T_58551_row1_col17, #T_58551_row17_col0, #T_58551_row17_col1, #T_58551_row18_col19, #T_58551_row19_col18 {\n",
       "  background-color: #b50927;\n",
       "  color: #f1f1f1;\n",
       "}\n",
       "#T_58551_row0_col18, #T_58551_row0_col19, #T_58551_row2_col20, #T_58551_row5_col4, #T_58551_row10_col5, #T_58551_row10_col9, #T_58551_row10_col15, #T_58551_row11_col5, #T_58551_row11_col7, #T_58551_row11_col14, #T_58551_row11_col15, #T_58551_row12_col21, #T_58551_row12_col22, #T_58551_row13_col21, #T_58551_row13_col22, #T_58551_row14_col10, #T_58551_row14_col11, #T_58551_row17_col16, #T_58551_row19_col0, #T_58551_row19_col1, #T_58551_row19_col3, #T_58551_row19_col6, #T_58551_row19_col8, #T_58551_row19_col17, #T_58551_row19_col23, #T_58551_row20_col2, #T_58551_row21_col12, #T_58551_row21_col13 {\n",
       "  background-color: #3b4cc0;\n",
       "  color: #f1f1f1;\n",
       "}\n",
       "#T_58551_row0_col20, #T_58551_row1_col16, #T_58551_row1_col20, #T_58551_row3_col19, #T_58551_row6_col16, #T_58551_row8_col16, #T_58551_row17_col19, #T_58551_row17_col20, #T_58551_row18_col0 {\n",
       "  background-color: #3f53c6;\n",
       "  color: #f1f1f1;\n",
       "}\n",
       "#T_58551_row0_col21, #T_58551_row21_col0 {\n",
       "  background-color: #d24b40;\n",
       "  color: #f1f1f1;\n",
       "}\n",
       "#T_58551_row0_col22, #T_58551_row22_col0 {\n",
       "  background-color: #d44e41;\n",
       "  color: #f1f1f1;\n",
       "}\n",
       "#T_58551_row0_col23, #T_58551_row1_col10, #T_58551_row3_col23, #T_58551_row5_col7, #T_58551_row11_col17, #T_58551_row14_col7, #T_58551_row17_col10, #T_58551_row17_col23, #T_58551_row19_col15 {\n",
       "  background-color: #f39475;\n",
       "  color: #000000;\n",
       "}\n",
       "#T_58551_row1_col5, #T_58551_row14_col2, #T_58551_row17_col2 {\n",
       "  background-color: #88abfd;\n",
       "  color: #000000;\n",
       "}\n",
       "#T_58551_row1_col7, #T_58551_row9_col3 {\n",
       "  background-color: #c0d4f5;\n",
       "  color: #000000;\n",
       "}\n",
       "#T_58551_row1_col8, #T_58551_row3_col6, #T_58551_row6_col3, #T_58551_row8_col3 {\n",
       "  background-color: #bd1f2d;\n",
       "  color: #f1f1f1;\n",
       "}\n",
       "#T_58551_row1_col9, #T_58551_row7_col23, #T_58551_row9_col21, #T_58551_row9_col22, #T_58551_row20_col10, #T_58551_row20_col11 {\n",
       "  background-color: #b6cefa;\n",
       "  color: #000000;\n",
       "}\n",
       "#T_58551_row1_col11, #T_58551_row6_col23, #T_58551_row7_col5, #T_58551_row7_col13 {\n",
       "  background-color: #f29274;\n",
       "  color: #f1f1f1;\n",
       "}\n",
       "#T_58551_row1_col12, #T_58551_row12_col6, #T_58551_row15_col22, #T_58551_row18_col11 {\n",
       "  background-color: #6282ea;\n",
       "  color: #f1f1f1;\n",
       "}\n",
       "#T_58551_row1_col13, #T_58551_row14_col3, #T_58551_row16_col0, #T_58551_row19_col10 {\n",
       "  background-color: #6687ed;\n",
       "  color: #f1f1f1;\n",
       "}\n",
       "#T_58551_row1_col14, #T_58551_row3_col5, #T_58551_row23_col16 {\n",
       "  background-color: #7da0f9;\n",
       "  color: #f1f1f1;\n",
       "}\n",
       "#T_58551_row1_col15, #T_58551_row21_col4 {\n",
       "  background-color: #a6c4fe;\n",
       "  color: #000000;\n",
       "}\n",
       "#T_58551_row1_col18, #T_58551_row19_col21 {\n",
       "  background-color: #465ecf;\n",
       "  color: #f1f1f1;\n",
       "}\n",
       "#T_58551_row1_col19, #T_58551_row6_col20, #T_58551_row8_col20, #T_58551_row12_col11, #T_58551_row14_col22, #T_58551_row18_col1, #T_58551_row18_col22, #T_58551_row21_col19 {\n",
       "  background-color: #4358cb;\n",
       "  color: #f1f1f1;\n",
       "}\n",
       "#T_58551_row1_col21 {\n",
       "  background-color: #df634e;\n",
       "  color: #f1f1f1;\n",
       "}\n",
       "#T_58551_row1_col22, #T_58551_row9_col15, #T_58551_row22_col1 {\n",
       "  background-color: #e26952;\n",
       "  color: #f1f1f1;\n",
       "}\n",
       "#T_58551_row1_col23, #T_58551_row7_col12, #T_58551_row9_col14, #T_58551_row10_col17, #T_58551_row13_col5, #T_58551_row15_col19 {\n",
       "  background-color: #f39577;\n",
       "  color: #000000;\n",
       "}\n",
       "#T_58551_row2_col0, #T_58551_row4_col18, #T_58551_row9_col0, #T_58551_row9_col17, #T_58551_row20_col9 {\n",
       "  background-color: #d2dbe8;\n",
       "  color: #000000;\n",
       "}\n",
       "#T_58551_row2_col1, #T_58551_row4_col17 {\n",
       "  background-color: #cdd9ec;\n",
       "  color: #000000;\n",
       "}\n",
       "#T_58551_row2_col3, #T_58551_row16_col5 {\n",
       "  background-color: #d3dbe7;\n",
       "  color: #000000;\n",
       "}\n",
       "#T_58551_row2_col4, #T_58551_row4_col2, #T_58551_row6_col8, #T_58551_row8_col1, #T_58551_row8_col6, #T_58551_row12_col14, #T_58551_row14_col12 {\n",
       "  background-color: #bb1b2c;\n",
       "  color: #f1f1f1;\n",
       "}\n",
       "#T_58551_row2_col5, #T_58551_row9_col10 {\n",
       "  background-color: #6788ee;\n",
       "  color: #f1f1f1;\n",
       "}\n",
       "#T_58551_row2_col6, #T_58551_row4_col8, #T_58551_row8_col9 {\n",
       "  background-color: #b9d0f9;\n",
       "  color: #000000;\n",
       "}\n",
       "#T_58551_row2_col8, #T_58551_row4_col6, #T_58551_row17_col9 {\n",
       "  background-color: #bbd1f8;\n",
       "  color: #000000;\n",
       "}\n",
       "#T_58551_row2_col9, #T_58551_row4_col9, #T_58551_row10_col2, #T_58551_row11_col2 {\n",
       "  background-color: #aec9fc;\n",
       "  color: #000000;\n",
       "}\n",
       "#T_58551_row2_col10 {\n",
       "  background-color: #e4d9d2;\n",
       "  color: #000000;\n",
       "}\n",
       "#T_58551_row2_col11, #T_58551_row4_col10 {\n",
       "  background-color: #e5d8d1;\n",
       "  color: #000000;\n",
       "}\n",
       "#T_58551_row2_col12 {\n",
       "  background-color: #dedcdb;\n",
       "  color: #000000;\n",
       "}\n",
       "#T_58551_row2_col13, #T_58551_row4_col19, #T_58551_row20_col5 {\n",
       "  background-color: #d9dce1;\n",
       "  color: #000000;\n",
       "}\n",
       "#T_58551_row2_col14, #T_58551_row7_col20 {\n",
       "  background-color: #d1dae9;\n",
       "  color: #000000;\n",
       "}\n",
       "#T_58551_row2_col15, #T_58551_row2_col17, #T_58551_row4_col15, #T_58551_row4_col22, #T_58551_row9_col1 {\n",
       "  background-color: #cbd8ee;\n",
       "  color: #000000;\n",
       "}\n",
       "#T_58551_row2_col16 {\n",
       "  background-color: #c5d6f2;\n",
       "  color: #000000;\n",
       "}\n",
       "#T_58551_row2_col18, #T_58551_row4_col0, #T_58551_row9_col6 {\n",
       "  background-color: #d4dbe6;\n",
       "  color: #000000;\n",
       "}\n",
       "#T_58551_row2_col19, #T_58551_row4_col12, #T_58551_row7_col17, #T_58551_row13_col20 {\n",
       "  background-color: #dbdcde;\n",
       "  color: #000000;\n",
       "}\n",
       "#T_58551_row2_col21 {\n",
       "  background-color: #dddcdc;\n",
       "  color: #000000;\n",
       "}\n",
       "#T_58551_row2_col22, #T_58551_row5_col6 {\n",
       "  background-color: #c9d7f0;\n",
       "  color: #000000;\n",
       "}\n",
       "#T_58551_row2_col23, #T_58551_row9_col4, #T_58551_row9_col23, #T_58551_row15_col4, #T_58551_row15_col23 {\n",
       "  background-color: #84a7fc;\n",
       "  color: #f1f1f1;\n",
       "}\n",
       "#T_58551_row3_col7 {\n",
       "  background-color: #afcafc;\n",
       "  color: #000000;\n",
       "}\n",
       "#T_58551_row3_col8, #T_58551_row8_col17, #T_58551_row17_col8 {\n",
       "  background-color: #be242e;\n",
       "  color: #f1f1f1;\n",
       "}\n",
       "#T_58551_row3_col9, #T_58551_row5_col3, #T_58551_row17_col15 {\n",
       "  background-color: #a5c3fe;\n",
       "  color: #000000;\n",
       "}\n",
       "#T_58551_row3_col11, #T_58551_row6_col22, #T_58551_row22_col8 {\n",
       "  background-color: #ec7f63;\n",
       "  color: #f1f1f1;\n",
       "}\n",
       "#T_58551_row3_col12, #T_58551_row11_col18, #T_58551_row21_col7 {\n",
       "  background-color: #5875e1;\n",
       "  color: #f1f1f1;\n",
       "}\n",
       "#T_58551_row3_col13, #T_58551_row10_col18, #T_58551_row13_col17 {\n",
       "  background-color: #5b7ae5;\n",
       "  color: #f1f1f1;\n",
       "}\n",
       "#T_58551_row3_col14, #T_58551_row5_col10, #T_58551_row7_col4, #T_58551_row14_col1 {\n",
       "  background-color: #6f92f3;\n",
       "  color: #f1f1f1;\n",
       "}\n",
       "#T_58551_row3_col15, #T_58551_row4_col7, #T_58551_row13_col4, #T_58551_row20_col17 {\n",
       "  background-color: #96b7ff;\n",
       "  color: #000000;\n",
       "}\n",
       "#T_58551_row3_col16, #T_58551_row4_col20 {\n",
       "  background-color: #3d50c3;\n",
       "  color: #f1f1f1;\n",
       "}\n",
       "#T_58551_row3_col17, #T_58551_row17_col3 {\n",
       "  background-color: #b70d28;\n",
       "  color: #f1f1f1;\n",
       "}\n",
       "#T_58551_row3_col20, #T_58551_row5_col2, #T_58551_row10_col7, #T_58551_row10_col14, #T_58551_row15_col10, #T_58551_row18_col23, #T_58551_row21_col18 {\n",
       "  background-color: #3c4ec2;\n",
       "  color: #f1f1f1;\n",
       "}\n",
       "#T_58551_row3_col21, #T_58551_row21_col3 {\n",
       "  background-color: #d85646;\n",
       "  color: #f1f1f1;\n",
       "}\n",
       "#T_58551_row3_col22, #T_58551_row10_col22, #T_58551_row17_col21, #T_58551_row17_col22, #T_58551_row22_col3, #T_58551_row22_col17 {\n",
       "  background-color: #dc5d4a;\n",
       "  color: #f1f1f1;\n",
       "}\n",
       "#T_58551_row4_col1, #T_58551_row4_col14, #T_58551_row7_col0, #T_58551_row8_col7 {\n",
       "  background-color: #cfdaea;\n",
       "  color: #000000;\n",
       "}\n",
       "#T_58551_row4_col3 {\n",
       "  background-color: #d5dbe5;\n",
       "  color: #000000;\n",
       "}\n",
       "#T_58551_row4_col5, #T_58551_row19_col11, #T_58551_row23_col20 {\n",
       "  background-color: #6485ec;\n",
       "  color: #f1f1f1;\n",
       "}\n",
       "#T_58551_row4_col11, #T_58551_row19_col7 {\n",
       "  background-color: #e6d7cf;\n",
       "  color: #000000;\n",
       "}\n",
       "#T_58551_row4_col13, #T_58551_row16_col20 {\n",
       "  background-color: #d7dce3;\n",
       "  color: #000000;\n",
       "}\n",
       "#T_58551_row4_col16 {\n",
       "  background-color: #c6d6f1;\n",
       "  color: #000000;\n",
       "}\n",
       "#T_58551_row4_col21, #T_58551_row18_col9 {\n",
       "  background-color: #e0dbd8;\n",
       "  color: #000000;\n",
       "}\n",
       "#T_58551_row4_col23 {\n",
       "  background-color: #85a8fc;\n",
       "  color: #f1f1f1;\n",
       "}\n",
       "#T_58551_row5_col0, #T_58551_row5_col1 {\n",
       "  background-color: #abc8fd;\n",
       "  color: #000000;\n",
       "}\n",
       "#T_58551_row5_col8 {\n",
       "  background-color: #bfd3f6;\n",
       "  color: #000000;\n",
       "}\n",
       "#T_58551_row5_col9 {\n",
       "  background-color: #f4c6af;\n",
       "  color: #000000;\n",
       "}\n",
       "#T_58551_row5_col11, #T_58551_row8_col12, #T_58551_row14_col17, #T_58551_row23_col19 {\n",
       "  background-color: #7093f3;\n",
       "  color: #f1f1f1;\n",
       "}\n",
       "#T_58551_row5_col12, #T_58551_row19_col16, #T_58551_row21_col6 {\n",
       "  background-color: #ef886b;\n",
       "  color: #f1f1f1;\n",
       "}\n",
       "#T_58551_row5_col13 {\n",
       "  background-color: #ee8468;\n",
       "  color: #f1f1f1;\n",
       "}\n",
       "#T_58551_row5_col14, #T_58551_row8_col21 {\n",
       "  background-color: #e8765c;\n",
       "  color: #f1f1f1;\n",
       "}\n",
       "#T_58551_row5_col15 {\n",
       "  background-color: #e97a5f;\n",
       "  color: #f1f1f1;\n",
       "}\n",
       "#T_58551_row5_col16, #T_58551_row12_col20, #T_58551_row14_col20 {\n",
       "  background-color: #dadce0;\n",
       "  color: #000000;\n",
       "}\n",
       "#T_58551_row5_col18, #T_58551_row7_col9 {\n",
       "  background-color: #f7b79b;\n",
       "  color: #000000;\n",
       "}\n",
       "#T_58551_row5_col19, #T_58551_row9_col12 {\n",
       "  background-color: #f7b497;\n",
       "  color: #000000;\n",
       "}\n",
       "#T_58551_row5_col20, #T_58551_row6_col15, #T_58551_row17_col7 {\n",
       "  background-color: #c1d4f4;\n",
       "  color: #000000;\n",
       "}\n",
       "#T_58551_row5_col21 {\n",
       "  background-color: #81a4fb;\n",
       "  color: #f1f1f1;\n",
       "}\n",
       "#T_58551_row5_col22, #T_58551_row7_col21, #T_58551_row16_col10 {\n",
       "  background-color: #8db0fe;\n",
       "  color: #000000;\n",
       "}\n",
       "#T_58551_row5_col23, #T_58551_row6_col9, #T_58551_row9_col8 {\n",
       "  background-color: #c7d7f0;\n",
       "  color: #000000;\n",
       "}\n",
       "#T_58551_row6_col2, #T_58551_row17_col14 {\n",
       "  background-color: #7a9df8;\n",
       "  color: #f1f1f1;\n",
       "}\n",
       "#T_58551_row6_col4, #T_58551_row6_col13, #T_58551_row8_col2 {\n",
       "  background-color: #7ea1fa;\n",
       "  color: #f1f1f1;\n",
       "}\n",
       "#T_58551_row6_col5, #T_58551_row20_col22 {\n",
       "  background-color: #b5cdfa;\n",
       "  color: #000000;\n",
       "}\n",
       "#T_58551_row6_col7 {\n",
       "  background-color: #dcdddd;\n",
       "  color: #000000;\n",
       "}\n",
       "#T_58551_row6_col10 {\n",
       "  background-color: #f7b194;\n",
       "  color: #000000;\n",
       "}\n",
       "#T_58551_row6_col11 {\n",
       "  background-color: #f7b093;\n",
       "  color: #000000;\n",
       "}\n",
       "#T_58551_row6_col12 {\n",
       "  background-color: #799cf8;\n",
       "  color: #f1f1f1;\n",
       "}\n",
       "#T_58551_row6_col17, #T_58551_row17_col6 {\n",
       "  background-color: #ba162b;\n",
       "  color: #f1f1f1;\n",
       "}\n",
       "#T_58551_row6_col18, #T_58551_row8_col18 {\n",
       "  background-color: #536edd;\n",
       "  color: #f1f1f1;\n",
       "}\n",
       "#T_58551_row6_col19 {\n",
       "  background-color: #4e68d8;\n",
       "  color: #f1f1f1;\n",
       "}\n",
       "#T_58551_row7_col1 {\n",
       "  background-color: #d8dce2;\n",
       "  color: #000000;\n",
       "}\n",
       "#T_58551_row7_col2 {\n",
       "  background-color: #7295f4;\n",
       "  color: #f1f1f1;\n",
       "}\n",
       "#T_58551_row7_col3, #T_58551_row15_col20 {\n",
       "  background-color: #cedaeb;\n",
       "  color: #000000;\n",
       "}\n",
       "#T_58551_row7_col6 {\n",
       "  background-color: #ead5c9;\n",
       "  color: #000000;\n",
       "}\n",
       "#T_58551_row7_col8, #T_58551_row19_col9 {\n",
       "  background-color: #dfdbd9;\n",
       "  color: #000000;\n",
       "}\n",
       "#T_58551_row7_col10, #T_58551_row7_col11, #T_58551_row9_col11, #T_58551_row16_col22 {\n",
       "  background-color: #7396f5;\n",
       "  color: #f1f1f1;\n",
       "}\n",
       "#T_58551_row7_col15 {\n",
       "  background-color: #e36c55;\n",
       "  color: #f1f1f1;\n",
       "}\n",
       "#T_58551_row7_col16, #T_58551_row15_col8, #T_58551_row23_col14 {\n",
       "  background-color: #a2c1ff;\n",
       "  color: #000000;\n",
       "}\n",
       "#T_58551_row7_col18, #T_58551_row9_col7 {\n",
       "  background-color: #f7ba9f;\n",
       "  color: #000000;\n",
       "}\n",
       "#T_58551_row7_col19, #T_58551_row15_col16, #T_58551_row18_col5, #T_58551_row19_col5 {\n",
       "  background-color: #f3c7b1;\n",
       "  color: #000000;\n",
       "}\n",
       "#T_58551_row7_col22, #T_58551_row12_col4, #T_58551_row15_col1, #T_58551_row19_col2 {\n",
       "  background-color: #9ebeff;\n",
       "  color: #000000;\n",
       "}\n",
       "#T_58551_row8_col0 {\n",
       "  background-color: #c43032;\n",
       "  color: #f1f1f1;\n",
       "}\n",
       "#T_58551_row8_col4 {\n",
       "  background-color: #7b9ff9;\n",
       "  color: #f1f1f1;\n",
       "}\n",
       "#T_58551_row8_col5 {\n",
       "  background-color: #a9c6fd;\n",
       "  color: #000000;\n",
       "}\n",
       "#T_58551_row8_col10 {\n",
       "  background-color: #f6a385;\n",
       "  color: #000000;\n",
       "}\n",
       "#T_58551_row8_col11 {\n",
       "  background-color: #f6a283;\n",
       "  color: #000000;\n",
       "}\n",
       "#T_58551_row8_col13, #T_58551_row14_col8, #T_58551_row22_col7 {\n",
       "  background-color: #7597f6;\n",
       "  color: #f1f1f1;\n",
       "}\n",
       "#T_58551_row8_col14, #T_58551_row17_col4, #T_58551_row20_col6, #T_58551_row23_col12 {\n",
       "  background-color: #8caffe;\n",
       "  color: #000000;\n",
       "}\n",
       "#T_58551_row8_col15, #T_58551_row9_col20, #T_58551_row10_col4, #T_58551_row11_col4, #T_58551_row20_col21 {\n",
       "  background-color: #b2ccfb;\n",
       "  color: #000000;\n",
       "}\n",
       "#T_58551_row8_col19, #T_58551_row12_col3, #T_58551_row22_col14 {\n",
       "  background-color: #4f69d9;\n",
       "  color: #f1f1f1;\n",
       "}\n",
       "#T_58551_row8_col22, #T_58551_row15_col7 {\n",
       "  background-color: #ea7b60;\n",
       "  color: #f1f1f1;\n",
       "}\n",
       "#T_58551_row8_col23 {\n",
       "  background-color: #f08b6e;\n",
       "  color: #f1f1f1;\n",
       "}\n",
       "#T_58551_row9_col2, #T_58551_row14_col6, #T_58551_row15_col2 {\n",
       "  background-color: #82a6fb;\n",
       "  color: #f1f1f1;\n",
       "}\n",
       "#T_58551_row9_col5 {\n",
       "  background-color: #f2c9b4;\n",
       "  color: #000000;\n",
       "}\n",
       "#T_58551_row9_col13, #T_58551_row14_col16, #T_58551_row23_col11 {\n",
       "  background-color: #f7af91;\n",
       "  color: #000000;\n",
       "}\n",
       "#T_58551_row9_col16, #T_58551_row19_col20 {\n",
       "  background-color: #efcebd;\n",
       "  color: #000000;\n",
       "}\n",
       "#T_58551_row9_col18, #T_58551_row20_col16 {\n",
       "  background-color: #edd1c2;\n",
       "  color: #000000;\n",
       "}\n",
       "#T_58551_row9_col19, #T_58551_row16_col9 {\n",
       "  background-color: #eed0c0;\n",
       "  color: #000000;\n",
       "}\n",
       "#T_58551_row10_col1, #T_58551_row11_col1 {\n",
       "  background-color: #f39778;\n",
       "  color: #000000;\n",
       "}\n",
       "#T_58551_row10_col3, #T_58551_row11_col0, #T_58551_row11_col3, #T_58551_row22_col6, #T_58551_row23_col0, #T_58551_row23_col3, #T_58551_row23_col17 {\n",
       "  background-color: #ed8366;\n",
       "  color: #f1f1f1;\n",
       "}\n",
       "#T_58551_row10_col6, #T_58551_row11_col6, #T_58551_row16_col15 {\n",
       "  background-color: #f7b99e;\n",
       "  color: #000000;\n",
       "}\n",
       "#T_58551_row10_col8, #T_58551_row11_col8 {\n",
       "  background-color: #f7aa8c;\n",
       "  color: #000000;\n",
       "}\n",
       "#T_58551_row10_col12, #T_58551_row18_col21, #T_58551_row21_col14, #T_58551_row22_col12, #T_58551_row22_col13 {\n",
       "  background-color: #455cce;\n",
       "  color: #f1f1f1;\n",
       "}\n",
       "#T_58551_row10_col16, #T_58551_row13_col6, #T_58551_row22_col20 {\n",
       "  background-color: #688aef;\n",
       "  color: #f1f1f1;\n",
       "}\n",
       "#T_58551_row10_col19, #T_58551_row17_col13, #T_58551_row18_col10, #T_58551_row21_col16, #T_58551_row22_col5 {\n",
       "  background-color: #6384eb;\n",
       "  color: #f1f1f1;\n",
       "}\n",
       "#T_58551_row10_col20, #T_58551_row11_col19, #T_58551_row15_col21, #T_58551_row23_col4 {\n",
       "  background-color: #6180e9;\n",
       "  color: #f1f1f1;\n",
       "}\n",
       "#T_58551_row10_col21, #T_58551_row21_col10 {\n",
       "  background-color: #cf453c;\n",
       "  color: #f1f1f1;\n",
       "}\n",
       "#T_58551_row10_col23, #T_58551_row20_col12, #T_58551_row20_col14 {\n",
       "  background-color: #f5c1a9;\n",
       "  color: #000000;\n",
       "}\n",
       "#T_58551_row11_col9, #T_58551_row12_col10, #T_58551_row14_col21, #T_58551_row18_col6, #T_58551_row18_col8, #T_58551_row22_col18 {\n",
       "  background-color: #445acc;\n",
       "  color: #f1f1f1;\n",
       "}\n",
       "#T_58551_row11_col13, #T_58551_row15_col11, #T_58551_row20_col4 {\n",
       "  background-color: #3e51c5;\n",
       "  color: #f1f1f1;\n",
       "}\n",
       "#T_58551_row11_col16, #T_58551_row14_col23 {\n",
       "  background-color: #6c8ff1;\n",
       "  color: #f1f1f1;\n",
       "}\n",
       "#T_58551_row11_col20, #T_58551_row13_col8, #T_58551_row21_col15, #T_58551_row23_col2 {\n",
       "  background-color: #5e7de7;\n",
       "  color: #f1f1f1;\n",
       "}\n",
       "#T_58551_row11_col21, #T_58551_row12_col18, #T_58551_row12_col19, #T_58551_row19_col12, #T_58551_row21_col11 {\n",
       "  background-color: #ca3b37;\n",
       "  color: #f1f1f1;\n",
       "}\n",
       "#T_58551_row11_col22 {\n",
       "  background-color: #d65244;\n",
       "  color: #f1f1f1;\n",
       "}\n",
       "#T_58551_row11_col23, #T_58551_row12_col9 {\n",
       "  background-color: #f4c5ad;\n",
       "  color: #000000;\n",
       "}\n",
       "#T_58551_row12_col0, #T_58551_row16_col6, #T_58551_row16_col8 {\n",
       "  background-color: #506bda;\n",
       "  color: #f1f1f1;\n",
       "}\n",
       "#T_58551_row12_col1, #T_58551_row13_col0, #T_58551_row22_col16 {\n",
       "  background-color: #5572df;\n",
       "  color: #f1f1f1;\n",
       "}\n",
       "#T_58551_row12_col2 {\n",
       "  background-color: #a3c2fe;\n",
       "  color: #000000;\n",
       "}\n",
       "#T_58551_row12_col5, #T_58551_row16_col12 {\n",
       "  background-color: #f49a7b;\n",
       "  color: #000000;\n",
       "}\n",
       "#T_58551_row12_col7 {\n",
       "  background-color: #f7a98b;\n",
       "  color: #000000;\n",
       "}\n",
       "#T_58551_row12_col15, #T_58551_row15_col12, #T_58551_row22_col11 {\n",
       "  background-color: #d55042;\n",
       "  color: #f1f1f1;\n",
       "}\n",
       "#T_58551_row12_col16, #T_58551_row20_col18 {\n",
       "  background-color: #f7a889;\n",
       "  color: #000000;\n",
       "}\n",
       "#T_58551_row12_col17 {\n",
       "  background-color: #5673e0;\n",
       "  color: #f1f1f1;\n",
       "}\n",
       "#T_58551_row13_col1, #T_58551_row16_col1, #T_58551_row21_col20 {\n",
       "  background-color: #5a78e4;\n",
       "  color: #f1f1f1;\n",
       "}\n",
       "#T_58551_row13_col2, #T_58551_row20_col0, #T_58551_row22_col9 {\n",
       "  background-color: #9abbff;\n",
       "  color: #000000;\n",
       "}\n",
       "#T_58551_row13_col7 {\n",
       "  background-color: #f6a586;\n",
       "  color: #000000;\n",
       "}\n",
       "#T_58551_row13_col9 {\n",
       "  background-color: #f6bfa6;\n",
       "  color: #000000;\n",
       "}\n",
       "#T_58551_row13_col10, #T_58551_row13_col11, #T_58551_row17_col18, #T_58551_row19_col22 {\n",
       "  background-color: #4055c8;\n",
       "  color: #f1f1f1;\n",
       "}\n",
       "#T_58551_row13_col15, #T_58551_row15_col13 {\n",
       "  background-color: #d0473d;\n",
       "  color: #f1f1f1;\n",
       "}\n",
       "#T_58551_row13_col16, #T_58551_row14_col9 {\n",
       "  background-color: #f7a688;\n",
       "  color: #000000;\n",
       "}\n",
       "#T_58551_row13_col18 {\n",
       "  background-color: #cc403a;\n",
       "  color: #f1f1f1;\n",
       "}\n",
       "#T_58551_row13_col19, #T_58551_row19_col13 {\n",
       "  background-color: #cd423b;\n",
       "  color: #f1f1f1;\n",
       "}\n",
       "#T_58551_row14_col0, #T_58551_row16_col23, #T_58551_row22_col15 {\n",
       "  background-color: #6a8bef;\n",
       "  color: #f1f1f1;\n",
       "}\n",
       "#T_58551_row14_col4, #T_58551_row22_col2 {\n",
       "  background-color: #86a9fc;\n",
       "  color: #f1f1f1;\n",
       "}\n",
       "#T_58551_row14_col18, #T_58551_row22_col10 {\n",
       "  background-color: #da5a49;\n",
       "  color: #f1f1f1;\n",
       "}\n",
       "#T_58551_row14_col19, #T_58551_row19_col14, #T_58551_row21_col17 {\n",
       "  background-color: #dd5f4b;\n",
       "  color: #f1f1f1;\n",
       "}\n",
       "#T_58551_row15_col0, #T_58551_row18_col2 {\n",
       "  background-color: #97b8ff;\n",
       "  color: #000000;\n",
       "}\n",
       "#T_58551_row15_col3, #T_58551_row21_col9, #T_58551_row23_col13 {\n",
       "  background-color: #90b2fe;\n",
       "  color: #000000;\n",
       "}\n",
       "#T_58551_row15_col5 {\n",
       "  background-color: #f08a6c;\n",
       "  color: #f1f1f1;\n",
       "}\n",
       "#T_58551_row15_col6, #T_58551_row23_col15 {\n",
       "  background-color: #b3cdfb;\n",
       "  color: #000000;\n",
       "}\n",
       "#T_58551_row15_col9 {\n",
       "  background-color: #e67259;\n",
       "  color: #f1f1f1;\n",
       "}\n",
       "#T_58551_row15_col17, #T_58551_row21_col2 {\n",
       "  background-color: #9fbfff;\n",
       "  color: #000000;\n",
       "}\n",
       "#T_58551_row15_col18 {\n",
       "  background-color: #f18f71;\n",
       "  color: #f1f1f1;\n",
       "}\n",
       "#T_58551_row16_col2 {\n",
       "  background-color: #9bbcff;\n",
       "  color: #000000;\n",
       "}\n",
       "#T_58551_row16_col3 {\n",
       "  background-color: #5d7ce6;\n",
       "  color: #f1f1f1;\n",
       "}\n",
       "#T_58551_row16_col4, #T_58551_row19_col4 {\n",
       "  background-color: #9dbdff;\n",
       "  color: #000000;\n",
       "}\n",
       "#T_58551_row16_col11, #T_58551_row17_col5, #T_58551_row20_col3 {\n",
       "  background-color: #93b5fe;\n",
       "  color: #000000;\n",
       "}\n",
       "#T_58551_row16_col13 {\n",
       "  background-color: #f4987a;\n",
       "  color: #000000;\n",
       "}\n",
       "#T_58551_row16_col14, #T_58551_row23_col22 {\n",
       "  background-color: #f5a081;\n",
       "  color: #000000;\n",
       "}\n",
       "#T_58551_row16_col18, #T_58551_row17_col11 {\n",
       "  background-color: #f29072;\n",
       "  color: #f1f1f1;\n",
       "}\n",
       "#T_58551_row16_col19, #T_58551_row21_col8 {\n",
       "  background-color: #eb7d62;\n",
       "  color: #f1f1f1;\n",
       "}\n",
       "#T_58551_row16_col21, #T_58551_row20_col23 {\n",
       "  background-color: #89acfd;\n",
       "  color: #000000;\n",
       "}\n",
       "#T_58551_row17_col12 {\n",
       "  background-color: #5f7fe8;\n",
       "  color: #f1f1f1;\n",
       "}\n",
       "#T_58551_row18_col7, #T_58551_row20_col15 {\n",
       "  background-color: #f2cbb7;\n",
       "  color: #000000;\n",
       "}\n",
       "#T_58551_row18_col12 {\n",
       "  background-color: #c83836;\n",
       "  color: #f1f1f1;\n",
       "}\n",
       "#T_58551_row18_col13 {\n",
       "  background-color: #cb3e38;\n",
       "  color: #f1f1f1;\n",
       "}\n",
       "#T_58551_row18_col14 {\n",
       "  background-color: #d95847;\n",
       "  color: #f1f1f1;\n",
       "}\n",
       "#T_58551_row18_col15 {\n",
       "  background-color: #f18d6f;\n",
       "  color: #f1f1f1;\n",
       "}\n",
       "#T_58551_row18_col16 {\n",
       "  background-color: #f59c7d;\n",
       "  color: #000000;\n",
       "}\n",
       "#T_58551_row18_col20 {\n",
       "  background-color: #f3c8b2;\n",
       "  color: #000000;\n",
       "}\n",
       "#T_58551_row20_col1 {\n",
       "  background-color: #92b4fe;\n",
       "  color: #000000;\n",
       "}\n",
       "#T_58551_row20_col7 {\n",
       "  background-color: #e3d9d3;\n",
       "  color: #000000;\n",
       "}\n",
       "#T_58551_row20_col8, #T_58551_row22_col4 {\n",
       "  background-color: #8badfd;\n",
       "  color: #000000;\n",
       "}\n",
       "#T_58551_row20_col13 {\n",
       "  background-color: #f5c0a7;\n",
       "  color: #000000;\n",
       "}\n",
       "#T_58551_row20_col19 {\n",
       "  background-color: #f7ad90;\n",
       "  color: #000000;\n",
       "}\n",
       "#T_58551_row21_col1 {\n",
       "  background-color: #e16751;\n",
       "  color: #f1f1f1;\n",
       "}\n",
       "#T_58551_row21_col5 {\n",
       "  background-color: #4c66d6;\n",
       "  color: #f1f1f1;\n",
       "}\n",
       "#T_58551_row21_col22 {\n",
       "  background-color: #c32e31;\n",
       "  color: #f1f1f1;\n",
       "}\n",
       "#T_58551_row21_col23, #T_58551_row22_col23 {\n",
       "  background-color: #f7b396;\n",
       "  color: #000000;\n",
       "}\n",
       "#T_58551_row22_col19 {\n",
       "  background-color: #485fd1;\n",
       "  color: #f1f1f1;\n",
       "}\n",
       "#T_58551_row22_col21 {\n",
       "  background-color: #c12b30;\n",
       "  color: #f1f1f1;\n",
       "}\n",
       "#T_58551_row23_col5 {\n",
       "  background-color: #cad8ef;\n",
       "  color: #000000;\n",
       "}\n",
       "#T_58551_row23_col10 {\n",
       "  background-color: #f7ac8e;\n",
       "  color: #000000;\n",
       "}\n",
       "#T_58551_row23_col21 {\n",
       "  background-color: #f59d7e;\n",
       "  color: #000000;\n",
       "}\n",
       "</style>\n",
       "<table id=\"T_58551\">\n",
       "  <thead>\n",
       "    <tr>\n",
       "      <th class=\"blank level0\" >&nbsp;</th>\n",
       "      <th id=\"T_58551_level0_col0\" class=\"col_heading level0 col0\" >Consumer price index (2010 = 100)</th>\n",
       "      <th id=\"T_58551_level0_col1\" class=\"col_heading level0 col1\" >GDP (constant 2015 US$)</th>\n",
       "      <th id=\"T_58551_level0_col2\" class=\"col_heading level0 col2\" >GDP growth (annual %)</th>\n",
       "      <th id=\"T_58551_level0_col3\" class=\"col_heading level0 col3\" >GDP per capita (constant 2015 US$)</th>\n",
       "      <th id=\"T_58551_level0_col4\" class=\"col_heading level0 col4\" >GNI growth (annual %)</th>\n",
       "      <th id=\"T_58551_level0_col5\" class=\"col_heading level0 col5\" >General government final consumption expenditure (% of GDP)</th>\n",
       "      <th id=\"T_58551_level0_col6\" class=\"col_heading level0 col6\" >General government final consumption expenditure (constant 2015 US$)</th>\n",
       "      <th id=\"T_58551_level0_col7\" class=\"col_heading level0 col7\" >Government expenditure on education, total (% of GDP)</th>\n",
       "      <th id=\"T_58551_level0_col8\" class=\"col_heading level0 col8\" >Imports of goods, services and primary income (BoP, current US$)</th>\n",
       "      <th id=\"T_58551_level0_col9\" class=\"col_heading level0 col9\" >Income share held by fourth 20%</th>\n",
       "      <th id=\"T_58551_level0_col10\" class=\"col_heading level0 col10\" >Income share held by highest 10%</th>\n",
       "      <th id=\"T_58551_level0_col11\" class=\"col_heading level0 col11\" >Income share held by highest 20%</th>\n",
       "      <th id=\"T_58551_level0_col12\" class=\"col_heading level0 col12\" >Income share held by lowest 10%</th>\n",
       "      <th id=\"T_58551_level0_col13\" class=\"col_heading level0 col13\" >Income share held by lowest 20%</th>\n",
       "      <th id=\"T_58551_level0_col14\" class=\"col_heading level0 col14\" >Income share held by second 20%</th>\n",
       "      <th id=\"T_58551_level0_col15\" class=\"col_heading level0 col15\" >Income share held by third 20%</th>\n",
       "      <th id=\"T_58551_level0_col16\" class=\"col_heading level0 col16\" >Lending interest rate (%)</th>\n",
       "      <th id=\"T_58551_level0_col17\" class=\"col_heading level0 col17\" >Life expectancy at birth, total (years)</th>\n",
       "      <th id=\"T_58551_level0_col18\" class=\"col_heading level0 col18\" >Number of neonatal deaths</th>\n",
       "      <th id=\"T_58551_level0_col19\" class=\"col_heading level0 col19\" >Number of under-five deaths</th>\n",
       "      <th id=\"T_58551_level0_col20\" class=\"col_heading level0 col20\" >Poverty headcount ratio at $6.85 a day (2017 PPP) (% of population)</th>\n",
       "      <th id=\"T_58551_level0_col21\" class=\"col_heading level0 col21\" >Proportion of people living below 50 percent of median income (%)</th>\n",
       "      <th id=\"T_58551_level0_col22\" class=\"col_heading level0 col22\" >Subsidies and other transfers (% of expense)</th>\n",
       "      <th id=\"T_58551_level0_col23\" class=\"col_heading level0 col23\" >Tax revenue (% of GDP)</th>\n",
       "    </tr>\n",
       "  </thead>\n",
       "  <tbody>\n",
       "    <tr>\n",
       "      <th id=\"T_58551_level0_row0\" class=\"row_heading level0 row0\" >Consumer price index (2010 = 100)</th>\n",
       "      <td id=\"T_58551_row0_col0\" class=\"data row0 col0\" >1.00</td>\n",
       "      <td id=\"T_58551_row0_col1\" class=\"data row0 col1\" >0.97</td>\n",
       "      <td id=\"T_58551_row0_col2\" class=\"data row0 col2\" >-0.06</td>\n",
       "      <td id=\"T_58551_row0_col3\" class=\"data row0 col3\" >0.97</td>\n",
       "      <td id=\"T_58551_row0_col4\" class=\"data row0 col4\" >-0.04</td>\n",
       "      <td id=\"T_58551_row0_col5\" class=\"data row0 col5\" >-0.29</td>\n",
       "      <td id=\"T_58551_row0_col6\" class=\"data row0 col6\" >0.94</td>\n",
       "      <td id=\"T_58551_row0_col7\" class=\"data row0 col7\" >-0.07</td>\n",
       "      <td id=\"T_58551_row0_col8\" class=\"data row0 col8\" >0.91</td>\n",
       "      <td id=\"T_58551_row0_col9\" class=\"data row0 col9\" >-0.06</td>\n",
       "      <td id=\"T_58551_row0_col10\" class=\"data row0 col10\" >0.60</td>\n",
       "      <td id=\"T_58551_row0_col11\" class=\"data row0 col11\" >0.61</td>\n",
       "      <td id=\"T_58551_row0_col12\" class=\"data row0 col12\" >-0.81</td>\n",
       "      <td id=\"T_58551_row0_col13\" class=\"data row0 col13\" >-0.79</td>\n",
       "      <td id=\"T_58551_row0_col14\" class=\"data row0 col14\" >-0.67</td>\n",
       "      <td id=\"T_58551_row0_col15\" class=\"data row0 col15\" >-0.41</td>\n",
       "      <td id=\"T_58551_row0_col16\" class=\"data row0 col16\" >-0.69</td>\n",
       "      <td id=\"T_58551_row0_col17\" class=\"data row0 col17\" >0.99</td>\n",
       "      <td id=\"T_58551_row0_col18\" class=\"data row0 col18\" >-0.92</td>\n",
       "      <td id=\"T_58551_row0_col19\" class=\"data row0 col19\" >-0.96</td>\n",
       "      <td id=\"T_58551_row0_col20\" class=\"data row0 col20\" >-0.40</td>\n",
       "      <td id=\"T_58551_row0_col21\" class=\"data row0 col21\" >0.83</td>\n",
       "      <td id=\"T_58551_row0_col22\" class=\"data row0 col22\" >0.82</td>\n",
       "      <td id=\"T_58551_row0_col23\" class=\"data row0 col23\" >0.61</td>\n",
       "    </tr>\n",
       "    <tr>\n",
       "      <th id=\"T_58551_level0_row1\" class=\"row_heading level0 row1\" >GDP (constant 2015 US$)</th>\n",
       "      <td id=\"T_58551_row1_col0\" class=\"data row1 col0\" >0.97</td>\n",
       "      <td id=\"T_58551_row1_col1\" class=\"data row1 col1\" >1.00</td>\n",
       "      <td id=\"T_58551_row1_col2\" class=\"data row1 col2\" >-0.05</td>\n",
       "      <td id=\"T_58551_row1_col3\" class=\"data row1 col3\" >0.99</td>\n",
       "      <td id=\"T_58551_row1_col4\" class=\"data row1 col4\" >-0.04</td>\n",
       "      <td id=\"T_58551_row1_col5\" class=\"data row1 col5\" >-0.26</td>\n",
       "      <td id=\"T_58551_row1_col6\" class=\"data row1 col6\" >0.98</td>\n",
       "      <td id=\"T_58551_row1_col7\" class=\"data row1 col7\" >0.02</td>\n",
       "      <td id=\"T_58551_row1_col8\" class=\"data row1 col8\" >0.96</td>\n",
       "      <td id=\"T_58551_row1_col9\" class=\"data row1 col9\" >-0.07</td>\n",
       "      <td id=\"T_58551_row1_col10\" class=\"data row1 col10\" >0.53</td>\n",
       "      <td id=\"T_58551_row1_col11\" class=\"data row1 col11\" >0.54</td>\n",
       "      <td id=\"T_58551_row1_col12\" class=\"data row1 col12\" >-0.73</td>\n",
       "      <td id=\"T_58551_row1_col13\" class=\"data row1 col13\" >-0.70</td>\n",
       "      <td id=\"T_58551_row1_col14\" class=\"data row1 col14\" >-0.58</td>\n",
       "      <td id=\"T_58551_row1_col15\" class=\"data row1 col15\" >-0.33</td>\n",
       "      <td id=\"T_58551_row1_col16\" class=\"data row1 col16\" >-0.70</td>\n",
       "      <td id=\"T_58551_row1_col17\" class=\"data row1 col17\" >0.99</td>\n",
       "      <td id=\"T_58551_row1_col18\" class=\"data row1 col18\" >-0.84</td>\n",
       "      <td id=\"T_58551_row1_col19\" class=\"data row1 col19\" >-0.90</td>\n",
       "      <td id=\"T_58551_row1_col20\" class=\"data row1 col20\" >-0.40</td>\n",
       "      <td id=\"T_58551_row1_col21\" class=\"data row1 col21\" >0.74</td>\n",
       "      <td id=\"T_58551_row1_col22\" class=\"data row1 col22\" >0.73</td>\n",
       "      <td id=\"T_58551_row1_col23\" class=\"data row1 col23\" >0.61</td>\n",
       "    </tr>\n",
       "    <tr>\n",
       "      <th id=\"T_58551_level0_row2\" class=\"row_heading level0 row2\" >GDP growth (annual %)</th>\n",
       "      <td id=\"T_58551_row2_col0\" class=\"data row2 col0\" >-0.06</td>\n",
       "      <td id=\"T_58551_row2_col1\" class=\"data row2 col1\" >-0.05</td>\n",
       "      <td id=\"T_58551_row2_col2\" class=\"data row2 col2\" >1.00</td>\n",
       "      <td id=\"T_58551_row2_col3\" class=\"data row2 col3\" >-0.03</td>\n",
       "      <td id=\"T_58551_row2_col4\" class=\"data row2 col4\" >0.97</td>\n",
       "      <td id=\"T_58551_row2_col5\" class=\"data row2 col5\" >-0.41</td>\n",
       "      <td id=\"T_58551_row2_col6\" class=\"data row2 col6\" >-0.14</td>\n",
       "      <td id=\"T_58551_row2_col7\" class=\"data row2 col7\" >-0.17</td>\n",
       "      <td id=\"T_58551_row2_col8\" class=\"data row2 col8\" >-0.13</td>\n",
       "      <td id=\"T_58551_row2_col9\" class=\"data row2 col9\" >-0.10</td>\n",
       "      <td id=\"T_58551_row2_col10\" class=\"data row2 col10\" >0.07</td>\n",
       "      <td id=\"T_58551_row2_col11\" class=\"data row2 col11\" >0.07</td>\n",
       "      <td id=\"T_58551_row2_col12\" class=\"data row2 col12\" >0.02</td>\n",
       "      <td id=\"T_58551_row2_col13\" class=\"data row2 col13\" >-0.02</td>\n",
       "      <td id=\"T_58551_row2_col14\" class=\"data row2 col14\" >-0.09</td>\n",
       "      <td id=\"T_58551_row2_col15\" class=\"data row2 col15\" >-0.11</td>\n",
       "      <td id=\"T_58551_row2_col16\" class=\"data row2 col16\" >-0.01</td>\n",
       "      <td id=\"T_58551_row2_col17\" class=\"data row2 col17\" >-0.09</td>\n",
       "      <td id=\"T_58551_row2_col18\" class=\"data row2 col18\" >-0.03</td>\n",
       "      <td id=\"T_58551_row2_col19\" class=\"data row2 col19\" >0.01</td>\n",
       "      <td id=\"T_58551_row2_col20\" class=\"data row2 col20\" >-0.42</td>\n",
       "      <td id=\"T_58551_row2_col21\" class=\"data row2 col21\" >0.01</td>\n",
       "      <td id=\"T_58551_row2_col22\" class=\"data row2 col22\" >-0.09</td>\n",
       "      <td id=\"T_58551_row2_col23\" class=\"data row2 col23\" >-0.26</td>\n",
       "    </tr>\n",
       "    <tr>\n",
       "      <th id=\"T_58551_level0_row3\" class=\"row_heading level0 row3\" >GDP per capita (constant 2015 US$)</th>\n",
       "      <td id=\"T_58551_row3_col0\" class=\"data row3 col0\" >0.97</td>\n",
       "      <td id=\"T_58551_row3_col1\" class=\"data row3 col1\" >0.99</td>\n",
       "      <td id=\"T_58551_row3_col2\" class=\"data row3 col2\" >-0.03</td>\n",
       "      <td id=\"T_58551_row3_col3\" class=\"data row3 col3\" >1.00</td>\n",
       "      <td id=\"T_58551_row3_col4\" class=\"data row3 col4\" >-0.02</td>\n",
       "      <td id=\"T_58551_row3_col5\" class=\"data row3 col5\" >-0.31</td>\n",
       "      <td id=\"T_58551_row3_col6\" class=\"data row3 col6\" >0.95</td>\n",
       "      <td id=\"T_58551_row3_col7\" class=\"data row3 col7\" >-0.06</td>\n",
       "      <td id=\"T_58551_row3_col8\" class=\"data row3 col8\" >0.95</td>\n",
       "      <td id=\"T_58551_row3_col9\" class=\"data row3 col9\" >-0.15</td>\n",
       "      <td id=\"T_58551_row3_col10\" class=\"data row3 col10\" >0.62</td>\n",
       "      <td id=\"T_58551_row3_col11\" class=\"data row3 col11\" >0.62</td>\n",
       "      <td id=\"T_58551_row3_col12\" class=\"data row3 col12\" >-0.79</td>\n",
       "      <td id=\"T_58551_row3_col13\" class=\"data row3 col13\" >-0.77</td>\n",
       "      <td id=\"T_58551_row3_col14\" class=\"data row3 col14\" >-0.66</td>\n",
       "      <td id=\"T_58551_row3_col15\" class=\"data row3 col15\" >-0.42</td>\n",
       "      <td id=\"T_58551_row3_col16\" class=\"data row3 col16\" >-0.71</td>\n",
       "      <td id=\"T_58551_row3_col17\" class=\"data row3 col17\" >0.98</td>\n",
       "      <td id=\"T_58551_row3_col18\" class=\"data row3 col18\" >-0.87</td>\n",
       "      <td id=\"T_58551_row3_col19\" class=\"data row3 col19\" >-0.92</td>\n",
       "      <td id=\"T_58551_row3_col20\" class=\"data row3 col20\" >-0.41</td>\n",
       "      <td id=\"T_58551_row3_col21\" class=\"data row3 col21\" >0.79</td>\n",
       "      <td id=\"T_58551_row3_col22\" class=\"data row3 col22\" >0.77</td>\n",
       "      <td id=\"T_58551_row3_col23\" class=\"data row3 col23\" >0.62</td>\n",
       "    </tr>\n",
       "    <tr>\n",
       "      <th id=\"T_58551_level0_row4\" class=\"row_heading level0 row4\" >GNI growth (annual %)</th>\n",
       "      <td id=\"T_58551_row4_col0\" class=\"data row4 col0\" >-0.04</td>\n",
       "      <td id=\"T_58551_row4_col1\" class=\"data row4 col1\" >-0.04</td>\n",
       "      <td id=\"T_58551_row4_col2\" class=\"data row4 col2\" >0.97</td>\n",
       "      <td id=\"T_58551_row4_col3\" class=\"data row4 col3\" >-0.02</td>\n",
       "      <td id=\"T_58551_row4_col4\" class=\"data row4 col4\" >1.00</td>\n",
       "      <td id=\"T_58551_row4_col5\" class=\"data row4 col5\" >-0.43</td>\n",
       "      <td id=\"T_58551_row4_col6\" class=\"data row4 col6\" >-0.13</td>\n",
       "      <td id=\"T_58551_row4_col7\" class=\"data row4 col7\" >-0.19</td>\n",
       "      <td id=\"T_58551_row4_col8\" class=\"data row4 col8\" >-0.14</td>\n",
       "      <td id=\"T_58551_row4_col9\" class=\"data row4 col9\" >-0.11</td>\n",
       "      <td id=\"T_58551_row4_col10\" class=\"data row4 col10\" >0.08</td>\n",
       "      <td id=\"T_58551_row4_col11\" class=\"data row4 col11\" >0.08</td>\n",
       "      <td id=\"T_58551_row4_col12\" class=\"data row4 col12\" >-0.00</td>\n",
       "      <td id=\"T_58551_row4_col13\" class=\"data row4 col13\" >-0.04</td>\n",
       "      <td id=\"T_58551_row4_col14\" class=\"data row4 col14\" >-0.10</td>\n",
       "      <td id=\"T_58551_row4_col15\" class=\"data row4 col15\" >-0.11</td>\n",
       "      <td id=\"T_58551_row4_col16\" class=\"data row4 col16\" >-0.00</td>\n",
       "      <td id=\"T_58551_row4_col17\" class=\"data row4 col17\" >-0.07</td>\n",
       "      <td id=\"T_58551_row4_col18\" class=\"data row4 col18\" >-0.04</td>\n",
       "      <td id=\"T_58551_row4_col19\" class=\"data row4 col19\" >-0.01</td>\n",
       "      <td id=\"T_58551_row4_col20\" class=\"data row4 col20\" >-0.41</td>\n",
       "      <td id=\"T_58551_row4_col21\" class=\"data row4 col21\" >0.03</td>\n",
       "      <td id=\"T_58551_row4_col22\" class=\"data row4 col22\" >-0.08</td>\n",
       "      <td id=\"T_58551_row4_col23\" class=\"data row4 col23\" >-0.25</td>\n",
       "    </tr>\n",
       "    <tr>\n",
       "      <th id=\"T_58551_level0_row5\" class=\"row_heading level0 row5\" >General government final consumption expenditure (% of GDP)</th>\n",
       "      <td id=\"T_58551_row5_col0\" class=\"data row5 col0\" >-0.29</td>\n",
       "      <td id=\"T_58551_row5_col1\" class=\"data row5 col1\" >-0.26</td>\n",
       "      <td id=\"T_58551_row5_col2\" class=\"data row5 col2\" >-0.41</td>\n",
       "      <td id=\"T_58551_row5_col3\" class=\"data row5 col3\" >-0.31</td>\n",
       "      <td id=\"T_58551_row5_col4\" class=\"data row5 col4\" >-0.43</td>\n",
       "      <td id=\"T_58551_row5_col5\" class=\"data row5 col5\" >1.00</td>\n",
       "      <td id=\"T_58551_row5_col6\" class=\"data row5 col6\" >-0.05</td>\n",
       "      <td id=\"T_58551_row5_col7\" class=\"data row5 col7\" >0.61</td>\n",
       "      <td id=\"T_58551_row5_col8\" class=\"data row5 col8\" >-0.10</td>\n",
       "      <td id=\"T_58551_row5_col9\" class=\"data row5 col9\" >0.35</td>\n",
       "      <td id=\"T_58551_row5_col10\" class=\"data row5 col10\" >-0.64</td>\n",
       "      <td id=\"T_58551_row5_col11\" class=\"data row5 col11\" >-0.65</td>\n",
       "      <td id=\"T_58551_row5_col12\" class=\"data row5 col12\" >0.59</td>\n",
       "      <td id=\"T_58551_row5_col13\" class=\"data row5 col13\" >0.60</td>\n",
       "      <td id=\"T_58551_row5_col14\" class=\"data row5 col14\" >0.66</td>\n",
       "      <td id=\"T_58551_row5_col15\" class=\"data row5 col15\" >0.65</td>\n",
       "      <td id=\"T_58551_row5_col16\" class=\"data row5 col16\" >0.12</td>\n",
       "      <td id=\"T_58551_row5_col17\" class=\"data row5 col17\" >-0.21</td>\n",
       "      <td id=\"T_58551_row5_col18\" class=\"data row5 col18\" >0.36</td>\n",
       "      <td id=\"T_58551_row5_col19\" class=\"data row5 col19\" >0.37</td>\n",
       "      <td id=\"T_58551_row5_col20\" class=\"data row5 col20\" >0.15</td>\n",
       "      <td id=\"T_58551_row5_col21\" class=\"data row5 col21\" >-0.55</td>\n",
       "      <td id=\"T_58551_row5_col22\" class=\"data row5 col22\" >-0.43</td>\n",
       "      <td id=\"T_58551_row5_col23\" class=\"data row5 col23\" >0.06</td>\n",
       "    </tr>\n",
       "    <tr>\n",
       "      <th id=\"T_58551_level0_row6\" class=\"row_heading level0 row6\" >General government final consumption expenditure (constant 2015 US$)</th>\n",
       "      <td id=\"T_58551_row6_col0\" class=\"data row6 col0\" >0.94</td>\n",
       "      <td id=\"T_58551_row6_col1\" class=\"data row6 col1\" >0.98</td>\n",
       "      <td id=\"T_58551_row6_col2\" class=\"data row6 col2\" >-0.14</td>\n",
       "      <td id=\"T_58551_row6_col3\" class=\"data row6 col3\" >0.95</td>\n",
       "      <td id=\"T_58551_row6_col4\" class=\"data row6 col4\" >-0.13</td>\n",
       "      <td id=\"T_58551_row6_col5\" class=\"data row6 col5\" >-0.05</td>\n",
       "      <td id=\"T_58551_row6_col6\" class=\"data row6 col6\" >1.00</td>\n",
       "      <td id=\"T_58551_row6_col7\" class=\"data row6 col7\" >0.18</td>\n",
       "      <td id=\"T_58551_row6_col8\" class=\"data row6 col8\" >0.96</td>\n",
       "      <td id=\"T_58551_row6_col9\" class=\"data row6 col9\" >0.02</td>\n",
       "      <td id=\"T_58551_row6_col10\" class=\"data row6 col10\" >0.38</td>\n",
       "      <td id=\"T_58551_row6_col11\" class=\"data row6 col11\" >0.38</td>\n",
       "      <td id=\"T_58551_row6_col12\" class=\"data row6 col12\" >-0.60</td>\n",
       "      <td id=\"T_58551_row6_col13\" class=\"data row6 col13\" >-0.57</td>\n",
       "      <td id=\"T_58551_row6_col14\" class=\"data row6 col14\" >-0.43</td>\n",
       "      <td id=\"T_58551_row6_col15\" class=\"data row6 col15\" >-0.17</td>\n",
       "      <td id=\"T_58551_row6_col16\" class=\"data row6 col16\" >-0.70</td>\n",
       "      <td id=\"T_58551_row6_col17\" class=\"data row6 col17\" >0.97</td>\n",
       "      <td id=\"T_58551_row6_col18\" class=\"data row6 col18\" >-0.77</td>\n",
       "      <td id=\"T_58551_row6_col19\" class=\"data row6 col19\" >-0.83</td>\n",
       "      <td id=\"T_58551_row6_col20\" class=\"data row6 col20\" >-0.38</td>\n",
       "      <td id=\"T_58551_row6_col21\" class=\"data row6 col21\" >0.62</td>\n",
       "      <td id=\"T_58551_row6_col22\" class=\"data row6 col22\" >0.64</td>\n",
       "      <td id=\"T_58551_row6_col23\" class=\"data row6 col23\" >0.63</td>\n",
       "    </tr>\n",
       "    <tr>\n",
       "      <th id=\"T_58551_level0_row7\" class=\"row_heading level0 row7\" >Government expenditure on education, total (% of GDP)</th>\n",
       "      <td id=\"T_58551_row7_col0\" class=\"data row7 col0\" >-0.07</td>\n",
       "      <td id=\"T_58551_row7_col1\" class=\"data row7 col1\" >0.02</td>\n",
       "      <td id=\"T_58551_row7_col2\" class=\"data row7 col2\" >-0.17</td>\n",
       "      <td id=\"T_58551_row7_col3\" class=\"data row7 col3\" >-0.06</td>\n",
       "      <td id=\"T_58551_row7_col4\" class=\"data row7 col4\" >-0.19</td>\n",
       "      <td id=\"T_58551_row7_col5\" class=\"data row7 col5\" >0.61</td>\n",
       "      <td id=\"T_58551_row7_col6\" class=\"data row7 col6\" >0.18</td>\n",
       "      <td id=\"T_58551_row7_col7\" class=\"data row7 col7\" >1.00</td>\n",
       "      <td id=\"T_58551_row7_col8\" class=\"data row7 col8\" >0.10</td>\n",
       "      <td id=\"T_58551_row7_col9\" class=\"data row7 col9\" >0.44</td>\n",
       "      <td id=\"T_58551_row7_col10\" class=\"data row7 col10\" >-0.62</td>\n",
       "      <td id=\"T_58551_row7_col11\" class=\"data row7 col11\" >-0.63</td>\n",
       "      <td id=\"T_58551_row7_col12\" class=\"data row7 col12\" >0.52</td>\n",
       "      <td id=\"T_58551_row7_col13\" class=\"data row7 col13\" >0.54</td>\n",
       "      <td id=\"T_58551_row7_col14\" class=\"data row7 col14\" >0.61</td>\n",
       "      <td id=\"T_58551_row7_col15\" class=\"data row7 col15\" >0.71</td>\n",
       "      <td id=\"T_58551_row7_col16\" class=\"data row7 col16\" >-0.19</td>\n",
       "      <td id=\"T_58551_row7_col17\" class=\"data row7 col17\" >0.03</td>\n",
       "      <td id=\"T_58551_row7_col18\" class=\"data row7 col18\" >0.34</td>\n",
       "      <td id=\"T_58551_row7_col19\" class=\"data row7 col19\" >0.25</td>\n",
       "      <td id=\"T_58551_row7_col20\" class=\"data row7 col20\" >0.23</td>\n",
       "      <td id=\"T_58551_row7_col21\" class=\"data row7 col21\" >-0.48</td>\n",
       "      <td id=\"T_58551_row7_col22\" class=\"data row7 col22\" >-0.34</td>\n",
       "      <td id=\"T_58551_row7_col23\" class=\"data row7 col23\" >-0.03</td>\n",
       "    </tr>\n",
       "    <tr>\n",
       "      <th id=\"T_58551_level0_row8\" class=\"row_heading level0 row8\" >Imports of goods, services and primary income (BoP, current US$)</th>\n",
       "      <td id=\"T_58551_row8_col0\" class=\"data row8 col0\" >0.91</td>\n",
       "      <td id=\"T_58551_row8_col1\" class=\"data row8 col1\" >0.96</td>\n",
       "      <td id=\"T_58551_row8_col2\" class=\"data row8 col2\" >-0.13</td>\n",
       "      <td id=\"T_58551_row8_col3\" class=\"data row8 col3\" >0.95</td>\n",
       "      <td id=\"T_58551_row8_col4\" class=\"data row8 col4\" >-0.14</td>\n",
       "      <td id=\"T_58551_row8_col5\" class=\"data row8 col5\" >-0.10</td>\n",
       "      <td id=\"T_58551_row8_col6\" class=\"data row8 col6\" >0.96</td>\n",
       "      <td id=\"T_58551_row8_col7\" class=\"data row8 col7\" >0.10</td>\n",
       "      <td id=\"T_58551_row8_col8\" class=\"data row8 col8\" >1.00</td>\n",
       "      <td id=\"T_58551_row8_col9\" class=\"data row8 col9\" >-0.05</td>\n",
       "      <td id=\"T_58551_row8_col10\" class=\"data row8 col10\" >0.46</td>\n",
       "      <td id=\"T_58551_row8_col11\" class=\"data row8 col11\" >0.46</td>\n",
       "      <td id=\"T_58551_row8_col12\" class=\"data row8 col12\" >-0.65</td>\n",
       "      <td id=\"T_58551_row8_col13\" class=\"data row8 col13\" >-0.62</td>\n",
       "      <td id=\"T_58551_row8_col14\" class=\"data row8 col14\" >-0.50</td>\n",
       "      <td id=\"T_58551_row8_col15\" class=\"data row8 col15\" >-0.26</td>\n",
       "      <td id=\"T_58551_row8_col16\" class=\"data row8 col16\" >-0.70</td>\n",
       "      <td id=\"T_58551_row8_col17\" class=\"data row8 col17\" >0.94</td>\n",
       "      <td id=\"T_58551_row8_col18\" class=\"data row8 col18\" >-0.77</td>\n",
       "      <td id=\"T_58551_row8_col19\" class=\"data row8 col19\" >-0.83</td>\n",
       "      <td id=\"T_58551_row8_col20\" class=\"data row8 col20\" >-0.38</td>\n",
       "      <td id=\"T_58551_row8_col21\" class=\"data row8 col21\" >0.66</td>\n",
       "      <td id=\"T_58551_row8_col22\" class=\"data row8 col22\" >0.66</td>\n",
       "      <td id=\"T_58551_row8_col23\" class=\"data row8 col23\" >0.65</td>\n",
       "    </tr>\n",
       "    <tr>\n",
       "      <th id=\"T_58551_level0_row9\" class=\"row_heading level0 row9\" >Income share held by fourth 20%</th>\n",
       "      <td id=\"T_58551_row9_col0\" class=\"data row9 col0\" >-0.06</td>\n",
       "      <td id=\"T_58551_row9_col1\" class=\"data row9 col1\" >-0.07</td>\n",
       "      <td id=\"T_58551_row9_col2\" class=\"data row9 col2\" >-0.10</td>\n",
       "      <td id=\"T_58551_row9_col3\" class=\"data row9 col3\" >-0.15</td>\n",
       "      <td id=\"T_58551_row9_col4\" class=\"data row9 col4\" >-0.11</td>\n",
       "      <td id=\"T_58551_row9_col5\" class=\"data row9 col5\" >0.35</td>\n",
       "      <td id=\"T_58551_row9_col6\" class=\"data row9 col6\" >0.02</td>\n",
       "      <td id=\"T_58551_row9_col7\" class=\"data row9 col7\" >0.44</td>\n",
       "      <td id=\"T_58551_row9_col8\" class=\"data row9 col8\" >-0.05</td>\n",
       "      <td id=\"T_58551_row9_col9\" class=\"data row9 col9\" >1.00</td>\n",
       "      <td id=\"T_58551_row9_col10\" class=\"data row9 col10\" >-0.69</td>\n",
       "      <td id=\"T_58551_row9_col11\" class=\"data row9 col11\" >-0.63</td>\n",
       "      <td id=\"T_58551_row9_col12\" class=\"data row9 col12\" >0.36</td>\n",
       "      <td id=\"T_58551_row9_col13\" class=\"data row9 col13\" >0.40</td>\n",
       "      <td id=\"T_58551_row9_col14\" class=\"data row9 col14\" >0.52</td>\n",
       "      <td id=\"T_58551_row9_col15\" class=\"data row9 col15\" >0.72</td>\n",
       "      <td id=\"T_58551_row9_col16\" class=\"data row9 col16\" >0.28</td>\n",
       "      <td id=\"T_58551_row9_col17\" class=\"data row9 col17\" >-0.04</td>\n",
       "      <td id=\"T_58551_row9_col18\" class=\"data row9 col18\" >0.18</td>\n",
       "      <td id=\"T_58551_row9_col19\" class=\"data row9 col19\" >0.17</td>\n",
       "      <td id=\"T_58551_row9_col20\" class=\"data row9 col20\" >0.09</td>\n",
       "      <td id=\"T_58551_row9_col21\" class=\"data row9 col21\" >-0.25</td>\n",
       "      <td id=\"T_58551_row9_col22\" class=\"data row9 col22\" >-0.20</td>\n",
       "      <td id=\"T_58551_row9_col23\" class=\"data row9 col23\" >-0.26</td>\n",
       "    </tr>\n",
       "    <tr>\n",
       "      <th id=\"T_58551_level0_row10\" class=\"row_heading level0 row10\" >Income share held by highest 10%</th>\n",
       "      <td id=\"T_58551_row10_col0\" class=\"data row10 col0\" >0.60</td>\n",
       "      <td id=\"T_58551_row10_col1\" class=\"data row10 col1\" >0.53</td>\n",
       "      <td id=\"T_58551_row10_col2\" class=\"data row10 col2\" >0.07</td>\n",
       "      <td id=\"T_58551_row10_col3\" class=\"data row10 col3\" >0.62</td>\n",
       "      <td id=\"T_58551_row10_col4\" class=\"data row10 col4\" >0.08</td>\n",
       "      <td id=\"T_58551_row10_col5\" class=\"data row10 col5\" >-0.64</td>\n",
       "      <td id=\"T_58551_row10_col6\" class=\"data row10 col6\" >0.38</td>\n",
       "      <td id=\"T_58551_row10_col7\" class=\"data row10 col7\" >-0.62</td>\n",
       "      <td id=\"T_58551_row10_col8\" class=\"data row10 col8\" >0.46</td>\n",
       "      <td id=\"T_58551_row10_col9\" class=\"data row10 col9\" >-0.69</td>\n",
       "      <td id=\"T_58551_row10_col10\" class=\"data row10 col10\" >1.00</td>\n",
       "      <td id=\"T_58551_row10_col11\" class=\"data row10 col11\" >1.00</td>\n",
       "      <td id=\"T_58551_row10_col12\" class=\"data row10 col12\" >-0.91</td>\n",
       "      <td id=\"T_58551_row10_col13\" class=\"data row10 col13\" >-0.93</td>\n",
       "      <td id=\"T_58551_row10_col14\" class=\"data row10 col14\" >-0.97</td>\n",
       "      <td id=\"T_58551_row10_col15\" class=\"data row10 col15\" >-0.96</td>\n",
       "      <td id=\"T_58551_row10_col16\" class=\"data row10 col16\" >-0.47</td>\n",
       "      <td id=\"T_58551_row10_col17\" class=\"data row10 col17\" >0.54</td>\n",
       "      <td id=\"T_58551_row10_col18\" class=\"data row10 col18\" >-0.72</td>\n",
       "      <td id=\"T_58551_row10_col19\" class=\"data row10 col19\" >-0.70</td>\n",
       "      <td id=\"T_58551_row10_col20\" class=\"data row10 col20\" >-0.25</td>\n",
       "      <td id=\"T_58551_row10_col21\" class=\"data row10 col21\" >0.85</td>\n",
       "      <td id=\"T_58551_row10_col22\" class=\"data row10 col22\" >0.78</td>\n",
       "      <td id=\"T_58551_row10_col23\" class=\"data row10 col23\" >0.41</td>\n",
       "    </tr>\n",
       "    <tr>\n",
       "      <th id=\"T_58551_level0_row11\" class=\"row_heading level0 row11\" >Income share held by highest 20%</th>\n",
       "      <td id=\"T_58551_row11_col0\" class=\"data row11 col0\" >0.61</td>\n",
       "      <td id=\"T_58551_row11_col1\" class=\"data row11 col1\" >0.54</td>\n",
       "      <td id=\"T_58551_row11_col2\" class=\"data row11 col2\" >0.07</td>\n",
       "      <td id=\"T_58551_row11_col3\" class=\"data row11 col3\" >0.62</td>\n",
       "      <td id=\"T_58551_row11_col4\" class=\"data row11 col4\" >0.08</td>\n",
       "      <td id=\"T_58551_row11_col5\" class=\"data row11 col5\" >-0.65</td>\n",
       "      <td id=\"T_58551_row11_col6\" class=\"data row11 col6\" >0.38</td>\n",
       "      <td id=\"T_58551_row11_col7\" class=\"data row11 col7\" >-0.63</td>\n",
       "      <td id=\"T_58551_row11_col8\" class=\"data row11 col8\" >0.46</td>\n",
       "      <td id=\"T_58551_row11_col9\" class=\"data row11 col9\" >-0.63</td>\n",
       "      <td id=\"T_58551_row11_col10\" class=\"data row11 col10\" >1.00</td>\n",
       "      <td id=\"T_58551_row11_col11\" class=\"data row11 col11\" >1.00</td>\n",
       "      <td id=\"T_58551_row11_col12\" class=\"data row11 col12\" >-0.93</td>\n",
       "      <td id=\"T_58551_row11_col13\" class=\"data row11 col13\" >-0.95</td>\n",
       "      <td id=\"T_58551_row11_col14\" class=\"data row11 col14\" >-0.99</td>\n",
       "      <td id=\"T_58551_row11_col15\" class=\"data row11 col15\" >-0.96</td>\n",
       "      <td id=\"T_58551_row11_col16\" class=\"data row11 col16\" >-0.46</td>\n",
       "      <td id=\"T_58551_row11_col17\" class=\"data row11 col17\" >0.55</td>\n",
       "      <td id=\"T_58551_row11_col18\" class=\"data row11 col18\" >-0.74</td>\n",
       "      <td id=\"T_58551_row11_col19\" class=\"data row11 col19\" >-0.72</td>\n",
       "      <td id=\"T_58551_row11_col20\" class=\"data row11 col20\" >-0.26</td>\n",
       "      <td id=\"T_58551_row11_col21\" class=\"data row11 col21\" >0.88</td>\n",
       "      <td id=\"T_58551_row11_col22\" class=\"data row11 col22\" >0.81</td>\n",
       "      <td id=\"T_58551_row11_col23\" class=\"data row11 col23\" >0.39</td>\n",
       "    </tr>\n",
       "    <tr>\n",
       "      <th id=\"T_58551_level0_row12\" class=\"row_heading level0 row12\" >Income share held by lowest 10%</th>\n",
       "      <td id=\"T_58551_row12_col0\" class=\"data row12 col0\" >-0.81</td>\n",
       "      <td id=\"T_58551_row12_col1\" class=\"data row12 col1\" >-0.73</td>\n",
       "      <td id=\"T_58551_row12_col2\" class=\"data row12 col2\" >0.02</td>\n",
       "      <td id=\"T_58551_row12_col3\" class=\"data row12 col3\" >-0.79</td>\n",
       "      <td id=\"T_58551_row12_col4\" class=\"data row12 col4\" >-0.00</td>\n",
       "      <td id=\"T_58551_row12_col5\" class=\"data row12 col5\" >0.59</td>\n",
       "      <td id=\"T_58551_row12_col6\" class=\"data row12 col6\" >-0.60</td>\n",
       "      <td id=\"T_58551_row12_col7\" class=\"data row12 col7\" >0.52</td>\n",
       "      <td id=\"T_58551_row12_col8\" class=\"data row12 col8\" >-0.65</td>\n",
       "      <td id=\"T_58551_row12_col9\" class=\"data row12 col9\" >0.36</td>\n",
       "      <td id=\"T_58551_row12_col10\" class=\"data row12 col10\" >-0.91</td>\n",
       "      <td id=\"T_58551_row12_col11\" class=\"data row12 col11\" >-0.93</td>\n",
       "      <td id=\"T_58551_row12_col12\" class=\"data row12 col12\" >1.00</td>\n",
       "      <td id=\"T_58551_row12_col13\" class=\"data row12 col13\" >1.00</td>\n",
       "      <td id=\"T_58551_row12_col14\" class=\"data row12 col14\" >0.96</td>\n",
       "      <td id=\"T_58551_row12_col15\" class=\"data row12 col15\" >0.81</td>\n",
       "      <td id=\"T_58551_row12_col16\" class=\"data row12 col16\" >0.50</td>\n",
       "      <td id=\"T_58551_row12_col17\" class=\"data row12 col17\" >-0.75</td>\n",
       "      <td id=\"T_58551_row12_col18\" class=\"data row12 col18\" >0.89</td>\n",
       "      <td id=\"T_58551_row12_col19\" class=\"data row12 col19\" >0.88</td>\n",
       "      <td id=\"T_58551_row12_col20\" class=\"data row12 col20\" >0.27</td>\n",
       "      <td id=\"T_58551_row12_col21\" class=\"data row12 col21\" >-0.98</td>\n",
       "      <td id=\"T_58551_row12_col22\" class=\"data row12 col22\" >-0.91</td>\n",
       "      <td id=\"T_58551_row12_col23\" class=\"data row12 col23\" >-0.49</td>\n",
       "    </tr>\n",
       "    <tr>\n",
       "      <th id=\"T_58551_level0_row13\" class=\"row_heading level0 row13\" >Income share held by lowest 20%</th>\n",
       "      <td id=\"T_58551_row13_col0\" class=\"data row13 col0\" >-0.79</td>\n",
       "      <td id=\"T_58551_row13_col1\" class=\"data row13 col1\" >-0.70</td>\n",
       "      <td id=\"T_58551_row13_col2\" class=\"data row13 col2\" >-0.02</td>\n",
       "      <td id=\"T_58551_row13_col3\" class=\"data row13 col3\" >-0.77</td>\n",
       "      <td id=\"T_58551_row13_col4\" class=\"data row13 col4\" >-0.04</td>\n",
       "      <td id=\"T_58551_row13_col5\" class=\"data row13 col5\" >0.60</td>\n",
       "      <td id=\"T_58551_row13_col6\" class=\"data row13 col6\" >-0.57</td>\n",
       "      <td id=\"T_58551_row13_col7\" class=\"data row13 col7\" >0.54</td>\n",
       "      <td id=\"T_58551_row13_col8\" class=\"data row13 col8\" >-0.62</td>\n",
       "      <td id=\"T_58551_row13_col9\" class=\"data row13 col9\" >0.40</td>\n",
       "      <td id=\"T_58551_row13_col10\" class=\"data row13 col10\" >-0.93</td>\n",
       "      <td id=\"T_58551_row13_col11\" class=\"data row13 col11\" >-0.95</td>\n",
       "      <td id=\"T_58551_row13_col12\" class=\"data row13 col12\" >1.00</td>\n",
       "      <td id=\"T_58551_row13_col13\" class=\"data row13 col13\" >1.00</td>\n",
       "      <td id=\"T_58551_row13_col14\" class=\"data row13 col14\" >0.97</td>\n",
       "      <td id=\"T_58551_row13_col15\" class=\"data row13 col15\" >0.84</td>\n",
       "      <td id=\"T_58551_row13_col16\" class=\"data row13 col16\" >0.51</td>\n",
       "      <td id=\"T_58551_row13_col17\" class=\"data row13 col17\" >-0.72</td>\n",
       "      <td id=\"T_58551_row13_col18\" class=\"data row13 col18\" >0.87</td>\n",
       "      <td id=\"T_58551_row13_col19\" class=\"data row13 col19\" >0.86</td>\n",
       "      <td id=\"T_58551_row13_col20\" class=\"data row13 col20\" >0.28</td>\n",
       "      <td id=\"T_58551_row13_col21\" class=\"data row13 col21\" >-0.98</td>\n",
       "      <td id=\"T_58551_row13_col22\" class=\"data row13 col22\" >-0.91</td>\n",
       "      <td id=\"T_58551_row13_col23\" class=\"data row13 col23\" >-0.46</td>\n",
       "    </tr>\n",
       "    <tr>\n",
       "      <th id=\"T_58551_level0_row14\" class=\"row_heading level0 row14\" >Income share held by second 20%</th>\n",
       "      <td id=\"T_58551_row14_col0\" class=\"data row14 col0\" >-0.67</td>\n",
       "      <td id=\"T_58551_row14_col1\" class=\"data row14 col1\" >-0.58</td>\n",
       "      <td id=\"T_58551_row14_col2\" class=\"data row14 col2\" >-0.09</td>\n",
       "      <td id=\"T_58551_row14_col3\" class=\"data row14 col3\" >-0.66</td>\n",
       "      <td id=\"T_58551_row14_col4\" class=\"data row14 col4\" >-0.10</td>\n",
       "      <td id=\"T_58551_row14_col5\" class=\"data row14 col5\" >0.66</td>\n",
       "      <td id=\"T_58551_row14_col6\" class=\"data row14 col6\" >-0.43</td>\n",
       "      <td id=\"T_58551_row14_col7\" class=\"data row14 col7\" >0.61</td>\n",
       "      <td id=\"T_58551_row14_col8\" class=\"data row14 col8\" >-0.50</td>\n",
       "      <td id=\"T_58551_row14_col9\" class=\"data row14 col9\" >0.52</td>\n",
       "      <td id=\"T_58551_row14_col10\" class=\"data row14 col10\" >-0.97</td>\n",
       "      <td id=\"T_58551_row14_col11\" class=\"data row14 col11\" >-0.99</td>\n",
       "      <td id=\"T_58551_row14_col12\" class=\"data row14 col12\" >0.96</td>\n",
       "      <td id=\"T_58551_row14_col13\" class=\"data row14 col13\" >0.97</td>\n",
       "      <td id=\"T_58551_row14_col14\" class=\"data row14 col14\" >1.00</td>\n",
       "      <td id=\"T_58551_row14_col15\" class=\"data row14 col15\" >0.93</td>\n",
       "      <td id=\"T_58551_row14_col16\" class=\"data row14 col16\" >0.47</td>\n",
       "      <td id=\"T_58551_row14_col17\" class=\"data row14 col17\" >-0.60</td>\n",
       "      <td id=\"T_58551_row14_col18\" class=\"data row14 col18\" >0.78</td>\n",
       "      <td id=\"T_58551_row14_col19\" class=\"data row14 col19\" >0.76</td>\n",
       "      <td id=\"T_58551_row14_col20\" class=\"data row14 col20\" >0.28</td>\n",
       "      <td id=\"T_58551_row14_col21\" class=\"data row14 col21\" >-0.92</td>\n",
       "      <td id=\"T_58551_row14_col22\" class=\"data row14 col22\" >-0.85</td>\n",
       "      <td id=\"T_58551_row14_col23\" class=\"data row14 col23\" >-0.37</td>\n",
       "    </tr>\n",
       "    <tr>\n",
       "      <th id=\"T_58551_level0_row15\" class=\"row_heading level0 row15\" >Income share held by third 20%</th>\n",
       "      <td id=\"T_58551_row15_col0\" class=\"data row15 col0\" >-0.41</td>\n",
       "      <td id=\"T_58551_row15_col1\" class=\"data row15 col1\" >-0.33</td>\n",
       "      <td id=\"T_58551_row15_col2\" class=\"data row15 col2\" >-0.11</td>\n",
       "      <td id=\"T_58551_row15_col3\" class=\"data row15 col3\" >-0.42</td>\n",
       "      <td id=\"T_58551_row15_col4\" class=\"data row15 col4\" >-0.11</td>\n",
       "      <td id=\"T_58551_row15_col5\" class=\"data row15 col5\" >0.65</td>\n",
       "      <td id=\"T_58551_row15_col6\" class=\"data row15 col6\" >-0.17</td>\n",
       "      <td id=\"T_58551_row15_col7\" class=\"data row15 col7\" >0.71</td>\n",
       "      <td id=\"T_58551_row15_col8\" class=\"data row15 col8\" >-0.26</td>\n",
       "      <td id=\"T_58551_row15_col9\" class=\"data row15 col9\" >0.72</td>\n",
       "      <td id=\"T_58551_row15_col10\" class=\"data row15 col10\" >-0.96</td>\n",
       "      <td id=\"T_58551_row15_col11\" class=\"data row15 col11\" >-0.96</td>\n",
       "      <td id=\"T_58551_row15_col12\" class=\"data row15 col12\" >0.81</td>\n",
       "      <td id=\"T_58551_row15_col13\" class=\"data row15 col13\" >0.84</td>\n",
       "      <td id=\"T_58551_row15_col14\" class=\"data row15 col14\" >0.93</td>\n",
       "      <td id=\"T_58551_row15_col15\" class=\"data row15 col15\" >1.00</td>\n",
       "      <td id=\"T_58551_row15_col16\" class=\"data row15 col16\" >0.33</td>\n",
       "      <td id=\"T_58551_row15_col17\" class=\"data row15 col17\" >-0.34</td>\n",
       "      <td id=\"T_58551_row15_col18\" class=\"data row15 col18\" >0.57</td>\n",
       "      <td id=\"T_58551_row15_col19\" class=\"data row15 col19\" >0.53</td>\n",
       "      <td id=\"T_58551_row15_col20\" class=\"data row15 col20\" >0.22</td>\n",
       "      <td id=\"T_58551_row15_col21\" class=\"data row15 col21\" >-0.74</td>\n",
       "      <td id=\"T_58551_row15_col22\" class=\"data row15 col22\" >-0.67</td>\n",
       "      <td id=\"T_58551_row15_col23\" class=\"data row15 col23\" >-0.26</td>\n",
       "    </tr>\n",
       "    <tr>\n",
       "      <th id=\"T_58551_level0_row16\" class=\"row_heading level0 row16\" >Lending interest rate (%)</th>\n",
       "      <td id=\"T_58551_row16_col0\" class=\"data row16 col0\" >-0.69</td>\n",
       "      <td id=\"T_58551_row16_col1\" class=\"data row16 col1\" >-0.70</td>\n",
       "      <td id=\"T_58551_row16_col2\" class=\"data row16 col2\" >-0.01</td>\n",
       "      <td id=\"T_58551_row16_col3\" class=\"data row16 col3\" >-0.71</td>\n",
       "      <td id=\"T_58551_row16_col4\" class=\"data row16 col4\" >-0.00</td>\n",
       "      <td id=\"T_58551_row16_col5\" class=\"data row16 col5\" >0.12</td>\n",
       "      <td id=\"T_58551_row16_col6\" class=\"data row16 col6\" >-0.70</td>\n",
       "      <td id=\"T_58551_row16_col7\" class=\"data row16 col7\" >-0.19</td>\n",
       "      <td id=\"T_58551_row16_col8\" class=\"data row16 col8\" >-0.70</td>\n",
       "      <td id=\"T_58551_row16_col9\" class=\"data row16 col9\" >0.28</td>\n",
       "      <td id=\"T_58551_row16_col10\" class=\"data row16 col10\" >-0.47</td>\n",
       "      <td id=\"T_58551_row16_col11\" class=\"data row16 col11\" >-0.46</td>\n",
       "      <td id=\"T_58551_row16_col12\" class=\"data row16 col12\" >0.50</td>\n",
       "      <td id=\"T_58551_row16_col13\" class=\"data row16 col13\" >0.51</td>\n",
       "      <td id=\"T_58551_row16_col14\" class=\"data row16 col14\" >0.47</td>\n",
       "      <td id=\"T_58551_row16_col15\" class=\"data row16 col15\" >0.33</td>\n",
       "      <td id=\"T_58551_row16_col16\" class=\"data row16 col16\" >1.00</td>\n",
       "      <td id=\"T_58551_row16_col17\" class=\"data row16 col17\" >-0.73</td>\n",
       "      <td id=\"T_58551_row16_col18\" class=\"data row16 col18\" >0.56</td>\n",
       "      <td id=\"T_58551_row16_col19\" class=\"data row16 col19\" >0.64</td>\n",
       "      <td id=\"T_58551_row16_col20\" class=\"data row16 col20\" >0.26</td>\n",
       "      <td id=\"T_58551_row16_col21\" class=\"data row16 col21\" >-0.51</td>\n",
       "      <td id=\"T_58551_row16_col22\" class=\"data row16 col22\" >-0.57</td>\n",
       "      <td id=\"T_58551_row16_col23\" class=\"data row16 col23\" >-0.38</td>\n",
       "    </tr>\n",
       "    <tr>\n",
       "      <th id=\"T_58551_level0_row17\" class=\"row_heading level0 row17\" >Life expectancy at birth, total (years)</th>\n",
       "      <td id=\"T_58551_row17_col0\" class=\"data row17 col0\" >0.99</td>\n",
       "      <td id=\"T_58551_row17_col1\" class=\"data row17 col1\" >0.99</td>\n",
       "      <td id=\"T_58551_row17_col2\" class=\"data row17 col2\" >-0.09</td>\n",
       "      <td id=\"T_58551_row17_col3\" class=\"data row17 col3\" >0.98</td>\n",
       "      <td id=\"T_58551_row17_col4\" class=\"data row17 col4\" >-0.07</td>\n",
       "      <td id=\"T_58551_row17_col5\" class=\"data row17 col5\" >-0.21</td>\n",
       "      <td id=\"T_58551_row17_col6\" class=\"data row17 col6\" >0.97</td>\n",
       "      <td id=\"T_58551_row17_col7\" class=\"data row17 col7\" >0.03</td>\n",
       "      <td id=\"T_58551_row17_col8\" class=\"data row17 col8\" >0.94</td>\n",
       "      <td id=\"T_58551_row17_col9\" class=\"data row17 col9\" >-0.04</td>\n",
       "      <td id=\"T_58551_row17_col10\" class=\"data row17 col10\" >0.54</td>\n",
       "      <td id=\"T_58551_row17_col11\" class=\"data row17 col11\" >0.55</td>\n",
       "      <td id=\"T_58551_row17_col12\" class=\"data row17 col12\" >-0.75</td>\n",
       "      <td id=\"T_58551_row17_col13\" class=\"data row17 col13\" >-0.72</td>\n",
       "      <td id=\"T_58551_row17_col14\" class=\"data row17 col14\" >-0.60</td>\n",
       "      <td id=\"T_58551_row17_col15\" class=\"data row17 col15\" >-0.34</td>\n",
       "      <td id=\"T_58551_row17_col16\" class=\"data row17 col16\" >-0.73</td>\n",
       "      <td id=\"T_58551_row17_col17\" class=\"data row17 col17\" >1.00</td>\n",
       "      <td id=\"T_58551_row17_col18\" class=\"data row17 col18\" >-0.88</td>\n",
       "      <td id=\"T_58551_row17_col19\" class=\"data row17 col19\" >-0.92</td>\n",
       "      <td id=\"T_58551_row17_col20\" class=\"data row17 col20\" >-0.39</td>\n",
       "      <td id=\"T_58551_row17_col21\" class=\"data row17 col21\" >0.76</td>\n",
       "      <td id=\"T_58551_row17_col22\" class=\"data row17 col22\" >0.77</td>\n",
       "      <td id=\"T_58551_row17_col23\" class=\"data row17 col23\" >0.62</td>\n",
       "    </tr>\n",
       "    <tr>\n",
       "      <th id=\"T_58551_level0_row18\" class=\"row_heading level0 row18\" >Number of neonatal deaths</th>\n",
       "      <td id=\"T_58551_row18_col0\" class=\"data row18 col0\" >-0.92</td>\n",
       "      <td id=\"T_58551_row18_col1\" class=\"data row18 col1\" >-0.84</td>\n",
       "      <td id=\"T_58551_row18_col2\" class=\"data row18 col2\" >-0.03</td>\n",
       "      <td id=\"T_58551_row18_col3\" class=\"data row18 col3\" >-0.87</td>\n",
       "      <td id=\"T_58551_row18_col4\" class=\"data row18 col4\" >-0.04</td>\n",
       "      <td id=\"T_58551_row18_col5\" class=\"data row18 col5\" >0.36</td>\n",
       "      <td id=\"T_58551_row18_col6\" class=\"data row18 col6\" >-0.77</td>\n",
       "      <td id=\"T_58551_row18_col7\" class=\"data row18 col7\" >0.34</td>\n",
       "      <td id=\"T_58551_row18_col8\" class=\"data row18 col8\" >-0.77</td>\n",
       "      <td id=\"T_58551_row18_col9\" class=\"data row18 col9\" >0.18</td>\n",
       "      <td id=\"T_58551_row18_col10\" class=\"data row18 col10\" >-0.72</td>\n",
       "      <td id=\"T_58551_row18_col11\" class=\"data row18 col11\" >-0.74</td>\n",
       "      <td id=\"T_58551_row18_col12\" class=\"data row18 col12\" >0.89</td>\n",
       "      <td id=\"T_58551_row18_col13\" class=\"data row18 col13\" >0.87</td>\n",
       "      <td id=\"T_58551_row18_col14\" class=\"data row18 col14\" >0.78</td>\n",
       "      <td id=\"T_58551_row18_col15\" class=\"data row18 col15\" >0.57</td>\n",
       "      <td id=\"T_58551_row18_col16\" class=\"data row18 col16\" >0.56</td>\n",
       "      <td id=\"T_58551_row18_col17\" class=\"data row18 col17\" >-0.88</td>\n",
       "      <td id=\"T_58551_row18_col18\" class=\"data row18 col18\" >1.00</td>\n",
       "      <td id=\"T_58551_row18_col19\" class=\"data row18 col19\" >0.99</td>\n",
       "      <td id=\"T_58551_row18_col20\" class=\"data row18 col20\" >0.45</td>\n",
       "      <td id=\"T_58551_row18_col21\" class=\"data row18 col21\" >-0.91</td>\n",
       "      <td id=\"T_58551_row18_col22\" class=\"data row18 col22\" >-0.86</td>\n",
       "      <td id=\"T_58551_row18_col23\" class=\"data row18 col23\" >-0.61</td>\n",
       "    </tr>\n",
       "    <tr>\n",
       "      <th id=\"T_58551_level0_row19\" class=\"row_heading level0 row19\" >Number of under-five deaths</th>\n",
       "      <td id=\"T_58551_row19_col0\" class=\"data row19 col0\" >-0.96</td>\n",
       "      <td id=\"T_58551_row19_col1\" class=\"data row19 col1\" >-0.90</td>\n",
       "      <td id=\"T_58551_row19_col2\" class=\"data row19 col2\" >0.01</td>\n",
       "      <td id=\"T_58551_row19_col3\" class=\"data row19 col3\" >-0.92</td>\n",
       "      <td id=\"T_58551_row19_col4\" class=\"data row19 col4\" >-0.01</td>\n",
       "      <td id=\"T_58551_row19_col5\" class=\"data row19 col5\" >0.37</td>\n",
       "      <td id=\"T_58551_row19_col6\" class=\"data row19 col6\" >-0.83</td>\n",
       "      <td id=\"T_58551_row19_col7\" class=\"data row19 col7\" >0.25</td>\n",
       "      <td id=\"T_58551_row19_col8\" class=\"data row19 col8\" >-0.83</td>\n",
       "      <td id=\"T_58551_row19_col9\" class=\"data row19 col9\" >0.17</td>\n",
       "      <td id=\"T_58551_row19_col10\" class=\"data row19 col10\" >-0.70</td>\n",
       "      <td id=\"T_58551_row19_col11\" class=\"data row19 col11\" >-0.72</td>\n",
       "      <td id=\"T_58551_row19_col12\" class=\"data row19 col12\" >0.88</td>\n",
       "      <td id=\"T_58551_row19_col13\" class=\"data row19 col13\" >0.86</td>\n",
       "      <td id=\"T_58551_row19_col14\" class=\"data row19 col14\" >0.76</td>\n",
       "      <td id=\"T_58551_row19_col15\" class=\"data row19 col15\" >0.53</td>\n",
       "      <td id=\"T_58551_row19_col16\" class=\"data row19 col16\" >0.64</td>\n",
       "      <td id=\"T_58551_row19_col17\" class=\"data row19 col17\" >-0.92</td>\n",
       "      <td id=\"T_58551_row19_col18\" class=\"data row19 col18\" >0.99</td>\n",
       "      <td id=\"T_58551_row19_col19\" class=\"data row19 col19\" >1.00</td>\n",
       "      <td id=\"T_58551_row19_col20\" class=\"data row19 col20\" >0.41</td>\n",
       "      <td id=\"T_58551_row19_col21\" class=\"data row19 col21\" >-0.90</td>\n",
       "      <td id=\"T_58551_row19_col22\" class=\"data row19 col22\" >-0.87</td>\n",
       "      <td id=\"T_58551_row19_col23\" class=\"data row19 col23\" >-0.62</td>\n",
       "    </tr>\n",
       "    <tr>\n",
       "      <th id=\"T_58551_level0_row20\" class=\"row_heading level0 row20\" >Poverty headcount ratio at $6.85 a day (2017 PPP) (% of population)</th>\n",
       "      <td id=\"T_58551_row20_col0\" class=\"data row20 col0\" >-0.40</td>\n",
       "      <td id=\"T_58551_row20_col1\" class=\"data row20 col1\" >-0.40</td>\n",
       "      <td id=\"T_58551_row20_col2\" class=\"data row20 col2\" >-0.42</td>\n",
       "      <td id=\"T_58551_row20_col3\" class=\"data row20 col3\" >-0.41</td>\n",
       "      <td id=\"T_58551_row20_col4\" class=\"data row20 col4\" >-0.41</td>\n",
       "      <td id=\"T_58551_row20_col5\" class=\"data row20 col5\" >0.15</td>\n",
       "      <td id=\"T_58551_row20_col6\" class=\"data row20 col6\" >-0.38</td>\n",
       "      <td id=\"T_58551_row20_col7\" class=\"data row20 col7\" >0.23</td>\n",
       "      <td id=\"T_58551_row20_col8\" class=\"data row20 col8\" >-0.38</td>\n",
       "      <td id=\"T_58551_row20_col9\" class=\"data row20 col9\" >0.09</td>\n",
       "      <td id=\"T_58551_row20_col10\" class=\"data row20 col10\" >-0.25</td>\n",
       "      <td id=\"T_58551_row20_col11\" class=\"data row20 col11\" >-0.26</td>\n",
       "      <td id=\"T_58551_row20_col12\" class=\"data row20 col12\" >0.27</td>\n",
       "      <td id=\"T_58551_row20_col13\" class=\"data row20 col13\" >0.28</td>\n",
       "      <td id=\"T_58551_row20_col14\" class=\"data row20 col14\" >0.28</td>\n",
       "      <td id=\"T_58551_row20_col15\" class=\"data row20 col15\" >0.22</td>\n",
       "      <td id=\"T_58551_row20_col16\" class=\"data row20 col16\" >0.26</td>\n",
       "      <td id=\"T_58551_row20_col17\" class=\"data row20 col17\" >-0.39</td>\n",
       "      <td id=\"T_58551_row20_col18\" class=\"data row20 col18\" >0.45</td>\n",
       "      <td id=\"T_58551_row20_col19\" class=\"data row20 col19\" >0.41</td>\n",
       "      <td id=\"T_58551_row20_col20\" class=\"data row20 col20\" >1.00</td>\n",
       "      <td id=\"T_58551_row20_col21\" class=\"data row20 col21\" >-0.27</td>\n",
       "      <td id=\"T_58551_row20_col22\" class=\"data row20 col22\" >-0.22</td>\n",
       "      <td id=\"T_58551_row20_col23\" class=\"data row20 col23\" >-0.23</td>\n",
       "    </tr>\n",
       "    <tr>\n",
       "      <th id=\"T_58551_level0_row21\" class=\"row_heading level0 row21\" >Proportion of people living below 50 percent of median income (%)</th>\n",
       "      <td id=\"T_58551_row21_col0\" class=\"data row21 col0\" >0.83</td>\n",
       "      <td id=\"T_58551_row21_col1\" class=\"data row21 col1\" >0.74</td>\n",
       "      <td id=\"T_58551_row21_col2\" class=\"data row21 col2\" >0.01</td>\n",
       "      <td id=\"T_58551_row21_col3\" class=\"data row21 col3\" >0.79</td>\n",
       "      <td id=\"T_58551_row21_col4\" class=\"data row21 col4\" >0.03</td>\n",
       "      <td id=\"T_58551_row21_col5\" class=\"data row21 col5\" >-0.55</td>\n",
       "      <td id=\"T_58551_row21_col6\" class=\"data row21 col6\" >0.62</td>\n",
       "      <td id=\"T_58551_row21_col7\" class=\"data row21 col7\" >-0.48</td>\n",
       "      <td id=\"T_58551_row21_col8\" class=\"data row21 col8\" >0.66</td>\n",
       "      <td id=\"T_58551_row21_col9\" class=\"data row21 col9\" >-0.25</td>\n",
       "      <td id=\"T_58551_row21_col10\" class=\"data row21 col10\" >0.85</td>\n",
       "      <td id=\"T_58551_row21_col11\" class=\"data row21 col11\" >0.88</td>\n",
       "      <td id=\"T_58551_row21_col12\" class=\"data row21 col12\" >-0.98</td>\n",
       "      <td id=\"T_58551_row21_col13\" class=\"data row21 col13\" >-0.98</td>\n",
       "      <td id=\"T_58551_row21_col14\" class=\"data row21 col14\" >-0.92</td>\n",
       "      <td id=\"T_58551_row21_col15\" class=\"data row21 col15\" >-0.74</td>\n",
       "      <td id=\"T_58551_row21_col16\" class=\"data row21 col16\" >-0.51</td>\n",
       "      <td id=\"T_58551_row21_col17\" class=\"data row21 col17\" >0.76</td>\n",
       "      <td id=\"T_58551_row21_col18\" class=\"data row21 col18\" >-0.91</td>\n",
       "      <td id=\"T_58551_row21_col19\" class=\"data row21 col19\" >-0.90</td>\n",
       "      <td id=\"T_58551_row21_col20\" class=\"data row21 col20\" >-0.27</td>\n",
       "      <td id=\"T_58551_row21_col21\" class=\"data row21 col21\" >1.00</td>\n",
       "      <td id=\"T_58551_row21_col22\" class=\"data row21 col22\" >0.92</td>\n",
       "      <td id=\"T_58551_row21_col23\" class=\"data row21 col23\" >0.48</td>\n",
       "    </tr>\n",
       "    <tr>\n",
       "      <th id=\"T_58551_level0_row22\" class=\"row_heading level0 row22\" >Subsidies and other transfers (% of expense)</th>\n",
       "      <td id=\"T_58551_row22_col0\" class=\"data row22 col0\" >0.82</td>\n",
       "      <td id=\"T_58551_row22_col1\" class=\"data row22 col1\" >0.73</td>\n",
       "      <td id=\"T_58551_row22_col2\" class=\"data row22 col2\" >-0.09</td>\n",
       "      <td id=\"T_58551_row22_col3\" class=\"data row22 col3\" >0.77</td>\n",
       "      <td id=\"T_58551_row22_col4\" class=\"data row22 col4\" >-0.08</td>\n",
       "      <td id=\"T_58551_row22_col5\" class=\"data row22 col5\" >-0.43</td>\n",
       "      <td id=\"T_58551_row22_col6\" class=\"data row22 col6\" >0.64</td>\n",
       "      <td id=\"T_58551_row22_col7\" class=\"data row22 col7\" >-0.34</td>\n",
       "      <td id=\"T_58551_row22_col8\" class=\"data row22 col8\" >0.66</td>\n",
       "      <td id=\"T_58551_row22_col9\" class=\"data row22 col9\" >-0.20</td>\n",
       "      <td id=\"T_58551_row22_col10\" class=\"data row22 col10\" >0.78</td>\n",
       "      <td id=\"T_58551_row22_col11\" class=\"data row22 col11\" >0.81</td>\n",
       "      <td id=\"T_58551_row22_col12\" class=\"data row22 col12\" >-0.91</td>\n",
       "      <td id=\"T_58551_row22_col13\" class=\"data row22 col13\" >-0.91</td>\n",
       "      <td id=\"T_58551_row22_col14\" class=\"data row22 col14\" >-0.85</td>\n",
       "      <td id=\"T_58551_row22_col15\" class=\"data row22 col15\" >-0.67</td>\n",
       "      <td id=\"T_58551_row22_col16\" class=\"data row22 col16\" >-0.57</td>\n",
       "      <td id=\"T_58551_row22_col17\" class=\"data row22 col17\" >0.77</td>\n",
       "      <td id=\"T_58551_row22_col18\" class=\"data row22 col18\" >-0.86</td>\n",
       "      <td id=\"T_58551_row22_col19\" class=\"data row22 col19\" >-0.87</td>\n",
       "      <td id=\"T_58551_row22_col20\" class=\"data row22 col20\" >-0.22</td>\n",
       "      <td id=\"T_58551_row22_col21\" class=\"data row22 col21\" >0.92</td>\n",
       "      <td id=\"T_58551_row22_col22\" class=\"data row22 col22\" >1.00</td>\n",
       "      <td id=\"T_58551_row22_col23\" class=\"data row22 col23\" >0.49</td>\n",
       "    </tr>\n",
       "    <tr>\n",
       "      <th id=\"T_58551_level0_row23\" class=\"row_heading level0 row23\" >Tax revenue (% of GDP)</th>\n",
       "      <td id=\"T_58551_row23_col0\" class=\"data row23 col0\" >0.61</td>\n",
       "      <td id=\"T_58551_row23_col1\" class=\"data row23 col1\" >0.61</td>\n",
       "      <td id=\"T_58551_row23_col2\" class=\"data row23 col2\" >-0.26</td>\n",
       "      <td id=\"T_58551_row23_col3\" class=\"data row23 col3\" >0.62</td>\n",
       "      <td id=\"T_58551_row23_col4\" class=\"data row23 col4\" >-0.25</td>\n",
       "      <td id=\"T_58551_row23_col5\" class=\"data row23 col5\" >0.06</td>\n",
       "      <td id=\"T_58551_row23_col6\" class=\"data row23 col6\" >0.63</td>\n",
       "      <td id=\"T_58551_row23_col7\" class=\"data row23 col7\" >-0.03</td>\n",
       "      <td id=\"T_58551_row23_col8\" class=\"data row23 col8\" >0.65</td>\n",
       "      <td id=\"T_58551_row23_col9\" class=\"data row23 col9\" >-0.26</td>\n",
       "      <td id=\"T_58551_row23_col10\" class=\"data row23 col10\" >0.41</td>\n",
       "      <td id=\"T_58551_row23_col11\" class=\"data row23 col11\" >0.39</td>\n",
       "      <td id=\"T_58551_row23_col12\" class=\"data row23 col12\" >-0.49</td>\n",
       "      <td id=\"T_58551_row23_col13\" class=\"data row23 col13\" >-0.46</td>\n",
       "      <td id=\"T_58551_row23_col14\" class=\"data row23 col14\" >-0.37</td>\n",
       "      <td id=\"T_58551_row23_col15\" class=\"data row23 col15\" >-0.26</td>\n",
       "      <td id=\"T_58551_row23_col16\" class=\"data row23 col16\" >-0.38</td>\n",
       "      <td id=\"T_58551_row23_col17\" class=\"data row23 col17\" >0.62</td>\n",
       "      <td id=\"T_58551_row23_col18\" class=\"data row23 col18\" >-0.61</td>\n",
       "      <td id=\"T_58551_row23_col19\" class=\"data row23 col19\" >-0.62</td>\n",
       "      <td id=\"T_58551_row23_col20\" class=\"data row23 col20\" >-0.23</td>\n",
       "      <td id=\"T_58551_row23_col21\" class=\"data row23 col21\" >0.48</td>\n",
       "      <td id=\"T_58551_row23_col22\" class=\"data row23 col22\" >0.49</td>\n",
       "      <td id=\"T_58551_row23_col23\" class=\"data row23 col23\" >1.00</td>\n",
       "    </tr>\n",
       "  </tbody>\n",
       "</table>\n"
      ],
      "text/plain": [
       "<pandas.io.formats.style.Styler at 0x1f8f6d2d840>"
      ]
     },
     "execution_count": 48,
     "metadata": {},
     "output_type": "execute_result"
    }
   ],
   "source": [
    "# Exclude 'Country Name' and 'Year' columns from the correlation matrix\n",
    "columns_to_exclude = ['Country Name', 'Year']\n",
    "correlation_matrix = selected_uk_df_copy.drop(columns=columns_to_exclude).corr()\n",
    "\n",
    "# Display the correlation matrix as a table\n",
    "correlation_table = correlation_matrix.style.background_gradient(cmap='coolwarm')\n",
    "correlation_table.format(\"{:.2f}\")  # Optional: Format the correlation values to two decimal places\n",
    "correlation_table\n",
    "\n"
   ]
  },
  {
   "cell_type": "markdown",
   "id": "951cb827",
   "metadata": {},
   "source": [
    "### Model development"
   ]
  },
  {
   "cell_type": "code",
   "execution_count": 28,
   "id": "eeed18c1",
   "metadata": {
    "scrolled": true
   },
   "outputs": [
    {
     "name": "stdout",
     "output_type": "stream",
     "text": [
      "                                         Coefficient\n",
      "Tax revenue (% of GDP)                      0.033002\n",
      "Life expectancy at birth, total (years)    -0.595198\n",
      "Income share held by lowest 20%            -2.184181\n",
      "GDP growth (annual %)                       0.004674\n",
      "Consumer price index (2010 = 100)           0.072702\n",
      "Mean Squared Error (MSE): 0.21543169736114245\n",
      "R-squared (R2): 0.9553426136769257\n"
     ]
    }
   ],
   "source": [
    "from sklearn.model_selection import train_test_split\n",
    "from sklearn.linear_model import LinearRegression\n",
    "from sklearn.metrics import mean_squared_error, r2_score\n",
    "from joblib import dump, load\n",
    "import pandas as pd\n",
    "\n",
    "# Specify the feature columns\n",
    "X_columns = ['Tax revenue (% of GDP)',\n",
    "             'Life expectancy at birth, total (years)',\n",
    "             'Income share held by lowest 20%',\n",
    "             'GDP growth (annual %)',\n",
    "             'Consumer price index (2010 = 100)']\n",
    "\n",
    "# Specify the target column\n",
    "y_column = 'Proportion of people living below 50 percent of median income (%)'\n",
    "\n",
    "# Split the data into training and testing sets\n",
    "X_train, X_test, y_train, y_test = train_test_split(selected_uk_df_copy[X_columns], selected_uk_df_copy[y_column], test_size=0.2, random_state=42)\n",
    "\n",
    "# Instantiate the model\n",
    "model = LinearRegression()\n",
    "\n",
    "# Fit the model\n",
    "model.fit(X_train, y_train)\n",
    "\n",
    "# Save the model to a file\n",
    "dump(model, 'model.joblib')\n",
    "\n",
    "\n",
    "# Make predictions\n",
    "y_pred = model.predict(X_test)\n",
    "\n",
    "# Print the coefficients\n",
    "coeff_df = pd.DataFrame(model.coef_, X_columns, columns=['Coefficient'])\n",
    "print(coeff_df)\n",
    "\n",
    "# Evaluate the model\n",
    "mse = mean_squared_error(y_test, y_pred)\n",
    "r2 = r2_score(y_test, y_pred)\n",
    "print(f\"Mean Squared Error (MSE): {mse}\")\n",
    "print(f\"R-squared (R2): {r2}\")\n"
   ]
  },
  {
   "cell_type": "markdown",
   "id": "4e0e3297",
   "metadata": {},
   "source": [
    "##### Model Evaluation \n",
    "An MSE of 0.2154 suggests that the model's predictions have relatively low average squared differences from the actual values. This indicates that the model is capturing a significant portion of the variance in the target variable and is performing reasonably well.\n",
    "\n",
    "A high R2 value of 0.9553 suggests that the model explains a significant proportion of the variance in the target variable.It implies that about 95.4% of the variation in the proportion of people living below 50 percent of median income is explained by the predictors in the model. A high R2 value usually indicates that the model fits the data well"
   ]
  },
  {
   "cell_type": "code",
   "execution_count": null,
   "id": "a21b48bf",
   "metadata": {},
   "outputs": [],
   "source": []
  }
 ],
 "metadata": {
  "kernelspec": {
   "display_name": "Python 3 (ipykernel)",
   "language": "python",
   "name": "python3"
  },
  "language_info": {
   "codemirror_mode": {
    "name": "ipython",
    "version": 3
   },
   "file_extension": ".py",
   "mimetype": "text/x-python",
   "name": "python",
   "nbconvert_exporter": "python",
   "pygments_lexer": "ipython3",
   "version": "3.10.9"
  }
 },
 "nbformat": 4,
 "nbformat_minor": 5
}
